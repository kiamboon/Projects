{
 "cells": [
  {
   "cell_type": "markdown",
   "metadata": {
    "id": "TkVVMgC-RU3L"
   },
   "source": [
    "## Importing neccessary libraries or packages"
   ]
  },
  {
   "cell_type": "code",
   "execution_count": 1,
   "metadata": {
    "executionInfo": {
     "elapsed": 974,
     "status": "ok",
     "timestamp": 1615087246094,
     "user": {
      "displayName": "Kiam Boon",
      "photoUrl": "https://lh3.googleusercontent.com/a-/AOh14GguWKTGJvP2a1VVYH3mkgQmM58WyxV6eg7JKfcn-yE=s64",
      "userId": "10343331633657001480"
     },
     "user_tz": -480
    },
    "id": "TdtwTNLFz7eT"
   },
   "outputs": [],
   "source": [
    "import pandas as pd\n",
    "import numpy as np\n",
    "import matplotlib.pyplot as plt\n",
    "from datetime import datetime as dt\n",
    "from pandas_datareader import data\n",
    "plt.style.use(\"fivethirtyeight\")"
   ]
  },
  {
   "cell_type": "markdown",
   "metadata": {
    "id": "O5FC-p_TRYn7"
   },
   "source": [
    "## Extracting from Yahoo! Finance and assign to a DataFrame\n",
    "* Note: The earliest available date of Bitcoin in Yahoo! Finance was Sep 16, 2014, re-execute all the cells can extract the latest dates.\n",
    " - [Re-run whole cells for trading date up-to-date and saved on 07 Mar 2021]"
   ]
  },
  {
   "cell_type": "code",
   "execution_count": 2,
   "metadata": {
    "colab": {
     "base_uri": "https://localhost:8080/",
     "height": 431
    },
    "executionInfo": {
     "elapsed": 1982,
     "status": "ok",
     "timestamp": 1615087247122,
     "user": {
      "displayName": "Kiam Boon",
      "photoUrl": "https://lh3.googleusercontent.com/a-/AOh14GguWKTGJvP2a1VVYH3mkgQmM58WyxV6eg7JKfcn-yE=s64",
      "userId": "10343331633657001480"
     },
     "user_tz": -480
    },
    "id": "Hl-BGDQJ0iuH",
    "outputId": "6a560c3c-7263-4683-bc87-3698ae3d45e0"
   },
   "outputs": [
    {
     "data": {
      "text/html": [
       "<div>\n",
       "<style scoped>\n",
       "    .dataframe tbody tr th:only-of-type {\n",
       "        vertical-align: middle;\n",
       "    }\n",
       "\n",
       "    .dataframe tbody tr th {\n",
       "        vertical-align: top;\n",
       "    }\n",
       "\n",
       "    .dataframe thead th {\n",
       "        text-align: right;\n",
       "    }\n",
       "</style>\n",
       "<table border=\"1\" class=\"dataframe\">\n",
       "  <thead>\n",
       "    <tr style=\"text-align: right;\">\n",
       "      <th></th>\n",
       "      <th>High</th>\n",
       "      <th>Low</th>\n",
       "      <th>Open</th>\n",
       "      <th>Close</th>\n",
       "      <th>Volume</th>\n",
       "      <th>Adj Close</th>\n",
       "    </tr>\n",
       "    <tr>\n",
       "      <th>Date</th>\n",
       "      <th></th>\n",
       "      <th></th>\n",
       "      <th></th>\n",
       "      <th></th>\n",
       "      <th></th>\n",
       "      <th></th>\n",
       "    </tr>\n",
       "  </thead>\n",
       "  <tbody>\n",
       "    <tr>\n",
       "      <th>2014-09-16</th>\n",
       "      <td>468.174011</td>\n",
       "      <td>452.421997</td>\n",
       "      <td>465.864014</td>\n",
       "      <td>457.334015</td>\n",
       "      <td>2.105680e+07</td>\n",
       "      <td>457.334015</td>\n",
       "    </tr>\n",
       "    <tr>\n",
       "      <th>2014-09-17</th>\n",
       "      <td>456.859985</td>\n",
       "      <td>413.104004</td>\n",
       "      <td>456.859985</td>\n",
       "      <td>424.440002</td>\n",
       "      <td>3.448320e+07</td>\n",
       "      <td>424.440002</td>\n",
       "    </tr>\n",
       "    <tr>\n",
       "      <th>2014-09-18</th>\n",
       "      <td>427.834991</td>\n",
       "      <td>384.532013</td>\n",
       "      <td>424.102997</td>\n",
       "      <td>394.795990</td>\n",
       "      <td>3.791970e+07</td>\n",
       "      <td>394.795990</td>\n",
       "    </tr>\n",
       "    <tr>\n",
       "      <th>2014-09-19</th>\n",
       "      <td>423.295990</td>\n",
       "      <td>389.882996</td>\n",
       "      <td>394.673004</td>\n",
       "      <td>408.903992</td>\n",
       "      <td>3.686360e+07</td>\n",
       "      <td>408.903992</td>\n",
       "    </tr>\n",
       "    <tr>\n",
       "      <th>2014-09-20</th>\n",
       "      <td>412.425995</td>\n",
       "      <td>393.181000</td>\n",
       "      <td>408.084991</td>\n",
       "      <td>398.821014</td>\n",
       "      <td>2.658010e+07</td>\n",
       "      <td>398.821014</td>\n",
       "    </tr>\n",
       "    <tr>\n",
       "      <th>...</th>\n",
       "      <td>...</td>\n",
       "      <td>...</td>\n",
       "      <td>...</td>\n",
       "      <td>...</td>\n",
       "      <td>...</td>\n",
       "      <td>...</td>\n",
       "    </tr>\n",
       "    <tr>\n",
       "      <th>2021-03-03</th>\n",
       "      <td>52535.136719</td>\n",
       "      <td>48274.320312</td>\n",
       "      <td>48415.816406</td>\n",
       "      <td>50538.242188</td>\n",
       "      <td>5.322081e+10</td>\n",
       "      <td>50538.242188</td>\n",
       "    </tr>\n",
       "    <tr>\n",
       "      <th>2021-03-04</th>\n",
       "      <td>51735.089844</td>\n",
       "      <td>47656.929688</td>\n",
       "      <td>50522.304688</td>\n",
       "      <td>48561.167969</td>\n",
       "      <td>5.234382e+10</td>\n",
       "      <td>48561.167969</td>\n",
       "    </tr>\n",
       "    <tr>\n",
       "      <th>2021-03-05</th>\n",
       "      <td>49396.429688</td>\n",
       "      <td>46542.515625</td>\n",
       "      <td>48527.031250</td>\n",
       "      <td>48927.304688</td>\n",
       "      <td>4.862593e+10</td>\n",
       "      <td>48927.304688</td>\n",
       "    </tr>\n",
       "    <tr>\n",
       "      <th>2021-03-06</th>\n",
       "      <td>49147.218750</td>\n",
       "      <td>47257.527344</td>\n",
       "      <td>48899.230469</td>\n",
       "      <td>48912.382812</td>\n",
       "      <td>3.436356e+10</td>\n",
       "      <td>48912.382812</td>\n",
       "    </tr>\n",
       "    <tr>\n",
       "      <th>2021-03-07</th>\n",
       "      <td>49838.460938</td>\n",
       "      <td>49073.796875</td>\n",
       "      <td>49207.289062</td>\n",
       "      <td>49690.972656</td>\n",
       "      <td>3.584951e+10</td>\n",
       "      <td>49690.972656</td>\n",
       "    </tr>\n",
       "  </tbody>\n",
       "</table>\n",
       "<p>2360 rows × 6 columns</p>\n",
       "</div>"
      ],
      "text/plain": [
       "                    High           Low  ...        Volume     Adj Close\n",
       "Date                                    ...                            \n",
       "2014-09-16    468.174011    452.421997  ...  2.105680e+07    457.334015\n",
       "2014-09-17    456.859985    413.104004  ...  3.448320e+07    424.440002\n",
       "2014-09-18    427.834991    384.532013  ...  3.791970e+07    394.795990\n",
       "2014-09-19    423.295990    389.882996  ...  3.686360e+07    408.903992\n",
       "2014-09-20    412.425995    393.181000  ...  2.658010e+07    398.821014\n",
       "...                  ...           ...  ...           ...           ...\n",
       "2021-03-03  52535.136719  48274.320312  ...  5.322081e+10  50538.242188\n",
       "2021-03-04  51735.089844  47656.929688  ...  5.234382e+10  48561.167969\n",
       "2021-03-05  49396.429688  46542.515625  ...  4.862593e+10  48927.304688\n",
       "2021-03-06  49147.218750  47257.527344  ...  3.436356e+10  48912.382812\n",
       "2021-03-07  49838.460938  49073.796875  ...  3.584951e+10  49690.972656\n",
       "\n",
       "[2360 rows x 6 columns]"
      ]
     },
     "execution_count": 2,
     "metadata": {
      "tags": []
     },
     "output_type": "execute_result"
    }
   ],
   "source": [
    "bitcoin = data.DataReader(name = \"BTC-USD\", data_source = \"yahoo\",\n",
    "                          start = \"2010-01-01\", end = dt.today().strftime(\"%Y-%m-%d\"))  \n",
    "bitcoin"
   ]
  },
  {
   "cell_type": "markdown",
   "metadata": {
    "id": "GFFaBMS_2LlK"
   },
   "source": [
    "## Visualizing the Adjusted Close Price"
   ]
  },
  {
   "cell_type": "code",
   "execution_count": 3,
   "metadata": {
    "colab": {
     "base_uri": "https://localhost:8080/",
     "height": 350
    },
    "executionInfo": {
     "elapsed": 1972,
     "status": "ok",
     "timestamp": 1615087247124,
     "user": {
      "displayName": "Kiam Boon",
      "photoUrl": "https://lh3.googleusercontent.com/a-/AOh14GguWKTGJvP2a1VVYH3mkgQmM58WyxV6eg7JKfcn-yE=s64",
      "userId": "10343331633657001480"
     },
     "user_tz": -480
    },
    "id": "jjMryj4j0isI",
    "outputId": "f13f7ddd-9c5c-4e99-b10e-5c32cb8bb0ee"
   },
   "outputs": [
    {
     "data": {
      "image/png": "[encoded data removed]",
      "text/plain": [
       "<Figure size 864x360 with 1 Axes>"
      ]
     },
     "metadata": {
      "needs_background": "light",
      "tags": []
     },
     "output_type": "display_data"
    }
   ],
   "source": [
    "plt.figure(figsize = (12, 5))\n",
    "plt.plot(bitcoin[\"Adj Close\"], label = \"Bitcoin\")\n",
    "plt.title(\"Bitcoin Adjusted Close Price History (USD)\")\n",
    "plt.xlabel(\"Year\")  # Sep 16, 2014 - 10 Feb, 2021\n",
    "plt.ylabel(\"Adjusted Close Price (USD)\")\n",
    "plt.legend(loc = \"upper left\")\n",
    "plt.show()"
   ]
  },
  {
   "cell_type": "markdown",
   "metadata": {
    "id": "i6bp2lLpRSDo"
   },
   "source": [
    "## Simple Moving Average: 30-Day Average"
   ]
  },
  {
   "cell_type": "code",
   "execution_count": 4,
   "metadata": {
    "colab": {
     "base_uri": "https://localhost:8080/",
     "height": 431
    },
    "executionInfo": {
     "elapsed": 2514,
     "status": "ok",
     "timestamp": 1615087247680,
     "user": {
      "displayName": "Kiam Boon",
      "photoUrl": "https://lh3.googleusercontent.com/a-/AOh14GguWKTGJvP2a1VVYH3mkgQmM58WyxV6eg7JKfcn-yE=s64",
      "userId": "10343331633657001480"
     },
     "user_tz": -480
    },
    "id": "QJ8NScnJ0inh",
    "outputId": "b32f5bda-ec8a-4b37-fca0-d1fc671a2c3a"
   },
   "outputs": [
    {
     "data": {
      "text/html": [
       "<div>\n",
       "<style scoped>\n",
       "    .dataframe tbody tr th:only-of-type {\n",
       "        vertical-align: middle;\n",
       "    }\n",
       "\n",
       "    .dataframe tbody tr th {\n",
       "        vertical-align: top;\n",
       "    }\n",
       "\n",
       "    .dataframe thead th {\n",
       "        text-align: right;\n",
       "    }\n",
       "</style>\n",
       "<table border=\"1\" class=\"dataframe\">\n",
       "  <thead>\n",
       "    <tr style=\"text-align: right;\">\n",
       "      <th></th>\n",
       "      <th>Adj Close</th>\n",
       "    </tr>\n",
       "    <tr>\n",
       "      <th>Date</th>\n",
       "      <th></th>\n",
       "    </tr>\n",
       "  </thead>\n",
       "  <tbody>\n",
       "    <tr>\n",
       "      <th>2014-09-16</th>\n",
       "      <td>NaN</td>\n",
       "    </tr>\n",
       "    <tr>\n",
       "      <th>2014-09-17</th>\n",
       "      <td>NaN</td>\n",
       "    </tr>\n",
       "    <tr>\n",
       "      <th>2014-09-18</th>\n",
       "      <td>NaN</td>\n",
       "    </tr>\n",
       "    <tr>\n",
       "      <th>2014-09-19</th>\n",
       "      <td>NaN</td>\n",
       "    </tr>\n",
       "    <tr>\n",
       "      <th>2014-09-20</th>\n",
       "      <td>NaN</td>\n",
       "    </tr>\n",
       "    <tr>\n",
       "      <th>...</th>\n",
       "      <td>...</td>\n",
       "    </tr>\n",
       "    <tr>\n",
       "      <th>2021-03-03</th>\n",
       "      <td>47053.388932</td>\n",
       "    </tr>\n",
       "    <tr>\n",
       "      <th>2021-03-04</th>\n",
       "      <td>47488.418229</td>\n",
       "    </tr>\n",
       "    <tr>\n",
       "      <th>2021-03-05</th>\n",
       "      <td>47870.258724</td>\n",
       "    </tr>\n",
       "    <tr>\n",
       "      <th>2021-03-06</th>\n",
       "      <td>48269.802604</td>\n",
       "    </tr>\n",
       "    <tr>\n",
       "      <th>2021-03-07</th>\n",
       "      <td>48654.691406</td>\n",
       "    </tr>\n",
       "  </tbody>\n",
       "</table>\n",
       "<p>2360 rows × 1 columns</p>\n",
       "</div>"
      ],
      "text/plain": [
       "               Adj Close\n",
       "Date                    \n",
       "2014-09-16           NaN\n",
       "2014-09-17           NaN\n",
       "2014-09-18           NaN\n",
       "2014-09-19           NaN\n",
       "2014-09-20           NaN\n",
       "...                  ...\n",
       "2021-03-03  47053.388932\n",
       "2021-03-04  47488.418229\n",
       "2021-03-05  47870.258724\n",
       "2021-03-06  48269.802604\n",
       "2021-03-07  48654.691406\n",
       "\n",
       "[2360 rows x 1 columns]"
      ]
     },
     "execution_count": 4,
     "metadata": {
      "tags": []
     },
     "output_type": "execute_result"
    }
   ],
   "source": [
    "sma30 = pd.DataFrame()  # Create a DF 'variable'\n",
    "sma30[\"Adj Close\"] = bitcoin[\"Adj Close\"].rolling(window = 30).mean()\n",
    "sma30"
   ]
  },
  {
   "cell_type": "markdown",
   "metadata": {
    "id": "OnPYMeaQSVYE"
   },
   "source": [
    "## Simple Moving Average: 100-Day Average"
   ]
  },
  {
   "cell_type": "code",
   "execution_count": 5,
   "metadata": {
    "colab": {
     "base_uri": "https://localhost:8080/",
     "height": 431
    },
    "executionInfo": {
     "elapsed": 2504,
     "status": "ok",
     "timestamp": 1615087247682,
     "user": {
      "displayName": "Kiam Boon",
      "photoUrl": "https://lh3.googleusercontent.com/a-/AOh14GguWKTGJvP2a1VVYH3mkgQmM58WyxV6eg7JKfcn-yE=s64",
      "userId": "10343331633657001480"
     },
     "user_tz": -480
    },
    "id": "85D08pDr0ilJ",
    "outputId": "30c8a310-e9ec-40ff-f7e1-23972a447e37"
   },
   "outputs": [
    {
     "data": {
      "text/html": [
       "<div>\n",
       "<style scoped>\n",
       "    .dataframe tbody tr th:only-of-type {\n",
       "        vertical-align: middle;\n",
       "    }\n",
       "\n",
       "    .dataframe tbody tr th {\n",
       "        vertical-align: top;\n",
       "    }\n",
       "\n",
       "    .dataframe thead th {\n",
       "        text-align: right;\n",
       "    }\n",
       "</style>\n",
       "<table border=\"1\" class=\"dataframe\">\n",
       "  <thead>\n",
       "    <tr style=\"text-align: right;\">\n",
       "      <th></th>\n",
       "      <th>Adj Close</th>\n",
       "    </tr>\n",
       "    <tr>\n",
       "      <th>Date</th>\n",
       "      <th></th>\n",
       "    </tr>\n",
       "  </thead>\n",
       "  <tbody>\n",
       "    <tr>\n",
       "      <th>2014-09-16</th>\n",
       "      <td>NaN</td>\n",
       "    </tr>\n",
       "    <tr>\n",
       "      <th>2014-09-17</th>\n",
       "      <td>NaN</td>\n",
       "    </tr>\n",
       "    <tr>\n",
       "      <th>2014-09-18</th>\n",
       "      <td>NaN</td>\n",
       "    </tr>\n",
       "    <tr>\n",
       "      <th>2014-09-19</th>\n",
       "      <td>NaN</td>\n",
       "    </tr>\n",
       "    <tr>\n",
       "      <th>2014-09-20</th>\n",
       "      <td>NaN</td>\n",
       "    </tr>\n",
       "    <tr>\n",
       "      <th>...</th>\n",
       "      <td>...</td>\n",
       "    </tr>\n",
       "    <tr>\n",
       "      <th>2021-03-03</th>\n",
       "      <td>33300.300957</td>\n",
       "    </tr>\n",
       "    <tr>\n",
       "      <th>2021-03-04</th>\n",
       "      <td>33594.837988</td>\n",
       "    </tr>\n",
       "    <tr>\n",
       "      <th>2021-03-05</th>\n",
       "      <td>33896.789824</td>\n",
       "    </tr>\n",
       "    <tr>\n",
       "      <th>2021-03-06</th>\n",
       "      <td>34214.407422</td>\n",
       "    </tr>\n",
       "    <tr>\n",
       "      <th>2021-03-07</th>\n",
       "      <td>34540.233125</td>\n",
       "    </tr>\n",
       "  </tbody>\n",
       "</table>\n",
       "<p>2360 rows × 1 columns</p>\n",
       "</div>"
      ],
      "text/plain": [
       "               Adj Close\n",
       "Date                    \n",
       "2014-09-16           NaN\n",
       "2014-09-17           NaN\n",
       "2014-09-18           NaN\n",
       "2014-09-19           NaN\n",
       "2014-09-20           NaN\n",
       "...                  ...\n",
       "2021-03-03  33300.300957\n",
       "2021-03-04  33594.837988\n",
       "2021-03-05  33896.789824\n",
       "2021-03-06  34214.407422\n",
       "2021-03-07  34540.233125\n",
       "\n",
       "[2360 rows x 1 columns]"
      ]
     },
     "execution_count": 5,
     "metadata": {
      "tags": []
     },
     "output_type": "execute_result"
    }
   ],
   "source": [
    "sma100 = pd.DataFrame()\n",
    "sma100[\"Adj Close\"] = bitcoin[\"Adj Close\"].rolling(window = 100).mean()\n",
    "sma100"
   ]
  },
  {
   "cell_type": "markdown",
   "metadata": {
    "id": "F_8WTfz4S_W4"
   },
   "source": [
    "## Visualizing 30-Day & 100-Day of Simple Moving Average"
   ]
  },
  {
   "cell_type": "code",
   "execution_count": 6,
   "metadata": {
    "colab": {
     "base_uri": "https://localhost:8080/",
     "height": 350
    },
    "executionInfo": {
     "elapsed": 2497,
     "status": "ok",
     "timestamp": 1615087247687,
     "user": {
      "displayName": "Kiam Boon",
      "photoUrl": "https://lh3.googleusercontent.com/a-/AOh14GguWKTGJvP2a1VVYH3mkgQmM58WyxV6eg7JKfcn-yE=s64",
      "userId": "10343331633657001480"
     },
     "user_tz": -480
    },
    "id": "HPZJfESv0ijB",
    "outputId": "3975a2e0-7b2b-46f8-cccc-4b709bc179eb"
   },
   "outputs": [
    {
     "data": {
      "image/png": "[encoded data removed]",
      "text/plain": [
       "<Figure size 864x360 with 1 Axes>"
      ]
     },
     "metadata": {
      "needs_background": "light",
      "tags": []
     },
     "output_type": "display_data"
    }
   ],
   "source": [
    "plt.figure(figsize = (12, 5))\n",
    "plt.plot(bitcoin[\"Adj Close\"], label = \"Bitcoin\")\n",
    "plt.plot(sma30[\"Adj Close\"], label = \"Simple Moving Average 30-Day\")\n",
    "plt.plot(sma100[\"Adj Close\"], label = \"Simple Moving Average 100-Day\")\n",
    "plt.title(\"Bitcoin Adjusted Close Price History (USD)\")\n",
    "plt.xlabel(\"Year\")  # Sep 16, 2014 - 10 Feb, 2021\n",
    "plt.ylabel(\"Adjusted Close Price (USD)\")\n",
    "plt.legend(loc = \"upper left\")\n",
    "plt.show()"
   ]
  },
  {
   "cell_type": "markdown",
   "metadata": {
    "id": "mmSSOutmUEzP"
   },
   "source": [
    "## Basically what the strategy is telling us is that we should buy anytime the short term average crosses the long term avearge. Therefore, anytime the SMA30 crosses the SMA100, there will be a signal to buy.."
   ]
  },
  {
   "cell_type": "markdown",
   "metadata": {
    "id": "X7CM07OiWgDl"
   },
   "source": [
    "## Create a new DataFrame to stored all the Adjusted Close Price of Bitcoin, SMA30 & SMA100"
   ]
  },
  {
   "cell_type": "code",
   "execution_count": 7,
   "metadata": {
    "colab": {
     "base_uri": "https://localhost:8080/",
     "height": 431
    },
    "executionInfo": {
     "elapsed": 2488,
     "status": "ok",
     "timestamp": 1615087247689,
     "user": {
      "displayName": "Kiam Boon",
      "photoUrl": "https://lh3.googleusercontent.com/a-/AOh14GguWKTGJvP2a1VVYH3mkgQmM58WyxV6eg7JKfcn-yE=s64",
      "userId": "10343331633657001480"
     },
     "user_tz": -480
    },
    "id": "0VzJ4ReQ0igf",
    "outputId": "b9be8d52-0de5-4c43-e836-d0d99f4e3af1"
   },
   "outputs": [
    {
     "data": {
      "text/html": [
       "<div>\n",
       "<style scoped>\n",
       "    .dataframe tbody tr th:only-of-type {\n",
       "        vertical-align: middle;\n",
       "    }\n",
       "\n",
       "    .dataframe tbody tr th {\n",
       "        vertical-align: top;\n",
       "    }\n",
       "\n",
       "    .dataframe thead th {\n",
       "        text-align: right;\n",
       "    }\n",
       "</style>\n",
       "<table border=\"1\" class=\"dataframe\">\n",
       "  <thead>\n",
       "    <tr style=\"text-align: right;\">\n",
       "      <th></th>\n",
       "      <th>bitcoin</th>\n",
       "      <th>sma30</th>\n",
       "      <th>sma100</th>\n",
       "    </tr>\n",
       "    <tr>\n",
       "      <th>Date</th>\n",
       "      <th></th>\n",
       "      <th></th>\n",
       "      <th></th>\n",
       "    </tr>\n",
       "  </thead>\n",
       "  <tbody>\n",
       "    <tr>\n",
       "      <th>2014-09-16</th>\n",
       "      <td>457.334015</td>\n",
       "      <td>NaN</td>\n",
       "      <td>NaN</td>\n",
       "    </tr>\n",
       "    <tr>\n",
       "      <th>2014-09-17</th>\n",
       "      <td>424.440002</td>\n",
       "      <td>NaN</td>\n",
       "      <td>NaN</td>\n",
       "    </tr>\n",
       "    <tr>\n",
       "      <th>2014-09-18</th>\n",
       "      <td>394.795990</td>\n",
       "      <td>NaN</td>\n",
       "      <td>NaN</td>\n",
       "    </tr>\n",
       "    <tr>\n",
       "      <th>2014-09-19</th>\n",
       "      <td>408.903992</td>\n",
       "      <td>NaN</td>\n",
       "      <td>NaN</td>\n",
       "    </tr>\n",
       "    <tr>\n",
       "      <th>2014-09-20</th>\n",
       "      <td>398.821014</td>\n",
       "      <td>NaN</td>\n",
       "      <td>NaN</td>\n",
       "    </tr>\n",
       "    <tr>\n",
       "      <th>...</th>\n",
       "      <td>...</td>\n",
       "      <td>...</td>\n",
       "      <td>...</td>\n",
       "    </tr>\n",
       "    <tr>\n",
       "      <th>2021-03-03</th>\n",
       "      <td>50538.242188</td>\n",
       "      <td>47053.388932</td>\n",
       "      <td>33300.300957</td>\n",
       "    </tr>\n",
       "    <tr>\n",
       "      <th>2021-03-04</th>\n",
       "      <td>48561.167969</td>\n",
       "      <td>47488.418229</td>\n",
       "      <td>33594.837988</td>\n",
       "    </tr>\n",
       "    <tr>\n",
       "      <th>2021-03-05</th>\n",
       "      <td>48927.304688</td>\n",
       "      <td>47870.258724</td>\n",
       "      <td>33896.789824</td>\n",
       "    </tr>\n",
       "    <tr>\n",
       "      <th>2021-03-06</th>\n",
       "      <td>48912.382812</td>\n",
       "      <td>48269.802604</td>\n",
       "      <td>34214.407422</td>\n",
       "    </tr>\n",
       "    <tr>\n",
       "      <th>2021-03-07</th>\n",
       "      <td>49690.972656</td>\n",
       "      <td>48654.691406</td>\n",
       "      <td>34540.233125</td>\n",
       "    </tr>\n",
       "  </tbody>\n",
       "</table>\n",
       "<p>2360 rows × 3 columns</p>\n",
       "</div>"
      ],
      "text/plain": [
       "                 bitcoin         sma30        sma100\n",
       "Date                                                \n",
       "2014-09-16    457.334015           NaN           NaN\n",
       "2014-09-17    424.440002           NaN           NaN\n",
       "2014-09-18    394.795990           NaN           NaN\n",
       "2014-09-19    408.903992           NaN           NaN\n",
       "2014-09-20    398.821014           NaN           NaN\n",
       "...                  ...           ...           ...\n",
       "2021-03-03  50538.242188  47053.388932  33300.300957\n",
       "2021-03-04  48561.167969  47488.418229  33594.837988\n",
       "2021-03-05  48927.304688  47870.258724  33896.789824\n",
       "2021-03-06  48912.382812  48269.802604  34214.407422\n",
       "2021-03-07  49690.972656  48654.691406  34540.233125\n",
       "\n",
       "[2360 rows x 3 columns]"
      ]
     },
     "execution_count": 7,
     "metadata": {
      "tags": []
     },
     "output_type": "execute_result"
    }
   ],
   "source": [
    "data = pd.DataFrame()\n",
    "data[\"bitcoin\"] = bitcoin[\"Adj Close\"]\n",
    "data[\"sma30\"] = sma30[\"Adj Close\"]\n",
    "data[\"sma100\"] = sma100[\"Adj Close\"]\n",
    "data"
   ]
  },
  {
   "cell_type": "markdown",
   "metadata": {
    "id": "qvmYLovBW50Z"
   },
   "source": [
    "## Create a function to signal when to buy and sell"
   ]
  },
  {
   "cell_type": "code",
   "execution_count": 8,
   "metadata": {
    "executionInfo": {
     "elapsed": 2486,
     "status": "ok",
     "timestamp": 1615087247691,
     "user": {
      "displayName": "Kiam Boon",
      "photoUrl": "https://lh3.googleusercontent.com/a-/AOh14GguWKTGJvP2a1VVYH3mkgQmM58WyxV6eg7JKfcn-yE=s64",
      "userId": "10343331633657001480"
     },
     "user_tz": -480
    },
    "id": "OVMjScPd0ieO"
   },
   "outputs": [],
   "source": [
    "def buy_sell(data):\n",
    "  signal_buy = []\n",
    "  signal_sell = []\n",
    "  flag = -1\n",
    "\n",
    "\n",
    "  for i in range(len(data)):\n",
    "    if data[\"sma30\"][i] > data[\"sma100\"][i]:\n",
    "      if flag != 1:\n",
    "        signal_buy.append(data[\"bitcoin\"][i])\n",
    "        signal_sell.append(np.nan)\n",
    "        flag = 1\n",
    "      else:\n",
    "        signal_buy.append(np.nan)\n",
    "        signal_sell.append(np.nan)\n",
    "    elif data[\"sma30\"][i] < data[\"sma100\"][i]:\n",
    "      if flag != 0:\n",
    "        signal_buy.append(np.nan)\n",
    "        signal_sell.append(data[\"bitcoin\"][i])\n",
    "        flag = 0\n",
    "      else:\n",
    "        signal_buy.append(np.nan)\n",
    "        signal_sell.append(np.nan)\n",
    "    else:\n",
    "      signal_buy.append(np.nan)\n",
    "      signal_sell.append(np.nan)\n",
    "\n",
    "  return (signal_buy, signal_sell)"
   ]
  },
  {
   "cell_type": "markdown",
   "metadata": {
    "id": "J8QBMqm2bB_2"
   },
   "source": [
    "## Store the buy and sell data into a variable"
   ]
  },
  {
   "cell_type": "code",
   "execution_count": 9,
   "metadata": {
    "colab": {
     "base_uri": "https://localhost:8080/",
     "height": 431
    },
    "executionInfo": {
     "elapsed": 2477,
     "status": "ok",
     "timestamp": 1615087247693,
     "user": {
      "displayName": "Kiam Boon",
      "photoUrl": "https://lh3.googleusercontent.com/a-/AOh14GguWKTGJvP2a1VVYH3mkgQmM58WyxV6eg7JKfcn-yE=s64",
      "userId": "10343331633657001480"
     },
     "user_tz": -480
    },
    "id": "Ijf0BcMb0ib-",
    "outputId": "7fdfa7cf-e3dd-4135-9c0f-63412c17abd5"
   },
   "outputs": [
    {
     "data": {
      "text/html": [
       "<div>\n",
       "<style scoped>\n",
       "    .dataframe tbody tr th:only-of-type {\n",
       "        vertical-align: middle;\n",
       "    }\n",
       "\n",
       "    .dataframe tbody tr th {\n",
       "        vertical-align: top;\n",
       "    }\n",
       "\n",
       "    .dataframe thead th {\n",
       "        text-align: right;\n",
       "    }\n",
       "</style>\n",
       "<table border=\"1\" class=\"dataframe\">\n",
       "  <thead>\n",
       "    <tr style=\"text-align: right;\">\n",
       "      <th></th>\n",
       "      <th>bitcoin</th>\n",
       "      <th>sma30</th>\n",
       "      <th>sma100</th>\n",
       "      <th>buy_signal_price</th>\n",
       "      <th>sell_signal_price</th>\n",
       "    </tr>\n",
       "    <tr>\n",
       "      <th>Date</th>\n",
       "      <th></th>\n",
       "      <th></th>\n",
       "      <th></th>\n",
       "      <th></th>\n",
       "      <th></th>\n",
       "    </tr>\n",
       "  </thead>\n",
       "  <tbody>\n",
       "    <tr>\n",
       "      <th>2014-09-16</th>\n",
       "      <td>457.334015</td>\n",
       "      <td>NaN</td>\n",
       "      <td>NaN</td>\n",
       "      <td>NaN</td>\n",
       "      <td>NaN</td>\n",
       "    </tr>\n",
       "    <tr>\n",
       "      <th>2014-09-17</th>\n",
       "      <td>424.440002</td>\n",
       "      <td>NaN</td>\n",
       "      <td>NaN</td>\n",
       "      <td>NaN</td>\n",
       "      <td>NaN</td>\n",
       "    </tr>\n",
       "    <tr>\n",
       "      <th>2014-09-18</th>\n",
       "      <td>394.795990</td>\n",
       "      <td>NaN</td>\n",
       "      <td>NaN</td>\n",
       "      <td>NaN</td>\n",
       "      <td>NaN</td>\n",
       "    </tr>\n",
       "    <tr>\n",
       "      <th>2014-09-19</th>\n",
       "      <td>408.903992</td>\n",
       "      <td>NaN</td>\n",
       "      <td>NaN</td>\n",
       "      <td>NaN</td>\n",
       "      <td>NaN</td>\n",
       "    </tr>\n",
       "    <tr>\n",
       "      <th>2014-09-20</th>\n",
       "      <td>398.821014</td>\n",
       "      <td>NaN</td>\n",
       "      <td>NaN</td>\n",
       "      <td>NaN</td>\n",
       "      <td>NaN</td>\n",
       "    </tr>\n",
       "    <tr>\n",
       "      <th>...</th>\n",
       "      <td>...</td>\n",
       "      <td>...</td>\n",
       "      <td>...</td>\n",
       "      <td>...</td>\n",
       "      <td>...</td>\n",
       "    </tr>\n",
       "    <tr>\n",
       "      <th>2021-03-03</th>\n",
       "      <td>50538.242188</td>\n",
       "      <td>47053.388932</td>\n",
       "      <td>33300.300957</td>\n",
       "      <td>NaN</td>\n",
       "      <td>NaN</td>\n",
       "    </tr>\n",
       "    <tr>\n",
       "      <th>2021-03-04</th>\n",
       "      <td>48561.167969</td>\n",
       "      <td>47488.418229</td>\n",
       "      <td>33594.837988</td>\n",
       "      <td>NaN</td>\n",
       "      <td>NaN</td>\n",
       "    </tr>\n",
       "    <tr>\n",
       "      <th>2021-03-05</th>\n",
       "      <td>48927.304688</td>\n",
       "      <td>47870.258724</td>\n",
       "      <td>33896.789824</td>\n",
       "      <td>NaN</td>\n",
       "      <td>NaN</td>\n",
       "    </tr>\n",
       "    <tr>\n",
       "      <th>2021-03-06</th>\n",
       "      <td>48912.382812</td>\n",
       "      <td>48269.802604</td>\n",
       "      <td>34214.407422</td>\n",
       "      <td>NaN</td>\n",
       "      <td>NaN</td>\n",
       "    </tr>\n",
       "    <tr>\n",
       "      <th>2021-03-07</th>\n",
       "      <td>49690.972656</td>\n",
       "      <td>48654.691406</td>\n",
       "      <td>34540.233125</td>\n",
       "      <td>NaN</td>\n",
       "      <td>NaN</td>\n",
       "    </tr>\n",
       "  </tbody>\n",
       "</table>\n",
       "<p>2360 rows × 5 columns</p>\n",
       "</div>"
      ],
      "text/plain": [
       "                 bitcoin         sma30  ...  buy_signal_price  sell_signal_price\n",
       "Date                                    ...                                     \n",
       "2014-09-16    457.334015           NaN  ...               NaN                NaN\n",
       "2014-09-17    424.440002           NaN  ...               NaN                NaN\n",
       "2014-09-18    394.795990           NaN  ...               NaN                NaN\n",
       "2014-09-19    408.903992           NaN  ...               NaN                NaN\n",
       "2014-09-20    398.821014           NaN  ...               NaN                NaN\n",
       "...                  ...           ...  ...               ...                ...\n",
       "2021-03-03  50538.242188  47053.388932  ...               NaN                NaN\n",
       "2021-03-04  48561.167969  47488.418229  ...               NaN                NaN\n",
       "2021-03-05  48927.304688  47870.258724  ...               NaN                NaN\n",
       "2021-03-06  48912.382812  48269.802604  ...               NaN                NaN\n",
       "2021-03-07  49690.972656  48654.691406  ...               NaN                NaN\n",
       "\n",
       "[2360 rows x 5 columns]"
      ]
     },
     "execution_count": 9,
     "metadata": {
      "tags": []
     },
     "output_type": "execute_result"
    }
   ],
   "source": [
    "buy_sell = buy_sell(data)\n",
    "\n",
    "data[\"buy_signal_price\"] = buy_sell[0]\n",
    "data[\"sell_signal_price\"] = buy_sell[1]\n",
    "data"
   ]
  },
  {
   "cell_type": "markdown",
   "metadata": {
    "id": "6ZZIzsRwckfS"
   },
   "source": [
    "## Visualizing the data and the strategy to buy and sell"
   ]
  },
  {
   "cell_type": "code",
   "execution_count": 10,
   "metadata": {
    "colab": {
     "base_uri": "https://localhost:8080/",
     "height": 405
    },
    "executionInfo": {
     "elapsed": 3066,
     "status": "ok",
     "timestamp": 1615087248295,
     "user": {
      "displayName": "Kiam Boon",
      "photoUrl": "https://lh3.googleusercontent.com/a-/AOh14GguWKTGJvP2a1VVYH3mkgQmM58WyxV6eg7JKfcn-yE=s64",
      "userId": "10343331633657001480"
     },
     "user_tz": -480
    },
    "id": "GCkuDXxd0iZl",
    "outputId": "43581cdd-aa24-4cc8-8a4e-fdf38926964f"
   },
   "outputs": [
    {
     "data": {
      "image/png": "[encoded data removed]",
      "text/plain": [
       "<Figure size 864x432 with 1 Axes>"
      ]
     },
     "metadata": {
      "needs_background": "light",
      "tags": []
     },
     "output_type": "display_data"
    }
   ],
   "source": [
    "plt.figure(figsize = (12, 6))\n",
    "\n",
    "plt.plot(data[\"bitcoin\"], label = \"Bitcoin\", alpha = 0.3)\n",
    "plt.plot(data[\"sma30\"], label = \"Simple Moving Average 30-Day\", alpha = 0.3)\n",
    "plt.plot(data[\"sma100\"], label = \"Simple Moving Average 1000-Day\", alpha = 0.4)\n",
    "plt.scatter(data.index, data[\"buy_signal_price\"], label = \"Buy Signal\", marker = \"^\", color = \"green\", s = 120, ec = \"white\")\n",
    "plt.scatter(data.index, data[\"sell_signal_price\"], label = \"Sell Signal\", marker = \"v\", color = \"red\", s = 120, ec = \"white\")\n",
    "plt.title(\"Bitcoin Adj. Close Price History Buy & Sell Signals\")\n",
    "plt.xlabel(\"Year\")\n",
    "plt.ylabel(\"Adjusted Close Price USD\")\n",
    "plt.legend(loc = \"upper left\")\n",
    "plt.show()"
   ]
  },
  {
   "cell_type": "markdown",
   "metadata": {
    "id": "IZV7PMnwYQV9"
   },
   "source": [
    "## Display the dates and prices to be bought and sold"
   ]
  },
  {
   "cell_type": "code",
   "execution_count": 11,
   "metadata": {
    "executionInfo": {
     "elapsed": 3067,
     "status": "ok",
     "timestamp": 1615087248299,
     "user": {
      "displayName": "Kiam Boon",
      "photoUrl": "https://lh3.googleusercontent.com/a-/AOh14GguWKTGJvP2a1VVYH3mkgQmM58WyxV6eg7JKfcn-yE=s64",
      "userId": "10343331633657001480"
     },
     "user_tz": -480
    },
    "id": "qVXQrIBCXHwk"
   },
   "outputs": [],
   "source": [
    "buy_df = pd.DataFrame()\n",
    "sell_df = pd.DataFrame()\n",
    "buy_df[\"buy_signal_price\"] = data[\"buy_signal_price\"]\n",
    "sell_df[\"sell_signal_price\"] = data[\"sell_signal_price\"]"
   ]
  },
  {
   "cell_type": "markdown",
   "metadata": {
    "id": "UgBPAtQDYhW0"
   },
   "source": [
    "## Dates and Prices of Buying"
   ]
  },
  {
   "cell_type": "code",
   "execution_count": 12,
   "metadata": {
    "colab": {
     "base_uri": "https://localhost:8080/",
     "height": 373
    },
    "executionInfo": {
     "elapsed": 3058,
     "status": "ok",
     "timestamp": 1615087248302,
     "user": {
      "displayName": "Kiam Boon",
      "photoUrl": "https://lh3.googleusercontent.com/a-/AOh14GguWKTGJvP2a1VVYH3mkgQmM58WyxV6eg7JKfcn-yE=s64",
      "userId": "10343331633657001480"
     },
     "user_tz": -480
    },
    "id": "0HLGkDFsXhTk",
    "outputId": "7d6d7da1-a904-4efd-d61b-913fbbef6dca"
   },
   "outputs": [
    {
     "data": {
      "text/html": [
       "<div>\n",
       "<style scoped>\n",
       "    .dataframe tbody tr th:only-of-type {\n",
       "        vertical-align: middle;\n",
       "    }\n",
       "\n",
       "    .dataframe tbody tr th {\n",
       "        vertical-align: top;\n",
       "    }\n",
       "\n",
       "    .dataframe thead th {\n",
       "        text-align: right;\n",
       "    }\n",
       "</style>\n",
       "<table border=\"1\" class=\"dataframe\">\n",
       "  <thead>\n",
       "    <tr style=\"text-align: right;\">\n",
       "      <th></th>\n",
       "      <th>buy_signal_price</th>\n",
       "    </tr>\n",
       "    <tr>\n",
       "      <th>Date</th>\n",
       "      <th></th>\n",
       "    </tr>\n",
       "  </thead>\n",
       "  <tbody>\n",
       "    <tr>\n",
       "      <th>2015-03-21</th>\n",
       "      <td>260.024994</td>\n",
       "    </tr>\n",
       "    <tr>\n",
       "      <th>2015-06-29</th>\n",
       "      <td>263.071991</td>\n",
       "    </tr>\n",
       "    <tr>\n",
       "      <th>2015-10-24</th>\n",
       "      <td>283.679993</td>\n",
       "    </tr>\n",
       "    <tr>\n",
       "      <th>2016-03-08</th>\n",
       "      <td>413.971985</td>\n",
       "    </tr>\n",
       "    <tr>\n",
       "      <th>2016-10-14</th>\n",
       "      <td>638.645996</td>\n",
       "    </tr>\n",
       "    <tr>\n",
       "      <th>2018-05-10</th>\n",
       "      <td>8441.490234</td>\n",
       "    </tr>\n",
       "    <tr>\n",
       "      <th>2018-08-12</th>\n",
       "      <td>6297.569824</td>\n",
       "    </tr>\n",
       "    <tr>\n",
       "      <th>2019-03-04</th>\n",
       "      <td>3761.557129</td>\n",
       "    </tr>\n",
       "    <tr>\n",
       "      <th>2020-01-25</th>\n",
       "      <td>8367.847656</td>\n",
       "    </tr>\n",
       "    <tr>\n",
       "      <th>2020-05-11</th>\n",
       "      <td>8804.477539</td>\n",
       "    </tr>\n",
       "  </tbody>\n",
       "</table>\n",
       "</div>"
      ],
      "text/plain": [
       "            buy_signal_price\n",
       "Date                        \n",
       "2015-03-21        260.024994\n",
       "2015-06-29        263.071991\n",
       "2015-10-24        283.679993\n",
       "2016-03-08        413.971985\n",
       "2016-10-14        638.645996\n",
       "2018-05-10       8441.490234\n",
       "2018-08-12       6297.569824\n",
       "2019-03-04       3761.557129\n",
       "2020-01-25       8367.847656\n",
       "2020-05-11       8804.477539"
      ]
     },
     "execution_count": 12,
     "metadata": {
      "tags": []
     },
     "output_type": "execute_result"
    }
   ],
   "source": [
    "buy_df.dropna(inplace = True)\n",
    "buy_df"
   ]
  },
  {
   "cell_type": "markdown",
   "metadata": {
    "id": "qsNM8VSvYpeE"
   },
   "source": [
    "## Dates and Prices of Selling"
   ]
  },
  {
   "cell_type": "code",
   "execution_count": 13,
   "metadata": {
    "colab": {
     "base_uri": "https://localhost:8080/",
     "height": 373
    },
    "executionInfo": {
     "elapsed": 3047,
     "status": "ok",
     "timestamp": 1615087248304,
     "user": {
      "displayName": "Kiam Boon",
      "photoUrl": "https://lh3.googleusercontent.com/a-/AOh14GguWKTGJvP2a1VVYH3mkgQmM58WyxV6eg7JKfcn-yE=s64",
      "userId": "10343331633657001480"
     },
     "user_tz": -480
    },
    "id": "l78NiUWiXjic",
    "outputId": "93bd9e9c-3701-4ae5-9d93-3c0348d86297"
   },
   "outputs": [
    {
     "data": {
      "text/html": [
       "<div>\n",
       "<style scoped>\n",
       "    .dataframe tbody tr th:only-of-type {\n",
       "        vertical-align: middle;\n",
       "    }\n",
       "\n",
       "    .dataframe tbody tr th {\n",
       "        vertical-align: top;\n",
       "    }\n",
       "\n",
       "    .dataframe thead th {\n",
       "        text-align: right;\n",
       "    }\n",
       "</style>\n",
       "<table border=\"1\" class=\"dataframe\">\n",
       "  <thead>\n",
       "    <tr style=\"text-align: right;\">\n",
       "      <th></th>\n",
       "      <th>sell_signal_price</th>\n",
       "    </tr>\n",
       "    <tr>\n",
       "      <th>Date</th>\n",
       "      <th></th>\n",
       "    </tr>\n",
       "  </thead>\n",
       "  <tbody>\n",
       "    <tr>\n",
       "      <th>2014-12-25</th>\n",
       "      <td>319.007996</td>\n",
       "    </tr>\n",
       "    <tr>\n",
       "      <th>2015-04-15</th>\n",
       "      <td>228.572998</td>\n",
       "    </tr>\n",
       "    <tr>\n",
       "      <th>2015-08-28</th>\n",
       "      <td>229.779999</td>\n",
       "    </tr>\n",
       "    <tr>\n",
       "      <th>2016-02-08</th>\n",
       "      <td>373.446991</td>\n",
       "    </tr>\n",
       "    <tr>\n",
       "      <th>2016-08-20</th>\n",
       "      <td>581.307983</td>\n",
       "    </tr>\n",
       "    <tr>\n",
       "      <th>2018-02-06</th>\n",
       "      <td>7754.000000</td>\n",
       "    </tr>\n",
       "    <tr>\n",
       "      <th>2018-05-23</th>\n",
       "      <td>7587.339844</td>\n",
       "    </tr>\n",
       "    <tr>\n",
       "      <th>2018-08-21</th>\n",
       "      <td>6376.709961</td>\n",
       "    </tr>\n",
       "    <tr>\n",
       "      <th>2019-09-10</th>\n",
       "      <td>10178.372070</td>\n",
       "    </tr>\n",
       "    <tr>\n",
       "      <th>2020-03-17</th>\n",
       "      <td>5225.629395</td>\n",
       "    </tr>\n",
       "  </tbody>\n",
       "</table>\n",
       "</div>"
      ],
      "text/plain": [
       "            sell_signal_price\n",
       "Date                         \n",
       "2014-12-25         319.007996\n",
       "2015-04-15         228.572998\n",
       "2015-08-28         229.779999\n",
       "2016-02-08         373.446991\n",
       "2016-08-20         581.307983\n",
       "2018-02-06        7754.000000\n",
       "2018-05-23        7587.339844\n",
       "2018-08-21        6376.709961\n",
       "2019-09-10       10178.372070\n",
       "2020-03-17        5225.629395"
      ]
     },
     "execution_count": 13,
     "metadata": {
      "tags": []
     },
     "output_type": "execute_result"
    }
   ],
   "source": [
    "sell_df.dropna(inplace = True)\n",
    "sell_df"
   ]
  }
 ],
 "metadata": {
  "colab": {
   "authorship_tag": "ABX9TyMby04UzlkgOw4+bGdH9aFO",
   "collapsed_sections": [],
   "name": "A Simple Trading Algorithm of Analysis for Bitcoin.ipynb",
   "provenance": []
  },
  "kernelspec": {
   "display_name": "Python 3",
   "language": "python",
   "name": "python3"
  },
  "language_info": {
   "codemirror_mode": {
    "name": "ipython",
    "version": 3
   },
   "file_extension": ".py",
   "mimetype": "text/x-python",
   "name": "python",
   "nbconvert_exporter": "python",
   "pygments_lexer": "ipython3",
   "version": "3.8.5"
  }
 },
 "nbformat": 4,
 "nbformat_minor": 1
}
