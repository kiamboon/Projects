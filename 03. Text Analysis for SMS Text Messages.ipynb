{
 "cells": [
  {
   "cell_type": "code",
   "execution_count": 147,
   "metadata": {
    "id": "sSD8pzFrxWlW"
   },
   "outputs": [],
   "source": [
    "import pandas as pd\n",
    "import numpy as np\n",
    "import seaborn as sns\n",
    "import matplotlib.pyplot as plt\n",
    "import requests, zipfile, io"
   ]
  },
  {
   "cell_type": "markdown",
   "metadata": {
    "id": "su6fuC4DR35W"
   },
   "source": [
    "## Straight loading dataset from UCI Repository website."
   ]
  },
  {
   "cell_type": "code",
   "execution_count": 148,
   "metadata": {
    "colab": {
     "base_uri": "https://localhost:8080/"
    },
    "executionInfo": {
     "elapsed": 5708,
     "status": "ok",
     "timestamp": 1611589726102,
     "user": {
      "displayName": "Kiam Boon",
      "photoUrl": "https://lh3.googleusercontent.com/a-/AOh14GguWKTGJvP2a1VVYH3mkgQmM58WyxV6eg7JKfcn-yE=s64",
      "userId": "10343331633657001480"
     },
     "user_tz": -480
    },
    "id": "yoogQw41GTAC",
    "outputId": "dd6f37a2-4e66-4039-a885-8a4e25feaae6"
   },
   "outputs": [
    {
     "data": {
      "text/plain": [
       "5574"
      ]
     },
     "execution_count": 148,
     "metadata": {},
     "output_type": "execute_result"
    }
   ],
   "source": [
    "# Functions to load spam dataset\n",
    "def load_spam_dataset():\n",
    "    spam_url = 'https://archive.ics.uci.edu/ml/machine-learning-databases/00228/smsspamcollection.zip'\n",
    "    _request_and_unzip(spam_url, \"spam/\")\n",
    "    with open(\"datasets/spam/SMSSpamCollection\", encoding=\"utf-8\") as infile:\n",
    "        d = infile.readlines()\n",
    "    return d\n",
    "\n",
    "def _request_and_unzip(url, folder):\n",
    "    r = requests.get(url)\n",
    "    if r.ok:\n",
    "        z = zipfile.ZipFile(io.BytesIO(r.content))\n",
    "        z.extractall(f'datasets/{folder}')\n",
    "\n",
    "data = load_spam_dataset()\n",
    "len(data)"
   ]
  },
  {
   "cell_type": "markdown",
   "metadata": {
    "id": "0ErWmmzyRe9Q"
   },
   "source": [
    "## Converting to DataFrame"
   ]
  },
  {
   "cell_type": "code",
   "execution_count": 149,
   "metadata": {
    "colab": {
     "base_uri": "https://localhost:8080/",
     "height": 195
    },
    "executionInfo": {
     "elapsed": 5690,
     "status": "ok",
     "timestamp": 1611589726105,
     "user": {
      "displayName": "Kiam Boon",
      "photoUrl": "https://lh3.googleusercontent.com/a-/AOh14GguWKTGJvP2a1VVYH3mkgQmM58WyxV6eg7JKfcn-yE=s64",
      "userId": "10343331633657001480"
     },
     "user_tz": -480
    },
    "id": "iaX8GqUoCpck",
    "outputId": "6c889ee7-9cb1-44b2-a27a-c28d72da82e2"
   },
   "outputs": [
    {
     "data": {
      "text/html": [
       "<div>\n",
       "<style scoped>\n",
       "    .dataframe tbody tr th:only-of-type {\n",
       "        vertical-align: middle;\n",
       "    }\n",
       "\n",
       "    .dataframe tbody tr th {\n",
       "        vertical-align: top;\n",
       "    }\n",
       "\n",
       "    .dataframe thead th {\n",
       "        text-align: right;\n",
       "    }\n",
       "</style>\n",
       "<table border=\"1\" class=\"dataframe\">\n",
       "  <thead>\n",
       "    <tr style=\"text-align: right;\">\n",
       "      <th></th>\n",
       "      <th>msg</th>\n",
       "    </tr>\n",
       "  </thead>\n",
       "  <tbody>\n",
       "    <tr>\n",
       "      <th>0</th>\n",
       "      <td>ham\\tGo until jurong point, crazy.. Available ...</td>\n",
       "    </tr>\n",
       "    <tr>\n",
       "      <th>1</th>\n",
       "      <td>ham\\tOk lar... Joking wif u oni...\\n</td>\n",
       "    </tr>\n",
       "    <tr>\n",
       "      <th>2</th>\n",
       "      <td>spam\\tFree entry in 2 a wkly comp to win FA Cu...</td>\n",
       "    </tr>\n",
       "    <tr>\n",
       "      <th>3</th>\n",
       "      <td>ham\\tU dun say so early hor... U c already the...</td>\n",
       "    </tr>\n",
       "    <tr>\n",
       "      <th>4</th>\n",
       "      <td>ham\\tNah I don't think he goes to usf, he live...</td>\n",
       "    </tr>\n",
       "  </tbody>\n",
       "</table>\n",
       "</div>"
      ],
      "text/plain": [
       "                                                 msg\n",
       "0  ham\\tGo until jurong point, crazy.. Available ...\n",
       "1               ham\\tOk lar... Joking wif u oni...\\n\n",
       "2  spam\\tFree entry in 2 a wkly comp to win FA Cu...\n",
       "3  ham\\tU dun say so early hor... U c already the...\n",
       "4  ham\\tNah I don't think he goes to usf, he live..."
      ]
     },
     "execution_count": 149,
     "metadata": {},
     "output_type": "execute_result"
    }
   ],
   "source": [
    "df = pd.DataFrame(data = data, columns = [\"msg\"])\n",
    "df.head()"
   ]
  },
  {
   "cell_type": "code",
   "execution_count": 150,
   "metadata": {
    "colab": {
     "base_uri": "https://localhost:8080/"
    },
    "executionInfo": {
     "elapsed": 5676,
     "status": "ok",
     "timestamp": 1611589726107,
     "user": {
      "displayName": "Kiam Boon",
      "photoUrl": "https://lh3.googleusercontent.com/a-/AOh14GguWKTGJvP2a1VVYH3mkgQmM58WyxV6eg7JKfcn-yE=s64",
      "userId": "10343331633657001480"
     },
     "user_tz": -480
    },
    "id": "dmJyhicYS9ta",
    "outputId": "e84b63a7-b5eb-43e1-fb09-3aa73c79cca6"
   },
   "outputs": [
    {
     "name": "stdout",
     "output_type": "stream",
     "text": [
      "<class 'pandas.core.frame.DataFrame'>\n",
      "RangeIndex: 5574 entries, 0 to 5573\n",
      "Data columns (total 1 columns):\n",
      " #   Column  Non-Null Count  Dtype \n",
      "---  ------  --------------  ----- \n",
      " 0   msg     5574 non-null   object\n",
      "dtypes: object(1)\n",
      "memory usage: 43.7+ KB\n"
     ]
    }
   ],
   "source": [
    "df.info()"
   ]
  },
  {
   "cell_type": "code",
   "execution_count": 151,
   "metadata": {
    "colab": {
     "base_uri": "https://localhost:8080/"
    },
    "executionInfo": {
     "elapsed": 5664,
     "status": "ok",
     "timestamp": 1611589726111,
     "user": {
      "displayName": "Kiam Boon",
      "photoUrl": "https://lh3.googleusercontent.com/a-/AOh14GguWKTGJvP2a1VVYH3mkgQmM58WyxV6eg7JKfcn-yE=s64",
      "userId": "10343331633657001480"
     },
     "user_tz": -480
    },
    "id": "qxxU9B8VTAJx",
    "outputId": "590f9f99-d21c-4527-f65b-272a81db5d52"
   },
   "outputs": [
    {
     "data": {
      "text/plain": [
       "msg    0\n",
       "dtype: int64"
      ]
     },
     "execution_count": 151,
     "metadata": {},
     "output_type": "execute_result"
    }
   ],
   "source": [
    "df.isna().sum()"
   ]
  },
  {
   "cell_type": "markdown",
   "metadata": {
    "id": "puzCtmYiS7t6"
   },
   "source": [
    "## Data cleaning"
   ]
  },
  {
   "cell_type": "code",
   "execution_count": 152,
   "metadata": {
    "colab": {
     "base_uri": "https://localhost:8080/",
     "height": 195
    },
    "executionInfo": {
     "elapsed": 5644,
     "status": "ok",
     "timestamp": 1611589726113,
     "user": {
      "displayName": "Kiam Boon",
      "photoUrl": "https://lh3.googleusercontent.com/a-/AOh14GguWKTGJvP2a1VVYH3mkgQmM58WyxV6eg7JKfcn-yE=s64",
      "userId": "10343331633657001480"
     },
     "user_tz": -480
    },
    "id": "4uQuM-eMDdf0",
    "outputId": "2c11298f-462a-4cdd-f7bb-e2978fed6559"
   },
   "outputs": [
    {
     "data": {
      "text/html": [
       "<div>\n",
       "<style scoped>\n",
       "    .dataframe tbody tr th:only-of-type {\n",
       "        vertical-align: middle;\n",
       "    }\n",
       "\n",
       "    .dataframe tbody tr th {\n",
       "        vertical-align: top;\n",
       "    }\n",
       "\n",
       "    .dataframe thead th {\n",
       "        text-align: right;\n",
       "    }\n",
       "</style>\n",
       "<table border=\"1\" class=\"dataframe\">\n",
       "  <thead>\n",
       "    <tr style=\"text-align: right;\">\n",
       "      <th></th>\n",
       "      <th>msg</th>\n",
       "      <th>label</th>\n",
       "    </tr>\n",
       "  </thead>\n",
       "  <tbody>\n",
       "    <tr>\n",
       "      <th>0</th>\n",
       "      <td>Go until jurong point, crazy.. Available only ...</td>\n",
       "      <td>ham</td>\n",
       "    </tr>\n",
       "    <tr>\n",
       "      <th>1</th>\n",
       "      <td>Ok lar... Joking wif u oni...\\n</td>\n",
       "      <td>ham</td>\n",
       "    </tr>\n",
       "    <tr>\n",
       "      <th>2</th>\n",
       "      <td>Free entry in 2 a wkly comp to win FA Cup fina...</td>\n",
       "      <td>spam</td>\n",
       "    </tr>\n",
       "    <tr>\n",
       "      <th>3</th>\n",
       "      <td>U dun say so early hor... U c already then say...</td>\n",
       "      <td>ham</td>\n",
       "    </tr>\n",
       "    <tr>\n",
       "      <th>4</th>\n",
       "      <td>Nah I don't think he goes to usf, he lives aro...</td>\n",
       "      <td>ham</td>\n",
       "    </tr>\n",
       "  </tbody>\n",
       "</table>\n",
       "</div>"
      ],
      "text/plain": [
       "                                                 msg label\n",
       "0  Go until jurong point, crazy.. Available only ...   ham\n",
       "1                    Ok lar... Joking wif u oni...\\n   ham\n",
       "2  Free entry in 2 a wkly comp to win FA Cup fina...  spam\n",
       "3  U dun say so early hor... U c already then say...   ham\n",
       "4  Nah I don't think he goes to usf, he lives aro...   ham"
      ]
     },
     "execution_count": 152,
     "metadata": {},
     "output_type": "execute_result"
    }
   ],
   "source": [
    "df[\"label\"] = df[\"msg\"].str.split(\"\\t\").str[0]\n",
    "df[\"msg\"] = df[\"msg\"].str.split(\"\\t\").str[1]\n",
    "df.head()"
   ]
  },
  {
   "cell_type": "code",
   "execution_count": 153,
   "metadata": {
    "colab": {
     "base_uri": "https://localhost:8080/"
    },
    "executionInfo": {
     "elapsed": 5632,
     "status": "ok",
     "timestamp": 1611589726117,
     "user": {
      "displayName": "Kiam Boon",
      "photoUrl": "https://lh3.googleusercontent.com/a-/AOh14GguWKTGJvP2a1VVYH3mkgQmM58WyxV6eg7JKfcn-yE=s64",
      "userId": "10343331633657001480"
     },
     "user_tz": -480
    },
    "id": "8ZZiIWd4M9HJ",
    "outputId": "b9e92b36-fe9b-45be-ce6f-95e31be98ea4"
   },
   "outputs": [
    {
     "name": "stdout",
     "output_type": "stream",
     "text": [
      "(0, 'Go until jurong point, crazy.. Available only in bugis n great world la e buffet... Cine there got amore wat...\\n')\n",
      "(1, 'Ok lar... Joking wif u oni...\\n')\n",
      "(2, \"Free entry in 2 a wkly comp to win FA Cup final tkts 21st May 2005. Text FA to 87121 to receive entry question(std txt rate)T&C's apply 08452810075over18's\\n\")\n",
      "(3, 'U dun say so early hor... U c already then say...\\n')\n",
      "(4, \"Nah I don't think he goes to usf, he lives around here though\\n\")\n"
     ]
    }
   ],
   "source": [
    "for message in enumerate(df[\"msg\"][:5]):\n",
    "    print(message)"
   ]
  },
  {
   "cell_type": "code",
   "execution_count": 154,
   "metadata": {
    "colab": {
     "base_uri": "https://localhost:8080/",
     "height": 195
    },
    "executionInfo": {
     "elapsed": 5616,
     "status": "ok",
     "timestamp": 1611589726121,
     "user": {
      "displayName": "Kiam Boon",
      "photoUrl": "https://lh3.googleusercontent.com/a-/AOh14GguWKTGJvP2a1VVYH3mkgQmM58WyxV6eg7JKfcn-yE=s64",
      "userId": "10343331633657001480"
     },
     "user_tz": -480
    },
    "id": "hiiARYspM9AG",
    "outputId": "ab1cec3b-00db-4663-b54f-1d0cb98bb139"
   },
   "outputs": [
    {
     "data": {
      "text/html": [
       "<div>\n",
       "<style scoped>\n",
       "    .dataframe tbody tr th:only-of-type {\n",
       "        vertical-align: middle;\n",
       "    }\n",
       "\n",
       "    .dataframe tbody tr th {\n",
       "        vertical-align: top;\n",
       "    }\n",
       "\n",
       "    .dataframe thead th {\n",
       "        text-align: right;\n",
       "    }\n",
       "</style>\n",
       "<table border=\"1\" class=\"dataframe\">\n",
       "  <thead>\n",
       "    <tr style=\"text-align: right;\">\n",
       "      <th></th>\n",
       "      <th>msg</th>\n",
       "      <th>label</th>\n",
       "    </tr>\n",
       "  </thead>\n",
       "  <tbody>\n",
       "    <tr>\n",
       "      <th>0</th>\n",
       "      <td>Go until jurong point, crazy.. Available only ...</td>\n",
       "      <td>ham</td>\n",
       "    </tr>\n",
       "    <tr>\n",
       "      <th>1</th>\n",
       "      <td>Ok lar... Joking wif u oni...</td>\n",
       "      <td>ham</td>\n",
       "    </tr>\n",
       "    <tr>\n",
       "      <th>2</th>\n",
       "      <td>Free entry in 2 a wkly comp to win FA Cup fina...</td>\n",
       "      <td>spam</td>\n",
       "    </tr>\n",
       "    <tr>\n",
       "      <th>3</th>\n",
       "      <td>U dun say so early hor... U c already then say...</td>\n",
       "      <td>ham</td>\n",
       "    </tr>\n",
       "    <tr>\n",
       "      <th>4</th>\n",
       "      <td>Nah I don't think he goes to usf, he lives aro...</td>\n",
       "      <td>ham</td>\n",
       "    </tr>\n",
       "  </tbody>\n",
       "</table>\n",
       "</div>"
      ],
      "text/plain": [
       "                                                 msg label\n",
       "0  Go until jurong point, crazy.. Available only ...   ham\n",
       "1                      Ok lar... Joking wif u oni...   ham\n",
       "2  Free entry in 2 a wkly comp to win FA Cup fina...  spam\n",
       "3  U dun say so early hor... U c already then say...   ham\n",
       "4  Nah I don't think he goes to usf, he lives aro...   ham"
      ]
     },
     "execution_count": 154,
     "metadata": {},
     "output_type": "execute_result"
    }
   ],
   "source": [
    "df[\"msg\"] = df[\"msg\"].str.replace(\"\\n\", \"\", regex = True)\n",
    "df.head()"
   ]
  },
  {
   "cell_type": "code",
   "execution_count": 155,
   "metadata": {
    "colab": {
     "base_uri": "https://localhost:8080/"
    },
    "executionInfo": {
     "elapsed": 5604,
     "status": "ok",
     "timestamp": 1611589726124,
     "user": {
      "displayName": "Kiam Boon",
      "photoUrl": "https://lh3.googleusercontent.com/a-/AOh14GguWKTGJvP2a1VVYH3mkgQmM58WyxV6eg7JKfcn-yE=s64",
      "userId": "10343331633657001480"
     },
     "user_tz": -480
    },
    "id": "LUpOBX9-M84v",
    "outputId": "4509b1ab-cd7f-4b0f-f4c3-93615512225d"
   },
   "outputs": [
    {
     "name": "stdout",
     "output_type": "stream",
     "text": [
      "(0, 'Go until jurong point, crazy.. Available only in bugis n great world la e buffet... Cine there got amore wat...')\n",
      "(1, 'Ok lar... Joking wif u oni...')\n",
      "(2, \"Free entry in 2 a wkly comp to win FA Cup final tkts 21st May 2005. Text FA to 87121 to receive entry question(std txt rate)T&C's apply 08452810075over18's\")\n",
      "(3, 'U dun say so early hor... U c already then say...')\n",
      "(4, \"Nah I don't think he goes to usf, he lives around here though\")\n"
     ]
    }
   ],
   "source": [
    "for message in enumerate(df[\"msg\"][:5]):\n",
    "    print(message)"
   ]
  },
  {
   "cell_type": "markdown",
   "metadata": {
    "id": "4DSxz2TyZKVn"
   },
   "source": [
    "## Re-order the columns"
   ]
  },
  {
   "cell_type": "code",
   "execution_count": 156,
   "metadata": {
    "colab": {
     "base_uri": "https://localhost:8080/",
     "height": 195
    },
    "executionInfo": {
     "elapsed": 5576,
     "status": "ok",
     "timestamp": 1611589726127,
     "user": {
      "displayName": "Kiam Boon",
      "photoUrl": "https://lh3.googleusercontent.com/a-/AOh14GguWKTGJvP2a1VVYH3mkgQmM58WyxV6eg7JKfcn-yE=s64",
      "userId": "10343331633657001480"
     },
     "user_tz": -480
    },
    "id": "GCcrMmnJZEXG",
    "outputId": "89fbcd4e-8089-4780-f63b-12ff9f8ba07e"
   },
   "outputs": [
    {
     "data": {
      "text/html": [
       "<div>\n",
       "<style scoped>\n",
       "    .dataframe tbody tr th:only-of-type {\n",
       "        vertical-align: middle;\n",
       "    }\n",
       "\n",
       "    .dataframe tbody tr th {\n",
       "        vertical-align: top;\n",
       "    }\n",
       "\n",
       "    .dataframe thead th {\n",
       "        text-align: right;\n",
       "    }\n",
       "</style>\n",
       "<table border=\"1\" class=\"dataframe\">\n",
       "  <thead>\n",
       "    <tr style=\"text-align: right;\">\n",
       "      <th></th>\n",
       "      <th>label</th>\n",
       "      <th>msg</th>\n",
       "    </tr>\n",
       "  </thead>\n",
       "  <tbody>\n",
       "    <tr>\n",
       "      <th>0</th>\n",
       "      <td>ham</td>\n",
       "      <td>Go until jurong point, crazy.. Available only ...</td>\n",
       "    </tr>\n",
       "    <tr>\n",
       "      <th>1</th>\n",
       "      <td>ham</td>\n",
       "      <td>Ok lar... Joking wif u oni...</td>\n",
       "    </tr>\n",
       "    <tr>\n",
       "      <th>2</th>\n",
       "      <td>spam</td>\n",
       "      <td>Free entry in 2 a wkly comp to win FA Cup fina...</td>\n",
       "    </tr>\n",
       "    <tr>\n",
       "      <th>3</th>\n",
       "      <td>ham</td>\n",
       "      <td>U dun say so early hor... U c already then say...</td>\n",
       "    </tr>\n",
       "    <tr>\n",
       "      <th>4</th>\n",
       "      <td>ham</td>\n",
       "      <td>Nah I don't think he goes to usf, he lives aro...</td>\n",
       "    </tr>\n",
       "  </tbody>\n",
       "</table>\n",
       "</div>"
      ],
      "text/plain": [
       "  label                                                msg\n",
       "0   ham  Go until jurong point, crazy.. Available only ...\n",
       "1   ham                      Ok lar... Joking wif u oni...\n",
       "2  spam  Free entry in 2 a wkly comp to win FA Cup fina...\n",
       "3   ham  U dun say so early hor... U c already then say...\n",
       "4   ham  Nah I don't think he goes to usf, he lives aro..."
      ]
     },
     "execution_count": 156,
     "metadata": {},
     "output_type": "execute_result"
    }
   ],
   "source": [
    "df = df.reindex([\"label\", \"msg\"], axis = 1)\n",
    "df.head()"
   ]
  },
  {
   "cell_type": "markdown",
   "metadata": {
    "id": "ieIqnsW4TsOJ"
   },
   "source": [
    "## Plotting a histogram to see how many are ham and spam."
   ]
  },
  {
   "cell_type": "code",
   "execution_count": 157,
   "metadata": {
    "colab": {
     "base_uri": "https://localhost:8080/",
     "height": 295
    },
    "executionInfo": {
     "elapsed": 5553,
     "status": "ok",
     "timestamp": 1611589726129,
     "user": {
      "displayName": "Kiam Boon",
      "photoUrl": "https://lh3.googleusercontent.com/a-/AOh14GguWKTGJvP2a1VVYH3mkgQmM58WyxV6eg7JKfcn-yE=s64",
      "userId": "10343331633657001480"
     },
     "user_tz": -480
    },
    "id": "WPmiPKFqM8xm",
    "outputId": "d2fb8465-aff1-45e3-f395-bfeb37191fe2"
   },
   "outputs": [
    {
     "data": {
      "image/png": "[encoded data removed]",
      "text/plain": [
       "<Figure size 432x288 with 1 Axes>"
      ]
     },
     "metadata": {},
     "output_type": "display_data"
    }
   ],
   "source": [
    "ax = sns.countplot(x = \"label\", data = df)\n",
    "plt.title(\"Count by Label\")\n",
    "for v in ax.patches:\n",
    "    ax.annotate(f\"\\n{v.get_height()}\", (v.get_x()+0.25, v.get_height()), ha = \"left\", va = \"top\",\n",
    "                color = \"white\", size = 15, weight = \"bold\")\n",
    "plt.show()"
   ]
  },
  {
   "cell_type": "markdown",
   "metadata": {
    "id": "MFxFaGW1ZkyK"
   },
   "source": [
    "## Use groupby also can have a glance of overview of the data."
   ]
  },
  {
   "cell_type": "code",
   "execution_count": 158,
   "metadata": {
    "colab": {
     "base_uri": "https://localhost:8080/",
     "height": 166
    },
    "executionInfo": {
     "elapsed": 5531,
     "status": "ok",
     "timestamp": 1611589726132,
     "user": {
      "displayName": "Kiam Boon",
      "photoUrl": "https://lh3.googleusercontent.com/a-/AOh14GguWKTGJvP2a1VVYH3mkgQmM58WyxV6eg7JKfcn-yE=s64",
      "userId": "10343331633657001480"
     },
     "user_tz": -480
    },
    "id": "XjSGZ8glQO10",
    "outputId": "2344be9d-d460-4e70-a738-aa964d43d94d"
   },
   "outputs": [
    {
     "data": {
      "text/html": [
       "<div>\n",
       "<style scoped>\n",
       "    .dataframe tbody tr th:only-of-type {\n",
       "        vertical-align: middle;\n",
       "    }\n",
       "\n",
       "    .dataframe tbody tr th {\n",
       "        vertical-align: top;\n",
       "    }\n",
       "\n",
       "    .dataframe thead tr th {\n",
       "        text-align: left;\n",
       "    }\n",
       "\n",
       "    .dataframe thead tr:last-of-type th {\n",
       "        text-align: right;\n",
       "    }\n",
       "</style>\n",
       "<table border=\"1\" class=\"dataframe\">\n",
       "  <thead>\n",
       "    <tr>\n",
       "      <th></th>\n",
       "      <th colspan=\"4\" halign=\"left\">msg</th>\n",
       "    </tr>\n",
       "    <tr>\n",
       "      <th></th>\n",
       "      <th>count</th>\n",
       "      <th>unique</th>\n",
       "      <th>top</th>\n",
       "      <th>freq</th>\n",
       "    </tr>\n",
       "    <tr>\n",
       "      <th>label</th>\n",
       "      <th></th>\n",
       "      <th></th>\n",
       "      <th></th>\n",
       "      <th></th>\n",
       "    </tr>\n",
       "  </thead>\n",
       "  <tbody>\n",
       "    <tr>\n",
       "      <th>ham</th>\n",
       "      <td>4827</td>\n",
       "      <td>4518</td>\n",
       "      <td>Sorry, I'll call later</td>\n",
       "      <td>30</td>\n",
       "    </tr>\n",
       "    <tr>\n",
       "      <th>spam</th>\n",
       "      <td>747</td>\n",
       "      <td>653</td>\n",
       "      <td>Please call our customer service representativ...</td>\n",
       "      <td>4</td>\n",
       "    </tr>\n",
       "  </tbody>\n",
       "</table>\n",
       "</div>"
      ],
      "text/plain": [
       "        msg                                                               \n",
       "      count unique                                                top freq\n",
       "label                                                                     \n",
       "ham    4827   4518                             Sorry, I'll call later   30\n",
       "spam    747    653  Please call our customer service representativ...    4"
      ]
     },
     "execution_count": 158,
     "metadata": {},
     "output_type": "execute_result"
    }
   ],
   "source": [
    "df.groupby(\"label\").describe()"
   ]
  },
  {
   "cell_type": "markdown",
   "metadata": {
    "id": "xa95NJ8WQCvp"
   },
   "source": [
    "## Feature Engineering\n",
    "* We can add some new columns for this DataFrame because it's only has label and the contents of the text messages.\n",
    "*  For instance the length of the each messages. Also can use sentiment analysis to find out the each messages belong to positive, negative or neutral, and sentiment scores as well. These also can be considered as the features for prediction in Machine Learning.\n",
    "\n"
   ]
  },
  {
   "cell_type": "code",
   "execution_count": 159,
   "metadata": {
    "colab": {
     "base_uri": "https://localhost:8080/",
     "height": 195
    },
    "executionInfo": {
     "elapsed": 5515,
     "status": "ok",
     "timestamp": 1611589726133,
     "user": {
      "displayName": "Kiam Boon",
      "photoUrl": "https://lh3.googleusercontent.com/a-/AOh14GguWKTGJvP2a1VVYH3mkgQmM58WyxV6eg7JKfcn-yE=s64",
      "userId": "10343331633657001480"
     },
     "user_tz": -480
    },
    "id": "_K4Fk3pEP-JH",
    "outputId": "0a9c8084-ff16-44af-b972-0f50332f8661"
   },
   "outputs": [
    {
     "data": {
      "text/html": [
       "<div>\n",
       "<style scoped>\n",
       "    .dataframe tbody tr th:only-of-type {\n",
       "        vertical-align: middle;\n",
       "    }\n",
       "\n",
       "    .dataframe tbody tr th {\n",
       "        vertical-align: top;\n",
       "    }\n",
       "\n",
       "    .dataframe thead th {\n",
       "        text-align: right;\n",
       "    }\n",
       "</style>\n",
       "<table border=\"1\" class=\"dataframe\">\n",
       "  <thead>\n",
       "    <tr style=\"text-align: right;\">\n",
       "      <th></th>\n",
       "      <th>label</th>\n",
       "      <th>msg</th>\n",
       "      <th>length</th>\n",
       "      <th>punc_pct</th>\n",
       "    </tr>\n",
       "  </thead>\n",
       "  <tbody>\n",
       "    <tr>\n",
       "      <th>0</th>\n",
       "      <td>ham</td>\n",
       "      <td>Go until jurong point, crazy.. Available only ...</td>\n",
       "      <td>92</td>\n",
       "      <td>9.8</td>\n",
       "    </tr>\n",
       "    <tr>\n",
       "      <th>1</th>\n",
       "      <td>ham</td>\n",
       "      <td>Ok lar... Joking wif u oni...</td>\n",
       "      <td>24</td>\n",
       "      <td>25.0</td>\n",
       "    </tr>\n",
       "    <tr>\n",
       "      <th>2</th>\n",
       "      <td>spam</td>\n",
       "      <td>Free entry in 2 a wkly comp to win FA Cup fina...</td>\n",
       "      <td>128</td>\n",
       "      <td>4.7</td>\n",
       "    </tr>\n",
       "    <tr>\n",
       "      <th>3</th>\n",
       "      <td>ham</td>\n",
       "      <td>U dun say so early hor... U c already then say...</td>\n",
       "      <td>39</td>\n",
       "      <td>15.4</td>\n",
       "    </tr>\n",
       "    <tr>\n",
       "      <th>4</th>\n",
       "      <td>ham</td>\n",
       "      <td>Nah I don't think he goes to usf, he lives aro...</td>\n",
       "      <td>49</td>\n",
       "      <td>4.1</td>\n",
       "    </tr>\n",
       "  </tbody>\n",
       "</table>\n",
       "</div>"
      ],
      "text/plain": [
       "  label                                                msg  length  punc_pct\n",
       "0   ham  Go until jurong point, crazy.. Available only ...      92       9.8\n",
       "1   ham                      Ok lar... Joking wif u oni...      24      25.0\n",
       "2  spam  Free entry in 2 a wkly comp to win FA Cup fina...     128       4.7\n",
       "3   ham  U dun say so early hor... U c already then say...      39      15.4\n",
       "4   ham  Nah I don't think he goes to usf, he lives aro...      49       4.1"
      ]
     },
     "execution_count": 159,
     "metadata": {},
     "output_type": "execute_result"
    }
   ],
   "source": [
    "# df[\"full_length\"] = df[\"msg\"].str.len()  # Also can use df[\"msg\"].map(len) or df[\"msg\"].apply(len)\n",
    "# df.head()\n",
    "\n",
    "import string\n",
    "\n",
    "def counter(txt):\n",
    "    count = sum([1 for char in txt if char in string.punctuation])\n",
    "    return round(count / (len(txt) - txt.count(\" \")), 3) * 100\n",
    "\n",
    "\n",
    "df[\"length\"] = df[\"msg\"].apply(lambda x: len(x) - x.count(\" \"))\n",
    "df[\"punc_pct\"] = df[\"msg\"].apply(lambda x: counter(x))\n",
    "df.head()"
   ]
  },
  {
   "cell_type": "code",
   "execution_count": 160,
   "metadata": {
    "colab": {
     "base_uri": "https://localhost:8080/"
    },
    "executionInfo": {
     "elapsed": 5502,
     "status": "ok",
     "timestamp": 1611589726135,
     "user": {
      "displayName": "Kiam Boon",
      "photoUrl": "https://lh3.googleusercontent.com/a-/AOh14GguWKTGJvP2a1VVYH3mkgQmM58WyxV6eg7JKfcn-yE=s64",
      "userId": "10343331633657001480"
     },
     "user_tz": -480
    },
    "id": "c4mf_CY-tGt7",
    "outputId": "2251765c-d0bb-4935-f5b5-a2b1643106e4"
   },
   "outputs": [
    {
     "name": "stdout",
     "output_type": "stream",
     "text": [
      "Spam: Avg. Punctuation Percentage = 4.891700133868805 and Avg. Length = 115.72289156626506\n",
      "Ham: Avg. Punctuation Percentage = 7.474559767971791 and Avg. Length = 58.04433395483737\n"
     ]
    }
   ],
   "source": [
    "print(\"Spam: Avg. Punctuation Percentage = {} and Avg. Length = {}\".format(df[df['label'] == \"spam\"]['punc_pct'].mean(), \n",
    "                                                                                 df[df['label'] == \"spam\"]['length'].mean()))\n",
    "print(\"Ham: Avg. Punctuation Percentage = {} and Avg. Length = {}\".format(df[df['label'] == \"ham\"]['punc_pct'].mean(), \n",
    "                                                                                df[df['label'] == \"ham\"]['length'].mean()))\n"
   ]
  },
  {
   "cell_type": "code",
   "execution_count": 161,
   "metadata": {
    "colab": {
     "base_uri": "https://localhost:8080/",
     "height": 388
    },
    "executionInfo": {
     "elapsed": 5864,
     "status": "ok",
     "timestamp": 1611589726520,
     "user": {
      "displayName": "Kiam Boon",
      "photoUrl": "https://lh3.googleusercontent.com/a-/AOh14GguWKTGJvP2a1VVYH3mkgQmM58WyxV6eg7JKfcn-yE=s64",
      "userId": "10343331633657001480"
     },
     "user_tz": -480
    },
    "id": "5RK_JpN_P-Gc",
    "outputId": "c30baf54-0504-450c-df09-e9eeefb89b24"
   },
   "outputs": [
    {
     "data": {
      "image/png": "[encoded data removed]",
      "text/plain": [
       "<Figure size 864x432 with 1 Axes>"
      ]
     },
     "metadata": {},
     "output_type": "display_data"
    }
   ],
   "source": [
    "plt.figure(figsize = (12, 6))\n",
    "\n",
    "ax = sns.histplot(x = \"length\", data = df, color = \"tab:orange\", bins = 80, ec = \"k\")\n",
    "\n",
    "ax.annotate(\"\", xy = (735, 20), xytext = (710, 100),\n",
    "            arrowprops = dict(facecolor = \"black\", shrink = 0.05))\n",
    "plt.show()"
   ]
  },
  {
   "cell_type": "code",
   "execution_count": 162,
   "metadata": {
    "colab": {
     "base_uri": "https://localhost:8080/"
    },
    "executionInfo": {
     "elapsed": 5851,
     "status": "ok",
     "timestamp": 1611589726522,
     "user": {
      "displayName": "Kiam Boon",
      "photoUrl": "https://lh3.googleusercontent.com/a-/AOh14GguWKTGJvP2a1VVYH3mkgQmM58WyxV6eg7JKfcn-yE=s64",
      "userId": "10343331633657001480"
     },
     "user_tz": -480
    },
    "id": "qzKu6F7GP-D5",
    "outputId": "cc5a505f-d1f8-431c-cfd1-8281dc5140cc"
   },
   "outputs": [
    {
     "data": {
      "text/plain": [
       "1085    740\n",
       "1863    629\n",
       "2434    511\n",
       "1579    491\n",
       "2158    464\n",
       "Name: length, dtype: int64"
      ]
     },
     "execution_count": 162,
     "metadata": {},
     "output_type": "execute_result"
    }
   ],
   "source": [
    "df[\"length\"].nlargest() # <OR> df[\"body_length\"].sort_values(ascending = False)"
   ]
  },
  {
   "cell_type": "code",
   "execution_count": 163,
   "metadata": {
    "colab": {
     "base_uri": "https://localhost:8080/",
     "height": 170
    },
    "executionInfo": {
     "elapsed": 5834,
     "status": "ok",
     "timestamp": 1611589726523,
     "user": {
      "displayName": "Kiam Boon",
      "photoUrl": "https://lh3.googleusercontent.com/a-/AOh14GguWKTGJvP2a1VVYH3mkgQmM58WyxV6eg7JKfcn-yE=s64",
      "userId": "10343331633657001480"
     },
     "user_tz": -480
    },
    "id": "hjmNUQn2YFg6",
    "outputId": "fd5671e4-722a-4b73-a8d7-ed1a8f128d5c"
   },
   "outputs": [
    {
     "data": {
      "text/plain": [
       "\"For me the love should start with attraction.i should feel that I need her every time around me.she should be the first thing which comes in my thoughts.I would start the day and end it with her.she should be there every time I dream.love will be then when my every breath has her name.my life should happen around her.my life will be named to her.I would cry for her.will give all my happiness and take all her sorrows.I will be ready to fight with anyone for her.I will be in love when I will be doing the craziest things for her.love will be when I don't have to proove anyone that my girl is the most beautiful lady on the whole planet.I will always be singing praises for her.love will be when I start up making chicken curry and end up makiing sambar.life will be the most beautiful then.will get every morning and thank god for the day because she is with me.I would like to say a lot..will tell later..\""
      ]
     },
     "execution_count": 163,
     "metadata": {},
     "output_type": "execute_result"
    }
   ],
   "source": [
    "df.iloc[1085][\"msg\"] # <OR> df[df[\"length\"] == 740].iloc[0][\"msg\"]"
   ]
  },
  {
   "cell_type": "code",
   "execution_count": 164,
   "metadata": {
    "colab": {
     "base_uri": "https://localhost:8080/",
     "height": 296
    },
    "executionInfo": {
     "elapsed": 6860,
     "status": "ok",
     "timestamp": 1611589727567,
     "user": {
      "displayName": "Kiam Boon",
      "photoUrl": "https://lh3.googleusercontent.com/a-/AOh14GguWKTGJvP2a1VVYH3mkgQmM58WyxV6eg7JKfcn-yE=s64",
      "userId": "10343331633657001480"
     },
     "user_tz": -480
    },
    "id": "gZULy5VQYFeL",
    "outputId": "e3fc5685-4661-40c6-8559-b736fcd0c920"
   },
   "outputs": [
    {
     "data": {
      "image/png": "[encoded data removed]",
      "text/plain": [
       "<Figure size 720x288 with 2 Axes>"
      ]
     },
     "metadata": {},
     "output_type": "display_data"
    }
   ],
   "source": [
    "g = df.hist(column = \"length\", by = \"label\", figsize = (10, 4), bins = 75, color = \"tab:orange\", ec = \"k\")\n",
    "plt.suptitle(\"Length by Labels\", size = 15, weight = \"bold\")\n",
    "plt.show()"
   ]
  },
  {
   "cell_type": "markdown",
   "metadata": {
    "id": "DGRnsBkBT2fC"
   },
   "source": [
    "## Sentiment Analysis\n",
    "* Sentiment analysis usually uses on customer reviews, products rating, social media's comments etc\n",
    "* But I will use Sentiment Analysis as part of the feature engineering for Machine Learning"
   ]
  },
  {
   "cell_type": "code",
   "execution_count": 165,
   "metadata": {
    "id": "RcdSpmTtTxmk"
   },
   "outputs": [],
   "source": [
    "# pip install nltk[all]"
   ]
  },
  {
   "cell_type": "code",
   "execution_count": 166,
   "metadata": {
    "colab": {
     "base_uri": "https://localhost:8080/"
    },
    "executionInfo": {
     "elapsed": 6843,
     "status": "ok",
     "timestamp": 1611589727570,
     "user": {
      "displayName": "Kiam Boon",
      "photoUrl": "https://lh3.googleusercontent.com/a-/AOh14GguWKTGJvP2a1VVYH3mkgQmM58WyxV6eg7JKfcn-yE=s64",
      "userId": "10343331633657001480"
     },
     "user_tz": -480
    },
    "id": "4TlJG3YHc2HC",
    "outputId": "53d7a3e6-8012-45e8-92b5-d7f396e0621f"
   },
   "outputs": [
    {
     "name": "stderr",
     "output_type": "stream",
     "text": [
      "[nltk_data] Downloading package vader_lexicon to\n",
      "[nltk_data]     C:\\Users\\User\\AppData\\Roaming\\nltk_data...\n",
      "[nltk_data]   Package vader_lexicon is already up-to-date!\n"
     ]
    }
   ],
   "source": [
    "import nltk\n",
    "from nltk.sentiment.vader import SentimentIntensityAnalyzer\n",
    "nltk.downloader.download('vader_lexicon')\n",
    "\n",
    "sid = SentimentIntensityAnalyzer()"
   ]
  },
  {
   "cell_type": "markdown",
   "metadata": {
    "id": "YG11E5MgcL9U"
   },
   "source": [
    "## Rating for the messages"
   ]
  },
  {
   "cell_type": "code",
   "execution_count": 167,
   "metadata": {
    "id": "RSfY2m5jfcyD"
   },
   "outputs": [],
   "source": [
    "def get_sentiment(row, **kwargs):\n",
    "  sentiment_score = sid.polarity_scores(row)\n",
    "  positive_meter = round((sentiment_score[\"pos\"]), 3)\n",
    "  negative_meter = round((sentiment_score[\"neg\"]), 3)\n",
    "  return positive_meter if kwargs[\"k\"] == \"positive\" else negative_meter"
   ]
  },
  {
   "cell_type": "code",
   "execution_count": 168,
   "metadata": {
    "colab": {
     "base_uri": "https://localhost:8080/",
     "height": 195
    },
    "executionInfo": {
     "elapsed": 9252,
     "status": "ok",
     "timestamp": 1611589730002,
     "user": {
      "displayName": "Kiam Boon",
      "photoUrl": "https://lh3.googleusercontent.com/a-/AOh14GguWKTGJvP2a1VVYH3mkgQmM58WyxV6eg7JKfcn-yE=s64",
      "userId": "10343331633657001480"
     },
     "user_tz": -480
    },
    "id": "KDGIK0d5fcvy",
    "outputId": "55039c0c-2540-4b3d-8e1b-e418ef1543ad"
   },
   "outputs": [
    {
     "data": {
      "text/html": [
       "<div>\n",
       "<style scoped>\n",
       "    .dataframe tbody tr th:only-of-type {\n",
       "        vertical-align: middle;\n",
       "    }\n",
       "\n",
       "    .dataframe tbody tr th {\n",
       "        vertical-align: top;\n",
       "    }\n",
       "\n",
       "    .dataframe thead th {\n",
       "        text-align: right;\n",
       "    }\n",
       "</style>\n",
       "<table border=\"1\" class=\"dataframe\">\n",
       "  <thead>\n",
       "    <tr style=\"text-align: right;\">\n",
       "      <th></th>\n",
       "      <th>label</th>\n",
       "      <th>msg</th>\n",
       "      <th>length</th>\n",
       "      <th>punc_pct</th>\n",
       "      <th>positive</th>\n",
       "      <th>negative</th>\n",
       "    </tr>\n",
       "  </thead>\n",
       "  <tbody>\n",
       "    <tr>\n",
       "      <th>0</th>\n",
       "      <td>ham</td>\n",
       "      <td>Go until jurong point, crazy.. Available only ...</td>\n",
       "      <td>92</td>\n",
       "      <td>9.8</td>\n",
       "      <td>0.194</td>\n",
       "      <td>0.000</td>\n",
       "    </tr>\n",
       "    <tr>\n",
       "      <th>1</th>\n",
       "      <td>ham</td>\n",
       "      <td>Ok lar... Joking wif u oni...</td>\n",
       "      <td>24</td>\n",
       "      <td>25.0</td>\n",
       "      <td>0.577</td>\n",
       "      <td>0.000</td>\n",
       "    </tr>\n",
       "    <tr>\n",
       "      <th>2</th>\n",
       "      <td>spam</td>\n",
       "      <td>Free entry in 2 a wkly comp to win FA Cup fina...</td>\n",
       "      <td>128</td>\n",
       "      <td>4.7</td>\n",
       "      <td>0.228</td>\n",
       "      <td>0.000</td>\n",
       "    </tr>\n",
       "    <tr>\n",
       "      <th>3</th>\n",
       "      <td>ham</td>\n",
       "      <td>U dun say so early hor... U c already then say...</td>\n",
       "      <td>39</td>\n",
       "      <td>15.4</td>\n",
       "      <td>0.000</td>\n",
       "      <td>0.000</td>\n",
       "    </tr>\n",
       "    <tr>\n",
       "      <th>4</th>\n",
       "      <td>ham</td>\n",
       "      <td>Nah I don't think he goes to usf, he lives aro...</td>\n",
       "      <td>49</td>\n",
       "      <td>4.1</td>\n",
       "      <td>0.000</td>\n",
       "      <td>0.113</td>\n",
       "    </tr>\n",
       "  </tbody>\n",
       "</table>\n",
       "</div>"
      ],
      "text/plain": [
       "  label                                                msg  length  punc_pct  \\\n",
       "0   ham  Go until jurong point, crazy.. Available only ...      92       9.8   \n",
       "1   ham                      Ok lar... Joking wif u oni...      24      25.0   \n",
       "2  spam  Free entry in 2 a wkly comp to win FA Cup fina...     128       4.7   \n",
       "3   ham  U dun say so early hor... U c already then say...      39      15.4   \n",
       "4   ham  Nah I don't think he goes to usf, he lives aro...      49       4.1   \n",
       "\n",
       "   positive  negative  \n",
       "0     0.194     0.000  \n",
       "1     0.577     0.000  \n",
       "2     0.228     0.000  \n",
       "3     0.000     0.000  \n",
       "4     0.000     0.113  "
      ]
     },
     "execution_count": 168,
     "metadata": {},
     "output_type": "execute_result"
    }
   ],
   "source": [
    "df[\"positive\"] = df[\"msg\"].apply(get_sentiment, k = \"positive\")\n",
    "df[\"negative\"] = df[\"msg\"].apply(get_sentiment, k = \"negative\")\n",
    "\n",
    "df.head()"
   ]
  },
  {
   "cell_type": "code",
   "execution_count": 169,
   "metadata": {
    "colab": {
     "base_uri": "https://localhost:8080/"
    },
    "executionInfo": {
     "elapsed": 9740,
     "status": "ok",
     "timestamp": 1611589730503,
     "user": {
      "displayName": "Kiam Boon",
      "photoUrl": "https://lh3.googleusercontent.com/a-/AOh14GguWKTGJvP2a1VVYH3mkgQmM58WyxV6eg7JKfcn-yE=s64",
      "userId": "10343331633657001480"
     },
     "user_tz": -480
    },
    "id": "oLf-eS5BfctB",
    "outputId": "8ae4a02a-05c6-479d-9272-4d30d021ecca"
   },
   "outputs": [
    {
     "data": {
      "text/plain": [
       "['Positive: 0.194, Negative: 0.0',\n",
       " 'Positive: 0.577, Negative: 0.0',\n",
       " 'Positive: 0.228, Negative: 0.0',\n",
       " 'Positive: 0.0, Negative: 0.0',\n",
       " 'Positive: 0.0, Negative: 0.113',\n",
       " 'Positive: 0.305, Negative: 0.054',\n",
       " 'Positive: 0.136, Negative: 0.212',\n",
       " 'Positive: 0.11, Negative: 0.0',\n",
       " 'Positive: 0.422, Negative: 0.0',\n",
       " 'Positive: 0.294, Negative: 0.0']"
      ]
     },
     "execution_count": 169,
     "metadata": {},
     "output_type": "execute_result"
    }
   ],
   "source": [
    "result = []\n",
    "\n",
    "for index, row in df.iterrows():\n",
    "  result.append(\"Positive: {}, Negative: {}\".format(row[\"positive\"], row[\"negative\"]))\n",
    "\n",
    "result[:10]"
   ]
  },
  {
   "cell_type": "code",
   "execution_count": 170,
   "metadata": {
    "colab": {
     "base_uri": "https://localhost:8080/",
     "height": 279
    },
    "executionInfo": {
     "elapsed": 11670,
     "status": "ok",
     "timestamp": 1611589732453,
     "user": {
      "displayName": "Kiam Boon",
      "photoUrl": "https://lh3.googleusercontent.com/a-/AOh14GguWKTGJvP2a1VVYH3mkgQmM58WyxV6eg7JKfcn-yE=s64",
      "userId": "10343331633657001480"
     },
     "user_tz": -480
    },
    "id": "SYXk3L7-fcjm",
    "outputId": "d50ab44c-3a6b-4fc3-9b05-8bd541e1fc52"
   },
   "outputs": [
    {
     "data": {
      "text/html": [
       "<div>\n",
       "<style scoped>\n",
       "    .dataframe tbody tr th:only-of-type {\n",
       "        vertical-align: middle;\n",
       "    }\n",
       "\n",
       "    .dataframe tbody tr th {\n",
       "        vertical-align: top;\n",
       "    }\n",
       "\n",
       "    .dataframe thead th {\n",
       "        text-align: right;\n",
       "    }\n",
       "</style>\n",
       "<table border=\"1\" class=\"dataframe\">\n",
       "  <thead>\n",
       "    <tr style=\"text-align: right;\">\n",
       "      <th></th>\n",
       "      <th>label</th>\n",
       "      <th>msg</th>\n",
       "      <th>length</th>\n",
       "      <th>punc_pct</th>\n",
       "      <th>positive</th>\n",
       "      <th>negative</th>\n",
       "      <th>scores</th>\n",
       "    </tr>\n",
       "  </thead>\n",
       "  <tbody>\n",
       "    <tr>\n",
       "      <th>0</th>\n",
       "      <td>ham</td>\n",
       "      <td>Go until jurong point, crazy.. Available only ...</td>\n",
       "      <td>92</td>\n",
       "      <td>9.8</td>\n",
       "      <td>0.194</td>\n",
       "      <td>0.000</td>\n",
       "      <td>{'neg': 0.0, 'neu': 0.806, 'pos': 0.194, 'comp...</td>\n",
       "    </tr>\n",
       "    <tr>\n",
       "      <th>1</th>\n",
       "      <td>ham</td>\n",
       "      <td>Ok lar... Joking wif u oni...</td>\n",
       "      <td>24</td>\n",
       "      <td>25.0</td>\n",
       "      <td>0.577</td>\n",
       "      <td>0.000</td>\n",
       "      <td>{'neg': 0.0, 'neu': 0.423, 'pos': 0.577, 'comp...</td>\n",
       "    </tr>\n",
       "    <tr>\n",
       "      <th>2</th>\n",
       "      <td>spam</td>\n",
       "      <td>Free entry in 2 a wkly comp to win FA Cup fina...</td>\n",
       "      <td>128</td>\n",
       "      <td>4.7</td>\n",
       "      <td>0.228</td>\n",
       "      <td>0.000</td>\n",
       "      <td>{'neg': 0.0, 'neu': 0.772, 'pos': 0.228, 'comp...</td>\n",
       "    </tr>\n",
       "    <tr>\n",
       "      <th>3</th>\n",
       "      <td>ham</td>\n",
       "      <td>U dun say so early hor... U c already then say...</td>\n",
       "      <td>39</td>\n",
       "      <td>15.4</td>\n",
       "      <td>0.000</td>\n",
       "      <td>0.000</td>\n",
       "      <td>{'neg': 0.0, 'neu': 1.0, 'pos': 0.0, 'compound...</td>\n",
       "    </tr>\n",
       "    <tr>\n",
       "      <th>4</th>\n",
       "      <td>ham</td>\n",
       "      <td>Nah I don't think he goes to usf, he lives aro...</td>\n",
       "      <td>49</td>\n",
       "      <td>4.1</td>\n",
       "      <td>0.000</td>\n",
       "      <td>0.113</td>\n",
       "      <td>{'neg': 0.113, 'neu': 0.887, 'pos': 0.0, 'comp...</td>\n",
       "    </tr>\n",
       "  </tbody>\n",
       "</table>\n",
       "</div>"
      ],
      "text/plain": [
       "  label                                                msg  length  punc_pct  \\\n",
       "0   ham  Go until jurong point, crazy.. Available only ...      92       9.8   \n",
       "1   ham                      Ok lar... Joking wif u oni...      24      25.0   \n",
       "2  spam  Free entry in 2 a wkly comp to win FA Cup fina...     128       4.7   \n",
       "3   ham  U dun say so early hor... U c already then say...      39      15.4   \n",
       "4   ham  Nah I don't think he goes to usf, he lives aro...      49       4.1   \n",
       "\n",
       "   positive  negative                                             scores  \n",
       "0     0.194     0.000  {'neg': 0.0, 'neu': 0.806, 'pos': 0.194, 'comp...  \n",
       "1     0.577     0.000  {'neg': 0.0, 'neu': 0.423, 'pos': 0.577, 'comp...  \n",
       "2     0.228     0.000  {'neg': 0.0, 'neu': 0.772, 'pos': 0.228, 'comp...  \n",
       "3     0.000     0.000  {'neg': 0.0, 'neu': 1.0, 'pos': 0.0, 'compound...  \n",
       "4     0.000     0.113  {'neg': 0.113, 'neu': 0.887, 'pos': 0.0, 'comp...  "
      ]
     },
     "execution_count": 170,
     "metadata": {},
     "output_type": "execute_result"
    }
   ],
   "source": [
    "df[\"scores\"] = df[\"msg\"].apply(lambda x: sid.polarity_scores(x))\n",
    "df.head()"
   ]
  },
  {
   "cell_type": "code",
   "execution_count": 171,
   "metadata": {
    "colab": {
     "base_uri": "https://localhost:8080/",
     "height": 279
    },
    "executionInfo": {
     "elapsed": 11656,
     "status": "ok",
     "timestamp": 1611589732456,
     "user": {
      "displayName": "Kiam Boon",
      "photoUrl": "https://lh3.googleusercontent.com/a-/AOh14GguWKTGJvP2a1VVYH3mkgQmM58WyxV6eg7JKfcn-yE=s64",
      "userId": "10343331633657001480"
     },
     "user_tz": -480
    },
    "id": "n3H2At6hYFbo",
    "outputId": "c894049b-8d0b-4910-a516-322199a0b6f8"
   },
   "outputs": [
    {
     "data": {
      "text/html": [
       "<div>\n",
       "<style scoped>\n",
       "    .dataframe tbody tr th:only-of-type {\n",
       "        vertical-align: middle;\n",
       "    }\n",
       "\n",
       "    .dataframe tbody tr th {\n",
       "        vertical-align: top;\n",
       "    }\n",
       "\n",
       "    .dataframe thead th {\n",
       "        text-align: right;\n",
       "    }\n",
       "</style>\n",
       "<table border=\"1\" class=\"dataframe\">\n",
       "  <thead>\n",
       "    <tr style=\"text-align: right;\">\n",
       "      <th></th>\n",
       "      <th>label</th>\n",
       "      <th>msg</th>\n",
       "      <th>length</th>\n",
       "      <th>punc_pct</th>\n",
       "      <th>positive</th>\n",
       "      <th>negative</th>\n",
       "      <th>scores</th>\n",
       "      <th>compound</th>\n",
       "    </tr>\n",
       "  </thead>\n",
       "  <tbody>\n",
       "    <tr>\n",
       "      <th>0</th>\n",
       "      <td>ham</td>\n",
       "      <td>Go until jurong point, crazy.. Available only ...</td>\n",
       "      <td>92</td>\n",
       "      <td>9.8</td>\n",
       "      <td>0.194</td>\n",
       "      <td>0.000</td>\n",
       "      <td>{'neg': 0.0, 'neu': 0.806, 'pos': 0.194, 'comp...</td>\n",
       "      <td>0.6249</td>\n",
       "    </tr>\n",
       "    <tr>\n",
       "      <th>1</th>\n",
       "      <td>ham</td>\n",
       "      <td>Ok lar... Joking wif u oni...</td>\n",
       "      <td>24</td>\n",
       "      <td>25.0</td>\n",
       "      <td>0.577</td>\n",
       "      <td>0.000</td>\n",
       "      <td>{'neg': 0.0, 'neu': 0.423, 'pos': 0.577, 'comp...</td>\n",
       "      <td>0.4767</td>\n",
       "    </tr>\n",
       "    <tr>\n",
       "      <th>2</th>\n",
       "      <td>spam</td>\n",
       "      <td>Free entry in 2 a wkly comp to win FA Cup fina...</td>\n",
       "      <td>128</td>\n",
       "      <td>4.7</td>\n",
       "      <td>0.228</td>\n",
       "      <td>0.000</td>\n",
       "      <td>{'neg': 0.0, 'neu': 0.772, 'pos': 0.228, 'comp...</td>\n",
       "      <td>0.7964</td>\n",
       "    </tr>\n",
       "    <tr>\n",
       "      <th>3</th>\n",
       "      <td>ham</td>\n",
       "      <td>U dun say so early hor... U c already then say...</td>\n",
       "      <td>39</td>\n",
       "      <td>15.4</td>\n",
       "      <td>0.000</td>\n",
       "      <td>0.000</td>\n",
       "      <td>{'neg': 0.0, 'neu': 1.0, 'pos': 0.0, 'compound...</td>\n",
       "      <td>0.0000</td>\n",
       "    </tr>\n",
       "    <tr>\n",
       "      <th>4</th>\n",
       "      <td>ham</td>\n",
       "      <td>Nah I don't think he goes to usf, he lives aro...</td>\n",
       "      <td>49</td>\n",
       "      <td>4.1</td>\n",
       "      <td>0.000</td>\n",
       "      <td>0.113</td>\n",
       "      <td>{'neg': 0.113, 'neu': 0.887, 'pos': 0.0, 'comp...</td>\n",
       "      <td>-0.1027</td>\n",
       "    </tr>\n",
       "  </tbody>\n",
       "</table>\n",
       "</div>"
      ],
      "text/plain": [
       "  label                                                msg  length  punc_pct  \\\n",
       "0   ham  Go until jurong point, crazy.. Available only ...      92       9.8   \n",
       "1   ham                      Ok lar... Joking wif u oni...      24      25.0   \n",
       "2  spam  Free entry in 2 a wkly comp to win FA Cup fina...     128       4.7   \n",
       "3   ham  U dun say so early hor... U c already then say...      39      15.4   \n",
       "4   ham  Nah I don't think he goes to usf, he lives aro...      49       4.1   \n",
       "\n",
       "   positive  negative                                             scores  \\\n",
       "0     0.194     0.000  {'neg': 0.0, 'neu': 0.806, 'pos': 0.194, 'comp...   \n",
       "1     0.577     0.000  {'neg': 0.0, 'neu': 0.423, 'pos': 0.577, 'comp...   \n",
       "2     0.228     0.000  {'neg': 0.0, 'neu': 0.772, 'pos': 0.228, 'comp...   \n",
       "3     0.000     0.000  {'neg': 0.0, 'neu': 1.0, 'pos': 0.0, 'compound...   \n",
       "4     0.000     0.113  {'neg': 0.113, 'neu': 0.887, 'pos': 0.0, 'comp...   \n",
       "\n",
       "   compound  \n",
       "0    0.6249  \n",
       "1    0.4767  \n",
       "2    0.7964  \n",
       "3    0.0000  \n",
       "4   -0.1027  "
      ]
     },
     "execution_count": 171,
     "metadata": {},
     "output_type": "execute_result"
    }
   ],
   "source": [
    "df[\"compound\"] = df[\"scores\"].apply(lambda x: x[\"compound\"])\n",
    "df.head()"
   ]
  },
  {
   "cell_type": "code",
   "execution_count": 172,
   "metadata": {
    "colab": {
     "base_uri": "https://localhost:8080/",
     "height": 363
    },
    "executionInfo": {
     "elapsed": 11640,
     "status": "ok",
     "timestamp": 1611589732458,
     "user": {
      "displayName": "Kiam Boon",
      "photoUrl": "https://lh3.googleusercontent.com/a-/AOh14GguWKTGJvP2a1VVYH3mkgQmM58WyxV6eg7JKfcn-yE=s64",
      "userId": "10343331633657001480"
     },
     "user_tz": -480
    },
    "id": "CDyk1yeFbCWw",
    "outputId": "0a1f77b7-ae59-4de1-c6bb-1b0386d5ddaf"
   },
   "outputs": [
    {
     "data": {
      "text/html": [
       "<div>\n",
       "<style scoped>\n",
       "    .dataframe tbody tr th:only-of-type {\n",
       "        vertical-align: middle;\n",
       "    }\n",
       "\n",
       "    .dataframe tbody tr th {\n",
       "        vertical-align: top;\n",
       "    }\n",
       "\n",
       "    .dataframe thead th {\n",
       "        text-align: right;\n",
       "    }\n",
       "</style>\n",
       "<table border=\"1\" class=\"dataframe\">\n",
       "  <thead>\n",
       "    <tr style=\"text-align: right;\">\n",
       "      <th></th>\n",
       "      <th>label</th>\n",
       "      <th>msg</th>\n",
       "      <th>length</th>\n",
       "      <th>punc_pct</th>\n",
       "      <th>positive</th>\n",
       "      <th>negative</th>\n",
       "      <th>scores</th>\n",
       "      <th>compound</th>\n",
       "      <th>comp_score</th>\n",
       "    </tr>\n",
       "  </thead>\n",
       "  <tbody>\n",
       "    <tr>\n",
       "      <th>0</th>\n",
       "      <td>ham</td>\n",
       "      <td>Go until jurong point, crazy.. Available only ...</td>\n",
       "      <td>92</td>\n",
       "      <td>9.8</td>\n",
       "      <td>0.194</td>\n",
       "      <td>0.000</td>\n",
       "      <td>{'neg': 0.0, 'neu': 0.806, 'pos': 0.194, 'comp...</td>\n",
       "      <td>0.6249</td>\n",
       "      <td>pos</td>\n",
       "    </tr>\n",
       "    <tr>\n",
       "      <th>1</th>\n",
       "      <td>ham</td>\n",
       "      <td>Ok lar... Joking wif u oni...</td>\n",
       "      <td>24</td>\n",
       "      <td>25.0</td>\n",
       "      <td>0.577</td>\n",
       "      <td>0.000</td>\n",
       "      <td>{'neg': 0.0, 'neu': 0.423, 'pos': 0.577, 'comp...</td>\n",
       "      <td>0.4767</td>\n",
       "      <td>pos</td>\n",
       "    </tr>\n",
       "    <tr>\n",
       "      <th>2</th>\n",
       "      <td>spam</td>\n",
       "      <td>Free entry in 2 a wkly comp to win FA Cup fina...</td>\n",
       "      <td>128</td>\n",
       "      <td>4.7</td>\n",
       "      <td>0.228</td>\n",
       "      <td>0.000</td>\n",
       "      <td>{'neg': 0.0, 'neu': 0.772, 'pos': 0.228, 'comp...</td>\n",
       "      <td>0.7964</td>\n",
       "      <td>pos</td>\n",
       "    </tr>\n",
       "    <tr>\n",
       "      <th>3</th>\n",
       "      <td>ham</td>\n",
       "      <td>U dun say so early hor... U c already then say...</td>\n",
       "      <td>39</td>\n",
       "      <td>15.4</td>\n",
       "      <td>0.000</td>\n",
       "      <td>0.000</td>\n",
       "      <td>{'neg': 0.0, 'neu': 1.0, 'pos': 0.0, 'compound...</td>\n",
       "      <td>0.0000</td>\n",
       "      <td>pos</td>\n",
       "    </tr>\n",
       "    <tr>\n",
       "      <th>4</th>\n",
       "      <td>ham</td>\n",
       "      <td>Nah I don't think he goes to usf, he lives aro...</td>\n",
       "      <td>49</td>\n",
       "      <td>4.1</td>\n",
       "      <td>0.000</td>\n",
       "      <td>0.113</td>\n",
       "      <td>{'neg': 0.113, 'neu': 0.887, 'pos': 0.0, 'comp...</td>\n",
       "      <td>-0.1027</td>\n",
       "      <td>neg</td>\n",
       "    </tr>\n",
       "  </tbody>\n",
       "</table>\n",
       "</div>"
      ],
      "text/plain": [
       "  label                                                msg  length  punc_pct  \\\n",
       "0   ham  Go until jurong point, crazy.. Available only ...      92       9.8   \n",
       "1   ham                      Ok lar... Joking wif u oni...      24      25.0   \n",
       "2  spam  Free entry in 2 a wkly comp to win FA Cup fina...     128       4.7   \n",
       "3   ham  U dun say so early hor... U c already then say...      39      15.4   \n",
       "4   ham  Nah I don't think he goes to usf, he lives aro...      49       4.1   \n",
       "\n",
       "   positive  negative                                             scores  \\\n",
       "0     0.194     0.000  {'neg': 0.0, 'neu': 0.806, 'pos': 0.194, 'comp...   \n",
       "1     0.577     0.000  {'neg': 0.0, 'neu': 0.423, 'pos': 0.577, 'comp...   \n",
       "2     0.228     0.000  {'neg': 0.0, 'neu': 0.772, 'pos': 0.228, 'comp...   \n",
       "3     0.000     0.000  {'neg': 0.0, 'neu': 1.0, 'pos': 0.0, 'compound...   \n",
       "4     0.000     0.113  {'neg': 0.113, 'neu': 0.887, 'pos': 0.0, 'comp...   \n",
       "\n",
       "   compound comp_score  \n",
       "0    0.6249        pos  \n",
       "1    0.4767        pos  \n",
       "2    0.7964        pos  \n",
       "3    0.0000        pos  \n",
       "4   -0.1027        neg  "
      ]
     },
     "execution_count": 172,
     "metadata": {},
     "output_type": "execute_result"
    }
   ],
   "source": [
    "df[\"comp_score\"] = df[\"compound\"].apply(lambda x: \"pos\" if x >= 0 else \"neg\")\n",
    "df.head()"
   ]
  },
  {
   "cell_type": "code",
   "execution_count": 173,
   "metadata": {
    "colab": {
     "base_uri": "https://localhost:8080/"
    },
    "executionInfo": {
     "elapsed": 11629,
     "status": "ok",
     "timestamp": 1611589732462,
     "user": {
      "displayName": "Kiam Boon",
      "photoUrl": "https://lh3.googleusercontent.com/a-/AOh14GguWKTGJvP2a1VVYH3mkgQmM58WyxV6eg7JKfcn-yE=s64",
      "userId": "10343331633657001480"
     },
     "user_tz": -480
    },
    "id": "GZaWEUmObnnx",
    "outputId": "31e9c484-61cc-47e4-f3e6-dfa2535253cc"
   },
   "outputs": [
    {
     "data": {
      "text/plain": [
       "{'neg': 0.0, 'neu': 0.806, 'pos': 0.194, 'compound': 0.6249}"
      ]
     },
     "execution_count": 173,
     "metadata": {},
     "output_type": "execute_result"
    }
   ],
   "source": [
    "df[\"scores\"].iloc[0]"
   ]
  },
  {
   "cell_type": "markdown",
   "metadata": {
    "id": "v3ZoS6FI0rTE"
   },
   "source": [
    "## Count the frequency of positive and negative values"
   ]
  },
  {
   "cell_type": "code",
   "execution_count": 174,
   "metadata": {
    "id": "zNOjwgB3yp6g"
   },
   "outputs": [],
   "source": [
    "def rating(x):\n",
    "  return \"0% - 20%\" if x <= 0.2 else \"21% - 40%\" if x <= 0.4 else \"41% - 60%\" if x <= 0.6 \\\n",
    "  else \"61% - 80%\" if x <= 0.8 else \"81% - 100%\""
   ]
  },
  {
   "cell_type": "code",
   "execution_count": 175,
   "metadata": {
    "colab": {
     "base_uri": "https://localhost:8080/",
     "height": 305
    },
    "executionInfo": {
     "elapsed": 11611,
     "status": "ok",
     "timestamp": 1611589732467,
     "user": {
      "displayName": "Kiam Boon",
      "photoUrl": "https://lh3.googleusercontent.com/a-/AOh14GguWKTGJvP2a1VVYH3mkgQmM58WyxV6eg7JKfcn-yE=s64",
      "userId": "10343331633657001480"
     },
     "user_tz": -480
    },
    "id": "HzXlwyWYyp3L",
    "outputId": "598db354-f4ac-4166-c121-d8804990d89b"
   },
   "outputs": [
    {
     "data": {
      "image/png": "[encoded data removed]",
      "text/plain": [
       "<Figure size 432x288 with 1 Axes>"
      ]
     },
     "metadata": {},
     "output_type": "display_data"
    }
   ],
   "source": [
    "sns.set_style(\"darkgrid\")\n",
    "df[\"positive\"].apply(rating).value_counts().plot(kind = \"bar\")\n",
    "plt.xticks(rotation = 45)\n",
    "plt.show()"
   ]
  },
  {
   "cell_type": "code",
   "execution_count": 176,
   "metadata": {
    "colab": {
     "base_uri": "https://localhost:8080/",
     "height": 301
    },
    "executionInfo": {
     "elapsed": 12846,
     "status": "ok",
     "timestamp": 1611589733722,
     "user": {
      "displayName": "Kiam Boon",
      "photoUrl": "https://lh3.googleusercontent.com/a-/AOh14GguWKTGJvP2a1VVYH3mkgQmM58WyxV6eg7JKfcn-yE=s64",
      "userId": "10343331633657001480"
     },
     "user_tz": -480
    },
    "id": "a29hDu4VfznQ",
    "outputId": "68877ee9-2a75-419d-afbb-1bb3817b5094"
   },
   "outputs": [
    {
     "data": {
      "image/png": "[encoded data removed]",
      "text/plain": [
       "<Figure size 432x288 with 1 Axes>"
      ]
     },
     "metadata": {},
     "output_type": "display_data"
    }
   ],
   "source": [
    "df[\"negative\"].apply(rating).value_counts().plot(kind = \"bar\", color = \"tab:orange\")\n",
    "plt.xticks(rotation = 45)\n",
    "plt.show()"
   ]
  },
  {
   "cell_type": "code",
   "execution_count": 177,
   "metadata": {
    "colab": {
     "base_uri": "https://localhost:8080/",
     "height": 282
    },
    "executionInfo": {
     "elapsed": 12832,
     "status": "ok",
     "timestamp": 1611589733726,
     "user": {
      "displayName": "Kiam Boon",
      "photoUrl": "https://lh3.googleusercontent.com/a-/AOh14GguWKTGJvP2a1VVYH3mkgQmM58WyxV6eg7JKfcn-yE=s64",
      "userId": "10343331633657001480"
     },
     "user_tz": -480
    },
    "id": "2hlGUQobfzig",
    "outputId": "9ebaafee-b956-49b5-a83c-aa7834ffff5a"
   },
   "outputs": [
    {
     "data": {
      "text/plain": [
       "<AxesSubplot:>"
      ]
     },
     "execution_count": 177,
     "metadata": {},
     "output_type": "execute_result"
    },
    {
     "data": {
      "image/png": "[encoded data removed]",
      "text/plain": [
       "<Figure size 432x288 with 1 Axes>"
      ]
     },
     "metadata": {},
     "output_type": "display_data"
    }
   ],
   "source": [
    "df[\"comp_score\"].value_counts(ascending = True).plot(kind = \"barh\", color = [\"tab:orange\", \"tab:blue\"])"
   ]
  },
  {
   "cell_type": "markdown",
   "metadata": {
    "id": "65wHykVf-SsQ"
   },
   "source": [
    "## Text Mining\n",
    "* Tokenize > Stopwords > Lemmatize / Stemming"
   ]
  },
  {
   "cell_type": "markdown",
   "metadata": {
    "id": "LYWa7qFQjEjQ"
   },
   "source": [
    "## Tokenization\n",
    "* Removing Punctuations, lowering the letters, stripping whitespaces"
   ]
  },
  {
   "cell_type": "code",
   "execution_count": 178,
   "metadata": {
    "colab": {
     "base_uri": "https://localhost:8080/",
     "height": 422
    },
    "executionInfo": {
     "elapsed": 13922,
     "status": "ok",
     "timestamp": 1611589734834,
     "user": {
      "displayName": "Kiam Boon",
      "photoUrl": "https://lh3.googleusercontent.com/a-/AOh14GguWKTGJvP2a1VVYH3mkgQmM58WyxV6eg7JKfcn-yE=s64",
      "userId": "10343331633657001480"
     },
     "user_tz": -480
    },
    "id": "BUO-NzEnUUB3",
    "outputId": "095423d5-3bc9-46c8-8491-9ffad47ca3bb"
   },
   "outputs": [
    {
     "name": "stderr",
     "output_type": "stream",
     "text": [
      "[nltk_data] Downloading package punkt to\n",
      "[nltk_data]     C:\\Users\\User\\AppData\\Roaming\\nltk_data...\n",
      "[nltk_data]   Package punkt is already up-to-date!\n"
     ]
    },
    {
     "data": {
      "text/html": [
       "<div>\n",
       "<style scoped>\n",
       "    .dataframe tbody tr th:only-of-type {\n",
       "        vertical-align: middle;\n",
       "    }\n",
       "\n",
       "    .dataframe tbody tr th {\n",
       "        vertical-align: top;\n",
       "    }\n",
       "\n",
       "    .dataframe thead th {\n",
       "        text-align: right;\n",
       "    }\n",
       "</style>\n",
       "<table border=\"1\" class=\"dataframe\">\n",
       "  <thead>\n",
       "    <tr style=\"text-align: right;\">\n",
       "      <th></th>\n",
       "      <th>label</th>\n",
       "      <th>msg</th>\n",
       "      <th>length</th>\n",
       "      <th>punc_pct</th>\n",
       "      <th>positive</th>\n",
       "      <th>negative</th>\n",
       "      <th>scores</th>\n",
       "      <th>compound</th>\n",
       "      <th>comp_score</th>\n",
       "      <th>msg_tokenized</th>\n",
       "    </tr>\n",
       "  </thead>\n",
       "  <tbody>\n",
       "    <tr>\n",
       "      <th>0</th>\n",
       "      <td>ham</td>\n",
       "      <td>Go until jurong point, crazy.. Available only ...</td>\n",
       "      <td>92</td>\n",
       "      <td>9.8</td>\n",
       "      <td>0.194</td>\n",
       "      <td>0.0</td>\n",
       "      <td>{'neg': 0.0, 'neu': 0.806, 'pos': 0.194, 'comp...</td>\n",
       "      <td>0.6249</td>\n",
       "      <td>pos</td>\n",
       "      <td>[go, until, jurong, point, crazy, available, o...</td>\n",
       "    </tr>\n",
       "    <tr>\n",
       "      <th>1</th>\n",
       "      <td>ham</td>\n",
       "      <td>Ok lar... Joking wif u oni...</td>\n",
       "      <td>24</td>\n",
       "      <td>25.0</td>\n",
       "      <td>0.577</td>\n",
       "      <td>0.0</td>\n",
       "      <td>{'neg': 0.0, 'neu': 0.423, 'pos': 0.577, 'comp...</td>\n",
       "      <td>0.4767</td>\n",
       "      <td>pos</td>\n",
       "      <td>[ok, lar, joking, wif, u, oni]</td>\n",
       "    </tr>\n",
       "    <tr>\n",
       "      <th>2</th>\n",
       "      <td>spam</td>\n",
       "      <td>Free entry in 2 a wkly comp to win FA Cup fina...</td>\n",
       "      <td>128</td>\n",
       "      <td>4.7</td>\n",
       "      <td>0.228</td>\n",
       "      <td>0.0</td>\n",
       "      <td>{'neg': 0.0, 'neu': 0.772, 'pos': 0.228, 'comp...</td>\n",
       "      <td>0.7964</td>\n",
       "      <td>pos</td>\n",
       "      <td>[free, entry, in, 2, a, wkly, comp, to, win, f...</td>\n",
       "    </tr>\n",
       "  </tbody>\n",
       "</table>\n",
       "</div>"
      ],
      "text/plain": [
       "  label                                                msg  length  punc_pct  \\\n",
       "0   ham  Go until jurong point, crazy.. Available only ...      92       9.8   \n",
       "1   ham                      Ok lar... Joking wif u oni...      24      25.0   \n",
       "2  spam  Free entry in 2 a wkly comp to win FA Cup fina...     128       4.7   \n",
       "\n",
       "   positive  negative                                             scores  \\\n",
       "0     0.194       0.0  {'neg': 0.0, 'neu': 0.806, 'pos': 0.194, 'comp...   \n",
       "1     0.577       0.0  {'neg': 0.0, 'neu': 0.423, 'pos': 0.577, 'comp...   \n",
       "2     0.228       0.0  {'neg': 0.0, 'neu': 0.772, 'pos': 0.228, 'comp...   \n",
       "\n",
       "   compound comp_score                                      msg_tokenized  \n",
       "0    0.6249        pos  [go, until, jurong, point, crazy, available, o...  \n",
       "1    0.4767        pos                     [ok, lar, joking, wif, u, oni]  \n",
       "2    0.7964        pos  [free, entry, in, 2, a, wkly, comp, to, win, f...  "
      ]
     },
     "execution_count": 178,
     "metadata": {},
     "output_type": "execute_result"
    }
   ],
   "source": [
    "nltk.download('punkt')\n",
    "import string\n",
    "\n",
    "def tokenizer(txt):\n",
    "    txt = \"\".join([w.lower() for w in txt if w not in string.punctuation])\n",
    "    txt = nltk.tokenize.word_tokenize(txt)  # United States >>> [\"United\", \"States\"]\n",
    "    # txt = w.rstrip() for w in txt[-1] if w in [\",\", \".\", \"\\n\", \":\", \"!\", \"?\", \";\"]\n",
    "    return txt\n",
    "    # tokens = re.split(\"\\W+\", txt)\n",
    "    # return tokens\n",
    "\n",
    "df['msg_tokenized'] = df['msg'].apply(lambda x: tokenizer(x))  # I lower the letters here.\n",
    "df.head(3)"
   ]
  },
  {
   "cell_type": "markdown",
   "metadata": {
    "id": "Ke2Jnd2eUpME"
   },
   "source": [
    "## Stopwords\n",
    "* Removing the stopwords like printed on the next cell.\n"
   ]
  },
  {
   "cell_type": "code",
   "execution_count": 179,
   "metadata": {
    "colab": {
     "base_uri": "https://localhost:8080/"
    },
    "executionInfo": {
     "elapsed": 13911,
     "status": "ok",
     "timestamp": 1611589734839,
     "user": {
      "displayName": "Kiam Boon",
      "photoUrl": "https://lh3.googleusercontent.com/a-/AOh14GguWKTGJvP2a1VVYH3mkgQmM58WyxV6eg7JKfcn-yE=s64",
      "userId": "10343331633657001480"
     },
     "user_tz": -480
    },
    "id": "kFGFHLs_LGt1",
    "outputId": "cff78553-433f-4ef0-d114-012b853b822c"
   },
   "outputs": [
    {
     "name": "stdout",
     "output_type": "stream",
     "text": [
      "['i', 'me', 'my', 'myself', 'we', 'our', 'ours', 'ourselves', 'you', \"you're\"]\n"
     ]
    },
    {
     "name": "stderr",
     "output_type": "stream",
     "text": [
      "[nltk_data] Downloading package stopwords to\n",
      "[nltk_data]     C:\\Users\\User\\AppData\\Roaming\\nltk_data...\n",
      "[nltk_data]   Package stopwords is already up-to-date!\n"
     ]
    }
   ],
   "source": [
    "from nltk.corpus import stopwords\n",
    "nltk.download('stopwords')\n",
    "stopwords = nltk.corpus.stopwords.words(\"english\")\n",
    "\n",
    "print(stopwords[:10])"
   ]
  },
  {
   "cell_type": "code",
   "execution_count": 180,
   "metadata": {
    "colab": {
     "base_uri": "https://localhost:8080/",
     "height": 458
    },
    "executionInfo": {
     "elapsed": 13892,
     "status": "ok",
     "timestamp": 1611589734842,
     "user": {
      "displayName": "Kiam Boon",
      "photoUrl": "https://lh3.googleusercontent.com/a-/AOh14GguWKTGJvP2a1VVYH3mkgQmM58WyxV6eg7JKfcn-yE=s64",
      "userId": "10343331633657001480"
     },
     "user_tz": -480
    },
    "id": "Tf7-D1yGUo1e",
    "outputId": "e7df6b4e-4bf8-4583-a7e3-687b5152f01d"
   },
   "outputs": [
    {
     "data": {
      "text/html": [
       "<div>\n",
       "<style scoped>\n",
       "    .dataframe tbody tr th:only-of-type {\n",
       "        vertical-align: middle;\n",
       "    }\n",
       "\n",
       "    .dataframe tbody tr th {\n",
       "        vertical-align: top;\n",
       "    }\n",
       "\n",
       "    .dataframe thead th {\n",
       "        text-align: right;\n",
       "    }\n",
       "</style>\n",
       "<table border=\"1\" class=\"dataframe\">\n",
       "  <thead>\n",
       "    <tr style=\"text-align: right;\">\n",
       "      <th></th>\n",
       "      <th>label</th>\n",
       "      <th>msg</th>\n",
       "      <th>length</th>\n",
       "      <th>punc_pct</th>\n",
       "      <th>positive</th>\n",
       "      <th>negative</th>\n",
       "      <th>scores</th>\n",
       "      <th>compound</th>\n",
       "      <th>comp_score</th>\n",
       "      <th>msg_tokenized</th>\n",
       "      <th>msg_sw_removed</th>\n",
       "    </tr>\n",
       "  </thead>\n",
       "  <tbody>\n",
       "    <tr>\n",
       "      <th>0</th>\n",
       "      <td>ham</td>\n",
       "      <td>Go until jurong point, crazy.. Available only ...</td>\n",
       "      <td>92</td>\n",
       "      <td>9.8</td>\n",
       "      <td>0.194</td>\n",
       "      <td>0.0</td>\n",
       "      <td>{'neg': 0.0, 'neu': 0.806, 'pos': 0.194, 'comp...</td>\n",
       "      <td>0.6249</td>\n",
       "      <td>pos</td>\n",
       "      <td>[go, until, jurong, point, crazy, available, o...</td>\n",
       "      <td>[go, jurong, point, crazy, available, bugis, n...</td>\n",
       "    </tr>\n",
       "    <tr>\n",
       "      <th>1</th>\n",
       "      <td>ham</td>\n",
       "      <td>Ok lar... Joking wif u oni...</td>\n",
       "      <td>24</td>\n",
       "      <td>25.0</td>\n",
       "      <td>0.577</td>\n",
       "      <td>0.0</td>\n",
       "      <td>{'neg': 0.0, 'neu': 0.423, 'pos': 0.577, 'comp...</td>\n",
       "      <td>0.4767</td>\n",
       "      <td>pos</td>\n",
       "      <td>[ok, lar, joking, wif, u, oni]</td>\n",
       "      <td>[ok, lar, joking, wif, u, oni]</td>\n",
       "    </tr>\n",
       "    <tr>\n",
       "      <th>2</th>\n",
       "      <td>spam</td>\n",
       "      <td>Free entry in 2 a wkly comp to win FA Cup fina...</td>\n",
       "      <td>128</td>\n",
       "      <td>4.7</td>\n",
       "      <td>0.228</td>\n",
       "      <td>0.0</td>\n",
       "      <td>{'neg': 0.0, 'neu': 0.772, 'pos': 0.228, 'comp...</td>\n",
       "      <td>0.7964</td>\n",
       "      <td>pos</td>\n",
       "      <td>[free, entry, in, 2, a, wkly, comp, to, win, f...</td>\n",
       "      <td>[free, entry, 2, wkly, comp, win, fa, cup, fin...</td>\n",
       "    </tr>\n",
       "  </tbody>\n",
       "</table>\n",
       "</div>"
      ],
      "text/plain": [
       "  label                                                msg  length  punc_pct  \\\n",
       "0   ham  Go until jurong point, crazy.. Available only ...      92       9.8   \n",
       "1   ham                      Ok lar... Joking wif u oni...      24      25.0   \n",
       "2  spam  Free entry in 2 a wkly comp to win FA Cup fina...     128       4.7   \n",
       "\n",
       "   positive  negative                                             scores  \\\n",
       "0     0.194       0.0  {'neg': 0.0, 'neu': 0.806, 'pos': 0.194, 'comp...   \n",
       "1     0.577       0.0  {'neg': 0.0, 'neu': 0.423, 'pos': 0.577, 'comp...   \n",
       "2     0.228       0.0  {'neg': 0.0, 'neu': 0.772, 'pos': 0.228, 'comp...   \n",
       "\n",
       "   compound comp_score                                      msg_tokenized  \\\n",
       "0    0.6249        pos  [go, until, jurong, point, crazy, available, o...   \n",
       "1    0.4767        pos                     [ok, lar, joking, wif, u, oni]   \n",
       "2    0.7964        pos  [free, entry, in, 2, a, wkly, comp, to, win, f...   \n",
       "\n",
       "                                      msg_sw_removed  \n",
       "0  [go, jurong, point, crazy, available, bugis, n...  \n",
       "1                     [ok, lar, joking, wif, u, oni]  \n",
       "2  [free, entry, 2, wkly, comp, win, fa, cup, fin...  "
      ]
     },
     "execution_count": 180,
     "metadata": {},
     "output_type": "execute_result"
    }
   ],
   "source": [
    "def stopwords_removal(txt):\n",
    "  return [w for w in txt if w not in stopwords]\n",
    "\n",
    "\n",
    "df[\"msg_sw_removed\"] = df[\"msg_tokenized\"].apply(stopwords_removal)\n",
    "df.head(3)"
   ]
  },
  {
   "cell_type": "markdown",
   "metadata": {
    "id": "GIurfvVExMQZ"
   },
   "source": [
    "## Categorizing the 'Ham' & 'Spam'\n",
    "* Before going for the lemmatization and stemming, I would like to know what are the words have the most frequency in Ham and Spam."
   ]
  },
  {
   "cell_type": "code",
   "execution_count": 181,
   "metadata": {
    "colab": {
     "base_uri": "https://localhost:8080/"
    },
    "executionInfo": {
     "elapsed": 13880,
     "status": "ok",
     "timestamp": 1611589734844,
     "user": {
      "displayName": "Kiam Boon",
      "photoUrl": "https://lh3.googleusercontent.com/a-/AOh14GguWKTGJvP2a1VVYH3mkgQmM58WyxV6eg7JKfcn-yE=s64",
      "userId": "10343331633657001480"
     },
     "user_tz": -480
    },
    "id": "H8a48Fc2fzfn",
    "outputId": "58591053-6177-499d-dbe2-6e93760937fd"
   },
   "outputs": [
    {
     "name": "stdout",
     "output_type": "stream",
     "text": [
      "ham: [('go', 250), ('jurong', 1), ('point', 13), ('crazy', 10), ('available', 13), ('bugis', 7), ('n', 137), ('great', 100), ('world', 32), ('la', 7)] \n",
      "\n",
      "spam: [('free', 216), ('entry', 26), ('2', 173), ('wkly', 14), ('comp', 10), ('win', 60), ('fa', 4), ('cup', 5), ('final', 16), ('tkts', 4)]\n"
     ]
    }
   ],
   "source": [
    "spam_words = {}\n",
    "ham_words = {}\n",
    "\n",
    "for txt in df[\"msg_sw_removed\"][df[\"label\"] == \"spam\"]:\n",
    "\n",
    "  for word in txt:\n",
    "    if word not in spam_words:\n",
    "      spam_words[word] = 1\n",
    "    else:\n",
    "      spam_words[word] += 1\n",
    "\n",
    "for txt in df[\"msg_sw_removed\"][df['label'] == \"ham\"]:\n",
    "\n",
    "  for word in txt:\n",
    "    if word in ham_words:\n",
    "      ham_words[word] +=1\n",
    "    else:\n",
    "      ham_words[word] = 1\n",
    "\n",
    "\n",
    "print(\"ham:\", [v for v in ham_words.items()][:10], \"\\n\")\n",
    "print(\"spam:\", [v for v in spam_words.items()][:10])"
   ]
  },
  {
   "cell_type": "markdown",
   "metadata": {
    "id": "J6-89ijWvTkQ"
   },
   "source": [
    "## Optional - Sorting the highest occurences of the words in Dictionary"
   ]
  },
  {
   "cell_type": "code",
   "execution_count": 182,
   "metadata": {
    "colab": {
     "base_uri": "https://localhost:8080/"
    },
    "executionInfo": {
     "elapsed": 13850,
     "status": "ok",
     "timestamp": 1611589734845,
     "user": {
      "displayName": "Kiam Boon",
      "photoUrl": "https://lh3.googleusercontent.com/a-/AOh14GguWKTGJvP2a1VVYH3mkgQmM58WyxV6eg7JKfcn-yE=s64",
      "userId": "10343331633657001480"
     },
     "user_tz": -480
    },
    "id": "RHzVaTuZhIjD",
    "outputId": "1bacfc38-94fd-4b25-b2c0-ed3c328a5656"
   },
   "outputs": [
    {
     "name": "stdout",
     "output_type": "stream",
     "text": [
      "Ham\n",
      "[('u', 985), ('im', 451), ('2', 309), ('get', 303), ('ltgt', 276)]\n",
      "[('call', 347), ('free', 216), ('2', 173), ('txt', 150), ('u', 148)]\n",
      "\n",
      "Spam\n",
      "[('call', 347), ('free', 216), ('2', 173), ('txt', 150), ('u', 148)]\n",
      "[('u', 985), ('im', 451), ('2', 309), ('get', 303), ('ltgt', 276)]\n"
     ]
    }
   ],
   "source": [
    "sorted_ham_words = dict(sorted(ham_words.items(), key = lambda kv: kv[1], reverse = True)) # 0 = k, 1 = v\n",
    "sorted_spam_words = dict(sorted(spam_words.items(), key = lambda kv: kv[1], reverse = True))\n",
    "\n",
    "print(\"Ham\")\n",
    "print(list(sorted_ham_words.items())[:5])   # Show first 5 items\n",
    "# del sorted_ham_words[\"\"]                    # Remove the '' which is an empty space\n",
    "print(list(sorted_spam_words.items())[:5])  # Show first 5 items again\n",
    "\n",
    "print(\"\\nSpam\")\n",
    "print(list(sorted_spam_words.items())[:5])  # Show first 5 items\n",
    "# del sorted_spam_words[\"\"]                   # Remove the '' which is an empty space\n",
    "print(list(sorted_ham_words.items())[:5])   # Show first 5 items again"
   ]
  },
  {
   "cell_type": "markdown",
   "metadata": {
    "id": "d_UQdLC15c-k"
   },
   "source": [
    "## Visualizing the most occurences words\n",
    "* Convert to a DataFrame easier for the plotting"
   ]
  },
  {
   "cell_type": "code",
   "execution_count": 183,
   "metadata": {
    "colab": {
     "base_uri": "https://localhost:8080/",
     "height": 538
    },
    "executionInfo": {
     "elapsed": 14297,
     "status": "ok",
     "timestamp": 1611589735311,
     "user": {
      "displayName": "Kiam Boon",
      "photoUrl": "https://lh3.googleusercontent.com/a-/AOh14GguWKTGJvP2a1VVYH3mkgQmM58WyxV6eg7JKfcn-yE=s64",
      "userId": "10343331633657001480"
     },
     "user_tz": -480
    },
    "id": "fokIfptDM8jG",
    "outputId": "7719f61b-e367-4eda-863f-4170f9c14b7a"
   },
   "outputs": [
    {
     "data": {
      "image/png": "[encoded data removed]",
      "text/plain": [
       "<Figure size 1080x288 with 1 Axes>"
      ]
     },
     "metadata": {},
     "output_type": "display_data"
    },
    {
     "data": {
      "image/png": "[encoded data removed]",
      "text/plain": [
       "<Figure size 1080x288 with 1 Axes>"
      ]
     },
     "metadata": {},
     "output_type": "display_data"
    }
   ],
   "source": [
    "ham_df = pd.DataFrame.from_dict(ham_words, orient = \"index\", columns = [\"freq\"])\n",
    "spam_df = pd.DataFrame.from_dict(spam_words, orient = \"index\", columns = [\"freq\"])\n",
    "\n",
    "\n",
    "plt.figure(figsize = (15, 4))\n",
    "ham_df[\"freq\"].nlargest(20).plot(kind = \"bar\")\n",
    "plt.xticks(rotation = 0)\n",
    "plt.title(\"Top 20 Most Frequent Words in Ham\", size = 20)\n",
    "\n",
    "plt.figure(figsize = (15, 4))\n",
    "spam_df[\"freq\"].nlargest(20).plot(kind = \"bar\", color = \"tab:orange\")\n",
    "plt.xticks(rotation = 0)\n",
    "plt.title(\"Top 20 Most Frequent Words in Spam\", size = 20)\n",
    "\n",
    "plt.show()"
   ]
  },
  {
   "cell_type": "markdown",
   "metadata": {
    "id": "ob5ePJO4wrKO"
   },
   "source": [
    "## Lemmatization\n",
    "* Refers to a vocaburaly and convert words to their base form."
   ]
  },
  {
   "cell_type": "code",
   "execution_count": 184,
   "metadata": {
    "colab": {
     "base_uri": "https://localhost:8080/"
    },
    "executionInfo": {
     "elapsed": 14284,
     "status": "ok",
     "timestamp": 1611589735317,
     "user": {
      "displayName": "Kiam Boon",
      "photoUrl": "https://lh3.googleusercontent.com/a-/AOh14GguWKTGJvP2a1VVYH3mkgQmM58WyxV6eg7JKfcn-yE=s64",
      "userId": "10343331633657001480"
     },
     "user_tz": -480
    },
    "id": "9iXDxXAKMVfM",
    "outputId": "7077a1ec-373b-4e4e-9d89-3c0297828ba2"
   },
   "outputs": [
    {
     "name": "stdout",
     "output_type": "stream",
     "text": [
      "mice    > mouse\n",
      "indices > index\n",
      "leaves  > leaf\n",
      "cacti   > cactus\n"
     ]
    },
    {
     "name": "stderr",
     "output_type": "stream",
     "text": [
      "[nltk_data] Downloading package wordnet to\n",
      "[nltk_data]     C:\\Users\\User\\AppData\\Roaming\\nltk_data...\n",
      "[nltk_data]   Package wordnet is already up-to-date!\n"
     ]
    }
   ],
   "source": [
    "nltk.download('wordnet')\n",
    "from nltk.stem import WordNetLemmatizer\n",
    "\n",
    "print(\"mice    >\", WordNetLemmatizer().lemmatize(\"mice\"))\n",
    "print(\"indices >\", WordNetLemmatizer().lemmatize(\"indices\"))\n",
    "print(\"leaves  >\", WordNetLemmatizer().lemmatize(\"leaves\"))\n",
    "print(\"cacti   >\", WordNetLemmatizer().lemmatize(\"cacti\"))"
   ]
  },
  {
   "cell_type": "code",
   "execution_count": 185,
   "metadata": {
    "colab": {
     "base_uri": "https://localhost:8080/",
     "height": 458
    },
    "executionInfo": {
     "elapsed": 14257,
     "status": "ok",
     "timestamp": 1611589735320,
     "user": {
      "displayName": "Kiam Boon",
      "photoUrl": "https://lh3.googleusercontent.com/a-/AOh14GguWKTGJvP2a1VVYH3mkgQmM58WyxV6eg7JKfcn-yE=s64",
      "userId": "10343331633657001480"
     },
     "user_tz": -480
    },
    "id": "Pe5q6YZuwtnF",
    "outputId": "6b3bd0d9-e331-4a55-83ad-dafd61d1526f"
   },
   "outputs": [
    {
     "data": {
      "text/html": [
       "<div>\n",
       "<style scoped>\n",
       "    .dataframe tbody tr th:only-of-type {\n",
       "        vertical-align: middle;\n",
       "    }\n",
       "\n",
       "    .dataframe tbody tr th {\n",
       "        vertical-align: top;\n",
       "    }\n",
       "\n",
       "    .dataframe thead th {\n",
       "        text-align: right;\n",
       "    }\n",
       "</style>\n",
       "<table border=\"1\" class=\"dataframe\">\n",
       "  <thead>\n",
       "    <tr style=\"text-align: right;\">\n",
       "      <th></th>\n",
       "      <th>label</th>\n",
       "      <th>msg</th>\n",
       "      <th>length</th>\n",
       "      <th>punc_pct</th>\n",
       "      <th>positive</th>\n",
       "      <th>negative</th>\n",
       "      <th>scores</th>\n",
       "      <th>compound</th>\n",
       "      <th>comp_score</th>\n",
       "      <th>msg_tokenized</th>\n",
       "      <th>msg_sw_removed</th>\n",
       "      <th>msg_lemmatized</th>\n",
       "    </tr>\n",
       "  </thead>\n",
       "  <tbody>\n",
       "    <tr>\n",
       "      <th>0</th>\n",
       "      <td>ham</td>\n",
       "      <td>Go until jurong point, crazy.. Available only ...</td>\n",
       "      <td>92</td>\n",
       "      <td>9.8</td>\n",
       "      <td>0.194</td>\n",
       "      <td>0.0</td>\n",
       "      <td>{'neg': 0.0, 'neu': 0.806, 'pos': 0.194, 'comp...</td>\n",
       "      <td>0.6249</td>\n",
       "      <td>pos</td>\n",
       "      <td>[go, until, jurong, point, crazy, available, o...</td>\n",
       "      <td>[go, jurong, point, crazy, available, bugis, n...</td>\n",
       "      <td>go jurong point crazy available bugis n great ...</td>\n",
       "    </tr>\n",
       "    <tr>\n",
       "      <th>1</th>\n",
       "      <td>ham</td>\n",
       "      <td>Ok lar... Joking wif u oni...</td>\n",
       "      <td>24</td>\n",
       "      <td>25.0</td>\n",
       "      <td>0.577</td>\n",
       "      <td>0.0</td>\n",
       "      <td>{'neg': 0.0, 'neu': 0.423, 'pos': 0.577, 'comp...</td>\n",
       "      <td>0.4767</td>\n",
       "      <td>pos</td>\n",
       "      <td>[ok, lar, joking, wif, u, oni]</td>\n",
       "      <td>[ok, lar, joking, wif, u, oni]</td>\n",
       "      <td>ok lar joking wif u oni</td>\n",
       "    </tr>\n",
       "    <tr>\n",
       "      <th>2</th>\n",
       "      <td>spam</td>\n",
       "      <td>Free entry in 2 a wkly comp to win FA Cup fina...</td>\n",
       "      <td>128</td>\n",
       "      <td>4.7</td>\n",
       "      <td>0.228</td>\n",
       "      <td>0.0</td>\n",
       "      <td>{'neg': 0.0, 'neu': 0.772, 'pos': 0.228, 'comp...</td>\n",
       "      <td>0.7964</td>\n",
       "      <td>pos</td>\n",
       "      <td>[free, entry, in, 2, a, wkly, comp, to, win, f...</td>\n",
       "      <td>[free, entry, 2, wkly, comp, win, fa, cup, fin...</td>\n",
       "      <td>free entry 2 wkly comp win fa cup final tkts 2...</td>\n",
       "    </tr>\n",
       "  </tbody>\n",
       "</table>\n",
       "</div>"
      ],
      "text/plain": [
       "  label                                                msg  length  punc_pct  \\\n",
       "0   ham  Go until jurong point, crazy.. Available only ...      92       9.8   \n",
       "1   ham                      Ok lar... Joking wif u oni...      24      25.0   \n",
       "2  spam  Free entry in 2 a wkly comp to win FA Cup fina...     128       4.7   \n",
       "\n",
       "   positive  negative                                             scores  \\\n",
       "0     0.194       0.0  {'neg': 0.0, 'neu': 0.806, 'pos': 0.194, 'comp...   \n",
       "1     0.577       0.0  {'neg': 0.0, 'neu': 0.423, 'pos': 0.577, 'comp...   \n",
       "2     0.228       0.0  {'neg': 0.0, 'neu': 0.772, 'pos': 0.228, 'comp...   \n",
       "\n",
       "   compound comp_score                                      msg_tokenized  \\\n",
       "0    0.6249        pos  [go, until, jurong, point, crazy, available, o...   \n",
       "1    0.4767        pos                     [ok, lar, joking, wif, u, oni]   \n",
       "2    0.7964        pos  [free, entry, in, 2, a, wkly, comp, to, win, f...   \n",
       "\n",
       "                                      msg_sw_removed  \\\n",
       "0  [go, jurong, point, crazy, available, bugis, n...   \n",
       "1                     [ok, lar, joking, wif, u, oni]   \n",
       "2  [free, entry, 2, wkly, comp, win, fa, cup, fin...   \n",
       "\n",
       "                                      msg_lemmatized  \n",
       "0  go jurong point crazy available bugis n great ...  \n",
       "1                            ok lar joking wif u oni  \n",
       "2  free entry 2 wkly comp win fa cup final tkts 2...  "
      ]
     },
     "execution_count": 185,
     "metadata": {},
     "output_type": "execute_result"
    }
   ],
   "source": [
    "lemma = WordNetLemmatizer()\n",
    "\n",
    "def lemmatizer(txt):\n",
    "  return \" \".join([lemma.lemmatize(w) for w in txt])\n",
    "\n",
    "df[\"msg_lemmatized\"] = df[\"msg_sw_removed\"].apply(lemmatizer)\n",
    "df.head(3)"
   ]
  },
  {
   "cell_type": "markdown",
   "metadata": {
    "id": "9ZlqI-6Lf0C1"
   },
   "source": [
    "## Stemming\n",
    "* Works slightly different way compares to lemmatization. Stemming cutting out the end of words like the suffix in -ly, -ing, -ed, es, -ment etc."
   ]
  },
  {
   "cell_type": "code",
   "execution_count": 186,
   "metadata": {
    "colab": {
     "base_uri": "https://localhost:8080/"
    },
    "executionInfo": {
     "elapsed": 14248,
     "status": "ok",
     "timestamp": 1611589735324,
     "user": {
      "displayName": "Kiam Boon",
      "photoUrl": "https://lh3.googleusercontent.com/a-/AOh14GguWKTGJvP2a1VVYH3mkgQmM58WyxV6eg7JKfcn-yE=s64",
      "userId": "10343331633657001480"
     },
     "user_tz": -480
    },
    "id": "AtwUlC73RsW2",
    "outputId": "9f660f30-433c-4ebc-c654-bf1b71da0103"
   },
   "outputs": [
    {
     "name": "stdout",
     "output_type": "stream",
     "text": [
      "continuous  > continu\n",
      "purify      > purifi\n",
      "profile     > profil\n",
      "people      > peopl\n",
      "complicated > complic\n"
     ]
    }
   ],
   "source": [
    "from nltk.stem.porter import PorterStemmer\n",
    "\n",
    "print(\"continuous  >\", PorterStemmer().stem(\"continuous\"))\n",
    "print(\"purify      >\", PorterStemmer().stem(\"purify\"))\n",
    "print(\"profile     >\", PorterStemmer().stem(\"profile\"))\n",
    "print(\"people      >\", PorterStemmer().stem(\"people\"))\n",
    "print(\"complicated >\", PorterStemmer().stem(\"complicated\"))"
   ]
  },
  {
   "cell_type": "code",
   "execution_count": 187,
   "metadata": {
    "colab": {
     "base_uri": "https://localhost:8080/",
     "height": 458
    },
    "executionInfo": {
     "elapsed": 15165,
     "status": "ok",
     "timestamp": 1611589736271,
     "user": {
      "displayName": "Kiam Boon",
      "photoUrl": "https://lh3.googleusercontent.com/a-/AOh14GguWKTGJvP2a1VVYH3mkgQmM58WyxV6eg7JKfcn-yE=s64",
      "userId": "10343331633657001480"
     },
     "user_tz": -480
    },
    "id": "HnxaDt49fzqr",
    "outputId": "52080278-5f98-46a2-ebef-6fa8e0fdbe52"
   },
   "outputs": [
    {
     "data": {
      "text/html": [
       "<div>\n",
       "<style scoped>\n",
       "    .dataframe tbody tr th:only-of-type {\n",
       "        vertical-align: middle;\n",
       "    }\n",
       "\n",
       "    .dataframe tbody tr th {\n",
       "        vertical-align: top;\n",
       "    }\n",
       "\n",
       "    .dataframe thead th {\n",
       "        text-align: right;\n",
       "    }\n",
       "</style>\n",
       "<table border=\"1\" class=\"dataframe\">\n",
       "  <thead>\n",
       "    <tr style=\"text-align: right;\">\n",
       "      <th></th>\n",
       "      <th>label</th>\n",
       "      <th>msg</th>\n",
       "      <th>length</th>\n",
       "      <th>punc_pct</th>\n",
       "      <th>positive</th>\n",
       "      <th>negative</th>\n",
       "      <th>scores</th>\n",
       "      <th>compound</th>\n",
       "      <th>comp_score</th>\n",
       "      <th>msg_tokenized</th>\n",
       "      <th>msg_sw_removed</th>\n",
       "      <th>msg_lemmatized</th>\n",
       "      <th>msg_stemmed</th>\n",
       "    </tr>\n",
       "  </thead>\n",
       "  <tbody>\n",
       "    <tr>\n",
       "      <th>0</th>\n",
       "      <td>ham</td>\n",
       "      <td>Go until jurong point, crazy.. Available only ...</td>\n",
       "      <td>92</td>\n",
       "      <td>9.8</td>\n",
       "      <td>0.194</td>\n",
       "      <td>0.0</td>\n",
       "      <td>{'neg': 0.0, 'neu': 0.806, 'pos': 0.194, 'comp...</td>\n",
       "      <td>0.6249</td>\n",
       "      <td>pos</td>\n",
       "      <td>[go, until, jurong, point, crazy, available, o...</td>\n",
       "      <td>[go, jurong, point, crazy, available, bugis, n...</td>\n",
       "      <td>go jurong point crazy available bugis n great ...</td>\n",
       "      <td>go jurong point crazi avail bugi n great world...</td>\n",
       "    </tr>\n",
       "    <tr>\n",
       "      <th>1</th>\n",
       "      <td>ham</td>\n",
       "      <td>Ok lar... Joking wif u oni...</td>\n",
       "      <td>24</td>\n",
       "      <td>25.0</td>\n",
       "      <td>0.577</td>\n",
       "      <td>0.0</td>\n",
       "      <td>{'neg': 0.0, 'neu': 0.423, 'pos': 0.577, 'comp...</td>\n",
       "      <td>0.4767</td>\n",
       "      <td>pos</td>\n",
       "      <td>[ok, lar, joking, wif, u, oni]</td>\n",
       "      <td>[ok, lar, joking, wif, u, oni]</td>\n",
       "      <td>ok lar joking wif u oni</td>\n",
       "      <td>ok lar joke wif u oni</td>\n",
       "    </tr>\n",
       "    <tr>\n",
       "      <th>2</th>\n",
       "      <td>spam</td>\n",
       "      <td>Free entry in 2 a wkly comp to win FA Cup fina...</td>\n",
       "      <td>128</td>\n",
       "      <td>4.7</td>\n",
       "      <td>0.228</td>\n",
       "      <td>0.0</td>\n",
       "      <td>{'neg': 0.0, 'neu': 0.772, 'pos': 0.228, 'comp...</td>\n",
       "      <td>0.7964</td>\n",
       "      <td>pos</td>\n",
       "      <td>[free, entry, in, 2, a, wkly, comp, to, win, f...</td>\n",
       "      <td>[free, entry, 2, wkly, comp, win, fa, cup, fin...</td>\n",
       "      <td>free entry 2 wkly comp win fa cup final tkts 2...</td>\n",
       "      <td>free entri 2 wkli comp win fa cup final tkt 21...</td>\n",
       "    </tr>\n",
       "  </tbody>\n",
       "</table>\n",
       "</div>"
      ],
      "text/plain": [
       "  label                                                msg  length  punc_pct  \\\n",
       "0   ham  Go until jurong point, crazy.. Available only ...      92       9.8   \n",
       "1   ham                      Ok lar... Joking wif u oni...      24      25.0   \n",
       "2  spam  Free entry in 2 a wkly comp to win FA Cup fina...     128       4.7   \n",
       "\n",
       "   positive  negative                                             scores  \\\n",
       "0     0.194       0.0  {'neg': 0.0, 'neu': 0.806, 'pos': 0.194, 'comp...   \n",
       "1     0.577       0.0  {'neg': 0.0, 'neu': 0.423, 'pos': 0.577, 'comp...   \n",
       "2     0.228       0.0  {'neg': 0.0, 'neu': 0.772, 'pos': 0.228, 'comp...   \n",
       "\n",
       "   compound comp_score                                      msg_tokenized  \\\n",
       "0    0.6249        pos  [go, until, jurong, point, crazy, available, o...   \n",
       "1    0.4767        pos                     [ok, lar, joking, wif, u, oni]   \n",
       "2    0.7964        pos  [free, entry, in, 2, a, wkly, comp, to, win, f...   \n",
       "\n",
       "                                      msg_sw_removed  \\\n",
       "0  [go, jurong, point, crazy, available, bugis, n...   \n",
       "1                     [ok, lar, joking, wif, u, oni]   \n",
       "2  [free, entry, 2, wkly, comp, win, fa, cup, fin...   \n",
       "\n",
       "                                      msg_lemmatized  \\\n",
       "0  go jurong point crazy available bugis n great ...   \n",
       "1                            ok lar joking wif u oni   \n",
       "2  free entry 2 wkly comp win fa cup final tkts 2...   \n",
       "\n",
       "                                         msg_stemmed  \n",
       "0  go jurong point crazi avail bugi n great world...  \n",
       "1                              ok lar joke wif u oni  \n",
       "2  free entri 2 wkli comp win fa cup final tkt 21...  "
      ]
     },
     "execution_count": 187,
     "metadata": {},
     "output_type": "execute_result"
    }
   ],
   "source": [
    "from nltk.stem.porter import PorterStemmer\n",
    "\n",
    "stem = PorterStemmer()\n",
    "\n",
    "def stemmer(txt):\n",
    "  return \" \".join([stem.stem(w) for w in txt])\n",
    "\n",
    "\n",
    "df[\"msg_stemmed\"] = df[\"msg_sw_removed\"].apply(stemmer)\n",
    "df.head(3)"
   ]
  },
  {
   "cell_type": "markdown",
   "metadata": {
    "id": "RpM5wb70xVzX"
   },
   "source": [
    "## Bag of Words - CountVectorizer"
   ]
  },
  {
   "cell_type": "code",
   "execution_count": 188,
   "metadata": {
    "id": "82kpSNFDWet9"
   },
   "outputs": [],
   "source": [
    "from sklearn.feature_extraction.text import CountVectorizer\n",
    "\n",
    "lemma_bow_transformer = CountVectorizer().fit(df[\"msg_lemmatized\"])\n",
    "stem_bow_transformer = CountVectorizer().fit(df[\"msg_stemmed\"])"
   ]
  },
  {
   "cell_type": "code",
   "execution_count": 189,
   "metadata": {
    "colab": {
     "base_uri": "https://localhost:8080/"
    },
    "executionInfo": {
     "elapsed": 15141,
     "status": "ok",
     "timestamp": 1611589736275,
     "user": {
      "displayName": "Kiam Boon",
      "photoUrl": "https://lh3.googleusercontent.com/a-/AOh14GguWKTGJvP2a1VVYH3mkgQmM58WyxV6eg7JKfcn-yE=s64",
      "userId": "10343331633657001480"
     },
     "user_tz": -480
    },
    "id": "fCVDbzEFWvNS",
    "outputId": "dfe524b4-00b5-4948-e7d4-26a6d7b2075f"
   },
   "outputs": [
    {
     "name": "stdout",
     "output_type": "stream",
     "text": [
      "8901\n",
      "8092\n"
     ]
    }
   ],
   "source": [
    "print(len(lemma_bow_transformer.vocabulary_))\n",
    "print(len(stem_bow_transformer.vocabulary_))"
   ]
  },
  {
   "cell_type": "code",
   "execution_count": 190,
   "metadata": {
    "id": "W0oIGcdoWeq6"
   },
   "outputs": [],
   "source": [
    "############"
   ]
  },
  {
   "cell_type": "code",
   "execution_count": 191,
   "metadata": {
    "colab": {
     "base_uri": "https://localhost:8080/"
    },
    "executionInfo": {
     "elapsed": 15125,
     "status": "ok",
     "timestamp": 1611589736277,
     "user": {
      "displayName": "Kiam Boon",
      "photoUrl": "https://lh3.googleusercontent.com/a-/AOh14GguWKTGJvP2a1VVYH3mkgQmM58WyxV6eg7JKfcn-yE=s64",
      "userId": "10343331633657001480"
     },
     "user_tz": -480
    },
    "id": "Y48Mji_iZxWl",
    "outputId": "e684af19-8e68-42a1-a0f4-0fb55215f5c3"
   },
   "outputs": [
    {
     "name": "stdout",
     "output_type": "stream",
     "text": [
      "  (0, 3632)\t1\n",
      "  (0, 3771)\t2\n",
      "  (0, 4436)\t1\n",
      "  (0, 5267)\t1\n",
      "  (0, 8053)\t1 \n",
      "\n",
      "  (0, 3314)\t1\n",
      "  (0, 3463)\t2\n",
      "  (0, 4060)\t1\n",
      "  (0, 4822)\t1\n",
      "  (0, 7286)\t1\n"
     ]
    }
   ],
   "source": [
    "lemma_bow_test = lemma_bow_transformer.transform([df[\"msg_lemmatized\"][21]])  # must be in a list\n",
    "print(lemma_bow_test, \"\\n\")\n",
    "\n",
    "stem_bow_test = stem_bow_transformer.transform([df[\"msg_stemmed\"][21]])  # must be in a list\n",
    "print(stem_bow_test)"
   ]
  },
  {
   "cell_type": "code",
   "execution_count": 192,
   "metadata": {
    "colab": {
     "base_uri": "https://localhost:8080/"
    },
    "executionInfo": {
     "elapsed": 15106,
     "status": "ok",
     "timestamp": 1611589736277,
     "user": {
      "displayName": "Kiam Boon",
      "photoUrl": "https://lh3.googleusercontent.com/a-/AOh14GguWKTGJvP2a1VVYH3mkgQmM58WyxV6eg7JKfcn-yE=s64",
      "userId": "10343331633657001480"
     },
     "user_tz": -480
    },
    "id": "g410m_huWeoS",
    "outputId": "229b4dd4-42d9-4fd2-ad15-015ae05ea29e"
   },
   "outputs": [
    {
     "name": "stdout",
     "output_type": "stream",
     "text": [
      "funk\n",
      "fujitsu\n"
     ]
    }
   ],
   "source": [
    "print(lemma_bow_transformer.get_feature_names()[3492])\n",
    "print(stem_bow_transformer.get_feature_names()[3186])"
   ]
  },
  {
   "cell_type": "code",
   "execution_count": 193,
   "metadata": {
    "colab": {
     "base_uri": "https://localhost:8080/"
    },
    "executionInfo": {
     "elapsed": 15092,
     "status": "ok",
     "timestamp": 1611589736278,
     "user": {
      "displayName": "Kiam Boon",
      "photoUrl": "https://lh3.googleusercontent.com/a-/AOh14GguWKTGJvP2a1VVYH3mkgQmM58WyxV6eg7JKfcn-yE=s64",
      "userId": "10343331633657001480"
     },
     "user_tz": -480
    },
    "id": "Wxsk6-fQWelt",
    "outputId": "d538e4b1-52fd-439a-832e-bb46ad4e6492"
   },
   "outputs": [
    {
     "name": "stdout",
     "output_type": "stream",
     "text": [
      "‘ going try 2 month ha ha joking\n",
      "‘ go tri 2 month ha ha joke\n"
     ]
    }
   ],
   "source": [
    "print(df[\"msg_lemmatized\"][21])\n",
    "print(df[\"msg_stemmed\"][21])"
   ]
  },
  {
   "cell_type": "code",
   "execution_count": 194,
   "metadata": {
    "id": "JimHlNiNHLqD"
   },
   "outputs": [],
   "source": [
    "##################"
   ]
  },
  {
   "cell_type": "code",
   "execution_count": 195,
   "metadata": {
    "id": "WPP2cqtPWeix"
   },
   "outputs": [],
   "source": [
    "lemma_bow = lemma_bow_transformer.transform(df[\"msg_lemmatized\"])\n",
    "stem_bow = stem_bow_transformer.transform(df[\"msg_stemmed\"])"
   ]
  },
  {
   "cell_type": "code",
   "execution_count": 196,
   "metadata": {
    "colab": {
     "base_uri": "https://localhost:8080/"
    },
    "executionInfo": {
     "elapsed": 15488,
     "status": "ok",
     "timestamp": 1611589736704,
     "user": {
      "displayName": "Kiam Boon",
      "photoUrl": "https://lh3.googleusercontent.com/a-/AOh14GguWKTGJvP2a1VVYH3mkgQmM58WyxV6eg7JKfcn-yE=s64",
      "userId": "10343331633657001480"
     },
     "user_tz": -480
    },
    "id": "W2BomSRgweDA",
    "outputId": "cbb870ac-8038-421b-bbdd-03a1fca73907"
   },
   "outputs": [
    {
     "name": "stdout",
     "output_type": "stream",
     "text": [
      "Shape of Sparse Matrix - Lemma: (5574, 8901)\n",
      "Shape of Sparse Matrix - Stem : (5574, 8092)\n"
     ]
    }
   ],
   "source": [
    "print(\"Shape of Sparse Matrix - Lemma:\", lemma_bow.shape)\n",
    "print(\"Shape of Sparse Matrix - Stem :\", stem_bow.shape)"
   ]
  },
  {
   "cell_type": "code",
   "execution_count": 197,
   "metadata": {
    "colab": {
     "base_uri": "https://localhost:8080/"
    },
    "executionInfo": {
     "elapsed": 15468,
     "status": "ok",
     "timestamp": 1611589736704,
     "user": {
      "displayName": "Kiam Boon",
      "photoUrl": "https://lh3.googleusercontent.com/a-/AOh14GguWKTGJvP2a1VVYH3mkgQmM58WyxV6eg7JKfcn-yE=s64",
      "userId": "10343331633657001480"
     },
     "user_tz": -480
    },
    "id": "CTthrKsep5Kj",
    "outputId": "71aebec1-891a-47e9-b7b2-ee6f1a72f37d"
   },
   "outputs": [
    {
     "name": "stdout",
     "output_type": "stream",
     "text": [
      "Number of Non-Zero Occurences - Lemma: 47331\n",
      "Number of Non-Zero Occurences - Stem : 47281\n"
     ]
    }
   ],
   "source": [
    "print(\"Number of Non-Zero Occurences - Lemma:\", lemma_bow.nnz)\n",
    "print(\"Number of Non-Zero Occurences - Stem :\", stem_bow.nnz)"
   ]
  },
  {
   "cell_type": "code",
   "execution_count": 198,
   "metadata": {
    "id": "xFblYcobweFY"
   },
   "outputs": [],
   "source": [
    "lemma_sparsity = (lemma_bow.nnz / (lemma_bow.shape[0] * lemma_bow.shape[1]) * 100)\n",
    "stem_sparsity = (stem_bow.nnz / (stem_bow.shape[0] * stem_bow.shape[1]) * 100)"
   ]
  },
  {
   "cell_type": "code",
   "execution_count": 199,
   "metadata": {
    "colab": {
     "base_uri": "https://localhost:8080/"
    },
    "executionInfo": {
     "elapsed": 15454,
     "status": "ok",
     "timestamp": 1611589736706,
     "user": {
      "displayName": "Kiam Boon",
      "photoUrl": "https://lh3.googleusercontent.com/a-/AOh14GguWKTGJvP2a1VVYH3mkgQmM58WyxV6eg7JKfcn-yE=s64",
      "userId": "10343331633657001480"
     },
     "user_tz": -480
    },
    "id": "UabgVxxOweH6",
    "outputId": "e8483a55-66c9-404f-bcb6-478303e248d8"
   },
   "outputs": [
    {
     "name": "stdout",
     "output_type": "stream",
     "text": [
      "0.0954\n",
      "0.1048\n"
     ]
    }
   ],
   "source": [
    "print(\"{:.4f}\".format(lemma_sparsity))\n",
    "print(\"{:.4f}\".format(stem_sparsity))"
   ]
  },
  {
   "cell_type": "markdown",
   "metadata": {
    "id": "WV_7dklACfwt"
   },
   "source": [
    "## Normalizing"
   ]
  },
  {
   "cell_type": "code",
   "execution_count": 200,
   "metadata": {
    "id": "5mRU9AUfweKV"
   },
   "outputs": [],
   "source": [
    "from sklearn.feature_extraction.text import TfidfTransformer\n",
    "\n",
    "lemma_tfidf_fit = TfidfTransformer().fit(lemma_bow)\n",
    "stem_tfidf_fit = TfidfTransformer().fit(stem_bow)"
   ]
  },
  {
   "cell_type": "code",
   "execution_count": 201,
   "metadata": {
    "colab": {
     "base_uri": "https://localhost:8080/"
    },
    "executionInfo": {
     "elapsed": 15438,
     "status": "ok",
     "timestamp": 1611589736707,
     "user": {
      "displayName": "Kiam Boon",
      "photoUrl": "https://lh3.googleusercontent.com/a-/AOh14GguWKTGJvP2a1VVYH3mkgQmM58WyxV6eg7JKfcn-yE=s64",
      "userId": "10343331633657001480"
     },
     "user_tz": -480
    },
    "id": "HaNXtx1EeCn_",
    "outputId": "8ca62dce-6955-4c82-d054-05c94388144d"
   },
   "outputs": [
    {
     "name": "stdout",
     "output_type": "stream",
     "text": [
      "(5574, 8901)\n",
      "(5574, 8092)\n"
     ]
    }
   ],
   "source": [
    "lemma_tfidf_transform = lemma_tfidf_fit.transform(lemma_bow)\n",
    "stem_tfidf_transform = stem_tfidf_fit.transform(stem_bow)\n",
    "\n",
    "\n",
    "print(lemma_tfidf_transform.shape)\n",
    "print(stem_tfidf_transform.shape)"
   ]
  },
  {
   "cell_type": "markdown",
   "metadata": {
    "id": "4GHdszbrcsIG"
   },
   "source": [
    "# Naïve Bayes Model"
   ]
  },
  {
   "cell_type": "markdown",
   "metadata": {
    "id": "kYeXNIGRbytE"
   },
   "source": [
    "## Predicting without splitting into train set and test set"
   ]
  },
  {
   "cell_type": "code",
   "execution_count": 202,
   "metadata": {
    "id": "6TGVzjZxpg_r"
   },
   "outputs": [],
   "source": [
    "from sklearn.naive_bayes import MultinomialNB\n",
    "\n",
    "lemma_nb = MultinomialNB().fit(lemma_tfidf_transform, df[\"label\"])\n",
    "stem_nb = MultinomialNB().fit(stem_tfidf_transform, df[\"label\"])"
   ]
  },
  {
   "cell_type": "code",
   "execution_count": 203,
   "metadata": {
    "id": "gF5CexfcweRQ"
   },
   "outputs": [],
   "source": [
    "lemma_pred = lemma_nb.predict(lemma_tfidf_transform)\n",
    "stem_pred = stem_nb.predict(stem_tfidf_transform)"
   ]
  },
  {
   "cell_type": "code",
   "execution_count": 204,
   "metadata": {
    "colab": {
     "base_uri": "https://localhost:8080/"
    },
    "executionInfo": {
     "elapsed": 15838,
     "status": "ok",
     "timestamp": 1611589737127,
     "user": {
      "displayName": "Kiam Boon",
      "photoUrl": "https://lh3.googleusercontent.com/a-/AOh14GguWKTGJvP2a1VVYH3mkgQmM58WyxV6eg7JKfcn-yE=s64",
      "userId": "10343331633657001480"
     },
     "user_tz": -480
    },
    "id": "tkuqmbO7-oT1",
    "outputId": "aaa1456e-a9d6-4f31-e37f-c1edaffa59ba"
   },
   "outputs": [
    {
     "name": "stdout",
     "output_type": "stream",
     "text": [
      "[[4827  116]\n",
      " [   0  631]]\n",
      "              precision    recall  f1-score   support\n",
      "\n",
      "         ham       1.00      0.98      0.99      4943\n",
      "        spam       0.84      1.00      0.92       631\n",
      "\n",
      "    accuracy                           0.98      5574\n",
      "   macro avg       0.92      0.99      0.95      5574\n",
      "weighted avg       0.98      0.98      0.98      5574\n",
      "\n",
      "[[4827  115]\n",
      " [   0  632]]\n",
      "              precision    recall  f1-score   support\n",
      "\n",
      "         ham       1.00      0.98      0.99      4942\n",
      "        spam       0.85      1.00      0.92       632\n",
      "\n",
      "    accuracy                           0.98      5574\n",
      "   macro avg       0.92      0.99      0.95      5574\n",
      "weighted avg       0.98      0.98      0.98      5574\n",
      "\n"
     ]
    }
   ],
   "source": [
    "from sklearn.metrics import classification_report, confusion_matrix\n",
    "\n",
    "print(confusion_matrix(lemma_pred, df[\"label\"]))\n",
    "print(classification_report(lemma_pred, df[\"label\"]))\n",
    "print(confusion_matrix(stem_pred, df[\"label\"]))\n",
    "print(classification_report(stem_pred, df[\"label\"]))"
   ]
  },
  {
   "cell_type": "markdown",
   "metadata": {
    "id": "_n6F8e0Fb-dK"
   },
   "source": [
    "## Predicting with splitting into train set and test set as well as building a pipeline"
   ]
  },
  {
   "cell_type": "code",
   "execution_count": 205,
   "metadata": {
    "id": "rAKVeeL-TpIX"
   },
   "outputs": [],
   "source": [
    "from sklearn.model_selection import train_test_split\n",
    "\n",
    "# Lemma\n",
    "X_train_l, X_test_l, y_train_l, y_test_l = train_test_split(df[\"msg_lemmatized\"], df[\"label\"], test_size = 0.3,\n",
    "                                                    random_state = 88)\n",
    "# Stem\n",
    "X_train_s, X_test_s, y_train_s, y_test_s = train_test_split(df[\"msg_stemmed\"], df[\"label\"], test_size = 0.3,\n",
    "                                                    random_state = 88)\n",
    "# Original\n",
    "X_train_o, X_test_o, y_train_o, y_test_o = train_test_split(df[\"msg\"], df[\"label\"], test_size = 0.3,\n",
    "                                                    random_state = 88)"
   ]
  },
  {
   "cell_type": "code",
   "execution_count": 206,
   "metadata": {
    "id": "DxMvpx95RZYW"
   },
   "outputs": [],
   "source": [
    "from sklearn.pipeline import Pipeline\n",
    "# Creating Pipelines\n",
    "\n",
    "# Lemma\n",
    "pipe_nb_l = Pipeline([\n",
    "                    (\"bow\", CountVectorizer()),\n",
    "                    (\"tfidf\", TfidfTransformer()),\n",
    "                    (\"clf_nb\", MultinomialNB())\n",
    "                    ])\n",
    "# Stem\n",
    "pipe_nb_s = Pipeline([\n",
    "                    (\"bow\", CountVectorizer()),\n",
    "                    (\"tfidf\", TfidfTransformer()),\n",
    "                    (\"clf_nb\", MultinomialNB())\n",
    "                    ])\n",
    "# Original\n",
    "pipe_nb_o = Pipeline([\n",
    "                    (\"bow\", CountVectorizer()),\n",
    "                    (\"tfidf\", TfidfTransformer()),\n",
    "                    (\"clf_nb\", MultinomialNB())\n",
    "                    ])"
   ]
  },
  {
   "cell_type": "code",
   "execution_count": 207,
   "metadata": {
    "colab": {
     "base_uri": "https://localhost:8080/"
    },
    "executionInfo": {
     "elapsed": 16420,
     "status": "ok",
     "timestamp": 1611589737728,
     "user": {
      "displayName": "Kiam Boon",
      "photoUrl": "https://lh3.googleusercontent.com/a-/AOh14GguWKTGJvP2a1VVYH3mkgQmM58WyxV6eg7JKfcn-yE=s64",
      "userId": "10343331633657001480"
     },
     "user_tz": -480
    },
    "id": "MYb__4IdRZL0",
    "outputId": "71de3d36-037f-45dc-98e6-b1b74bd65e1d"
   },
   "outputs": [
    {
     "name": "stdout",
     "output_type": "stream",
     "text": [
      "Results: \n",
      "\n",
      " ************** Lemma ***************\n",
      "Prediction Score : 0.958756724447101\n",
      "Accuracy Score   : 0.958756724447101\n",
      "\n",
      " *************** Stem ***************\n",
      "Prediction Score : 0.9563658099222953\n",
      "Accuracy Score   : 0.9563658099222953\n",
      "\n",
      " ************ Original ************\n",
      "Prediction Score : 0.9503885236102809\n",
      "Accuracy Score   : 0.9503885236102809\n"
     ]
    }
   ],
   "source": [
    "from sklearn.metrics import accuracy_score\n",
    "\n",
    "# Lemma\n",
    "print(\"Results:\", \"\\n\" * 2, \"*\" * 14, \"Lemma\", \"*\" * 15)\n",
    "pipe_nb_l.fit(X_train_l, y_train_l)\n",
    "pred_nb_l = pipe_nb_l.predict(X_test_l)\n",
    "acc_nb_l = accuracy_score(y_test_l, pred_nb_l)\n",
    "\n",
    "print(\"Prediction Score :\", acc_nb_l)\n",
    "print(\"Accuracy Score   :\", pipe_nb_l.score(X_test_l, y_test_l))\n",
    "\n",
    "\n",
    "# Stem\n",
    "print(\"\\n\", \"*\" * 15, \"Stem\", \"*\" * 15)\n",
    "pipe_nb_s.fit(X_train_s, y_train_s)\n",
    "pred_nb_s = pipe_nb_s.predict(X_test_s)\n",
    "acc_nb_s = accuracy_score(y_test_s, pred_nb_s)\n",
    "\n",
    "print(\"Prediction Score :\", acc_nb_s)\n",
    "print(\"Accuracy Score   :\", pipe_nb_s.score(X_test_s, y_test_s))\n",
    "\n",
    "\n",
    "# Original Message\n",
    "print(\"\\n\", \"*\" * 12, \"Original\", \"*\" * 12)\n",
    "pipe_nb_o.fit(X_train_o, y_train_o)\n",
    "pred_nb_o = pipe_nb_o.predict(X_test_o)\n",
    "acc_nb_o = accuracy_score(y_test_o, pred_nb_o)\n",
    "\n",
    "print(\"Prediction Score :\", acc_nb_o)\n",
    "print(\"Accuracy Score   :\", pipe_nb_o.score(X_test_o, y_test_o))"
   ]
  },
  {
   "cell_type": "markdown",
   "metadata": {
    "id": "VJklZ01bemHi"
   },
   "source": [
    "# TensorFlow"
   ]
  },
  {
   "cell_type": "code",
   "execution_count": 208,
   "metadata": {
    "id": "eKblzPdre1P1"
   },
   "outputs": [],
   "source": [
    "# Map the labels as 0 and 1\n",
    "\n",
    "df[\"label_encoded\"] = df['label'].map({'ham': 0, 'spam': 1})"
   ]
  },
  {
   "cell_type": "code",
   "execution_count": 209,
   "metadata": {
    "id": "XMwbyWxg3aPx"
   },
   "outputs": [],
   "source": [
    "from sklearn.model_selection import train_test_split\n",
    "\n",
    "# Lemma\n",
    "X_train_l, X_test_l, y_train_l, y_test_l = train_test_split(df[\"msg_lemmatized\"],\n",
    "                                                            df[\"label_encoded\"].values,\n",
    "                                                            test_size = 0.2, random_state = 88)\n",
    "# Stem\n",
    "X_train_s, X_test_s, y_train_s, y_test_s = train_test_split(df[\"msg_stemmed\"],\n",
    "                                                            df[\"label_encoded\"].values,\n",
    "                                                            test_size = 0.2, random_state = 88)\n",
    "# Original\n",
    "X_train_o, X_test_o, y_train_o, y_test_o = train_test_split(df[\"msg\"], df[\"label_encoded\"].values,\n",
    "                                                            test_size = 0.2, random_state = 88)"
   ]
  },
  {
   "cell_type": "markdown",
   "metadata": {
    "id": "plE5ZSECf5TI"
   },
   "source": [
    "## Defining the parameters\n",
    "* This allows us to quickly adjust the parameters here without changing in cells by cells."
   ]
  },
  {
   "cell_type": "code",
   "execution_count": 210,
   "metadata": {
    "id": "phR7gDB2_gpj"
   },
   "outputs": [],
   "source": [
    "max_length = 50\n",
    "trunc_type = \"post\"\n",
    "pad_type = \"post\"\n",
    "oov_token = \"<OOV>\"\n",
    "vocab_size = 500"
   ]
  },
  {
   "cell_type": "code",
   "execution_count": 211,
   "metadata": {
    "id": "wMJo9Xat5pDJ"
   },
   "outputs": [],
   "source": [
    "from tensorflow.keras.preprocessing.text import Tokenizer\n",
    "\n",
    "tokenizer_l = Tokenizer(num_words = vocab_size, char_level = False, oov_token = oov_token)\n",
    "tokenizer_s = Tokenizer(num_words = vocab_size, char_level = False, oov_token = oov_token)\n",
    "tokenizer_o = Tokenizer(num_words = vocab_size, char_level = False, oov_token = oov_token)\n",
    "\n",
    "tokenizer_l.fit_on_texts(X_train_l)\n",
    "tokenizer_s.fit_on_texts(X_train_s)\n",
    "tokenizer_o.fit_on_texts(X_train_o)"
   ]
  },
  {
   "cell_type": "code",
   "execution_count": 212,
   "metadata": {
    "id": "WJ-3_WuQ6B6j"
   },
   "outputs": [],
   "source": [
    "##"
   ]
  },
  {
   "cell_type": "code",
   "execution_count": 213,
   "metadata": {
    "colab": {
     "base_uri": "https://localhost:8080/"
    },
    "executionInfo": {
     "elapsed": 16830,
     "status": "ok",
     "timestamp": 1611589738165,
     "user": {
      "displayName": "Kiam Boon",
      "photoUrl": "https://lh3.googleusercontent.com/a-/AOh14GguWKTGJvP2a1VVYH3mkgQmM58WyxV6eg7JKfcn-yE=s64",
      "userId": "10343331633657001480"
     },
     "user_tz": -480
    },
    "id": "Ah9kEsdE5o_q",
    "outputId": "0f6870c2-4fbf-43a5-d60c-c21183aa2661"
   },
   "outputs": [
    {
     "name": "stdout",
     "output_type": "stream",
     "text": [
      "[Lemma] 7875 unique tokens:-\n",
      "{'<OOV>': 1, 'u': 2, 'call': 3, '2': 4, 'im': 5, 'get': 6, 'ur': 7, 'go': 8, '4': 9, 'free': 10} \n",
      "\n",
      "[Stem] 7188 unique tokens:-\n",
      "{'<OOV>': 1, 'u': 2, 'call': 3, '2': 4, 'go': 5, 'im': 6, 'get': 7, 'ur': 8, 'come': 9, '4': 10} \n",
      "\n",
      "[Original] 7952 unique tokens:-\n",
      "{'<OOV>': 1, 'i': 2, 'to': 3, 'you': 4, 'a': 5, 'the': 6, 'u': 7, 'and': 8, 'in': 9, 'is': 10}\n"
     ]
    }
   ],
   "source": [
    "word_index_l = tokenizer_l.word_index\n",
    "word_index_s = tokenizer_s.word_index\n",
    "word_index_o = tokenizer_o.word_index\n",
    "\n",
    "# Lemma\n",
    "print(\"[Lemma]\", len(word_index_l), \"unique tokens:-\")\n",
    "print({p: word_index_l[p] for p in list(word_index_l)[:10]}, \"\\n\")\n",
    "\n",
    "# Stem\n",
    "print(\"[Stem]\", len(word_index_s), \"unique tokens:-\")\n",
    "print({p: word_index_s[p] for p in list(word_index_s)[:10]}, \"\\n\")\n",
    "\n",
    "# Original\n",
    "print(\"[Original]\", len(word_index_o), \"unique tokens:-\")\n",
    "print({p: word_index_o[p] for p in list(word_index_o)[:10]})"
   ]
  },
  {
   "cell_type": "markdown",
   "metadata": {
    "id": "cirm3P7r41Ns"
   },
   "source": [
    "## Sequencing and Padding"
   ]
  },
  {
   "cell_type": "code",
   "execution_count": 214,
   "metadata": {
    "id": "k-5_5s243aLg"
   },
   "outputs": [],
   "source": [
    "from tensorflow.keras.preprocessing.sequence import pad_sequences\n",
    "\n",
    "# Lemma\n",
    "training_sequences_l = tokenizer_l.texts_to_sequences(X_train_l)\n",
    "training_padded_l = pad_sequences(training_sequences_l, maxlen = max_length, padding = pad_type, truncating = trunc_type)\n",
    "\n",
    "testing_sequences_l = tokenizer_l.texts_to_sequences(X_test_l)\n",
    "testing_padded_l = pad_sequences(testing_sequences_l, maxlen = max_length, padding = pad_type, truncating = trunc_type)\n",
    "\n",
    "\n",
    "# Stem\n",
    "training_sequences_s = tokenizer_s.texts_to_sequences(X_train_s)\n",
    "training_padded_s = pad_sequences(training_sequences_s, maxlen = max_length, padding = pad_type, truncating = trunc_type)\n",
    "\n",
    "testing_sequences_s = tokenizer_s.texts_to_sequences(X_test_s)\n",
    "testing_padded_s = pad_sequences(testing_sequences_s, maxlen = max_length, padding = pad_type, truncating = trunc_type)\n",
    "\n",
    "\n",
    "# Original\n",
    "training_sequences_o = tokenizer_o.texts_to_sequences(X_train_o)\n",
    "training_padded_o = pad_sequences(training_sequences_l, maxlen = max_length, padding = pad_type, truncating = trunc_type)\n",
    "\n",
    "testing_sequences_o = tokenizer_o.texts_to_sequences(X_test_o)\n",
    "testing_padded_o = pad_sequences(testing_sequences_o, maxlen = max_length, padding = pad_type, truncating = trunc_type)\n"
   ]
  },
  {
   "cell_type": "code",
   "execution_count": 215,
   "metadata": {
    "colab": {
     "base_uri": "https://localhost:8080/"
    },
    "executionInfo": {
     "elapsed": 17231,
     "status": "ok",
     "timestamp": 1611589738582,
     "user": {
      "displayName": "Kiam Boon",
      "photoUrl": "https://lh3.googleusercontent.com/a-/AOh14GguWKTGJvP2a1VVYH3mkgQmM58WyxV6eg7JKfcn-yE=s64",
      "userId": "10343331633657001480"
     },
     "user_tz": -480
    },
    "id": "KtaYbKNf3aIh",
    "outputId": "621bf955-dd96-40bc-eca4-b19f95b69218"
   },
   "outputs": [
    {
     "name": "stdout",
     "output_type": "stream",
     "text": [
      "Shape of training tensor: (4459, 50)\n",
      "Shape of testing tensor: (1115, 50) \n",
      "\n",
      "Shape of training tensor: (4459, 50)\n",
      "Shape of testing tensor: (1115, 50) \n",
      "\n",
      "Shape of training tensor: (4459, 50)\n",
      "Shape of testing tensor: (1115, 50)\n"
     ]
    }
   ],
   "source": [
    "# Lemma\n",
    "print(\"Shape of training tensor:\", training_padded_l.shape)\n",
    "print(\"Shape of testing tensor:\", testing_padded_l.shape, \"\\n\")\n",
    "\n",
    "# Stem\n",
    "print(\"Shape of training tensor:\", training_padded_s.shape)\n",
    "print(\"Shape of testing tensor:\", testing_padded_s.shape, \"\\n\")\n",
    "\n",
    "# Original\n",
    "print(\"Shape of training tensor:\", training_padded_o.shape)\n",
    "print(\"Shape of testing tensor:\", testing_padded_o.shape)"
   ]
  },
  {
   "cell_type": "code",
   "execution_count": 216,
   "metadata": {
    "colab": {
     "base_uri": "https://localhost:8080/"
    },
    "executionInfo": {
     "elapsed": 17218,
     "status": "ok",
     "timestamp": 1611589738583,
     "user": {
      "displayName": "Kiam Boon",
      "photoUrl": "https://lh3.googleusercontent.com/a-/AOh14GguWKTGJvP2a1VVYH3mkgQmM58WyxV6eg7JKfcn-yE=s64",
      "userId": "10343331633657001480"
     },
     "user_tz": -480
    },
    "id": "wNWNsTxb3aFS",
    "outputId": "88027a00-4c55-4100-d1c8-b3bb59ba5fe1"
   },
   "outputs": [
    {
     "name": "stdout",
     "output_type": "stream",
     "text": [
      "17 20\n",
      "50 50 \n",
      "\n",
      "17 20\n",
      "50 50 \n",
      "\n",
      "28 24\n",
      "50 50\n"
     ]
    }
   ],
   "source": [
    "# Lemma\n",
    "# Before padding\n",
    "print(len(training_sequences_l[0]), len(training_sequences_l[1]))\n",
    "\n",
    "# After padding\n",
    "print(len(training_padded_l[0]), len(training_padded_l[1]), \"\\n\")\n",
    "\n",
    "# Stem\n",
    "# Before padding\n",
    "print(len(training_sequences_s[0]), len(training_sequences_s[1]))\n",
    "\n",
    "# After padding\n",
    "print(len(training_padded_s[0]), len(training_padded_s[1]), \"\\n\")\n",
    "\n",
    "# Original\n",
    "# Before padding\n",
    "print(len(training_sequences_o[0]), len(training_sequences_o[1]))\n",
    "\n",
    "# After padding\n",
    "print(len(training_padded_o[0]), len(training_padded_o[1]))"
   ]
  },
  {
   "cell_type": "code",
   "execution_count": 217,
   "metadata": {
    "colab": {
     "base_uri": "https://localhost:8080/"
    },
    "executionInfo": {
     "elapsed": 17206,
     "status": "ok",
     "timestamp": 1611589738584,
     "user": {
      "displayName": "Kiam Boon",
      "photoUrl": "https://lh3.googleusercontent.com/a-/AOh14GguWKTGJvP2a1VVYH3mkgQmM58WyxV6eg7JKfcn-yE=s64",
      "userId": "10343331633657001480"
     },
     "user_tz": -480
    },
    "id": "UJtrKIYL9IRI",
    "outputId": "3a4bb6bf-1989-4e05-ee38-b7ae42372ca4"
   },
   "outputs": [
    {
     "name": "stdout",
     "output_type": "stream",
     "text": [
      "[  1   1  46   1 205   2   1  74  62   3   1   1   1 223   1 198 244   0\n",
      "   0   0   0   0   0   0   0   0   0   0   0   0   0   0   0   0   0   0\n",
      "   0   0   0   0   0   0   0   0   0   0   0   0   0   0] \n",
      "\n",
      "[  1   1  46   1 205   2   1  74  62   3   1   1   1 223   1 198 244   0\n",
      "   0   0   0   0   0   0   0   0   0   0   0   0   0   0   0   0   0   0\n",
      "   0   0   0   0   0   0   0   0   0   0   0   0   0   0] \n",
      "\n",
      "[  1   1  48   1 213   2   1  79  70   3   1   1   1 235   1 209 261   0\n",
      "   0   0   0   0   0   0   0   0   0   0   0   0   0   0   0   0   0   0\n",
      "   0   0   0   0   0   0   0   0   0   0   0   0   0   0]\n"
     ]
    }
   ],
   "source": [
    "# Lemma\n",
    "print(training_padded_l[0], \"\\n\")\n",
    "\n",
    "# Stem\n",
    "print(training_padded_o[0], \"\\n\")\n",
    "\n",
    "# Original\n",
    "print(training_padded_s[0])"
   ]
  },
  {
   "cell_type": "markdown",
   "metadata": {
    "id": "YgAF9TewlP3d"
   },
   "source": [
    "## Defining additional parameters"
   ]
  },
  {
   "cell_type": "code",
   "execution_count": 218,
   "metadata": {
    "id": "724tmkIN_r69"
   },
   "outputs": [],
   "source": [
    "embeding_dim = 16\n",
    "drop_val = 0.2\n",
    "n_dense = 24"
   ]
  },
  {
   "cell_type": "markdown",
   "metadata": {
    "id": "YeOnxeaDUdFj"
   },
   "source": [
    "## Building dense model and adding dropout"
   ]
  },
  {
   "cell_type": "code",
   "execution_count": 219,
   "metadata": {
    "colab": {
     "base_uri": "https://localhost:8080/"
    },
    "executionInfo": {
     "elapsed": 17192,
     "status": "ok",
     "timestamp": 1611589738587,
     "user": {
      "displayName": "Kiam Boon",
      "photoUrl": "https://lh3.googleusercontent.com/a-/AOh14GguWKTGJvP2a1VVYH3mkgQmM58WyxV6eg7JKfcn-yE=s64",
      "userId": "10343331633657001480"
     },
     "user_tz": -480
    },
    "id": "s_QtVGN99ybu",
    "outputId": "078df575-699b-4a2b-fe40-f6955df37c2e"
   },
   "outputs": [
    {
     "name": "stdout",
     "output_type": "stream",
     "text": [
      "Model: \"sequential_3\"\n",
      "_________________________________________________________________\n",
      "Layer (type)                 Output Shape              Param #   \n",
      "=================================================================\n",
      "embedding_3 (Embedding)      (None, 50, 16)            8000      \n",
      "_________________________________________________________________\n",
      "global_average_pooling1d_3 ( (None, 16)                0         \n",
      "_________________________________________________________________\n",
      "dense_6 (Dense)              (None, 24)                408       \n",
      "_________________________________________________________________\n",
      "dropout_3 (Dropout)          (None, 24)                0         \n",
      "_________________________________________________________________\n",
      "dense_7 (Dense)              (None, 1)                 25        \n",
      "=================================================================\n",
      "Total params: 8,433\n",
      "Trainable params: 8,433\n",
      "Non-trainable params: 0\n",
      "_________________________________________________________________\n",
      "None\n",
      "Model: \"sequential_4\"\n",
      "_________________________________________________________________\n",
      "Layer (type)                 Output Shape              Param #   \n",
      "=================================================================\n",
      "embedding_4 (Embedding)      (None, 50, 16)            8000      \n",
      "_________________________________________________________________\n",
      "global_average_pooling1d_4 ( (None, 16)                0         \n",
      "_________________________________________________________________\n",
      "dense_8 (Dense)              (None, 24)                408       \n",
      "_________________________________________________________________\n",
      "dropout_4 (Dropout)          (None, 24)                0         \n",
      "_________________________________________________________________\n",
      "dense_9 (Dense)              (None, 1)                 25        \n",
      "=================================================================\n",
      "Total params: 8,433\n",
      "Trainable params: 8,433\n",
      "Non-trainable params: 0\n",
      "_________________________________________________________________\n",
      "None\n",
      "Model: \"sequential_5\"\n",
      "_________________________________________________________________\n",
      "Layer (type)                 Output Shape              Param #   \n",
      "=================================================================\n",
      "embedding_5 (Embedding)      (None, 50, 16)            8000      \n",
      "_________________________________________________________________\n",
      "global_average_pooling1d_5 ( (None, 16)                0         \n",
      "_________________________________________________________________\n",
      "dense_10 (Dense)             (None, 24)                408       \n",
      "_________________________________________________________________\n",
      "dropout_5 (Dropout)          (None, 24)                0         \n",
      "_________________________________________________________________\n",
      "dense_11 (Dense)             (None, 1)                 25        \n",
      "=================================================================\n",
      "Total params: 8,433\n",
      "Trainable params: 8,433\n",
      "Non-trainable params: 0\n",
      "_________________________________________________________________\n",
      "None\n"
     ]
    }
   ],
   "source": [
    "# Dense model architecture\n",
    "\n",
    "from tensorflow.keras.models import Sequential\n",
    "from tensorflow.keras.layers import Embedding, GlobalAveragePooling1D, Dense, Dropout, LSTM, Bidirectional\n",
    "\n",
    "# Lemma\n",
    "model_l = Sequential()\n",
    "model_l.add(Embedding(vocab_size, embeding_dim, input_length = max_length))\n",
    "model_l.add(GlobalAveragePooling1D())\n",
    "model_l.add(Dense(n_dense, activation = \"relu\"))\n",
    "model_l.add(Dropout(drop_val))\n",
    "model_l.add(Dense(1, activation = \"sigmoid\"))\n",
    "\n",
    "print(model_l.summary())\n",
    "\n",
    "# Stem\n",
    "model_s = Sequential()\n",
    "model_s.add(Embedding(vocab_size, embeding_dim, input_length = max_length))\n",
    "model_s.add(GlobalAveragePooling1D())\n",
    "model_s.add(Dense(n_dense, activation = \"relu\"))\n",
    "model_s.add(Dropout(drop_val))\n",
    "model_s.add(Dense(1, activation = \"sigmoid\"))\n",
    "\n",
    "print(model_s.summary())\n",
    "\n",
    "# Original\n",
    "model_o = Sequential()\n",
    "model_o.add(Embedding(vocab_size, embeding_dim, input_length = max_length))\n",
    "model_o.add(GlobalAveragePooling1D())\n",
    "model_o.add(Dense(n_dense, activation = \"relu\"))\n",
    "model_o.add(Dropout(drop_val))\n",
    "model_o.add(Dense(1, activation = \"sigmoid\"))\n",
    "\n",
    "print(model_o.summary())"
   ]
  },
  {
   "cell_type": "markdown",
   "metadata": {
    "id": "GCme82KGUkAv"
   },
   "source": [
    "## Compiling the Model"
   ]
  },
  {
   "cell_type": "code",
   "execution_count": 220,
   "metadata": {
    "id": "Qg95WPpb9yXq"
   },
   "outputs": [],
   "source": [
    "model_l.compile(loss = \"binary_crossentropy\", optimizer = \"adam\", metrics = [\"accuracy\"])\n",
    "model_s.compile(loss = \"binary_crossentropy\", optimizer = \"adam\", metrics = [\"accuracy\"])\n",
    "model_o.compile(loss = \"binary_crossentropy\", optimizer = \"adam\", metrics = [\"accuracy\"])"
   ]
  },
  {
   "cell_type": "markdown",
   "metadata": {
    "id": "MMhq12_CUpqB"
   },
   "source": [
    "## Fitting a dense spam detector model"
   ]
  },
  {
   "cell_type": "code",
   "execution_count": 221,
   "metadata": {
    "id": "ZcXxJyzU9yUD"
   },
   "outputs": [],
   "source": [
    "\n",
    "from tensorflow.keras.callbacks import EarlyStopping\n",
    "\n",
    "num_epochs = 30\n",
    "early_stop = EarlyStopping(monitor = \"val_loss\", patience = 3)"
   ]
  },
  {
   "cell_type": "markdown",
   "metadata": {
    "id": "jGIdvaSHUs73"
   },
   "source": [
    "# Training the model - For \"msg_lemmatized\""
   ]
  },
  {
   "cell_type": "code",
   "execution_count": 222,
   "metadata": {
    "colab": {
     "base_uri": "https://localhost:8080/"
    },
    "executionInfo": {
     "elapsed": 22766,
     "status": "ok",
     "timestamp": 1611589744179,
     "user": {
      "displayName": "Kiam Boon",
      "photoUrl": "https://lh3.googleusercontent.com/a-/AOh14GguWKTGJvP2a1VVYH3mkgQmM58WyxV6eg7JKfcn-yE=s64",
      "userId": "10343331633657001480"
     },
     "user_tz": -480
    },
    "id": "kZWVPj8EpQZn",
    "outputId": "78c5a30e-c561-400c-a0d2-e9e99ae8ac6f"
   },
   "outputs": [
    {
     "name": "stdout",
     "output_type": "stream",
     "text": [
      "Epoch 1/30\n",
      "140/140 - 2s - loss: 0.5167 - accuracy: 0.8491 - val_loss: 0.3713 - val_accuracy: 0.8592\n",
      "Epoch 2/30\n",
      "140/140 - 0s - loss: 0.3304 - accuracy: 0.8677 - val_loss: 0.3163 - val_accuracy: 0.8592\n",
      "Epoch 3/30\n",
      "140/140 - 0s - loss: 0.2588 - accuracy: 0.8706 - val_loss: 0.2369 - val_accuracy: 0.8798\n",
      "Epoch 4/30\n",
      "140/140 - 0s - loss: 0.1952 - accuracy: 0.9123 - val_loss: 0.1938 - val_accuracy: 0.9300\n",
      "Epoch 5/30\n",
      "140/140 - 0s - loss: 0.1566 - accuracy: 0.9439 - val_loss: 0.1618 - val_accuracy: 0.9426\n",
      "Epoch 6/30\n",
      "140/140 - 0s - loss: 0.1320 - accuracy: 0.9558 - val_loss: 0.1340 - val_accuracy: 0.9561\n",
      "Epoch 7/30\n",
      "140/140 - 0s - loss: 0.1107 - accuracy: 0.9621 - val_loss: 0.1151 - val_accuracy: 0.9650\n",
      "Epoch 8/30\n",
      "140/140 - 0s - loss: 0.0929 - accuracy: 0.9697 - val_loss: 0.0986 - val_accuracy: 0.9713\n",
      "Epoch 9/30\n",
      "140/140 - 0s - loss: 0.0829 - accuracy: 0.9760 - val_loss: 0.0939 - val_accuracy: 0.9686\n",
      "Epoch 10/30\n",
      "140/140 - 0s - loss: 0.0716 - accuracy: 0.9778 - val_loss: 0.0839 - val_accuracy: 0.9722\n",
      "Epoch 11/30\n",
      "140/140 - 0s - loss: 0.0675 - accuracy: 0.9794 - val_loss: 0.0800 - val_accuracy: 0.9722\n",
      "Epoch 12/30\n",
      "140/140 - 0s - loss: 0.0620 - accuracy: 0.9823 - val_loss: 0.0839 - val_accuracy: 0.9695\n",
      "Epoch 13/30\n",
      "140/140 - 0s - loss: 0.0588 - accuracy: 0.9832 - val_loss: 0.0771 - val_accuracy: 0.9740\n",
      "Epoch 14/30\n",
      "140/140 - 0s - loss: 0.0557 - accuracy: 0.9841 - val_loss: 0.0872 - val_accuracy: 0.9704\n",
      "Epoch 15/30\n",
      "140/140 - 0s - loss: 0.0530 - accuracy: 0.9854 - val_loss: 0.0760 - val_accuracy: 0.9758\n",
      "Epoch 16/30\n",
      "140/140 - 0s - loss: 0.0500 - accuracy: 0.9852 - val_loss: 0.0806 - val_accuracy: 0.9740\n",
      "Epoch 17/30\n",
      "140/140 - 0s - loss: 0.0476 - accuracy: 0.9868 - val_loss: 0.0783 - val_accuracy: 0.9776\n",
      "Epoch 18/30\n",
      "140/140 - 0s - loss: 0.0461 - accuracy: 0.9850 - val_loss: 0.0755 - val_accuracy: 0.9785\n",
      "Epoch 19/30\n",
      "140/140 - 0s - loss: 0.0435 - accuracy: 0.9888 - val_loss: 0.0814 - val_accuracy: 0.9767\n",
      "Epoch 20/30\n",
      "140/140 - 0s - loss: 0.0390 - accuracy: 0.9886 - val_loss: 0.0885 - val_accuracy: 0.9731\n",
      "Epoch 21/30\n",
      "140/140 - 0s - loss: 0.0396 - accuracy: 0.9890 - val_loss: 0.0872 - val_accuracy: 0.9740\n"
     ]
    }
   ],
   "source": [
    "history_l = model_l.fit(training_padded_l, y_train_l, epochs = num_epochs,\n",
    "            validation_data = (testing_padded_l, y_test_l), callbacks = [early_stop], verbose = 2)"
   ]
  },
  {
   "cell_type": "markdown",
   "metadata": {
    "id": "dfyGQRvbVNzI"
   },
   "source": [
    "## Creating a DataFrame for the losses and accuracies"
   ]
  },
  {
   "cell_type": "code",
   "execution_count": 223,
   "metadata": {
    "colab": {
     "base_uri": "https://localhost:8080/",
     "height": 195
    },
    "executionInfo": {
     "elapsed": 22756,
     "status": "ok",
     "timestamp": 1611589744186,
     "user": {
      "displayName": "Kiam Boon",
      "photoUrl": "https://lh3.googleusercontent.com/a-/AOh14GguWKTGJvP2a1VVYH3mkgQmM58WyxV6eg7JKfcn-yE=s64",
      "userId": "10343331633657001480"
     },
     "user_tz": -480
    },
    "id": "9ns3IOrsSESc",
    "outputId": "7b4339d3-a87a-48ed-f625-a4d7883dec87"
   },
   "outputs": [
    {
     "data": {
      "text/html": [
       "<div>\n",
       "<style scoped>\n",
       "    .dataframe tbody tr th:only-of-type {\n",
       "        vertical-align: middle;\n",
       "    }\n",
       "\n",
       "    .dataframe tbody tr th {\n",
       "        vertical-align: top;\n",
       "    }\n",
       "\n",
       "    .dataframe thead th {\n",
       "        text-align: right;\n",
       "    }\n",
       "</style>\n",
       "<table border=\"1\" class=\"dataframe\">\n",
       "  <thead>\n",
       "    <tr style=\"text-align: right;\">\n",
       "      <th></th>\n",
       "      <th>loss</th>\n",
       "      <th>accuracy</th>\n",
       "      <th>val_loss</th>\n",
       "      <th>val_accuracy</th>\n",
       "    </tr>\n",
       "  </thead>\n",
       "  <tbody>\n",
       "    <tr>\n",
       "      <th>0</th>\n",
       "      <td>0.516689</td>\n",
       "      <td>0.849069</td>\n",
       "      <td>0.371331</td>\n",
       "      <td>0.859193</td>\n",
       "    </tr>\n",
       "    <tr>\n",
       "      <th>1</th>\n",
       "      <td>0.330430</td>\n",
       "      <td>0.867683</td>\n",
       "      <td>0.316285</td>\n",
       "      <td>0.859193</td>\n",
       "    </tr>\n",
       "    <tr>\n",
       "      <th>2</th>\n",
       "      <td>0.258795</td>\n",
       "      <td>0.870599</td>\n",
       "      <td>0.236880</td>\n",
       "      <td>0.879821</td>\n",
       "    </tr>\n",
       "    <tr>\n",
       "      <th>3</th>\n",
       "      <td>0.195187</td>\n",
       "      <td>0.912312</td>\n",
       "      <td>0.193779</td>\n",
       "      <td>0.930045</td>\n",
       "    </tr>\n",
       "    <tr>\n",
       "      <th>4</th>\n",
       "      <td>0.156571</td>\n",
       "      <td>0.943934</td>\n",
       "      <td>0.161820</td>\n",
       "      <td>0.942601</td>\n",
       "    </tr>\n",
       "  </tbody>\n",
       "</table>\n",
       "</div>"
      ],
      "text/plain": [
       "       loss  accuracy  val_loss  val_accuracy\n",
       "0  0.516689  0.849069  0.371331      0.859193\n",
       "1  0.330430  0.867683  0.316285      0.859193\n",
       "2  0.258795  0.870599  0.236880      0.879821\n",
       "3  0.195187  0.912312  0.193779      0.930045\n",
       "4  0.156571  0.943934  0.161820      0.942601"
      ]
     },
     "execution_count": 223,
     "metadata": {},
     "output_type": "execute_result"
    }
   ],
   "source": [
    "loss_df_l = pd.DataFrame(model_l.history.history)\n",
    "loss_df_l.head()"
   ]
  },
  {
   "cell_type": "markdown",
   "metadata": {
    "id": "hK0vjyqcVaQs"
   },
   "source": [
    "## Visualizing between two Losses"
   ]
  },
  {
   "cell_type": "code",
   "execution_count": 224,
   "metadata": {
    "colab": {
     "base_uri": "https://localhost:8080/",
     "height": 295
    },
    "executionInfo": {
     "elapsed": 23205,
     "status": "ok",
     "timestamp": 1611589744652,
     "user": {
      "displayName": "Kiam Boon",
      "photoUrl": "https://lh3.googleusercontent.com/a-/AOh14GguWKTGJvP2a1VVYH3mkgQmM58WyxV6eg7JKfcn-yE=s64",
      "userId": "10343331633657001480"
     },
     "user_tz": -480
    },
    "id": "jrg0EApgSRG3",
    "outputId": "d9e52b7c-ea15-46cd-e9fb-bc3cbb9477e6"
   },
   "outputs": [
    {
     "data": {
      "image/png": "[encoded data removed]",
      "text/plain": [
       "<Figure size 432x288 with 1 Axes>"
      ]
     },
     "metadata": {},
     "output_type": "display_data"
    }
   ],
   "source": [
    "loss_df_l[[\"loss\", \"val_loss\"]].plot()\n",
    "plt.title(\"Training Loss per Epoch\")\n",
    "plt.xlabel(\"Number of Epochs\")\n",
    "plt.ylabel (\"Training Loss\")\n",
    "plt.show()"
   ]
  },
  {
   "cell_type": "markdown",
   "metadata": {
    "id": "0af9cOk6VhRk"
   },
   "source": [
    "## Visualizing the accuracy"
   ]
  },
  {
   "cell_type": "code",
   "execution_count": 225,
   "metadata": {
    "colab": {
     "base_uri": "https://localhost:8080/",
     "height": 295
    },
    "executionInfo": {
     "elapsed": 24221,
     "status": "ok",
     "timestamp": 1611589745687,
     "user": {
      "displayName": "Kiam Boon",
      "photoUrl": "https://lh3.googleusercontent.com/a-/AOh14GguWKTGJvP2a1VVYH3mkgQmM58WyxV6eg7JKfcn-yE=s64",
      "userId": "10343331633657001480"
     },
     "user_tz": -480
    },
    "id": "a058uInJSRtU",
    "outputId": "ad9ef6d3-c7d6-43a2-c5b2-4c6a1879a42b"
   },
   "outputs": [
    {
     "data": {
      "image/png": "[encoded data removed]",
      "text/plain": [
       "<Figure size 432x288 with 1 Axes>"
      ]
     },
     "metadata": {},
     "output_type": "display_data"
    }
   ],
   "source": [
    "loss_df_l[[\"accuracy\", \"val_accuracy\"]].plot()\n",
    "plt.title(\"Training Accuracy per Epoch\")\n",
    "plt.xlabel(\"Number of Epochs\")\n",
    "plt.ylabel (\"Training Accuracy\")\n",
    "plt.show()"
   ]
  },
  {
   "cell_type": "markdown",
   "metadata": {
    "id": "HVO1oEAHVky8"
   },
   "source": [
    "## Training the model - For \"msg_stemmed\""
   ]
  },
  {
   "cell_type": "code",
   "execution_count": 226,
   "metadata": {
    "colab": {
     "base_uri": "https://localhost:8080/"
    },
    "executionInfo": {
     "elapsed": 28598,
     "status": "ok",
     "timestamp": 1611589750076,
     "user": {
      "displayName": "Kiam Boon",
      "photoUrl": "https://lh3.googleusercontent.com/a-/AOh14GguWKTGJvP2a1VVYH3mkgQmM58WyxV6eg7JKfcn-yE=s64",
      "userId": "10343331633657001480"
     },
     "user_tz": -480
    },
    "id": "GwM3oa1ApQTo",
    "outputId": "0b507fd7-9e97-440d-ce22-30ae48c4dfce"
   },
   "outputs": [
    {
     "name": "stdout",
     "output_type": "stream",
     "text": [
      "Epoch 1/30\n",
      "140/140 - 1s - loss: 0.5304 - accuracy: 0.8625 - val_loss: 0.3787 - val_accuracy: 0.8592\n",
      "Epoch 2/30\n",
      "140/140 - 0s - loss: 0.3414 - accuracy: 0.8677 - val_loss: 0.3260 - val_accuracy: 0.8592\n",
      "Epoch 3/30\n",
      "140/140 - 0s - loss: 0.2859 - accuracy: 0.8681 - val_loss: 0.2586 - val_accuracy: 0.8592\n",
      "Epoch 4/30\n",
      "140/140 - 0s - loss: 0.2150 - accuracy: 0.9029 - val_loss: 0.1995 - val_accuracy: 0.9274\n",
      "Epoch 5/30\n",
      "140/140 - 0s - loss: 0.1677 - accuracy: 0.9412 - val_loss: 0.1620 - val_accuracy: 0.9471\n",
      "Epoch 6/30\n",
      "140/140 - 0s - loss: 0.1379 - accuracy: 0.9529 - val_loss: 0.1358 - val_accuracy: 0.9578\n",
      "Epoch 7/30\n",
      "140/140 - 0s - loss: 0.1171 - accuracy: 0.9581 - val_loss: 0.1176 - val_accuracy: 0.9605\n",
      "Epoch 8/30\n",
      "140/140 - 0s - loss: 0.0999 - accuracy: 0.9650 - val_loss: 0.1019 - val_accuracy: 0.9677\n",
      "Epoch 9/30\n",
      "140/140 - 0s - loss: 0.0870 - accuracy: 0.9693 - val_loss: 0.1032 - val_accuracy: 0.9623\n",
      "Epoch 10/30\n",
      "140/140 - 0s - loss: 0.0794 - accuracy: 0.9740 - val_loss: 0.0882 - val_accuracy: 0.9677\n",
      "Epoch 11/30\n",
      "140/140 - 0s - loss: 0.0700 - accuracy: 0.9753 - val_loss: 0.0805 - val_accuracy: 0.9731\n",
      "Epoch 12/30\n",
      "140/140 - 0s - loss: 0.0657 - accuracy: 0.9798 - val_loss: 0.0884 - val_accuracy: 0.9686\n",
      "Epoch 13/30\n",
      "140/140 - 0s - loss: 0.0626 - accuracy: 0.9789 - val_loss: 0.0758 - val_accuracy: 0.9749\n",
      "Epoch 14/30\n",
      "140/140 - 0s - loss: 0.0570 - accuracy: 0.9830 - val_loss: 0.0806 - val_accuracy: 0.9704\n",
      "Epoch 15/30\n",
      "140/140 - 0s - loss: 0.0554 - accuracy: 0.9843 - val_loss: 0.0751 - val_accuracy: 0.9749\n",
      "Epoch 16/30\n",
      "140/140 - 0s - loss: 0.0529 - accuracy: 0.9854 - val_loss: 0.0751 - val_accuracy: 0.9749\n",
      "Epoch 17/30\n",
      "140/140 - 0s - loss: 0.0493 - accuracy: 0.9852 - val_loss: 0.0752 - val_accuracy: 0.9740\n",
      "Epoch 18/30\n",
      "140/140 - 0s - loss: 0.0478 - accuracy: 0.9843 - val_loss: 0.0747 - val_accuracy: 0.9767\n",
      "Epoch 19/30\n",
      "140/140 - 0s - loss: 0.0457 - accuracy: 0.9886 - val_loss: 0.0698 - val_accuracy: 0.9812\n",
      "Epoch 20/30\n",
      "140/140 - 0s - loss: 0.0437 - accuracy: 0.9879 - val_loss: 0.0677 - val_accuracy: 0.9803\n",
      "Epoch 21/30\n",
      "140/140 - 0s - loss: 0.0427 - accuracy: 0.9888 - val_loss: 0.0797 - val_accuracy: 0.9749\n",
      "Epoch 22/30\n",
      "140/140 - 0s - loss: 0.0417 - accuracy: 0.9888 - val_loss: 0.0738 - val_accuracy: 0.9803\n",
      "Epoch 23/30\n",
      "140/140 - 0s - loss: 0.0391 - accuracy: 0.9890 - val_loss: 0.0707 - val_accuracy: 0.9803\n"
     ]
    }
   ],
   "source": [
    "history_s = model_s.fit(training_padded_s, y_train_s, epochs = num_epochs,\n",
    "            validation_data = (testing_padded_s, y_test_s), callbacks = [early_stop], verbose = 2)"
   ]
  },
  {
   "cell_type": "code",
   "execution_count": 227,
   "metadata": {
    "colab": {
     "base_uri": "https://localhost:8080/",
     "height": 195
    },
    "executionInfo": {
     "elapsed": 28586,
     "status": "ok",
     "timestamp": 1611589750080,
     "user": {
      "displayName": "Kiam Boon",
      "photoUrl": "https://lh3.googleusercontent.com/a-/AOh14GguWKTGJvP2a1VVYH3mkgQmM58WyxV6eg7JKfcn-yE=s64",
      "userId": "10343331633657001480"
     },
     "user_tz": -480
    },
    "id": "JXGUaEFaSXL-",
    "outputId": "00be98f0-cc9c-4152-ff42-b05cb23cd8e5"
   },
   "outputs": [
    {
     "data": {
      "text/html": [
       "<div>\n",
       "<style scoped>\n",
       "    .dataframe tbody tr th:only-of-type {\n",
       "        vertical-align: middle;\n",
       "    }\n",
       "\n",
       "    .dataframe tbody tr th {\n",
       "        vertical-align: top;\n",
       "    }\n",
       "\n",
       "    .dataframe thead th {\n",
       "        text-align: right;\n",
       "    }\n",
       "</style>\n",
       "<table border=\"1\" class=\"dataframe\">\n",
       "  <thead>\n",
       "    <tr style=\"text-align: right;\">\n",
       "      <th></th>\n",
       "      <th>loss</th>\n",
       "      <th>accuracy</th>\n",
       "      <th>val_loss</th>\n",
       "      <th>val_accuracy</th>\n",
       "    </tr>\n",
       "  </thead>\n",
       "  <tbody>\n",
       "    <tr>\n",
       "      <th>0</th>\n",
       "      <td>0.530399</td>\n",
       "      <td>0.862525</td>\n",
       "      <td>0.378727</td>\n",
       "      <td>0.859193</td>\n",
       "    </tr>\n",
       "    <tr>\n",
       "      <th>1</th>\n",
       "      <td>0.341429</td>\n",
       "      <td>0.867683</td>\n",
       "      <td>0.326024</td>\n",
       "      <td>0.859193</td>\n",
       "    </tr>\n",
       "    <tr>\n",
       "      <th>2</th>\n",
       "      <td>0.285941</td>\n",
       "      <td>0.868132</td>\n",
       "      <td>0.258574</td>\n",
       "      <td>0.859193</td>\n",
       "    </tr>\n",
       "    <tr>\n",
       "      <th>3</th>\n",
       "      <td>0.214994</td>\n",
       "      <td>0.902893</td>\n",
       "      <td>0.199498</td>\n",
       "      <td>0.927354</td>\n",
       "    </tr>\n",
       "    <tr>\n",
       "      <th>4</th>\n",
       "      <td>0.167718</td>\n",
       "      <td>0.941242</td>\n",
       "      <td>0.161985</td>\n",
       "      <td>0.947085</td>\n",
       "    </tr>\n",
       "  </tbody>\n",
       "</table>\n",
       "</div>"
      ],
      "text/plain": [
       "       loss  accuracy  val_loss  val_accuracy\n",
       "0  0.530399  0.862525  0.378727      0.859193\n",
       "1  0.341429  0.867683  0.326024      0.859193\n",
       "2  0.285941  0.868132  0.258574      0.859193\n",
       "3  0.214994  0.902893  0.199498      0.927354\n",
       "4  0.167718  0.941242  0.161985      0.947085"
      ]
     },
     "execution_count": 227,
     "metadata": {},
     "output_type": "execute_result"
    }
   ],
   "source": [
    "loss_df_s = pd.DataFrame(model_s.history.history)\n",
    "loss_df_s.head()"
   ]
  },
  {
   "cell_type": "code",
   "execution_count": 228,
   "metadata": {
    "colab": {
     "base_uri": "https://localhost:8080/",
     "height": 295
    },
    "executionInfo": {
     "elapsed": 28570,
     "status": "ok",
     "timestamp": 1611589750081,
     "user": {
      "displayName": "Kiam Boon",
      "photoUrl": "https://lh3.googleusercontent.com/a-/AOh14GguWKTGJvP2a1VVYH3mkgQmM58WyxV6eg7JKfcn-yE=s64",
      "userId": "10343331633657001480"
     },
     "user_tz": -480
    },
    "id": "Pxc0-aZmSXG0",
    "outputId": "00d7cf2a-840f-496e-b4d7-5b945788631c"
   },
   "outputs": [
    {
     "data": {
      "image/png": "[encoded data removed]",
      "text/plain": [
       "<Figure size 432x288 with 1 Axes>"
      ]
     },
     "metadata": {},
     "output_type": "display_data"
    }
   ],
   "source": [
    "loss_df_s[[\"loss\", \"val_loss\"]].plot()\n",
    "plt.title(\"Training Loss per Epoch\")\n",
    "plt.xlabel(\"Number of Epochs\")\n",
    "plt.ylabel (\"Training Loss\")\n",
    "plt.show()"
   ]
  },
  {
   "cell_type": "code",
   "execution_count": 229,
   "metadata": {
    "colab": {
     "base_uri": "https://localhost:8080/",
     "height": 295
    },
    "executionInfo": {
     "elapsed": 29063,
     "status": "ok",
     "timestamp": 1611589750591,
     "user": {
      "displayName": "Kiam Boon",
      "photoUrl": "https://lh3.googleusercontent.com/a-/AOh14GguWKTGJvP2a1VVYH3mkgQmM58WyxV6eg7JKfcn-yE=s64",
      "userId": "10343331633657001480"
     },
     "user_tz": -480
    },
    "id": "5p7FuOL3SXB4",
    "outputId": "64e2fb56-9550-4eb4-b0f5-36f726098b46"
   },
   "outputs": [
    {
     "data": {
      "image/png": "[encoded data removed]",
      "text/plain": [
       "<Figure size 432x288 with 1 Axes>"
      ]
     },
     "metadata": {},
     "output_type": "display_data"
    }
   ],
   "source": [
    "loss_df_s[[\"accuracy\", \"val_accuracy\"]].plot()\n",
    "plt.title(\"Training Accuracy per Epoch\")\n",
    "plt.xlabel(\"Number of Epochs\")\n",
    "plt.ylabel (\"Training Accuracy\")\n",
    "plt.show()"
   ]
  },
  {
   "cell_type": "markdown",
   "metadata": {
    "id": "EJ0UT4KbVo9C"
   },
   "source": [
    "## Training the model - For \"msg\" (Original)\n",
    "* Without punctuation removal, lemmatized, stemmed and vectorized.\n",
    "* Although it has tokenized in sequencing and padding, but this Series had never done any modifications 'outside' of the TensorFlow."
   ]
  },
  {
   "cell_type": "code",
   "execution_count": 230,
   "metadata": {
    "colab": {
     "base_uri": "https://localhost:8080/"
    },
    "executionInfo": {
     "elapsed": 31919,
     "status": "ok",
     "timestamp": 1611589753460,
     "user": {
      "displayName": "Kiam Boon",
      "photoUrl": "https://lh3.googleusercontent.com/a-/AOh14GguWKTGJvP2a1VVYH3mkgQmM58WyxV6eg7JKfcn-yE=s64",
      "userId": "10343331633657001480"
     },
     "user_tz": -480
    },
    "id": "xWqGh_S5pQMq",
    "outputId": "3cc7c4e2-ebfb-4e1f-98c3-4b3a32754053"
   },
   "outputs": [
    {
     "name": "stdout",
     "output_type": "stream",
     "text": [
      "Epoch 1/30\n",
      "140/140 - 2s - loss: 0.4837 - accuracy: 0.8666 - val_loss: 0.3793 - val_accuracy: 0.8592\n",
      "Epoch 2/30\n",
      "140/140 - 0s - loss: 0.3221 - accuracy: 0.8672 - val_loss: 0.3478 - val_accuracy: 0.8538\n",
      "Epoch 3/30\n",
      "140/140 - 0s - loss: 0.2435 - accuracy: 0.8820 - val_loss: 0.3284 - val_accuracy: 0.8341\n",
      "Epoch 4/30\n",
      "140/140 - 0s - loss: 0.1790 - accuracy: 0.9305 - val_loss: 0.3411 - val_accuracy: 0.8439\n",
      "Epoch 5/30\n",
      "140/140 - 0s - loss: 0.1454 - accuracy: 0.9534 - val_loss: 0.3800 - val_accuracy: 0.8377\n",
      "Epoch 6/30\n",
      "140/140 - 0s - loss: 0.1211 - accuracy: 0.9610 - val_loss: 0.4326 - val_accuracy: 0.8359\n"
     ]
    }
   ],
   "source": [
    "history_o = model_o.fit(training_padded_o, y_train_o, epochs = num_epochs,\n",
    "            validation_data = (testing_padded_o, y_test_o), callbacks = [early_stop], verbose = 2)"
   ]
  },
  {
   "cell_type": "code",
   "execution_count": 231,
   "metadata": {
    "colab": {
     "base_uri": "https://localhost:8080/",
     "height": 195
    },
    "executionInfo": {
     "elapsed": 31906,
     "status": "ok",
     "timestamp": 1611589753463,
     "user": {
      "displayName": "Kiam Boon",
      "photoUrl": "https://lh3.googleusercontent.com/a-/AOh14GguWKTGJvP2a1VVYH3mkgQmM58WyxV6eg7JKfcn-yE=s64",
      "userId": "10343331633657001480"
     },
     "user_tz": -480
    },
    "id": "dwg50ZIOSjhJ",
    "outputId": "2f03ba57-40b4-40d3-9e03-8e9ac006607a"
   },
   "outputs": [
    {
     "data": {
      "text/html": [
       "<div>\n",
       "<style scoped>\n",
       "    .dataframe tbody tr th:only-of-type {\n",
       "        vertical-align: middle;\n",
       "    }\n",
       "\n",
       "    .dataframe tbody tr th {\n",
       "        vertical-align: top;\n",
       "    }\n",
       "\n",
       "    .dataframe thead th {\n",
       "        text-align: right;\n",
       "    }\n",
       "</style>\n",
       "<table border=\"1\" class=\"dataframe\">\n",
       "  <thead>\n",
       "    <tr style=\"text-align: right;\">\n",
       "      <th></th>\n",
       "      <th>loss</th>\n",
       "      <th>accuracy</th>\n",
       "      <th>val_loss</th>\n",
       "      <th>val_accuracy</th>\n",
       "    </tr>\n",
       "  </thead>\n",
       "  <tbody>\n",
       "    <tr>\n",
       "      <th>0</th>\n",
       "      <td>0.483664</td>\n",
       "      <td>0.866562</td>\n",
       "      <td>0.379303</td>\n",
       "      <td>0.859193</td>\n",
       "    </tr>\n",
       "    <tr>\n",
       "      <th>1</th>\n",
       "      <td>0.322077</td>\n",
       "      <td>0.867235</td>\n",
       "      <td>0.347846</td>\n",
       "      <td>0.853812</td>\n",
       "    </tr>\n",
       "    <tr>\n",
       "      <th>2</th>\n",
       "      <td>0.243518</td>\n",
       "      <td>0.882036</td>\n",
       "      <td>0.328420</td>\n",
       "      <td>0.834081</td>\n",
       "    </tr>\n",
       "    <tr>\n",
       "      <th>3</th>\n",
       "      <td>0.178962</td>\n",
       "      <td>0.930478</td>\n",
       "      <td>0.341088</td>\n",
       "      <td>0.843946</td>\n",
       "    </tr>\n",
       "    <tr>\n",
       "      <th>4</th>\n",
       "      <td>0.145425</td>\n",
       "      <td>0.953353</td>\n",
       "      <td>0.379997</td>\n",
       "      <td>0.837668</td>\n",
       "    </tr>\n",
       "  </tbody>\n",
       "</table>\n",
       "</div>"
      ],
      "text/plain": [
       "       loss  accuracy  val_loss  val_accuracy\n",
       "0  0.483664  0.866562  0.379303      0.859193\n",
       "1  0.322077  0.867235  0.347846      0.853812\n",
       "2  0.243518  0.882036  0.328420      0.834081\n",
       "3  0.178962  0.930478  0.341088      0.843946\n",
       "4  0.145425  0.953353  0.379997      0.837668"
      ]
     },
     "execution_count": 231,
     "metadata": {},
     "output_type": "execute_result"
    }
   ],
   "source": [
    "loss_df_o = pd.DataFrame(model_o.history.history)\n",
    "loss_df_o.head()"
   ]
  },
  {
   "cell_type": "markdown",
   "metadata": {
    "id": "Lp0Dk2jXYihE"
   },
   "source": [
    "## Visualizing between two lossses"
   ]
  },
  {
   "cell_type": "code",
   "execution_count": 232,
   "metadata": {
    "colab": {
     "base_uri": "https://localhost:8080/",
     "height": 295
    },
    "executionInfo": {
     "elapsed": 31891,
     "status": "ok",
     "timestamp": 1611589753465,
     "user": {
      "displayName": "Kiam Boon",
      "photoUrl": "https://lh3.googleusercontent.com/a-/AOh14GguWKTGJvP2a1VVYH3mkgQmM58WyxV6eg7JKfcn-yE=s64",
      "userId": "10343331633657001480"
     },
     "user_tz": -480
    },
    "id": "l8lwltHGSjap",
    "outputId": "1675f612-3e4b-4745-f328-98e856c53380"
   },
   "outputs": [
    {
     "data": {
      "image/png": "[encoded data removed]",
      "text/plain": [
       "<Figure size 432x288 with 1 Axes>"
      ]
     },
     "metadata": {},
     "output_type": "display_data"
    }
   ],
   "source": [
    "loss_df_o[[\"loss\", \"val_loss\"]].plot()\n",
    "plt.title(\"Training Loss per Epoch\")\n",
    "plt.xlabel(\"Number of Epochs\")\n",
    "plt.ylabel (\"Training Loss\")\n",
    "plt.show()"
   ]
  },
  {
   "cell_type": "markdown",
   "metadata": {
    "id": "2sn26btjYm0G"
   },
   "source": [
    "## Visualizing between two accuracy values"
   ]
  },
  {
   "cell_type": "code",
   "execution_count": 233,
   "metadata": {
    "colab": {
     "base_uri": "https://localhost:8080/",
     "height": 295
    },
    "executionInfo": {
     "elapsed": 32501,
     "status": "ok",
     "timestamp": 1611589754093,
     "user": {
      "displayName": "Kiam Boon",
      "photoUrl": "https://lh3.googleusercontent.com/a-/AOh14GguWKTGJvP2a1VVYH3mkgQmM58WyxV6eg7JKfcn-yE=s64",
      "userId": "10343331633657001480"
     },
     "user_tz": -480
    },
    "id": "ssMrzbPISjXo",
    "outputId": "b2cd51d2-5203-4b34-a078-2ae5a6fba128"
   },
   "outputs": [
    {
     "data": {
      "image/png": "[encoded data removed]",
      "text/plain": [
       "<Figure size 432x288 with 1 Axes>"
      ]
     },
     "metadata": {},
     "output_type": "display_data"
    }
   ],
   "source": [
    "loss_df_o[[\"accuracy\", \"val_accuracy\"]].plot()\n",
    "plt.title(\"Training Accuracy per Epoch\")\n",
    "plt.xlabel(\"Number of Epochs\")\n",
    "plt.ylabel (\"Training Accuracy\")\n",
    "plt.show()"
   ]
  },
  {
   "cell_type": "markdown",
   "metadata": {
    "id": "RBYXLu1aWxQd"
   },
   "source": [
    "## Checking 3 of the evaluation results\n",
    "* Model performance on test data - msg_lemmatized, msg_stemmed and msg."
   ]
  },
  {
   "cell_type": "code",
   "execution_count": 234,
   "metadata": {
    "colab": {
     "base_uri": "https://localhost:8080/"
    },
    "executionInfo": {
     "elapsed": 32490,
     "status": "ok",
     "timestamp": 1611589754095,
     "user": {
      "displayName": "Kiam Boon",
      "photoUrl": "https://lh3.googleusercontent.com/a-/AOh14GguWKTGJvP2a1VVYH3mkgQmM58WyxV6eg7JKfcn-yE=s64",
      "userId": "10343331633657001480"
     },
     "user_tz": -480
    },
    "id": "QKFwuG3lHItO",
    "outputId": "6496211b-0fd2-4818-e09f-7421948b6faa"
   },
   "outputs": [
    {
     "name": "stdout",
     "output_type": "stream",
     "text": [
      "35/35 [==============================] - 0s 1ms/step - loss: 0.0872 - accuracy: 0.9740\n",
      "Lemma: [0.08718065172433853, 0.9739910364151001] \n",
      "\n",
      "35/35 [==============================] - 0s 1ms/step - loss: 0.0707 - accuracy: 0.9803\n",
      "Stem: [0.07066758722066879, 0.9802690744400024] \n",
      "\n",
      "35/35 [==============================] - 0s 1ms/step - loss: 0.4326 - accuracy: 0.8359\n",
      "Original: [0.4326479434967041, 0.8358744382858276]\n"
     ]
    }
   ],
   "source": [
    "# Lemma\n",
    "print(\"Lemma:\", model_l.evaluate(testing_padded_l, y_test_l), \"\\n\")\n",
    "\n",
    "# Stem\n",
    "print(\"Stem:\", model_s.evaluate(testing_padded_s, y_test_s), \"\\n\")\n",
    "\n",
    "# Original\n",
    "print(\"Original:\", model_o.evaluate(testing_padded_o, y_test_o))"
   ]
  },
  {
   "cell_type": "markdown",
   "metadata": {
    "id": "FiqetdgxRnJc"
   },
   "source": [
    "Lemmatized msg has the highest accuracy, follow by stemmed_msg, and original msg."
   ]
  },
  {
   "cell_type": "markdown",
   "metadata": {
    "id": "C4v9jIalREE2"
   },
   "source": [
    "\n",
    "\n",
    "---\n",
    "\n"
   ]
  },
  {
   "cell_type": "markdown",
   "metadata": {
    "id": "2IiVPf7kqYlO"
   },
   "source": [
    "# Additional - Spam Email Detector\n",
    "* Creating a spam email detector based on a dataset\n",
    "* Dataset can be downloaded [here](https://www.kaggle.com/balakishan77/spam-or-ham-email-classification?select=emails.csv)"
   ]
  },
  {
   "cell_type": "code",
   "execution_count": 235,
   "metadata": {
    "colab": {
     "base_uri": "https://localhost:8080/",
     "height": 195
    },
    "executionInfo": {
     "elapsed": 32471,
     "status": "ok",
     "timestamp": 1611589754097,
     "user": {
      "displayName": "Kiam Boon",
      "photoUrl": "https://lh3.googleusercontent.com/a-/AOh14GguWKTGJvP2a1VVYH3mkgQmM58WyxV6eg7JKfcn-yE=s64",
      "userId": "10343331633657001480"
     },
     "user_tz": -480
    },
    "id": "e4mr_8E-_y7c",
    "outputId": "aef11adf-80c5-4209-e2cd-14dd85d5d3d3"
   },
   "outputs": [
    {
     "data": {
      "text/html": [
       "<div>\n",
       "<style scoped>\n",
       "    .dataframe tbody tr th:only-of-type {\n",
       "        vertical-align: middle;\n",
       "    }\n",
       "\n",
       "    .dataframe tbody tr th {\n",
       "        vertical-align: top;\n",
       "    }\n",
       "\n",
       "    .dataframe thead th {\n",
       "        text-align: right;\n",
       "    }\n",
       "</style>\n",
       "<table border=\"1\" class=\"dataframe\">\n",
       "  <thead>\n",
       "    <tr style=\"text-align: right;\">\n",
       "      <th></th>\n",
       "      <th>text</th>\n",
       "      <th>spam</th>\n",
       "    </tr>\n",
       "  </thead>\n",
       "  <tbody>\n",
       "    <tr>\n",
       "      <th>0</th>\n",
       "      <td>Subject: naturally irresistible your corporate...</td>\n",
       "      <td>1</td>\n",
       "    </tr>\n",
       "    <tr>\n",
       "      <th>1</th>\n",
       "      <td>Subject: the stock trading gunslinger  fanny i...</td>\n",
       "      <td>1</td>\n",
       "    </tr>\n",
       "    <tr>\n",
       "      <th>2</th>\n",
       "      <td>Subject: unbelievable new homes made easy  im ...</td>\n",
       "      <td>1</td>\n",
       "    </tr>\n",
       "    <tr>\n",
       "      <th>3</th>\n",
       "      <td>Subject: 4 color printing special  request add...</td>\n",
       "      <td>1</td>\n",
       "    </tr>\n",
       "    <tr>\n",
       "      <th>4</th>\n",
       "      <td>Subject: do not have money , get software cds ...</td>\n",
       "      <td>1</td>\n",
       "    </tr>\n",
       "  </tbody>\n",
       "</table>\n",
       "</div>"
      ],
      "text/plain": [
       "                                                text  spam\n",
       "0  Subject: naturally irresistible your corporate...     1\n",
       "1  Subject: the stock trading gunslinger  fanny i...     1\n",
       "2  Subject: unbelievable new homes made easy  im ...     1\n",
       "3  Subject: 4 color printing special  request add...     1\n",
       "4  Subject: do not have money , get software cds ...     1"
      ]
     },
     "execution_count": 235,
     "metadata": {},
     "output_type": "execute_result"
    }
   ],
   "source": [
    "email = pd.read_csv(\"D:/iCloud Drive/Colab_Data/emails.csv\")\n",
    "email.head()"
   ]
  },
  {
   "cell_type": "code",
   "execution_count": 236,
   "metadata": {
    "id": "EhLMTCLYNi-b"
   },
   "outputs": [],
   "source": [
    "email[\"text\"] = email[\"text\"].str.replace(\"Subject: \", \"\")\n",
    "email[\"text\"] = email[\"text\"].str.replace(\"re : \", \"\")"
   ]
  },
  {
   "cell_type": "code",
   "execution_count": 237,
   "metadata": {
    "colab": {
     "base_uri": "https://localhost:8080/",
     "height": 195
    },
    "executionInfo": {
     "elapsed": 32459,
     "status": "ok",
     "timestamp": 1611589754101,
     "user": {
      "displayName": "Kiam Boon",
      "photoUrl": "https://lh3.googleusercontent.com/a-/AOh14GguWKTGJvP2a1VVYH3mkgQmM58WyxV6eg7JKfcn-yE=s64",
      "userId": "10343331633657001480"
     },
     "user_tz": -480
    },
    "id": "EQyeCxD_N9U2",
    "outputId": "e57e9b5f-e7e2-4513-d23f-efb06a9e8a34"
   },
   "outputs": [
    {
     "data": {
      "text/html": [
       "<div>\n",
       "<style scoped>\n",
       "    .dataframe tbody tr th:only-of-type {\n",
       "        vertical-align: middle;\n",
       "    }\n",
       "\n",
       "    .dataframe tbody tr th {\n",
       "        vertical-align: top;\n",
       "    }\n",
       "\n",
       "    .dataframe thead th {\n",
       "        text-align: right;\n",
       "    }\n",
       "</style>\n",
       "<table border=\"1\" class=\"dataframe\">\n",
       "  <thead>\n",
       "    <tr style=\"text-align: right;\">\n",
       "      <th></th>\n",
       "      <th>text</th>\n",
       "      <th>spam</th>\n",
       "    </tr>\n",
       "  </thead>\n",
       "  <tbody>\n",
       "    <tr>\n",
       "      <th>0</th>\n",
       "      <td>naturally irresistible your corporate identity...</td>\n",
       "      <td>1</td>\n",
       "    </tr>\n",
       "    <tr>\n",
       "      <th>1</th>\n",
       "      <td>the stock trading gunslinger  fanny is merrill...</td>\n",
       "      <td>1</td>\n",
       "    </tr>\n",
       "    <tr>\n",
       "      <th>2</th>\n",
       "      <td>unbelievable new homes made easy  im wanting t...</td>\n",
       "      <td>1</td>\n",
       "    </tr>\n",
       "    <tr>\n",
       "      <th>3</th>\n",
       "      <td>4 color printing special  request additional i...</td>\n",
       "      <td>1</td>\n",
       "    </tr>\n",
       "    <tr>\n",
       "      <th>4</th>\n",
       "      <td>do not have money , get software cds from here...</td>\n",
       "      <td>1</td>\n",
       "    </tr>\n",
       "  </tbody>\n",
       "</table>\n",
       "</div>"
      ],
      "text/plain": [
       "                                                text  spam\n",
       "0  naturally irresistible your corporate identity...     1\n",
       "1  the stock trading gunslinger  fanny is merrill...     1\n",
       "2  unbelievable new homes made easy  im wanting t...     1\n",
       "3  4 color printing special  request additional i...     1\n",
       "4  do not have money , get software cds from here...     1"
      ]
     },
     "execution_count": 237,
     "metadata": {},
     "output_type": "execute_result"
    }
   ],
   "source": [
    "email.head()"
   ]
  },
  {
   "cell_type": "code",
   "execution_count": 238,
   "metadata": {
    "colab": {
     "base_uri": "https://localhost:8080/"
    },
    "executionInfo": {
     "elapsed": 32447,
     "status": "ok",
     "timestamp": 1611589754103,
     "user": {
      "displayName": "Kiam Boon",
      "photoUrl": "https://lh3.googleusercontent.com/a-/AOh14GguWKTGJvP2a1VVYH3mkgQmM58WyxV6eg7JKfcn-yE=s64",
      "userId": "10343331633657001480"
     },
     "user_tz": -480
    },
    "id": "gtJz1De9B_Xm",
    "outputId": "c36df0f4-42cf-46e2-b6c1-a7e4bf3387fa"
   },
   "outputs": [
    {
     "data": {
      "text/plain": [
       "0    4360\n",
       "1    1368\n",
       "Name: spam, dtype: int64"
      ]
     },
     "execution_count": 238,
     "metadata": {},
     "output_type": "execute_result"
    }
   ],
   "source": [
    "email[\"spam\"].value_counts()"
   ]
  },
  {
   "cell_type": "code",
   "execution_count": 239,
   "metadata": {
    "colab": {
     "base_uri": "https://localhost:8080/"
    },
    "executionInfo": {
     "elapsed": 43624,
     "status": "ok",
     "timestamp": 1611589765296,
     "user": {
      "displayName": "Kiam Boon",
      "photoUrl": "https://lh3.googleusercontent.com/a-/AOh14GguWKTGJvP2a1VVYH3mkgQmM58WyxV6eg7JKfcn-yE=s64",
      "userId": "10343331633657001480"
     },
     "user_tz": -480
    },
    "id": "hSx4A1Ix9AvI",
    "outputId": "654d344d-2340-4a88-bf98-6b382674445a"
   },
   "outputs": [
    {
     "name": "stdout",
     "output_type": "stream",
     "text": [
      "0    [naturally, irresistible, corporate, identity,...\n",
      "1    [stock, trading, gunslinger, fanny, merrill, m...\n",
      "2    [unbelievable, new, homes, made, easy, im, wan...\n",
      "3    [4, color, printing, special, request, additio...\n",
      "4    [money, get, software, cds, software, compatib...\n",
      "Name: processed, dtype: object\n"
     ]
    }
   ],
   "source": [
    "def processor(txt):  # Rebuild a def func, copied the body from tokenizer, stopwords_removal above\n",
    "   punc_removed = \"\".join([w.lower() for w in txt if w not in string.punctuation])\n",
    "   tokenized = nltk.tokenize.word_tokenize(punc_removed)\n",
    "   sw_removed = [w for w in tokenized if w not in stopwords]\n",
    "   return sw_removed\n",
    "\n",
    "\n",
    "email[\"processed\"] = email[\"text\"].apply(lambda x: processor(x))\n",
    "print(email[\"processed\"].head())"
   ]
  },
  {
   "cell_type": "code",
   "execution_count": 240,
   "metadata": {
    "colab": {
     "base_uri": "https://localhost:8080/"
    },
    "executionInfo": {
     "elapsed": 43614,
     "status": "ok",
     "timestamp": 1611589765298,
     "user": {
      "displayName": "Kiam Boon",
      "photoUrl": "https://lh3.googleusercontent.com/a-/AOh14GguWKTGJvP2a1VVYH3mkgQmM58WyxV6eg7JKfcn-yE=s64",
      "userId": "10343331633657001480"
     },
     "user_tz": -480
    },
    "id": "VaM6Kh3J8VDp",
    "outputId": "c0e88007-ed5d-4f88-d842-4f67c1eddd6f"
   },
   "outputs": [
    {
     "name": "stdout",
     "output_type": "stream",
     "text": [
      "['naturally', 'irresistible', 'corporate', 'identity', 'lt', 'really', 'hard', 'recollect', 'company', 'market']\n",
      "['hello', 'guys', 'bugging', 'completed', 'questionnaire', 'one', 'page', 'bio', 'statement', 'thoughts']\n"
     ]
    }
   ],
   "source": [
    "def classify_words():\n",
    "  spam_words = []\n",
    "  n_spam_words = []\n",
    "\n",
    "  for txt in email[\"processed\"][email[\"spam\"] == 1]:\n",
    "    for word in txt:\n",
    "      spam_words.append(word)\n",
    "\n",
    "  for txt in email[\"processed\"][email[\"spam\"] == 0]:\n",
    "    for word in txt:\n",
    "      n_spam_words.append(word)\n",
    "\n",
    "  return spam_words, n_spam_words\n",
    "\n",
    "spam_words, n_spam_words = classify_words()\n",
    "\n",
    "\n",
    "print(spam_words[:10])\n",
    "print(n_spam_words[:10])"
   ]
  },
  {
   "cell_type": "code",
   "execution_count": 241,
   "metadata": {
    "id": "4pkHmJQ9-7RM"
   },
   "outputs": [],
   "source": [
    "def predictor(sms):\n",
    "  spam_counter = 0\n",
    "  n_spam_counter = 0\n",
    "\n",
    "  for word in sms:\n",
    "    spam_counter += spam_words.count(word)\n",
    "    n_spam_counter += n_spam_words.count(word)\n",
    "    print(\"☆★☆ RESULTS ★☆★\")\n",
    "\n",
    "  if n_spam_counter > spam_counter:\n",
    "    accuracy = round((n_spam_counter / (n_spam_counter + spam_counter) * 100))\n",
    "    print(\"Email is not spam, with {}% certainty\".format(accuracy))\n",
    "\n",
    "  elif n_spam_counter == spam_counter:\n",
    "    print('Email could be spam')\n",
    "\n",
    "  else:\n",
    "    accuracy = round((spam_counter / (n_spam_counter + spam_counter) * 100))\n",
    "    print(\"Email is spam, with {}% certainty\".format(accuracy))"
   ]
  },
  {
   "cell_type": "code",
   "execution_count": 242,
   "metadata": {
    "colab": {
     "base_uri": "https://localhost:8080/"
    },
    "executionInfo": {
     "elapsed": 39361,
     "status": "ok",
     "timestamp": 1611590041934,
     "user": {
      "displayName": "Kiam Boon",
      "photoUrl": "https://lh3.googleusercontent.com/a-/AOh14GguWKTGJvP2a1VVYH3mkgQmM58WyxV6eg7JKfcn-yE=s64",
      "userId": "10343331633657001480"
     },
     "user_tz": -480
    },
    "id": "BrkynMVD-7OR",
    "outputId": "1984eca3-f1d1-4662-f850-ae15ecc3abc7"
   },
   "outputs": [
    {
     "name": "stdout",
     "output_type": "stream",
     "text": [
      "Please copy and paste your email subject or its body message:\n",
      "\n",
      "Reply immediately! You have a parcel with DHL.\n",
      "☆★☆ RESULTS ★☆★\n",
      "☆★☆ RESULTS ★☆★\n",
      "☆★☆ RESULTS ★☆★\n",
      "☆★☆ RESULTS ★☆★\n",
      "Email is not spam, with 65% certainty\n"
     ]
    }
   ],
   "source": [
    "input_msg = processor(input(\"Please copy and paste your email subject or its body message:\\n\\n\"))\n",
    "predictor(input_msg)"
   ]
  }
 ],
 "metadata": {
  "colab": {
   "authorship_tag": "ABX9TyO+wsqS7szts2VNpBRhRHmf",
   "collapsed_sections": [],
   "mount_file_id": "12zl23p1iMC7U6HNZ6XllWS0qmWSfooud",
   "name": "Text Analysis for SMS Text Messages.ipynb",
   "provenance": []
  },
  "kernelspec": {
   "display_name": "Python 3",
   "language": "python",
   "name": "python3"
  },
  "language_info": {
   "codemirror_mode": {
    "name": "ipython",
    "version": 3
   },
   "file_extension": ".py",
   "mimetype": "text/x-python",
   "name": "python",
   "nbconvert_exporter": "python",
   "pygments_lexer": "ipython3",
   "version": "3.8.5"
  }
 },
 "nbformat": 4,
 "nbformat_minor": 1
}
