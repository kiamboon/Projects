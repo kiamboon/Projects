{
 "cells": [
  {
   "cell_type": "code",
   "execution_count": null,
   "metadata": {
    "id": "sSD8pzFrxWlW"
   },
   "outputs": [],
   "source": [
    "import pandas as pd\n",
    "import numpy as np\n",
    "import seaborn as sns\n",
    "import matplotlib.pyplot as plt\n",
    "import requests, zipfile, io"
   ]
  },
  {
   "cell_type": "markdown",
   "metadata": {
    "id": "su6fuC4DR35W"
   },
   "source": [
    "## Straight loading dataset from UCI Repository website."
   ]
  },
  {
   "cell_type": "code",
   "execution_count": null,
   "metadata": {
    "colab": {
     "base_uri": "https://localhost:8080/"
    },
    "executionInfo": {
     "elapsed": 5708,
     "status": "ok",
     "timestamp": 1611589726102,
     "user": {
      "displayName": "Kiam Boon",
      "photoUrl": "https://lh3.googleusercontent.com/a-/AOh14GguWKTGJvP2a1VVYH3mkgQmM58WyxV6eg7JKfcn-yE=s64",
      "userId": "10343331633657001480"
     },
     "user_tz": -480
    },
    "id": "yoogQw41GTAC",
    "outputId": "dd6f37a2-4e66-4039-a885-8a4e25feaae6"
   },
   "outputs": [
    {
     "data": {
      "text/plain": [
       "5574"
      ]
     },
     "execution_count": 170,
     "metadata": {
      "tags": []
     },
     "output_type": "execute_result"
    }
   ],
   "source": [
    "# Functions to load spam dataset\n",
    "def load_spam_dataset():\n",
    "    spam_url = 'https://archive.ics.uci.edu/ml/machine-learning-databases/00228/smsspamcollection.zip'\n",
    "    _request_and_unzip(spam_url, \"spam/\")\n",
    "    with open(\"datasets/spam/SMSSpamCollection\", encoding=\"utf-8\") as infile:\n",
    "        d = infile.readlines()\n",
    "    return d\n",
    "\n",
    "def _request_and_unzip(url, folder):\n",
    "    r = requests.get(url)\n",
    "    if r.ok:\n",
    "        z = zipfile.ZipFile(io.BytesIO(r.content))\n",
    "        z.extractall(f'datasets/{folder}')\n",
    "\n",
    "data = load_spam_dataset()\n",
    "len(data)"
   ]
  },
  {
   "cell_type": "markdown",
   "metadata": {
    "id": "0ErWmmzyRe9Q"
   },
   "source": [
    "## Converting to DataFrame"
   ]
  },
  {
   "cell_type": "code",
   "execution_count": null,
   "metadata": {
    "colab": {
     "base_uri": "https://localhost:8080/",
     "height": 195
    },
    "executionInfo": {
     "elapsed": 5690,
     "status": "ok",
     "timestamp": 1611589726105,
     "user": {
      "displayName": "Kiam Boon",
      "photoUrl": "https://lh3.googleusercontent.com/a-/AOh14GguWKTGJvP2a1VVYH3mkgQmM58WyxV6eg7JKfcn-yE=s64",
      "userId": "10343331633657001480"
     },
     "user_tz": -480
    },
    "id": "iaX8GqUoCpck",
    "outputId": "6c889ee7-9cb1-44b2-a27a-c28d72da82e2"
   },
   "outputs": [
    {
     "data": {
      "text/html": [
       "<div>\n",
       "<style scoped>\n",
       "    .dataframe tbody tr th:only-of-type {\n",
       "        vertical-align: middle;\n",
       "    }\n",
       "\n",
       "    .dataframe tbody tr th {\n",
       "        vertical-align: top;\n",
       "    }\n",
       "\n",
       "    .dataframe thead th {\n",
       "        text-align: right;\n",
       "    }\n",
       "</style>\n",
       "<table border=\"1\" class=\"dataframe\">\n",
       "  <thead>\n",
       "    <tr style=\"text-align: right;\">\n",
       "      <th></th>\n",
       "      <th>msg</th>\n",
       "    </tr>\n",
       "  </thead>\n",
       "  <tbody>\n",
       "    <tr>\n",
       "      <th>0</th>\n",
       "      <td>ham\\tGo until jurong point, crazy.. Available ...</td>\n",
       "    </tr>\n",
       "    <tr>\n",
       "      <th>1</th>\n",
       "      <td>ham\\tOk lar... Joking wif u oni...\\n</td>\n",
       "    </tr>\n",
       "    <tr>\n",
       "      <th>2</th>\n",
       "      <td>spam\\tFree entry in 2 a wkly comp to win FA Cu...</td>\n",
       "    </tr>\n",
       "    <tr>\n",
       "      <th>3</th>\n",
       "      <td>ham\\tU dun say so early hor... U c already the...</td>\n",
       "    </tr>\n",
       "    <tr>\n",
       "      <th>4</th>\n",
       "      <td>ham\\tNah I don't think he goes to usf, he live...</td>\n",
       "    </tr>\n",
       "  </tbody>\n",
       "</table>\n",
       "</div>"
      ],
      "text/plain": [
       "                                                 msg\n",
       "0  ham\\tGo until jurong point, crazy.. Available ...\n",
       "1               ham\\tOk lar... Joking wif u oni...\\n\n",
       "2  spam\\tFree entry in 2 a wkly comp to win FA Cu...\n",
       "3  ham\\tU dun say so early hor... U c already the...\n",
       "4  ham\\tNah I don't think he goes to usf, he live..."
      ]
     },
     "execution_count": 171,
     "metadata": {
      "tags": []
     },
     "output_type": "execute_result"
    }
   ],
   "source": [
    "df = pd.DataFrame(data = data, columns = [\"msg\"])\n",
    "df.head()"
   ]
  },
  {
   "cell_type": "code",
   "execution_count": null,
   "metadata": {
    "colab": {
     "base_uri": "https://localhost:8080/"
    },
    "executionInfo": {
     "elapsed": 5676,
     "status": "ok",
     "timestamp": 1611589726107,
     "user": {
      "displayName": "Kiam Boon",
      "photoUrl": "https://lh3.googleusercontent.com/a-/AOh14GguWKTGJvP2a1VVYH3mkgQmM58WyxV6eg7JKfcn-yE=s64",
      "userId": "10343331633657001480"
     },
     "user_tz": -480
    },
    "id": "dmJyhicYS9ta",
    "outputId": "e84b63a7-b5eb-43e1-fb09-3aa73c79cca6"
   },
   "outputs": [
    {
     "name": "stdout",
     "output_type": "stream",
     "text": [
      "<class 'pandas.core.frame.DataFrame'>\n",
      "RangeIndex: 5574 entries, 0 to 5573\n",
      "Data columns (total 1 columns):\n",
      " #   Column  Non-Null Count  Dtype \n",
      "---  ------  --------------  ----- \n",
      " 0   msg     5574 non-null   object\n",
      "dtypes: object(1)\n",
      "memory usage: 43.7+ KB\n"
     ]
    }
   ],
   "source": [
    "df.info()"
   ]
  },
  {
   "cell_type": "code",
   "execution_count": null,
   "metadata": {
    "colab": {
     "base_uri": "https://localhost:8080/"
    },
    "executionInfo": {
     "elapsed": 5664,
     "status": "ok",
     "timestamp": 1611589726111,
     "user": {
      "displayName": "Kiam Boon",
      "photoUrl": "https://lh3.googleusercontent.com/a-/AOh14GguWKTGJvP2a1VVYH3mkgQmM58WyxV6eg7JKfcn-yE=s64",
      "userId": "10343331633657001480"
     },
     "user_tz": -480
    },
    "id": "qxxU9B8VTAJx",
    "outputId": "590f9f99-d21c-4527-f65b-272a81db5d52"
   },
   "outputs": [
    {
     "data": {
      "text/plain": [
       "msg    0\n",
       "dtype: int64"
      ]
     },
     "execution_count": 173,
     "metadata": {
      "tags": []
     },
     "output_type": "execute_result"
    }
   ],
   "source": [
    "df.isna().sum()"
   ]
  },
  {
   "cell_type": "markdown",
   "metadata": {
    "id": "puzCtmYiS7t6"
   },
   "source": [
    "## Data cleaning"
   ]
  },
  {
   "cell_type": "code",
   "execution_count": null,
   "metadata": {
    "colab": {
     "base_uri": "https://localhost:8080/",
     "height": 195
    },
    "executionInfo": {
     "elapsed": 5644,
     "status": "ok",
     "timestamp": 1611589726113,
     "user": {
      "displayName": "Kiam Boon",
      "photoUrl": "https://lh3.googleusercontent.com/a-/AOh14GguWKTGJvP2a1VVYH3mkgQmM58WyxV6eg7JKfcn-yE=s64",
      "userId": "10343331633657001480"
     },
     "user_tz": -480
    },
    "id": "4uQuM-eMDdf0",
    "outputId": "2c11298f-462a-4cdd-f7bb-e2978fed6559"
   },
   "outputs": [
    {
     "data": {
      "text/html": [
       "<div>\n",
       "<style scoped>\n",
       "    .dataframe tbody tr th:only-of-type {\n",
       "        vertical-align: middle;\n",
       "    }\n",
       "\n",
       "    .dataframe tbody tr th {\n",
       "        vertical-align: top;\n",
       "    }\n",
       "\n",
       "    .dataframe thead th {\n",
       "        text-align: right;\n",
       "    }\n",
       "</style>\n",
       "<table border=\"1\" class=\"dataframe\">\n",
       "  <thead>\n",
       "    <tr style=\"text-align: right;\">\n",
       "      <th></th>\n",
       "      <th>msg</th>\n",
       "      <th>label</th>\n",
       "    </tr>\n",
       "  </thead>\n",
       "  <tbody>\n",
       "    <tr>\n",
       "      <th>0</th>\n",
       "      <td>Go until jurong point, crazy.. Available only ...</td>\n",
       "      <td>ham</td>\n",
       "    </tr>\n",
       "    <tr>\n",
       "      <th>1</th>\n",
       "      <td>Ok lar... Joking wif u oni...\\n</td>\n",
       "      <td>ham</td>\n",
       "    </tr>\n",
       "    <tr>\n",
       "      <th>2</th>\n",
       "      <td>Free entry in 2 a wkly comp to win FA Cup fina...</td>\n",
       "      <td>spam</td>\n",
       "    </tr>\n",
       "    <tr>\n",
       "      <th>3</th>\n",
       "      <td>U dun say so early hor... U c already then say...</td>\n",
       "      <td>ham</td>\n",
       "    </tr>\n",
       "    <tr>\n",
       "      <th>4</th>\n",
       "      <td>Nah I don't think he goes to usf, he lives aro...</td>\n",
       "      <td>ham</td>\n",
       "    </tr>\n",
       "  </tbody>\n",
       "</table>\n",
       "</div>"
      ],
      "text/plain": [
       "                                                 msg label\n",
       "0  Go until jurong point, crazy.. Available only ...   ham\n",
       "1                    Ok lar... Joking wif u oni...\\n   ham\n",
       "2  Free entry in 2 a wkly comp to win FA Cup fina...  spam\n",
       "3  U dun say so early hor... U c already then say...   ham\n",
       "4  Nah I don't think he goes to usf, he lives aro...   ham"
      ]
     },
     "execution_count": 174,
     "metadata": {
      "tags": []
     },
     "output_type": "execute_result"
    }
   ],
   "source": [
    "df[\"label\"] = df[\"msg\"].str.split(\"\\t\").str[0]\n",
    "df[\"msg\"] = df[\"msg\"].str.split(\"\\t\").str[1]\n",
    "df.head()"
   ]
  },
  {
   "cell_type": "code",
   "execution_count": null,
   "metadata": {
    "colab": {
     "base_uri": "https://localhost:8080/"
    },
    "executionInfo": {
     "elapsed": 5632,
     "status": "ok",
     "timestamp": 1611589726117,
     "user": {
      "displayName": "Kiam Boon",
      "photoUrl": "https://lh3.googleusercontent.com/a-/AOh14GguWKTGJvP2a1VVYH3mkgQmM58WyxV6eg7JKfcn-yE=s64",
      "userId": "10343331633657001480"
     },
     "user_tz": -480
    },
    "id": "8ZZiIWd4M9HJ",
    "outputId": "b9e92b36-fe9b-45be-ce6f-95e31be98ea4"
   },
   "outputs": [
    {
     "name": "stdout",
     "output_type": "stream",
     "text": [
      "(0, 'Go until jurong point, crazy.. Available only in bugis n great world la e buffet... Cine there got amore wat...\\n')\n",
      "(1, 'Ok lar... Joking wif u oni...\\n')\n",
      "(2, \"Free entry in 2 a wkly comp to win FA Cup final tkts 21st May 2005. Text FA to 87121 to receive entry question(std txt rate)T&C's apply 08452810075over18's\\n\")\n",
      "(3, 'U dun say so early hor... U c already then say...\\n')\n",
      "(4, \"Nah I don't think he goes to usf, he lives around here though\\n\")\n"
     ]
    }
   ],
   "source": [
    "for message in enumerate(df[\"msg\"][:5]):\n",
    "    print(message)"
   ]
  },
  {
   "cell_type": "code",
   "execution_count": null,
   "metadata": {
    "colab": {
     "base_uri": "https://localhost:8080/",
     "height": 195
    },
    "executionInfo": {
     "elapsed": 5616,
     "status": "ok",
     "timestamp": 1611589726121,
     "user": {
      "displayName": "Kiam Boon",
      "photoUrl": "https://lh3.googleusercontent.com/a-/AOh14GguWKTGJvP2a1VVYH3mkgQmM58WyxV6eg7JKfcn-yE=s64",
      "userId": "10343331633657001480"
     },
     "user_tz": -480
    },
    "id": "hiiARYspM9AG",
    "outputId": "ab1cec3b-00db-4663-b54f-1d0cb98bb139"
   },
   "outputs": [
    {
     "data": {
      "text/html": [
       "<div>\n",
       "<style scoped>\n",
       "    .dataframe tbody tr th:only-of-type {\n",
       "        vertical-align: middle;\n",
       "    }\n",
       "\n",
       "    .dataframe tbody tr th {\n",
       "        vertical-align: top;\n",
       "    }\n",
       "\n",
       "    .dataframe thead th {\n",
       "        text-align: right;\n",
       "    }\n",
       "</style>\n",
       "<table border=\"1\" class=\"dataframe\">\n",
       "  <thead>\n",
       "    <tr style=\"text-align: right;\">\n",
       "      <th></th>\n",
       "      <th>msg</th>\n",
       "      <th>label</th>\n",
       "    </tr>\n",
       "  </thead>\n",
       "  <tbody>\n",
       "    <tr>\n",
       "      <th>0</th>\n",
       "      <td>Go until jurong point, crazy.. Available only ...</td>\n",
       "      <td>ham</td>\n",
       "    </tr>\n",
       "    <tr>\n",
       "      <th>1</th>\n",
       "      <td>Ok lar... Joking wif u oni...</td>\n",
       "      <td>ham</td>\n",
       "    </tr>\n",
       "    <tr>\n",
       "      <th>2</th>\n",
       "      <td>Free entry in 2 a wkly comp to win FA Cup fina...</td>\n",
       "      <td>spam</td>\n",
       "    </tr>\n",
       "    <tr>\n",
       "      <th>3</th>\n",
       "      <td>U dun say so early hor... U c already then say...</td>\n",
       "      <td>ham</td>\n",
       "    </tr>\n",
       "    <tr>\n",
       "      <th>4</th>\n",
       "      <td>Nah I don't think he goes to usf, he lives aro...</td>\n",
       "      <td>ham</td>\n",
       "    </tr>\n",
       "  </tbody>\n",
       "</table>\n",
       "</div>"
      ],
      "text/plain": [
       "                                                 msg label\n",
       "0  Go until jurong point, crazy.. Available only ...   ham\n",
       "1                      Ok lar... Joking wif u oni...   ham\n",
       "2  Free entry in 2 a wkly comp to win FA Cup fina...  spam\n",
       "3  U dun say so early hor... U c already then say...   ham\n",
       "4  Nah I don't think he goes to usf, he lives aro...   ham"
      ]
     },
     "execution_count": 176,
     "metadata": {
      "tags": []
     },
     "output_type": "execute_result"
    }
   ],
   "source": [
    "df[\"msg\"] = df[\"msg\"].str.replace(\"\\n\", \"\", regex = True)\n",
    "df.head()"
   ]
  },
  {
   "cell_type": "code",
   "execution_count": null,
   "metadata": {
    "colab": {
     "base_uri": "https://localhost:8080/"
    },
    "executionInfo": {
     "elapsed": 5604,
     "status": "ok",
     "timestamp": 1611589726124,
     "user": {
      "displayName": "Kiam Boon",
      "photoUrl": "https://lh3.googleusercontent.com/a-/AOh14GguWKTGJvP2a1VVYH3mkgQmM58WyxV6eg7JKfcn-yE=s64",
      "userId": "10343331633657001480"
     },
     "user_tz": -480
    },
    "id": "LUpOBX9-M84v",
    "outputId": "4509b1ab-cd7f-4b0f-f4c3-93615512225d"
   },
   "outputs": [
    {
     "name": "stdout",
     "output_type": "stream",
     "text": [
      "(0, 'Go until jurong point, crazy.. Available only in bugis n great world la e buffet... Cine there got amore wat...')\n",
      "(1, 'Ok lar... Joking wif u oni...')\n",
      "(2, \"Free entry in 2 a wkly comp to win FA Cup final tkts 21st May 2005. Text FA to 87121 to receive entry question(std txt rate)T&C's apply 08452810075over18's\")\n",
      "(3, 'U dun say so early hor... U c already then say...')\n",
      "(4, \"Nah I don't think he goes to usf, he lives around here though\")\n"
     ]
    }
   ],
   "source": [
    "for message in enumerate(df[\"msg\"][:5]):\n",
    "    print(message)"
   ]
  },
  {
   "cell_type": "markdown",
   "metadata": {
    "id": "4DSxz2TyZKVn"
   },
   "source": [
    "## Re-order the columns"
   ]
  },
  {
   "cell_type": "code",
   "execution_count": null,
   "metadata": {
    "colab": {
     "base_uri": "https://localhost:8080/",
     "height": 195
    },
    "executionInfo": {
     "elapsed": 5576,
     "status": "ok",
     "timestamp": 1611589726127,
     "user": {
      "displayName": "Kiam Boon",
      "photoUrl": "https://lh3.googleusercontent.com/a-/AOh14GguWKTGJvP2a1VVYH3mkgQmM58WyxV6eg7JKfcn-yE=s64",
      "userId": "10343331633657001480"
     },
     "user_tz": -480
    },
    "id": "GCcrMmnJZEXG",
    "outputId": "89fbcd4e-8089-4780-f63b-12ff9f8ba07e"
   },
   "outputs": [
    {
     "data": {
      "text/html": [
       "<div>\n",
       "<style scoped>\n",
       "    .dataframe tbody tr th:only-of-type {\n",
       "        vertical-align: middle;\n",
       "    }\n",
       "\n",
       "    .dataframe tbody tr th {\n",
       "        vertical-align: top;\n",
       "    }\n",
       "\n",
       "    .dataframe thead th {\n",
       "        text-align: right;\n",
       "    }\n",
       "</style>\n",
       "<table border=\"1\" class=\"dataframe\">\n",
       "  <thead>\n",
       "    <tr style=\"text-align: right;\">\n",
       "      <th></th>\n",
       "      <th>label</th>\n",
       "      <th>msg</th>\n",
       "    </tr>\n",
       "  </thead>\n",
       "  <tbody>\n",
       "    <tr>\n",
       "      <th>0</th>\n",
       "      <td>ham</td>\n",
       "      <td>Go until jurong point, crazy.. Available only ...</td>\n",
       "    </tr>\n",
       "    <tr>\n",
       "      <th>1</th>\n",
       "      <td>ham</td>\n",
       "      <td>Ok lar... Joking wif u oni...</td>\n",
       "    </tr>\n",
       "    <tr>\n",
       "      <th>2</th>\n",
       "      <td>spam</td>\n",
       "      <td>Free entry in 2 a wkly comp to win FA Cup fina...</td>\n",
       "    </tr>\n",
       "    <tr>\n",
       "      <th>3</th>\n",
       "      <td>ham</td>\n",
       "      <td>U dun say so early hor... U c already then say...</td>\n",
       "    </tr>\n",
       "    <tr>\n",
       "      <th>4</th>\n",
       "      <td>ham</td>\n",
       "      <td>Nah I don't think he goes to usf, he lives aro...</td>\n",
       "    </tr>\n",
       "  </tbody>\n",
       "</table>\n",
       "</div>"
      ],
      "text/plain": [
       "  label                                                msg\n",
       "0   ham  Go until jurong point, crazy.. Available only ...\n",
       "1   ham                      Ok lar... Joking wif u oni...\n",
       "2  spam  Free entry in 2 a wkly comp to win FA Cup fina...\n",
       "3   ham  U dun say so early hor... U c already then say...\n",
       "4   ham  Nah I don't think he goes to usf, he lives aro..."
      ]
     },
     "execution_count": 178,
     "metadata": {
      "tags": []
     },
     "output_type": "execute_result"
    }
   ],
   "source": [
    "df = df.reindex([\"label\", \"msg\"], axis = 1)\n",
    "df.head()"
   ]
  },
  {
   "cell_type": "markdown",
   "metadata": {
    "id": "ieIqnsW4TsOJ"
   },
   "source": [
    "## Plotting a histogram to see how many are ham and spam."
   ]
  },
  {
   "cell_type": "code",
   "execution_count": null,
   "metadata": {
    "colab": {
     "base_uri": "https://localhost:8080/",
     "height": 295
    },
    "executionInfo": {
     "elapsed": 5553,
     "status": "ok",
     "timestamp": 1611589726129,
     "user": {
      "displayName": "Kiam Boon",
      "photoUrl": "https://lh3.googleusercontent.com/a-/AOh14GguWKTGJvP2a1VVYH3mkgQmM58WyxV6eg7JKfcn-yE=s64",
      "userId": "10343331633657001480"
     },
     "user_tz": -480
    },
    "id": "WPmiPKFqM8xm",
    "outputId": "d2fb8465-aff1-45e3-f395-bfeb37191fe2"
   },
   "outputs": [
    {
     "data": {
      "image/png": "[encoded data removed]",
      "text/plain": [
       "<Figure size 432x288 with 1 Axes>"
      ]
     },
     "metadata": {
      "tags": []
     },
     "output_type": "display_data"
    }
   ],
   "source": [
    "ax = sns.countplot(x = \"label\", data = df)\n",
    "plt.title(\"Count by Label\")\n",
    "for v in ax.patches:\n",
    "    ax.annotate(f\"\\n{v.get_height()}\", (v.get_x()+0.25, v.get_height()), ha = \"left\", va = \"top\",\n",
    "                color = \"white\", size = 15, weight = \"bold\")\n",
    "plt.show()"
   ]
  },
  {
   "cell_type": "markdown",
   "metadata": {
    "id": "MFxFaGW1ZkyK"
   },
   "source": [
    "## Use groupby also can have a glance of overview of the data."
   ]
  },
  {
   "cell_type": "code",
   "execution_count": null,
   "metadata": {
    "colab": {
     "base_uri": "https://localhost:8080/",
     "height": 166
    },
    "executionInfo": {
     "elapsed": 5531,
     "status": "ok",
     "timestamp": 1611589726132,
     "user": {
      "displayName": "Kiam Boon",
      "photoUrl": "https://lh3.googleusercontent.com/a-/AOh14GguWKTGJvP2a1VVYH3mkgQmM58WyxV6eg7JKfcn-yE=s64",
      "userId": "10343331633657001480"
     },
     "user_tz": -480
    },
    "id": "XjSGZ8glQO10",
    "outputId": "2344be9d-d460-4e70-a738-aa964d43d94d"
   },
   "outputs": [
    {
     "data": {
      "text/html": [
       "<div>\n",
       "<style scoped>\n",
       "    .dataframe tbody tr th:only-of-type {\n",
       "        vertical-align: middle;\n",
       "    }\n",
       "\n",
       "    .dataframe tbody tr th {\n",
       "        vertical-align: top;\n",
       "    }\n",
       "\n",
       "    .dataframe thead tr th {\n",
       "        text-align: left;\n",
       "    }\n",
       "\n",
       "    .dataframe thead tr:last-of-type th {\n",
       "        text-align: right;\n",
       "    }\n",
       "</style>\n",
       "<table border=\"1\" class=\"dataframe\">\n",
       "  <thead>\n",
       "    <tr>\n",
       "      <th></th>\n",
       "      <th colspan=\"4\" halign=\"left\">msg</th>\n",
       "    </tr>\n",
       "    <tr>\n",
       "      <th></th>\n",
       "      <th>count</th>\n",
       "      <th>unique</th>\n",
       "      <th>top</th>\n",
       "      <th>freq</th>\n",
       "    </tr>\n",
       "    <tr>\n",
       "      <th>label</th>\n",
       "      <th></th>\n",
       "      <th></th>\n",
       "      <th></th>\n",
       "      <th></th>\n",
       "    </tr>\n",
       "  </thead>\n",
       "  <tbody>\n",
       "    <tr>\n",
       "      <th>ham</th>\n",
       "      <td>4827</td>\n",
       "      <td>4518</td>\n",
       "      <td>Sorry, I'll call later</td>\n",
       "      <td>30</td>\n",
       "    </tr>\n",
       "    <tr>\n",
       "      <th>spam</th>\n",
       "      <td>747</td>\n",
       "      <td>653</td>\n",
       "      <td>Please call our customer service representativ...</td>\n",
       "      <td>4</td>\n",
       "    </tr>\n",
       "  </tbody>\n",
       "</table>\n",
       "</div>"
      ],
      "text/plain": [
       "        msg                                                               \n",
       "      count unique                                                top freq\n",
       "label                                                                     \n",
       "ham    4827   4518                             Sorry, I'll call later   30\n",
       "spam    747    653  Please call our customer service representativ...    4"
      ]
     },
     "execution_count": 180,
     "metadata": {
      "tags": []
     },
     "output_type": "execute_result"
    }
   ],
   "source": [
    "df.groupby(\"label\").describe()"
   ]
  },
  {
   "cell_type": "markdown",
   "metadata": {
    "id": "xa95NJ8WQCvp"
   },
   "source": [
    "## Feature Engineering\n",
    "* We can add some new columns for this DataFrame because it's only has label and the contents of the text messages.\n",
    "*  For instance the length of the each messages. Also can use sentiment analysis to find out the each messages belong to positive, negative or neutral, and sentiment scores as well. These also can be considered as the features for prediction in Machine Learning.\n",
    "\n"
   ]
  },
  {
   "cell_type": "code",
   "execution_count": null,
   "metadata": {
    "colab": {
     "base_uri": "https://localhost:8080/",
     "height": 195
    },
    "executionInfo": {
     "elapsed": 5515,
     "status": "ok",
     "timestamp": 1611589726133,
     "user": {
      "displayName": "Kiam Boon",
      "photoUrl": "https://lh3.googleusercontent.com/a-/AOh14GguWKTGJvP2a1VVYH3mkgQmM58WyxV6eg7JKfcn-yE=s64",
      "userId": "10343331633657001480"
     },
     "user_tz": -480
    },
    "id": "_K4Fk3pEP-JH",
    "outputId": "0a9c8084-ff16-44af-b972-0f50332f8661"
   },
   "outputs": [
    {
     "data": {
      "text/html": [
       "<div>\n",
       "<style scoped>\n",
       "    .dataframe tbody tr th:only-of-type {\n",
       "        vertical-align: middle;\n",
       "    }\n",
       "\n",
       "    .dataframe tbody tr th {\n",
       "        vertical-align: top;\n",
       "    }\n",
       "\n",
       "    .dataframe thead th {\n",
       "        text-align: right;\n",
       "    }\n",
       "</style>\n",
       "<table border=\"1\" class=\"dataframe\">\n",
       "  <thead>\n",
       "    <tr style=\"text-align: right;\">\n",
       "      <th></th>\n",
       "      <th>label</th>\n",
       "      <th>msg</th>\n",
       "      <th>length</th>\n",
       "      <th>punc_pct</th>\n",
       "    </tr>\n",
       "  </thead>\n",
       "  <tbody>\n",
       "    <tr>\n",
       "      <th>0</th>\n",
       "      <td>ham</td>\n",
       "      <td>Go until jurong point, crazy.. Available only ...</td>\n",
       "      <td>92</td>\n",
       "      <td>9.8</td>\n",
       "    </tr>\n",
       "    <tr>\n",
       "      <th>1</th>\n",
       "      <td>ham</td>\n",
       "      <td>Ok lar... Joking wif u oni...</td>\n",
       "      <td>24</td>\n",
       "      <td>25.0</td>\n",
       "    </tr>\n",
       "    <tr>\n",
       "      <th>2</th>\n",
       "      <td>spam</td>\n",
       "      <td>Free entry in 2 a wkly comp to win FA Cup fina...</td>\n",
       "      <td>128</td>\n",
       "      <td>4.7</td>\n",
       "    </tr>\n",
       "    <tr>\n",
       "      <th>3</th>\n",
       "      <td>ham</td>\n",
       "      <td>U dun say so early hor... U c already then say...</td>\n",
       "      <td>39</td>\n",
       "      <td>15.4</td>\n",
       "    </tr>\n",
       "    <tr>\n",
       "      <th>4</th>\n",
       "      <td>ham</td>\n",
       "      <td>Nah I don't think he goes to usf, he lives aro...</td>\n",
       "      <td>49</td>\n",
       "      <td>4.1</td>\n",
       "    </tr>\n",
       "  </tbody>\n",
       "</table>\n",
       "</div>"
      ],
      "text/plain": [
       "  label                                                msg  length  punc_pct\n",
       "0   ham  Go until jurong point, crazy.. Available only ...      92       9.8\n",
       "1   ham                      Ok lar... Joking wif u oni...      24      25.0\n",
       "2  spam  Free entry in 2 a wkly comp to win FA Cup fina...     128       4.7\n",
       "3   ham  U dun say so early hor... U c already then say...      39      15.4\n",
       "4   ham  Nah I don't think he goes to usf, he lives aro...      49       4.1"
      ]
     },
     "execution_count": 181,
     "metadata": {
      "tags": []
     },
     "output_type": "execute_result"
    }
   ],
   "source": [
    "# df[\"full_length\"] = df[\"msg\"].str.len()  # Also can use df[\"msg\"].map(len) or df[\"msg\"].apply(len)\n",
    "# df.head()\n",
    "\n",
    "import string\n",
    "\n",
    "def counter(txt):\n",
    "    count = sum([1 for char in txt if char in string.punctuation])\n",
    "    return round(count / (len(txt) - txt.count(\" \")), 3) * 100\n",
    "\n",
    "\n",
    "df[\"length\"] = df[\"msg\"].apply(lambda x: len(x) - x.count(\" \"))\n",
    "df[\"punc_pct\"] = df[\"msg\"].apply(lambda x: counter(x))\n",
    "df.head()"
   ]
  },
  {
   "cell_type": "code",
   "execution_count": null,
   "metadata": {
    "colab": {
     "base_uri": "https://localhost:8080/"
    },
    "executionInfo": {
     "elapsed": 5502,
     "status": "ok",
     "timestamp": 1611589726135,
     "user": {
      "displayName": "Kiam Boon",
      "photoUrl": "https://lh3.googleusercontent.com/a-/AOh14GguWKTGJvP2a1VVYH3mkgQmM58WyxV6eg7JKfcn-yE=s64",
      "userId": "10343331633657001480"
     },
     "user_tz": -480
    },
    "id": "c4mf_CY-tGt7",
    "outputId": "2251765c-d0bb-4935-f5b5-a2b1643106e4"
   },
   "outputs": [
    {
     "name": "stdout",
     "output_type": "stream",
     "text": [
      "Spam: Avg. Punctuation Percentage = 4.891700133868805 and Avg. Length = 115.72289156626506\n",
      "Ham: Avg. Punctuation Percentage = 7.474559767971791 and Avg. Length = 58.04433395483737\n"
     ]
    }
   ],
   "source": [
    "print(\"Spam: Avg. Punctuation Percentage = {} and Avg. Length = {}\".format(df[df['label'] == \"spam\"]['punc_pct'].mean(), \n",
    "                                                                                 df[df['label'] == \"spam\"]['length'].mean()))\n",
    "print(\"Ham: Avg. Punctuation Percentage = {} and Avg. Length = {}\".format(df[df['label'] == \"ham\"]['punc_pct'].mean(), \n",
    "                                                                                df[df['label'] == \"ham\"]['length'].mean()))\n"
   ]
  },
  {
   "cell_type": "code",
   "execution_count": null,
   "metadata": {
    "colab": {
     "base_uri": "https://localhost:8080/",
     "height": 388
    },
    "executionInfo": {
     "elapsed": 5864,
     "status": "ok",
     "timestamp": 1611589726520,
     "user": {
      "displayName": "Kiam Boon",
      "photoUrl": "https://lh3.googleusercontent.com/a-/AOh14GguWKTGJvP2a1VVYH3mkgQmM58WyxV6eg7JKfcn-yE=s64",
      "userId": "10343331633657001480"
     },
     "user_tz": -480
    },
    "id": "5RK_JpN_P-Gc",
    "outputId": "c30baf54-0504-450c-df09-e9eeefb89b24"
   },
   "outputs": [
    {
     "data": {
      "image/png": "[encoded data removed]",
      "text/plain": [
       "<Figure size 864x432 with 1 Axes>"
      ]
     },
     "metadata": {
      "tags": []
     },
     "output_type": "display_data"
    }
   ],
   "source": [
    "plt.figure(figsize = (12, 6))\n",
    "\n",
    "ax = sns.histplot(x = \"length\", data = df, color = \"tab:orange\", bins = 80, ec = \"k\")\n",
    "\n",
    "ax.annotate(\"\", xy = (735, 20), xytext = (710, 100),\n",
    "            arrowprops = dict(facecolor = \"black\", shrink = 0.05))\n",
    "plt.show()"
   ]
  },
  {
   "cell_type": "code",
   "execution_count": null,
   "metadata": {
    "colab": {
     "base_uri": "https://localhost:8080/"
    },
    "executionInfo": {
     "elapsed": 5851,
     "status": "ok",
     "timestamp": 1611589726522,
     "user": {
      "displayName": "Kiam Boon",
      "photoUrl": "https://lh3.googleusercontent.com/a-/AOh14GguWKTGJvP2a1VVYH3mkgQmM58WyxV6eg7JKfcn-yE=s64",
      "userId": "10343331633657001480"
     },
     "user_tz": -480
    },
    "id": "qzKu6F7GP-D5",
    "outputId": "cc5a505f-d1f8-431c-cfd1-8281dc5140cc"
   },
   "outputs": [
    {
     "data": {
      "text/plain": [
       "1085    740\n",
       "1863    629\n",
       "2434    511\n",
       "1579    491\n",
       "2158    464\n",
       "Name: length, dtype: int64"
      ]
     },
     "execution_count": 184,
     "metadata": {
      "tags": []
     },
     "output_type": "execute_result"
    }
   ],
   "source": [
    "df[\"length\"].nlargest() # <OR> df[\"body_length\"].sort_values(ascending = False)"
   ]
  },
  {
   "cell_type": "code",
   "execution_count": null,
   "metadata": {
    "colab": {
     "base_uri": "https://localhost:8080/",
     "height": 170
    },
    "executionInfo": {
     "elapsed": 5834,
     "status": "ok",
     "timestamp": 1611589726523,
     "user": {
      "displayName": "Kiam Boon",
      "photoUrl": "https://lh3.googleusercontent.com/a-/AOh14GguWKTGJvP2a1VVYH3mkgQmM58WyxV6eg7JKfcn-yE=s64",
      "userId": "10343331633657001480"
     },
     "user_tz": -480
    },
    "id": "hjmNUQn2YFg6",
    "outputId": "fd5671e4-722a-4b73-a8d7-ed1a8f128d5c"
   },
   "outputs": [
    {
     "data": {
      "application/vnd.google.colaboratory.intrinsic+json": {
       "type": "string"
      },
      "text/plain": [
       "\"For me the love should start with attraction.i should feel that I need her every time around me.she should be the first thing which comes in my thoughts.I would start the day and end it with her.she should be there every time I dream.love will be then when my every breath has her name.my life should happen around her.my life will be named to her.I would cry for her.will give all my happiness and take all her sorrows.I will be ready to fight with anyone for her.I will be in love when I will be doing the craziest things for her.love will be when I don't have to proove anyone that my girl is the most beautiful lady on the whole planet.I will always be singing praises for her.love will be when I start up making chicken curry and end up makiing sambar.life will be the most beautiful then.will get every morning and thank god for the day because she is with me.I would like to say a lot..will tell later..\""
      ]
     },
     "execution_count": 185,
     "metadata": {
      "tags": []
     },
     "output_type": "execute_result"
    }
   ],
   "source": [
    "df.iloc[1085][\"msg\"] # <OR> df[df[\"length\"] == 740].iloc[0][\"msg\"]"
   ]
  },
  {
   "cell_type": "code",
   "execution_count": null,
   "metadata": {
    "colab": {
     "base_uri": "https://localhost:8080/",
     "height": 296
    },
    "executionInfo": {
     "elapsed": 6860,
     "status": "ok",
     "timestamp": 1611589727567,
     "user": {
      "displayName": "Kiam Boon",
      "photoUrl": "https://lh3.googleusercontent.com/a-/AOh14GguWKTGJvP2a1VVYH3mkgQmM58WyxV6eg7JKfcn-yE=s64",
      "userId": "10343331633657001480"
     },
     "user_tz": -480
    },
    "id": "gZULy5VQYFeL",
    "outputId": "e3fc5685-4661-40c6-8559-b736fcd0c920"
   },
   "outputs": [
    {
     "data": {
      "image/png": "[encoded data removed]",
      "text/plain": [
       "<Figure size 720x288 with 2 Axes>"
      ]
     },
     "metadata": {
      "tags": []
     },
     "output_type": "display_data"
    }
   ],
   "source": [
    "g = df.hist(column = \"length\", by = \"label\", figsize = (10, 4), bins = 75, color = \"tab:orange\", ec = \"k\")\n",
    "plt.suptitle(\"Length by Labels\", size = 15, weight = \"bold\")\n",
    "plt.show()"
   ]
  },
  {
   "cell_type": "markdown",
   "metadata": {
    "id": "DGRnsBkBT2fC"
   },
   "source": [
    "## Sentiment Analysis\n",
    "* Sentiment analysis usually uses on customer reviews, products rating, social media's comments etc\n",
    "* But I will use Sentiment Analysis as part of the feature engineering for Machine Learning"
   ]
  },
  {
   "cell_type": "code",
   "execution_count": null,
   "metadata": {
    "id": "RcdSpmTtTxmk"
   },
   "outputs": [],
   "source": [
    "# pip install nltk[all]"
   ]
  },
  {
   "cell_type": "code",
   "execution_count": null,
   "metadata": {
    "colab": {
     "base_uri": "https://localhost:8080/"
    },
    "executionInfo": {
     "elapsed": 6843,
     "status": "ok",
     "timestamp": 1611589727570,
     "user": {
      "displayName": "Kiam Boon",
      "photoUrl": "https://lh3.googleusercontent.com/a-/AOh14GguWKTGJvP2a1VVYH3mkgQmM58WyxV6eg7JKfcn-yE=s64",
      "userId": "10343331633657001480"
     },
     "user_tz": -480
    },
    "id": "4TlJG3YHc2HC",
    "outputId": "53d7a3e6-8012-45e8-92b5-d7f396e0621f"
   },
   "outputs": [
    {
     "name": "stdout",
     "output_type": "stream",
     "text": [
      "[nltk_data] Downloading package vader_lexicon to /root/nltk_data...\n",
      "[nltk_data]   Package vader_lexicon is already up-to-date!\n"
     ]
    }
   ],
   "source": [
    "import nltk\n",
    "from nltk.sentiment.vader import SentimentIntensityAnalyzer\n",
    "nltk.downloader.download('vader_lexicon')\n",
    "\n",
    "sid = SentimentIntensityAnalyzer()"
   ]
  },
  {
   "cell_type": "markdown",
   "metadata": {
    "id": "YG11E5MgcL9U"
   },
   "source": [
    "## Rating for the messages"
   ]
  },
  {
   "cell_type": "code",
   "execution_count": null,
   "metadata": {
    "id": "RSfY2m5jfcyD"
   },
   "outputs": [],
   "source": [
    "def get_sentiment(row, **kwargs):\n",
    "  sentiment_score = sid.polarity_scores(row)\n",
    "  positive_meter = round((sentiment_score[\"pos\"]), 3)\n",
    "  negative_meter = round((sentiment_score[\"neg\"]), 3)\n",
    "  return positive_meter if kwargs[\"k\"] == \"positive\" else negative_meter"
   ]
  },
  {
   "cell_type": "code",
   "execution_count": null,
   "metadata": {
    "colab": {
     "base_uri": "https://localhost:8080/",
     "height": 195
    },
    "executionInfo": {
     "elapsed": 9252,
     "status": "ok",
     "timestamp": 1611589730002,
     "user": {
      "displayName": "Kiam Boon",
      "photoUrl": "https://lh3.googleusercontent.com/a-/AOh14GguWKTGJvP2a1VVYH3mkgQmM58WyxV6eg7JKfcn-yE=s64",
      "userId": "10343331633657001480"
     },
     "user_tz": -480
    },
    "id": "KDGIK0d5fcvy",
    "outputId": "55039c0c-2540-4b3d-8e1b-e418ef1543ad"
   },
   "outputs": [
    {
     "data": {
      "text/html": [
       "<div>\n",
       "<style scoped>\n",
       "    .dataframe tbody tr th:only-of-type {\n",
       "        vertical-align: middle;\n",
       "    }\n",
       "\n",
       "    .dataframe tbody tr th {\n",
       "        vertical-align: top;\n",
       "    }\n",
       "\n",
       "    .dataframe thead th {\n",
       "        text-align: right;\n",
       "    }\n",
       "</style>\n",
       "<table border=\"1\" class=\"dataframe\">\n",
       "  <thead>\n",
       "    <tr style=\"text-align: right;\">\n",
       "      <th></th>\n",
       "      <th>label</th>\n",
       "      <th>msg</th>\n",
       "      <th>length</th>\n",
       "      <th>punc_pct</th>\n",
       "      <th>positive</th>\n",
       "      <th>negative</th>\n",
       "    </tr>\n",
       "  </thead>\n",
       "  <tbody>\n",
       "    <tr>\n",
       "      <th>0</th>\n",
       "      <td>ham</td>\n",
       "      <td>Go until jurong point, crazy.. Available only ...</td>\n",
       "      <td>92</td>\n",
       "      <td>9.8</td>\n",
       "      <td>0.194</td>\n",
       "      <td>0.000</td>\n",
       "    </tr>\n",
       "    <tr>\n",
       "      <th>1</th>\n",
       "      <td>ham</td>\n",
       "      <td>Ok lar... Joking wif u oni...</td>\n",
       "      <td>24</td>\n",
       "      <td>25.0</td>\n",
       "      <td>0.577</td>\n",
       "      <td>0.000</td>\n",
       "    </tr>\n",
       "    <tr>\n",
       "      <th>2</th>\n",
       "      <td>spam</td>\n",
       "      <td>Free entry in 2 a wkly comp to win FA Cup fina...</td>\n",
       "      <td>128</td>\n",
       "      <td>4.7</td>\n",
       "      <td>0.228</td>\n",
       "      <td>0.000</td>\n",
       "    </tr>\n",
       "    <tr>\n",
       "      <th>3</th>\n",
       "      <td>ham</td>\n",
       "      <td>U dun say so early hor... U c already then say...</td>\n",
       "      <td>39</td>\n",
       "      <td>15.4</td>\n",
       "      <td>0.000</td>\n",
       "      <td>0.000</td>\n",
       "    </tr>\n",
       "    <tr>\n",
       "      <th>4</th>\n",
       "      <td>ham</td>\n",
       "      <td>Nah I don't think he goes to usf, he lives aro...</td>\n",
       "      <td>49</td>\n",
       "      <td>4.1</td>\n",
       "      <td>0.000</td>\n",
       "      <td>0.113</td>\n",
       "    </tr>\n",
       "  </tbody>\n",
       "</table>\n",
       "</div>"
      ],
      "text/plain": [
       "  label                                                msg  ...  positive  negative\n",
       "0   ham  Go until jurong point, crazy.. Available only ...  ...     0.194     0.000\n",
       "1   ham                      Ok lar... Joking wif u oni...  ...     0.577     0.000\n",
       "2  spam  Free entry in 2 a wkly comp to win FA Cup fina...  ...     0.228     0.000\n",
       "3   ham  U dun say so early hor... U c already then say...  ...     0.000     0.000\n",
       "4   ham  Nah I don't think he goes to usf, he lives aro...  ...     0.000     0.113\n",
       "\n",
       "[5 rows x 6 columns]"
      ]
     },
     "execution_count": 190,
     "metadata": {
      "tags": []
     },
     "output_type": "execute_result"
    }
   ],
   "source": [
    "df[\"positive\"] = df[\"msg\"].apply(get_sentiment, k = \"positive\")\n",
    "df[\"negative\"] = df[\"msg\"].apply(get_sentiment, k = \"negative\")\n",
    "\n",
    "df.head()"
   ]
  },
  {
   "cell_type": "code",
   "execution_count": null,
   "metadata": {
    "colab": {
     "base_uri": "https://localhost:8080/"
    },
    "executionInfo": {
     "elapsed": 9740,
     "status": "ok",
     "timestamp": 1611589730503,
     "user": {
      "displayName": "Kiam Boon",
      "photoUrl": "https://lh3.googleusercontent.com/a-/AOh14GguWKTGJvP2a1VVYH3mkgQmM58WyxV6eg7JKfcn-yE=s64",
      "userId": "10343331633657001480"
     },
     "user_tz": -480
    },
    "id": "oLf-eS5BfctB",
    "outputId": "8ae4a02a-05c6-479d-9272-4d30d021ecca"
   },
   "outputs": [
    {
     "data": {
      "text/plain": [
       "['Positive: 0.194, Negative: 0.0',\n",
       " 'Positive: 0.577, Negative: 0.0',\n",
       " 'Positive: 0.228, Negative: 0.0',\n",
       " 'Positive: 0.0, Negative: 0.0',\n",
       " 'Positive: 0.0, Negative: 0.113',\n",
       " 'Positive: 0.305, Negative: 0.054',\n",
       " 'Positive: 0.136, Negative: 0.212',\n",
       " 'Positive: 0.11, Negative: 0.0',\n",
       " 'Positive: 0.422, Negative: 0.0',\n",
       " 'Positive: 0.294, Negative: 0.0']"
      ]
     },
     "execution_count": 191,
     "metadata": {
      "tags": []
     },
     "output_type": "execute_result"
    }
   ],
   "source": [
    "result = []\n",
    "\n",
    "for index, row in df.iterrows():\n",
    "  result.append(\"Positive: {}, Negative: {}\".format(row[\"positive\"], row[\"negative\"]))\n",
    "\n",
    "result[:10]"
   ]
  },
  {
   "cell_type": "code",
   "execution_count": null,
   "metadata": {
    "colab": {
     "base_uri": "https://localhost:8080/",
     "height": 279
    },
    "executionInfo": {
     "elapsed": 11670,
     "status": "ok",
     "timestamp": 1611589732453,
     "user": {
      "displayName": "Kiam Boon",
      "photoUrl": "https://lh3.googleusercontent.com/a-/AOh14GguWKTGJvP2a1VVYH3mkgQmM58WyxV6eg7JKfcn-yE=s64",
      "userId": "10343331633657001480"
     },
     "user_tz": -480
    },
    "id": "SYXk3L7-fcjm",
    "outputId": "d50ab44c-3a6b-4fc3-9b05-8bd541e1fc52"
   },
   "outputs": [
    {
     "data": {
      "text/html": [
       "<div>\n",
       "<style scoped>\n",
       "    .dataframe tbody tr th:only-of-type {\n",
       "        vertical-align: middle;\n",
       "    }\n",
       "\n",
       "    .dataframe tbody tr th {\n",
       "        vertical-align: top;\n",
       "    }\n",
       "\n",
       "    .dataframe thead th {\n",
       "        text-align: right;\n",
       "    }\n",
       "</style>\n",
       "<table border=\"1\" class=\"dataframe\">\n",
       "  <thead>\n",
       "    <tr style=\"text-align: right;\">\n",
       "      <th></th>\n",
       "      <th>label</th>\n",
       "      <th>msg</th>\n",
       "      <th>length</th>\n",
       "      <th>punc_pct</th>\n",
       "      <th>positive</th>\n",
       "      <th>negative</th>\n",
       "      <th>scores</th>\n",
       "    </tr>\n",
       "  </thead>\n",
       "  <tbody>\n",
       "    <tr>\n",
       "      <th>0</th>\n",
       "      <td>ham</td>\n",
       "      <td>Go until jurong point, crazy.. Available only ...</td>\n",
       "      <td>92</td>\n",
       "      <td>9.8</td>\n",
       "      <td>0.194</td>\n",
       "      <td>0.000</td>\n",
       "      <td>{'neg': 0.0, 'neu': 0.806, 'pos': 0.194, 'comp...</td>\n",
       "    </tr>\n",
       "    <tr>\n",
       "      <th>1</th>\n",
       "      <td>ham</td>\n",
       "      <td>Ok lar... Joking wif u oni...</td>\n",
       "      <td>24</td>\n",
       "      <td>25.0</td>\n",
       "      <td>0.577</td>\n",
       "      <td>0.000</td>\n",
       "      <td>{'neg': 0.0, 'neu': 0.423, 'pos': 0.577, 'comp...</td>\n",
       "    </tr>\n",
       "    <tr>\n",
       "      <th>2</th>\n",
       "      <td>spam</td>\n",
       "      <td>Free entry in 2 a wkly comp to win FA Cup fina...</td>\n",
       "      <td>128</td>\n",
       "      <td>4.7</td>\n",
       "      <td>0.228</td>\n",
       "      <td>0.000</td>\n",
       "      <td>{'neg': 0.0, 'neu': 0.772, 'pos': 0.228, 'comp...</td>\n",
       "    </tr>\n",
       "    <tr>\n",
       "      <th>3</th>\n",
       "      <td>ham</td>\n",
       "      <td>U dun say so early hor... U c already then say...</td>\n",
       "      <td>39</td>\n",
       "      <td>15.4</td>\n",
       "      <td>0.000</td>\n",
       "      <td>0.000</td>\n",
       "      <td>{'neg': 0.0, 'neu': 1.0, 'pos': 0.0, 'compound...</td>\n",
       "    </tr>\n",
       "    <tr>\n",
       "      <th>4</th>\n",
       "      <td>ham</td>\n",
       "      <td>Nah I don't think he goes to usf, he lives aro...</td>\n",
       "      <td>49</td>\n",
       "      <td>4.1</td>\n",
       "      <td>0.000</td>\n",
       "      <td>0.113</td>\n",
       "      <td>{'neg': 0.113, 'neu': 0.887, 'pos': 0.0, 'comp...</td>\n",
       "    </tr>\n",
       "  </tbody>\n",
       "</table>\n",
       "</div>"
      ],
      "text/plain": [
       "  label  ...                                             scores\n",
       "0   ham  ...  {'neg': 0.0, 'neu': 0.806, 'pos': 0.194, 'comp...\n",
       "1   ham  ...  {'neg': 0.0, 'neu': 0.423, 'pos': 0.577, 'comp...\n",
       "2  spam  ...  {'neg': 0.0, 'neu': 0.772, 'pos': 0.228, 'comp...\n",
       "3   ham  ...  {'neg': 0.0, 'neu': 1.0, 'pos': 0.0, 'compound...\n",
       "4   ham  ...  {'neg': 0.113, 'neu': 0.887, 'pos': 0.0, 'comp...\n",
       "\n",
       "[5 rows x 7 columns]"
      ]
     },
     "execution_count": 192,
     "metadata": {
      "tags": []
     },
     "output_type": "execute_result"
    }
   ],
   "source": [
    "df[\"scores\"] = df[\"msg\"].apply(lambda x: sid.polarity_scores(x))\n",
    "df.head()"
   ]
  },
  {
   "cell_type": "code",
   "execution_count": null,
   "metadata": {
    "colab": {
     "base_uri": "https://localhost:8080/",
     "height": 279
    },
    "executionInfo": {
     "elapsed": 11656,
     "status": "ok",
     "timestamp": 1611589732456,
     "user": {
      "displayName": "Kiam Boon",
      "photoUrl": "https://lh3.googleusercontent.com/a-/AOh14GguWKTGJvP2a1VVYH3mkgQmM58WyxV6eg7JKfcn-yE=s64",
      "userId": "10343331633657001480"
     },
     "user_tz": -480
    },
    "id": "n3H2At6hYFbo",
    "outputId": "c894049b-8d0b-4910-a516-322199a0b6f8"
   },
   "outputs": [
    {
     "data": {
      "text/html": [
       "<div>\n",
       "<style scoped>\n",
       "    .dataframe tbody tr th:only-of-type {\n",
       "        vertical-align: middle;\n",
       "    }\n",
       "\n",
       "    .dataframe tbody tr th {\n",
       "        vertical-align: top;\n",
       "    }\n",
       "\n",
       "    .dataframe thead th {\n",
       "        text-align: right;\n",
       "    }\n",
       "</style>\n",
       "<table border=\"1\" class=\"dataframe\">\n",
       "  <thead>\n",
       "    <tr style=\"text-align: right;\">\n",
       "      <th></th>\n",
       "      <th>label</th>\n",
       "      <th>msg</th>\n",
       "      <th>length</th>\n",
       "      <th>punc_pct</th>\n",
       "      <th>positive</th>\n",
       "      <th>negative</th>\n",
       "      <th>scores</th>\n",
       "      <th>compound</th>\n",
       "    </tr>\n",
       "  </thead>\n",
       "  <tbody>\n",
       "    <tr>\n",
       "      <th>0</th>\n",
       "      <td>ham</td>\n",
       "      <td>Go until jurong point, crazy.. Available only ...</td>\n",
       "      <td>92</td>\n",
       "      <td>9.8</td>\n",
       "      <td>0.194</td>\n",
       "      <td>0.000</td>\n",
       "      <td>{'neg': 0.0, 'neu': 0.806, 'pos': 0.194, 'comp...</td>\n",
       "      <td>0.6249</td>\n",
       "    </tr>\n",
       "    <tr>\n",
       "      <th>1</th>\n",
       "      <td>ham</td>\n",
       "      <td>Ok lar... Joking wif u oni...</td>\n",
       "      <td>24</td>\n",
       "      <td>25.0</td>\n",
       "      <td>0.577</td>\n",
       "      <td>0.000</td>\n",
       "      <td>{'neg': 0.0, 'neu': 0.423, 'pos': 0.577, 'comp...</td>\n",
       "      <td>0.4767</td>\n",
       "    </tr>\n",
       "    <tr>\n",
       "      <th>2</th>\n",
       "      <td>spam</td>\n",
       "      <td>Free entry in 2 a wkly comp to win FA Cup fina...</td>\n",
       "      <td>128</td>\n",
       "      <td>4.7</td>\n",
       "      <td>0.228</td>\n",
       "      <td>0.000</td>\n",
       "      <td>{'neg': 0.0, 'neu': 0.772, 'pos': 0.228, 'comp...</td>\n",
       "      <td>0.7964</td>\n",
       "    </tr>\n",
       "    <tr>\n",
       "      <th>3</th>\n",
       "      <td>ham</td>\n",
       "      <td>U dun say so early hor... U c already then say...</td>\n",
       "      <td>39</td>\n",
       "      <td>15.4</td>\n",
       "      <td>0.000</td>\n",
       "      <td>0.000</td>\n",
       "      <td>{'neg': 0.0, 'neu': 1.0, 'pos': 0.0, 'compound...</td>\n",
       "      <td>0.0000</td>\n",
       "    </tr>\n",
       "    <tr>\n",
       "      <th>4</th>\n",
       "      <td>ham</td>\n",
       "      <td>Nah I don't think he goes to usf, he lives aro...</td>\n",
       "      <td>49</td>\n",
       "      <td>4.1</td>\n",
       "      <td>0.000</td>\n",
       "      <td>0.113</td>\n",
       "      <td>{'neg': 0.113, 'neu': 0.887, 'pos': 0.0, 'comp...</td>\n",
       "      <td>-0.1027</td>\n",
       "    </tr>\n",
       "  </tbody>\n",
       "</table>\n",
       "</div>"
      ],
      "text/plain": [
       "  label  ... compound\n",
       "0   ham  ...   0.6249\n",
       "1   ham  ...   0.4767\n",
       "2  spam  ...   0.7964\n",
       "3   ham  ...   0.0000\n",
       "4   ham  ...  -0.1027\n",
       "\n",
       "[5 rows x 8 columns]"
      ]
     },
     "execution_count": 193,
     "metadata": {
      "tags": []
     },
     "output_type": "execute_result"
    }
   ],
   "source": [
    "df[\"compound\"] = df[\"scores\"].apply(lambda x: x[\"compound\"])\n",
    "df.head()"
   ]
  },
  {
   "cell_type": "code",
   "execution_count": null,
   "metadata": {
    "colab": {
     "base_uri": "https://localhost:8080/",
     "height": 363
    },
    "executionInfo": {
     "elapsed": 11640,
     "status": "ok",
     "timestamp": 1611589732458,
     "user": {
      "displayName": "Kiam Boon",
      "photoUrl": "https://lh3.googleusercontent.com/a-/AOh14GguWKTGJvP2a1VVYH3mkgQmM58WyxV6eg7JKfcn-yE=s64",
      "userId": "10343331633657001480"
     },
     "user_tz": -480
    },
    "id": "CDyk1yeFbCWw",
    "outputId": "0a1f77b7-ae59-4de1-c6bb-1b0386d5ddaf"
   },
   "outputs": [
    {
     "data": {
      "text/html": [
       "<div>\n",
       "<style scoped>\n",
       "    .dataframe tbody tr th:only-of-type {\n",
       "        vertical-align: middle;\n",
       "    }\n",
       "\n",
       "    .dataframe tbody tr th {\n",
       "        vertical-align: top;\n",
       "    }\n",
       "\n",
       "    .dataframe thead th {\n",
       "        text-align: right;\n",
       "    }\n",
       "</style>\n",
       "<table border=\"1\" class=\"dataframe\">\n",
       "  <thead>\n",
       "    <tr style=\"text-align: right;\">\n",
       "      <th></th>\n",
       "      <th>label</th>\n",
       "      <th>msg</th>\n",
       "      <th>length</th>\n",
       "      <th>punc_pct</th>\n",
       "      <th>positive</th>\n",
       "      <th>negative</th>\n",
       "      <th>scores</th>\n",
       "      <th>compound</th>\n",
       "      <th>comp_score</th>\n",
       "    </tr>\n",
       "  </thead>\n",
       "  <tbody>\n",
       "    <tr>\n",
       "      <th>0</th>\n",
       "      <td>ham</td>\n",
       "      <td>Go until jurong point, crazy.. Available only ...</td>\n",
       "      <td>92</td>\n",
       "      <td>9.8</td>\n",
       "      <td>0.194</td>\n",
       "      <td>0.000</td>\n",
       "      <td>{'neg': 0.0, 'neu': 0.806, 'pos': 0.194, 'comp...</td>\n",
       "      <td>0.6249</td>\n",
       "      <td>pos</td>\n",
       "    </tr>\n",
       "    <tr>\n",
       "      <th>1</th>\n",
       "      <td>ham</td>\n",
       "      <td>Ok lar... Joking wif u oni...</td>\n",
       "      <td>24</td>\n",
       "      <td>25.0</td>\n",
       "      <td>0.577</td>\n",
       "      <td>0.000</td>\n",
       "      <td>{'neg': 0.0, 'neu': 0.423, 'pos': 0.577, 'comp...</td>\n",
       "      <td>0.4767</td>\n",
       "      <td>pos</td>\n",
       "    </tr>\n",
       "    <tr>\n",
       "      <th>2</th>\n",
       "      <td>spam</td>\n",
       "      <td>Free entry in 2 a wkly comp to win FA Cup fina...</td>\n",
       "      <td>128</td>\n",
       "      <td>4.7</td>\n",
       "      <td>0.228</td>\n",
       "      <td>0.000</td>\n",
       "      <td>{'neg': 0.0, 'neu': 0.772, 'pos': 0.228, 'comp...</td>\n",
       "      <td>0.7964</td>\n",
       "      <td>pos</td>\n",
       "    </tr>\n",
       "    <tr>\n",
       "      <th>3</th>\n",
       "      <td>ham</td>\n",
       "      <td>U dun say so early hor... U c already then say...</td>\n",
       "      <td>39</td>\n",
       "      <td>15.4</td>\n",
       "      <td>0.000</td>\n",
       "      <td>0.000</td>\n",
       "      <td>{'neg': 0.0, 'neu': 1.0, 'pos': 0.0, 'compound...</td>\n",
       "      <td>0.0000</td>\n",
       "      <td>pos</td>\n",
       "    </tr>\n",
       "    <tr>\n",
       "      <th>4</th>\n",
       "      <td>ham</td>\n",
       "      <td>Nah I don't think he goes to usf, he lives aro...</td>\n",
       "      <td>49</td>\n",
       "      <td>4.1</td>\n",
       "      <td>0.000</td>\n",
       "      <td>0.113</td>\n",
       "      <td>{'neg': 0.113, 'neu': 0.887, 'pos': 0.0, 'comp...</td>\n",
       "      <td>-0.1027</td>\n",
       "      <td>neg</td>\n",
       "    </tr>\n",
       "  </tbody>\n",
       "</table>\n",
       "</div>"
      ],
      "text/plain": [
       "  label                                                msg  ...  compound  comp_score\n",
       "0   ham  Go until jurong point, crazy.. Available only ...  ...    0.6249         pos\n",
       "1   ham                      Ok lar... Joking wif u oni...  ...    0.4767         pos\n",
       "2  spam  Free entry in 2 a wkly comp to win FA Cup fina...  ...    0.7964         pos\n",
       "3   ham  U dun say so early hor... U c already then say...  ...    0.0000         pos\n",
       "4   ham  Nah I don't think he goes to usf, he lives aro...  ...   -0.1027         neg\n",
       "\n",
       "[5 rows x 9 columns]"
      ]
     },
     "execution_count": 194,
     "metadata": {
      "tags": []
     },
     "output_type": "execute_result"
    }
   ],
   "source": [
    "df[\"comp_score\"] = df[\"compound\"].apply(lambda x: \"pos\" if x >= 0 else \"neg\")\n",
    "df.head()"
   ]
  },
  {
   "cell_type": "code",
   "execution_count": null,
   "metadata": {
    "colab": {
     "base_uri": "https://localhost:8080/"
    },
    "executionInfo": {
     "elapsed": 11629,
     "status": "ok",
     "timestamp": 1611589732462,
     "user": {
      "displayName": "Kiam Boon",
      "photoUrl": "https://lh3.googleusercontent.com/a-/AOh14GguWKTGJvP2a1VVYH3mkgQmM58WyxV6eg7JKfcn-yE=s64",
      "userId": "10343331633657001480"
     },
     "user_tz": -480
    },
    "id": "GZaWEUmObnnx",
    "outputId": "31e9c484-61cc-47e4-f3e6-dfa2535253cc"
   },
   "outputs": [
    {
     "data": {
      "text/plain": [
       "{'compound': 0.6249, 'neg': 0.0, 'neu': 0.806, 'pos': 0.194}"
      ]
     },
     "execution_count": 195,
     "metadata": {
      "tags": []
     },
     "output_type": "execute_result"
    }
   ],
   "source": [
    "df[\"scores\"].iloc[0]"
   ]
  },
  {
   "cell_type": "markdown",
   "metadata": {
    "id": "v3ZoS6FI0rTE"
   },
   "source": [
    "## Count the frequency of positive and negative values"
   ]
  },
  {
   "cell_type": "code",
   "execution_count": null,
   "metadata": {
    "id": "zNOjwgB3yp6g"
   },
   "outputs": [],
   "source": [
    "def rating(x):\n",
    "  return \"0% - 20%\" if x <= 0.2 else \"21% - 40%\" if x <= 0.4 else \"41% - 60%\" if x <= 0.6 \\\n",
    "  else \"61% - 80%\" if x <= 0.8 else \"81% - 100%\""
   ]
  },
  {
   "cell_type": "code",
   "execution_count": null,
   "metadata": {
    "colab": {
     "base_uri": "https://localhost:8080/",
     "height": 305
    },
    "executionInfo": {
     "elapsed": 11611,
     "status": "ok",
     "timestamp": 1611589732467,
     "user": {
      "displayName": "Kiam Boon",
      "photoUrl": "https://lh3.googleusercontent.com/a-/AOh14GguWKTGJvP2a1VVYH3mkgQmM58WyxV6eg7JKfcn-yE=s64",
      "userId": "10343331633657001480"
     },
     "user_tz": -480
    },
    "id": "HzXlwyWYyp3L",
    "outputId": "598db354-f4ac-4166-c121-d8804990d89b"
   },
   "outputs": [
    {
     "data": {
      "image/png": "[encoded data removed]",
      "text/plain": [
       "<Figure size 432x288 with 1 Axes>"
      ]
     },
     "metadata": {
      "tags": []
     },
     "output_type": "display_data"
    }
   ],
   "source": [
    "sns.set_style(\"darkgrid\")\n",
    "df[\"positive\"].apply(rating).value_counts().plot(kind = \"bar\")\n",
    "plt.xticks(rotation = 45)\n",
    "plt.show()"
   ]
  },
  {
   "cell_type": "code",
   "execution_count": null,
   "metadata": {
    "colab": {
     "base_uri": "https://localhost:8080/",
     "height": 301
    },
    "executionInfo": {
     "elapsed": 12846,
     "status": "ok",
     "timestamp": 1611589733722,
     "user": {
      "displayName": "Kiam Boon",
      "photoUrl": "https://lh3.googleusercontent.com/a-/AOh14GguWKTGJvP2a1VVYH3mkgQmM58WyxV6eg7JKfcn-yE=s64",
      "userId": "10343331633657001480"
     },
     "user_tz": -480
    },
    "id": "a29hDu4VfznQ",
    "outputId": "68877ee9-2a75-419d-afbb-1bb3817b5094"
   },
   "outputs": [
    {
     "data": {
      "image/png": "[encoded data removed]",
      "text/plain": [
       "<Figure size 432x288 with 1 Axes>"
      ]
     },
     "metadata": {
      "tags": []
     },
     "output_type": "display_data"
    }
   ],
   "source": [
    "df[\"negative\"].apply(rating).value_counts().plot(kind = \"bar\", color = \"tab:orange\")\n",
    "plt.xticks(rotation = 45)\n",
    "plt.show()"
   ]
  },
  {
   "cell_type": "code",
   "execution_count": null,
   "metadata": {
    "colab": {
     "base_uri": "https://localhost:8080/",
     "height": 282
    },
    "executionInfo": {
     "elapsed": 12832,
     "status": "ok",
     "timestamp": 1611589733726,
     "user": {
      "displayName": "Kiam Boon",
      "photoUrl": "https://lh3.googleusercontent.com/a-/AOh14GguWKTGJvP2a1VVYH3mkgQmM58WyxV6eg7JKfcn-yE=s64",
      "userId": "10343331633657001480"
     },
     "user_tz": -480
    },
    "id": "2hlGUQobfzig",
    "outputId": "9ebaafee-b956-49b5-a83c-aa7834ffff5a"
   },
   "outputs": [
    {
     "data": {
      "text/plain": [
       "<matplotlib.axes._subplots.AxesSubplot at 0x7f3c14424898>"
      ]
     },
     "execution_count": 199,
     "metadata": {
      "tags": []
     },
     "output_type": "execute_result"
    },
    {
     "data": {
      "image/png": "[encoded data removed]",
      "text/plain": [
       "<Figure size 432x288 with 1 Axes>"
      ]
     },
     "metadata": {
      "tags": []
     },
     "output_type": "display_data"
    }
   ],
   "source": [
    "df[\"comp_score\"].value_counts(ascending = True).plot(kind = \"barh\", color = [\"tab:orange\", \"tab:blue\"])"
   ]
  },
  {
   "cell_type": "markdown",
   "metadata": {
    "id": "65wHykVf-SsQ"
   },
   "source": [
    "## Text Mining\n",
    "* Tokenize > Stopwords > Lemmatize / Stemming"
   ]
  },
  {
   "cell_type": "markdown",
   "metadata": {
    "id": "LYWa7qFQjEjQ"
   },
   "source": [
    "## Tokenization\n",
    "* Removing Punctuations, lowering the letters, stripping whitespaces"
   ]
  },
  {
   "cell_type": "code",
   "execution_count": null,
   "metadata": {
    "colab": {
     "base_uri": "https://localhost:8080/",
     "height": 422
    },
    "executionInfo": {
     "elapsed": 13922,
     "status": "ok",
     "timestamp": 1611589734834,
     "user": {
      "displayName": "Kiam Boon",
      "photoUrl": "https://lh3.googleusercontent.com/a-/AOh14GguWKTGJvP2a1VVYH3mkgQmM58WyxV6eg7JKfcn-yE=s64",
      "userId": "10343331633657001480"
     },
     "user_tz": -480
    },
    "id": "BUO-NzEnUUB3",
    "outputId": "095423d5-3bc9-46c8-8491-9ffad47ca3bb"
   },
   "outputs": [
    {
     "name": "stdout",
     "output_type": "stream",
     "text": [
      "[nltk_data] Downloading package punkt to /root/nltk_data...\n",
      "[nltk_data]   Package punkt is already up-to-date!\n"
     ]
    },
    {
     "data": {
      "text/html": [
       "<div>\n",
       "<style scoped>\n",
       "    .dataframe tbody tr th:only-of-type {\n",
       "        vertical-align: middle;\n",
       "    }\n",
       "\n",
       "    .dataframe tbody tr th {\n",
       "        vertical-align: top;\n",
       "    }\n",
       "\n",
       "    .dataframe thead th {\n",
       "        text-align: right;\n",
       "    }\n",
       "</style>\n",
       "<table border=\"1\" class=\"dataframe\">\n",
       "  <thead>\n",
       "    <tr style=\"text-align: right;\">\n",
       "      <th></th>\n",
       "      <th>label</th>\n",
       "      <th>msg</th>\n",
       "      <th>length</th>\n",
       "      <th>punc_pct</th>\n",
       "      <th>positive</th>\n",
       "      <th>negative</th>\n",
       "      <th>scores</th>\n",
       "      <th>compound</th>\n",
       "      <th>comp_score</th>\n",
       "      <th>msg_tokenized</th>\n",
       "    </tr>\n",
       "  </thead>\n",
       "  <tbody>\n",
       "    <tr>\n",
       "      <th>0</th>\n",
       "      <td>ham</td>\n",
       "      <td>Go until jurong point, crazy.. Available only ...</td>\n",
       "      <td>92</td>\n",
       "      <td>9.8</td>\n",
       "      <td>0.194</td>\n",
       "      <td>0.0</td>\n",
       "      <td>{'neg': 0.0, 'neu': 0.806, 'pos': 0.194, 'comp...</td>\n",
       "      <td>0.6249</td>\n",
       "      <td>pos</td>\n",
       "      <td>[go, until, jurong, point, crazy, available, o...</td>\n",
       "    </tr>\n",
       "    <tr>\n",
       "      <th>1</th>\n",
       "      <td>ham</td>\n",
       "      <td>Ok lar... Joking wif u oni...</td>\n",
       "      <td>24</td>\n",
       "      <td>25.0</td>\n",
       "      <td>0.577</td>\n",
       "      <td>0.0</td>\n",
       "      <td>{'neg': 0.0, 'neu': 0.423, 'pos': 0.577, 'comp...</td>\n",
       "      <td>0.4767</td>\n",
       "      <td>pos</td>\n",
       "      <td>[ok, lar, joking, wif, u, oni]</td>\n",
       "    </tr>\n",
       "    <tr>\n",
       "      <th>2</th>\n",
       "      <td>spam</td>\n",
       "      <td>Free entry in 2 a wkly comp to win FA Cup fina...</td>\n",
       "      <td>128</td>\n",
       "      <td>4.7</td>\n",
       "      <td>0.228</td>\n",
       "      <td>0.0</td>\n",
       "      <td>{'neg': 0.0, 'neu': 0.772, 'pos': 0.228, 'comp...</td>\n",
       "      <td>0.7964</td>\n",
       "      <td>pos</td>\n",
       "      <td>[free, entry, in, 2, a, wkly, comp, to, win, f...</td>\n",
       "    </tr>\n",
       "  </tbody>\n",
       "</table>\n",
       "</div>"
      ],
      "text/plain": [
       "  label  ...                                      msg_tokenized\n",
       "0   ham  ...  [go, until, jurong, point, crazy, available, o...\n",
       "1   ham  ...                     [ok, lar, joking, wif, u, oni]\n",
       "2  spam  ...  [free, entry, in, 2, a, wkly, comp, to, win, f...\n",
       "\n",
       "[3 rows x 10 columns]"
      ]
     },
     "execution_count": 200,
     "metadata": {
      "tags": []
     },
     "output_type": "execute_result"
    }
   ],
   "source": [
    "nltk.download('punkt')\n",
    "\n",
    "def tokenizer(txt):\n",
    "    txt = \"\".join([w.lower() for w in txt if w not in punctuation])\n",
    "    txt = nltk.tokenize.word_tokenize(txt)  # United States >>> [\"United\", \"States\"]\n",
    "    # txt = w.rstrip() for w in txt[-1] if w in [\",\", \".\", \"\\n\", \":\", \"!\", \"?\", \";\"]\n",
    "    return txt\n",
    "    # tokens = re.split(\"\\W+\", txt)\n",
    "    # return tokens\n",
    "\n",
    "df['msg_tokenized'] = df['msg'].apply(lambda x: tokenizer(x))  # I lower the letters here.\n",
    "df.head(3)"
   ]
  },
  {
   "cell_type": "markdown",
   "metadata": {
    "id": "Ke2Jnd2eUpME"
   },
   "source": [
    "## Stopwords\n",
    "* Removing the stopwords like printed on the next cell.\n"
   ]
  },
  {
   "cell_type": "code",
   "execution_count": null,
   "metadata": {
    "colab": {
     "base_uri": "https://localhost:8080/"
    },
    "executionInfo": {
     "elapsed": 13911,
     "status": "ok",
     "timestamp": 1611589734839,
     "user": {
      "displayName": "Kiam Boon",
      "photoUrl": "https://lh3.googleusercontent.com/a-/AOh14GguWKTGJvP2a1VVYH3mkgQmM58WyxV6eg7JKfcn-yE=s64",
      "userId": "10343331633657001480"
     },
     "user_tz": -480
    },
    "id": "kFGFHLs_LGt1",
    "outputId": "cff78553-433f-4ef0-d114-012b853b822c"
   },
   "outputs": [
    {
     "name": "stdout",
     "output_type": "stream",
     "text": [
      "[nltk_data] Downloading package stopwords to /root/nltk_data...\n",
      "[nltk_data]   Package stopwords is already up-to-date!\n",
      "['i', 'me', 'my', 'myself', 'we', 'our', 'ours', 'ourselves', 'you', \"you're\"]\n"
     ]
    }
   ],
   "source": [
    "from nltk.corpus import stopwords\n",
    "nltk.download('stopwords')\n",
    "stopwords = nltk.corpus.stopwords.words(\"english\")\n",
    "\n",
    "print(stopwords[:10])"
   ]
  },
  {
   "cell_type": "code",
   "execution_count": null,
   "metadata": {
    "colab": {
     "base_uri": "https://localhost:8080/",
     "height": 458
    },
    "executionInfo": {
     "elapsed": 13892,
     "status": "ok",
     "timestamp": 1611589734842,
     "user": {
      "displayName": "Kiam Boon",
      "photoUrl": "https://lh3.googleusercontent.com/a-/AOh14GguWKTGJvP2a1VVYH3mkgQmM58WyxV6eg7JKfcn-yE=s64",
      "userId": "10343331633657001480"
     },
     "user_tz": -480
    },
    "id": "Tf7-D1yGUo1e",
    "outputId": "e7df6b4e-4bf8-4583-a7e3-687b5152f01d"
   },
   "outputs": [
    {
     "data": {
      "text/html": [
       "<div>\n",
       "<style scoped>\n",
       "    .dataframe tbody tr th:only-of-type {\n",
       "        vertical-align: middle;\n",
       "    }\n",
       "\n",
       "    .dataframe tbody tr th {\n",
       "        vertical-align: top;\n",
       "    }\n",
       "\n",
       "    .dataframe thead th {\n",
       "        text-align: right;\n",
       "    }\n",
       "</style>\n",
       "<table border=\"1\" class=\"dataframe\">\n",
       "  <thead>\n",
       "    <tr style=\"text-align: right;\">\n",
       "      <th></th>\n",
       "      <th>label</th>\n",
       "      <th>msg</th>\n",
       "      <th>length</th>\n",
       "      <th>punc_pct</th>\n",
       "      <th>positive</th>\n",
       "      <th>negative</th>\n",
       "      <th>scores</th>\n",
       "      <th>compound</th>\n",
       "      <th>comp_score</th>\n",
       "      <th>msg_tokenized</th>\n",
       "      <th>msg_sw_removed</th>\n",
       "    </tr>\n",
       "  </thead>\n",
       "  <tbody>\n",
       "    <tr>\n",
       "      <th>0</th>\n",
       "      <td>ham</td>\n",
       "      <td>Go until jurong point, crazy.. Available only ...</td>\n",
       "      <td>92</td>\n",
       "      <td>9.8</td>\n",
       "      <td>0.194</td>\n",
       "      <td>0.0</td>\n",
       "      <td>{'neg': 0.0, 'neu': 0.806, 'pos': 0.194, 'comp...</td>\n",
       "      <td>0.6249</td>\n",
       "      <td>pos</td>\n",
       "      <td>[go, until, jurong, point, crazy, available, o...</td>\n",
       "      <td>[go, jurong, point, crazy, available, bugis, n...</td>\n",
       "    </tr>\n",
       "    <tr>\n",
       "      <th>1</th>\n",
       "      <td>ham</td>\n",
       "      <td>Ok lar... Joking wif u oni...</td>\n",
       "      <td>24</td>\n",
       "      <td>25.0</td>\n",
       "      <td>0.577</td>\n",
       "      <td>0.0</td>\n",
       "      <td>{'neg': 0.0, 'neu': 0.423, 'pos': 0.577, 'comp...</td>\n",
       "      <td>0.4767</td>\n",
       "      <td>pos</td>\n",
       "      <td>[ok, lar, joking, wif, u, oni]</td>\n",
       "      <td>[ok, lar, joking, wif, u, oni]</td>\n",
       "    </tr>\n",
       "    <tr>\n",
       "      <th>2</th>\n",
       "      <td>spam</td>\n",
       "      <td>Free entry in 2 a wkly comp to win FA Cup fina...</td>\n",
       "      <td>128</td>\n",
       "      <td>4.7</td>\n",
       "      <td>0.228</td>\n",
       "      <td>0.0</td>\n",
       "      <td>{'neg': 0.0, 'neu': 0.772, 'pos': 0.228, 'comp...</td>\n",
       "      <td>0.7964</td>\n",
       "      <td>pos</td>\n",
       "      <td>[free, entry, in, 2, a, wkly, comp, to, win, f...</td>\n",
       "      <td>[free, entry, 2, wkly, comp, win, fa, cup, fin...</td>\n",
       "    </tr>\n",
       "  </tbody>\n",
       "</table>\n",
       "</div>"
      ],
      "text/plain": [
       "  label  ...                                     msg_sw_removed\n",
       "0   ham  ...  [go, jurong, point, crazy, available, bugis, n...\n",
       "1   ham  ...                     [ok, lar, joking, wif, u, oni]\n",
       "2  spam  ...  [free, entry, 2, wkly, comp, win, fa, cup, fin...\n",
       "\n",
       "[3 rows x 11 columns]"
      ]
     },
     "execution_count": 202,
     "metadata": {
      "tags": []
     },
     "output_type": "execute_result"
    }
   ],
   "source": [
    "def stopwords_removal(txt):\n",
    "  return [w for w in txt if w not in stopwords]\n",
    "\n",
    "\n",
    "df[\"msg_sw_removed\"] = df[\"msg_tokenized\"].apply(stopwords_removal)\n",
    "df.head(3)"
   ]
  },
  {
   "cell_type": "markdown",
   "metadata": {
    "id": "GIurfvVExMQZ"
   },
   "source": [
    "## Categorizing the 'Ham' & 'Spam'\n",
    "* Before going for the lemmatization and stemming, I would like to know what are the words have the most frequency in Ham and Spam."
   ]
  },
  {
   "cell_type": "code",
   "execution_count": null,
   "metadata": {
    "colab": {
     "base_uri": "https://localhost:8080/"
    },
    "executionInfo": {
     "elapsed": 13880,
     "status": "ok",
     "timestamp": 1611589734844,
     "user": {
      "displayName": "Kiam Boon",
      "photoUrl": "https://lh3.googleusercontent.com/a-/AOh14GguWKTGJvP2a1VVYH3mkgQmM58WyxV6eg7JKfcn-yE=s64",
      "userId": "10343331633657001480"
     },
     "user_tz": -480
    },
    "id": "H8a48Fc2fzfn",
    "outputId": "58591053-6177-499d-dbe2-6e93760937fd"
   },
   "outputs": [
    {
     "name": "stdout",
     "output_type": "stream",
     "text": [
      "{'go': 250, 'jurong': 1, 'point': 13, 'crazy': 10, 'available': 13, 'bugis': 7, 'n': 137, 'great': 100, 'world': 32, 'la': 7, 'e': 78, 'buffet': 2, 'cine': 7, 'got': 244, 'amore': 1, 'wat': 95, 'ok': 273, 'lar': 38, 'joking': 6, 'wif': 27, 'u': 985, 'oni': 4, 'dun': 55, 'say': 91, 'early': 33, 'hor': 2, 'c': 60, 'already': 89, 'nah': 10, 'dont': 265, 'think': 128, 'goes': 26, 'usf': 11, 'lives': 4, 'around': 59, 'though': 26, 'even': 57, 'brother': 19, 'like': 231, 'speak': 23, 'treat': 16, 'aids': 1, 'patent': 1, 'per': 12, 'request': 7, 'melle': 6, 'oru': 4, 'minnaminunginte': 3, 'nurungu': 3, 'vettam': 3, 'set': 19, 'callertune': 10, 'callers': 5, 'press': 7, '9': 27, 'copy': 9, 'friends': 53, 'im': 451, 'gon': 59, 'na': 96, 'home': 160, 'soon': 56, 'want': 164, 'talk': 40, 'stuff': 42, 'anymore': 8, 'tonight': 58, 'k': 71, 'ive': 73, 'cried': 1, 'enough': 27, 'today': 125, 'searching': 5, 'right': 89, 'words': 22, 'thank': 27, 'breather': 1, 'promise': 9, 'wont': 53, 'take': 112, 'help': 36, 'granted': 1, 'fulfil': 1, 'wonderful': 16, 'blessing': 2, 'times': 24, 'date': 9, 'sunday': 8, 'oh': 112, 'kim': 1, 'watching': 34, 'eh': 12, 'remember': 31, '2': 309, 'spell': 3, 'name': 34, 'yes': 71, 'v': 47, 'naughty': 6, 'make': 88, 'wet': 3, 'fine': 45, 'that\\x92s': 4, 'way': 100, 'feel': 62, 'gota': 1, 'b': 55, 'seriously': 9, '‘': 37, 'going': 167, 'try': 45, 'months': 9, 'ha': 16, 'ü': 169, 'pay': 31, 'first': 56, 'da': 131, 'stock': 5, 'comin': 11, 'aft': 19, 'finish': 42, 'lunch': 45, 'str': 3, 'lor': 160, 'ard': 21, '3': 44, 'smth': 16, 'ur': 246, 'ffffffffff': 1, 'alright': 23, 'meet': 72, 'sooner': 4, 'forced': 1, 'eat': 38, 'slice': 2, 'really': 85, 'hungry': 12, 'tho': 17, 'sucks': 7, 'mark': 8, 'getting': 46, 'worried': 9, 'knows': 9, 'sick': 9, 'turn': 3, 'pizza': 8, 'lol': 73, 'always': 57, 'convincing': 1, 'catch': 9, 'bus': 29, 'frying': 3, 'egg': 4, 'tea': 6, 'eating': 7, 'moms': 9, 'left': 30, 'dinner': 35, 'love': 190, 'back': 129, 'amp': 84, 'packing': 1, 'car': 39, 'ill': 238, 'let': 70, 'know': 232, 'theres': 26, 'room': 34, 'ahhh': 1, 'work': 97, 'vaguely': 1, 'wait': 57, 'thats': 95, 'still': 147, 'clear': 3, 'sure': 71, 'sarcastic': 2, 'x': 41, 'doesnt': 26, 'live': 17, 'us': 55, 'yeah': 85, 'apologetic': 1, 'fallen': 1, 'actin': 1, 'spoilt': 1, 'child': 2, 'caught': 3, 'till': 21, 'badly': 1, 'cheers': 8, 'tell': 121, 'anything': 75, 'fear': 3, 'fainting': 1, 'housework': 1, 'quick': 8, 'cuppa': 1, 'yup': 43, 'look': 28, 'timings': 1, 'msg': 54, 'xuhui': 3, 'learn': 5, '2nd': 10, 'may': 41, 'lesson': 17, '8am': 2, 'oops': 10, 'roommates': 5, 'done': 45, 'see': 138, 'letter': 4, 'decide': 9, 'hello': 46, 'hows': 45, 'saturday': 9, 'texting': 5, 'youd': 8, 'decided': 16, 'tomo': 17, 'trying': 28, 'invite': 3, 'pls': 98, 'ahead': 7, 'watts': 1, 'wanted': 26, 'weekend': 24, 'abiola': 11, 'forget': 16, 'need': 157, 'crave': 11, 'sweet': 34, 'arabian': 1, 'steed': 1, 'mmmmmm': 2, 'yummy': 3, 'seeing': 14, 'hope': 100, 'man': 44, 'well': 127, 'endowed': 1, 'ltgt': 276, 'inches': 4, 'callsmessagesmissed': 3, 'calls': 12, 'didnt': 79, 'get': 303, 'hep': 1, 'immunisation': 1, 'nigeria': 8, 'fair': 3, 'hopefully': 5, 'tyler': 5, 'cant': 119, 'could': 53, 'maybe': 29, 'ask': 88, 'bit': 45, 'stubborn': 1, 'hospital': 10, 'kept': 4, 'telling': 14, 'weak': 5, 'sucker': 1, 'hospitals': 2, 'suckers': 1, 'thinked': 1, 'time': 189, 'saw': 23, 'class': 43, 'gram': 3, 'usually': 6, 'runs': 3, 'half': 25, 'eighth': 2, 'smarter': 1, 'gets': 11, 'almost': 13, 'whole': 14, 'second': 18, 'fyi': 6, 'ride': 5, 'tomorrow': 80, 'morning': 77, 'hes': 32, 'crashing': 1, 'place': 54, 'wow': 10, 'never': 43, 'realized': 3, 'embarassed': 4, 'accomodations': 1, 'thought': 46, 'liked': 7, 'since': 25, 'best': 37, 'seemed': 4, 'happy': 106, 'cave': 1, 'sorry': 153, 'give': 94, 'offered': 1, 'embarassing': 1, 'mallika': 1, 'sherawat': 1, 'yesterday': 20, 'find': 50, 'lturlgt': 3, 'call': 231, 'later': 134, 'meeting': 43, 'reached': 10, 'yesgauti': 1, 'sehwag': 1, 'odi': 2, 'series': 4, 'pick': 69, '1': 49, 'burger': 1, 'move': 11, 'pain': 25, 'killing': 2, 'good': 224, 'joke': 5, 'girls': 11, 'situation': 9, 'seekers': 1, 'part': 21, 'checking': 11, 'iq': 4, 'took': 19, 'forever': 10, 'come': 227, 'double': 5, 'check': 34, 'hair': 24, 'dresser': 3, 'said': 87, 'wun': 7, 'cut': 13, 'short': 9, 'nice': 57, 'song': 9, 'dedicated': 2, 'day': 188, 'dedicate': 2, 'send': 123, 'valuable': 4, 'frnds': 14, 'rply': 5, 'plane': 5, 'month': 28, 'end': 27, 'wah': 4, 'lucky': 9, 'save': 7, 'money': 53, 'hee': 13, 'finished': 19, 'hi': 117, 'babe': 69, 'wan': 81, 'something': 68, 'xx': 8, 'kkwhere': 2, 'youhow': 1, 'performed': 1, 'waiting': 36, 'machan': 4, 'free': 59, 'cool': 41, 'gentleman': 3, 'dignity': 3, 'respect': 3, 'peoples': 1, 'much': 112, 'shy': 1, 'pa': 32, 'operate': 1, 'looking': 20, 'job': 43, 'tas': 1, 'earn': 2, 'ah': 30, 'next': 46, 'stop': 37, 'network': 4, 'urgnt': 5, 'sms': 18, 'real': 24, 'yo': 36, 'tickets': 7, 'one': 163, 'jacket': 2, 'used': 14, 'multis': 1, 'started': 17, 'requests': 2, 'came': 26, 'bed': 32, 'coins': 4, 'factory': 1, 'ta': 15, 'cash': 12, 'nitros': 2, 'ela': 2, 'kanoil': 1, 'download': 10, 'wen': 25, 'stand': 7, 'close': 14, 'another': 35, 'night': 109, 'spent': 8, 'late': 55, 'afternoon': 27, 'casualty': 1, 'means': 26, 'havent': 45, 'stuff42moro': 1, 'includes': 1, 'sheets': 3, 'smile': 44, 'pleasure': 7, 'trouble': 8, 'pours': 2, 'rain': 9, 'sum1': 3, 'hurts': 8, 'becoz': 4, 'someone': 46, 'loves': 8, 'smiling': 20, 'planning': 8, 'buy': 62, 'lido': 3, '530': 7, 'show': 21, 'telugu': 1, 'moviewat': 1, 'abt': 26, 'loads': 10, 'loans': 1, 'wk': 8, 'hols': 2, 'run': 23, 'forgot': 31, 'hairdressers': 1, 'appointment': 4, 'four': 2, 'shower': 11, 'beforehand': 1, 'cause': 18, 'prob': 16, 'cup': 4, 'coffee': 8, 'animation': 1, 'please': 77, 'text': 68, 'nothing': 34, 'else': 23, 'okay': 26, 'price': 7, 'long': 42, 'legal': 4, 'ave': 5, 'ams': 1, 'gone': 15, '4the': 1, 'driving': 20, 'test': 22, 'yet': 48, 'youre': 51, 'mean': 20, 'guess': 31, 'gave': 10, 'boston': 5, 'men': 7, 'changed': 6, 'search': 15, 'location': 2, 'nyc': 4, 'cuz': 7, 'signin': 1, 'page': 6, 'says': 27, 'umma': 7, 'life': 76, 'vava': 3, 'lot': 35, 'dear': 94, 'thanks': 60, 'wishes': 8, 'birthday': 35, 'making': 23, 'truly': 2, 'memorable': 1, 'aight': 33, 'hit': 11, 'would': 72, 'ip': 1, 'address': 17, 'considering': 4, 'computer': 7, 'isnt': 17, 'minecraft': 1, 'server': 1, 'grumpy': 1, 'old': 18, 'people': 47, 'mom': 12, 'better': 41, 'lying': 1, 'play': 20, 'jokes': 5, 'worry': 22, 'busy': 17, 'plural': 1, 'noun': 2, 'research': 4, 'dinnermsg': 1, 'cos': 76, 'new': 67, 'things': 51, 'scared': 5, 'mah': 13, 'loud': 3, 'wa': 3, 'openin': 1, 'sentence': 3, 'formal': 1, 'anyway': 27, 'juz': 25, 'tt': 4, 'eatin': 7, 'puttin': 2, 'weighthaha': 1, 'anythin': 3, 'special': 34, 'happened': 16, 'entered': 5, 'cabin': 5, 'bday': 15, 'boss': 9, 'felt': 13, 'askd': 12, '4': 174, 'invited': 8, 'apartment': 8, 'went': 61, 'goodo': 2, 'must': 22, 'friday': 14, 'eggpotato': 1, 'ratio': 1, 'tortilla': 2, 'needed': 3, 'hmmmy': 1, 'uncle': 12, 'informed': 3, 'paying': 7, 'school': 27, 'directly': 6, 'food': 23, 'applespairsall': 1, 'malarky': 1, 'sao': 1, 'mu': 14, '12': 4, 'predict': 1, 'üll': 3, 'buying': 9, 'knowyetunde': 1, 'hasnt': 5, 'sent': 58, 'bother': 7, 'sending': 10, 'involve': 1, 'shouldnt': 5, 'imposed': 1, 'apologise': 3, 'hey': 106, 'girl': 29, 'r': 131, 'del': 1, 'bak': 8, 'sum': 2, 'lucyxx': 1, 'kkhow': 4, 'cost': 10, 'tmorrowpls': 1, 'accomodate': 1, 'answer': 14, 'question': 15, 'haf': 23, 'msn': 2, 'yijuehotmailcom': 1, 'rooms': 4, 'befor': 4, 'activities': 4, 'lazy': 9, 'type': 15, 'lect': 9, 'pouch': 2, 'sir': 33, 'mail': 24, 'swt': 2, 'nver': 1, 'tired': 12, 'little': 27, 'lovable': 10, 'persons': 7, 'cozsomtimes': 1, 'occupy': 2, 'biggest': 1, 'hearts': 1, 'gud': 64, 'ni8': 14, 'open': 16, 'ya': 55, 'dot': 1, 'whats': 32, 'staff': 2, 'taking': 17, 'ummmawill': 1, 'inour': 1, 'begin': 4, 'qatar': 4, 'pray': 8, 'hard': 13, 'ki': 6, 'deleted': 4, 'contact': 12, 'sindu': 1, 'birla': 3, 'soft': 3, 'wine': 11, 'flowing': 2, 'nevering': 1, 'thk': 50, 'plaza': 2, 'typical': 1, 'reply': 43, 'everywhere': 2, 'dirt': 1, 'floor': 3, 'windows': 2, 'shirt': 4, 'sometimes': 8, 'mouth': 2, 'comes': 18, 'dream': 7, 'without': 28, 'chores': 1, 'joy': 4, 'lots': 15, 'tv': 22, 'shows': 5, 'exist': 1, 'hail': 1, 'mist': 1, 'become': 6, 'aaooooright': 1, 'leaving': 19, 'house': 35, 'interview': 4, 'boy': 30, 'meare': 1, 'missing': 26, 'keep': 62, 'safe': 11, 'miss': 72, 'envy': 1, 'everyone': 16, 'sees': 1, 'parentsi': 1, 'hand': 15, 'excited': 1, 'spend': 10, 'points': 4, 'cultures': 1, 'module': 2, 'frnd': 10, 'avoid': 2, 'missunderstding': 1, 'wit': 15, 'beloved': 2, 'ones': 8, 'escape': 4, 'fancy': 5, 'bridge': 1, 'needs': 15, 'lager': 1, 'completely': 8, 'formclark': 2, 'also': 68, 'utter': 2, 'waste': 7, 'axis': 1, 'bank': 12, 'account': 20, 'hmmm': 9, 'hop': 7, 'muz': 11, 'discuss': 5, 'liao': 35, 'coming': 50, 'bloody': 4, 'hell': 12, 'believe': 18, 'surname': 1, 'mr': 10, 'clue': 1, 'spanish': 1, 'begins': 1, 'bath': 11, 'goodfine': 1, 'youve': 10, 'carlos': 15, 'mall': 3, 'turns': 6, 'staying': 9, 'til': 25, 'smoke': 18, 'worth': 4, 'log': 7, 'spoke': 6, 'maneesha': 3, 'wed': 9, 'satisfied': 3, 'experience': 7, 'toll': 3, 'lifted': 1, 'hopes': 1, 'offer': 7, 'especially': 9, 'approaches': 1, 'studying': 9, 'anyways': 4, 'gr8': 12, 'trust': 9, 'guys': 33, 'greatbye': 1, 'handsome': 1, 'finding': 1, 'working': 29, 'towards': 7, 'net': 7, 'mummy': 3, 'wheres': 8, 'boytoy': 16, 'haha': 48, 'awesome': 19, 'minute': 12, 'xmas': 13, 'radio': 3, 'jus': 35, 'bathe': 10, 'sis': 17, 'using': 7, 'finishes': 3, 'joined': 4, 'league': 1, 'touch': 16, 'deal': 8, 'friend': 36, 'personal': 4, 'week': 66, 'finally': 14, 'completed': 2, 'course': 14, 'however': 7, 'suggest': 3, 'stays': 2, 'able': 26, 'ors': 1, 'every': 39, 'stool': 1, 'settled': 4, 'year': 44, 'wishin': 2, 'mrng': 15, 'hav': 26, 'story': 20, 'hamster': 2, 'dead': 8, 'tmr': 28, '1pm': 1, 'orchard': 11, 'mrt': 9, 'kate': 11, 'evening': 26, 'babyjontet': 1, 'txt': 13, 'xxx': 23, 'found': 16, 'enc': 1, 'bucks': 7, 'darlin': 14, 'college': 15, 'refilled': 2, 'successfully': 3, 'inr': 2, 'ltdecimalgt': 23, 'keralacircle': 2, 'prepaid': 2, 'balance': 4, 'rs': 10, 'transaction': 5, 'id': 29, 'kr': 2, 'goodmorning': 14, 'sleeping': 17, 'ga': 1, 'alter': 1, '11': 4, 'dat': 39, 'ericsson': 2, 'oso': 23, 'oredi': 15, 'dats': 3, 'straight': 4, 'dogg': 1, 'connection': 4, 'refund': 1, 'bill': 7, 'shoot': 4, 'big': 35, 'ready': 35, 'bruv': 2, 'break': 13, 'rewarding': 2, 'semester': 12, 'chat': 14, 'kkgoodstudy': 1, 'noe': 20, 'leh': 29, 'sounds': 15, 'match': 5, 'heading': 2, 'draw': 5, 'prediction': 1, 'slept': 8, 'past': 7, 'nights': 3, 'easy': 18, 'ahsen': 2, 'selected': 4, 'exam': 11, 'march': 13, 'use': 36, 'gt': 8, 'atm': 3, 'register': 1, 'os': 2, 'called': 32, 'ubandu': 1, 'installing': 2, 'diskyou': 1, 'important': 14, 'files': 4, 'system': 6, 'repair': 2, 'shop': 13, 'happen': 20, 'romantic': 2, 'nite': 21, 'scenery': 1, 'appreciate': 7, 'company': 15, 'elama': 1, 'po': 3, 'mudyadhu': 1, 'strict': 1, 'teacher': 3, 'bcoz': 12, 'teaches': 4, 'conducts': 2, 'lessons': 9, 'gandhipuram': 1, 'walk': 19, 'cross': 1, 'road': 8, 'side': 13, 'street': 7, 'rubber': 1, 'battery': 7, 'died': 5, 'yeshere': 2, 'printed': 2, 'upstairs': 2, 'closer': 4, 'youwhen': 1, 'wil': 19, 'reach': 26, 'theory': 4, 'argument': 5, 'wins': 4, 'loses': 3, 'person': 43, 'argue': 4, 'kick': 5, 'correct': 8, 'tomarrow': 3, 'final': 2, 'hearing': 1, 'laptop': 12, 'case': 14, 'pleassssssseeeeee': 1, 'tel': 12, 'avent': 3, 'sportsx': 1, 'shining': 2, 'meant': 14, 'signing': 2, 'although': 2, 'told': 53, 'baig': 1, 'face': 29, 'watches': 1, 'watch': 33, 'fr': 13, 'thanx': 31, 'everything': 30, 'uve': 1, 'touched': 3, 'commercial': 2, 'website': 4, 'slippers': 3, 'asked': 22, 'kallis': 6, 'bat': 3, 'innings': 3, 'goodnight': 8, 'fix': 5, 'wake': 26, 'dearly': 3, 'missed': 20, 'sleep': 56, 'ranjith': 3, 'cal': 6, 'drpd': 2, 'deeraj': 2, 'deepak': 2, '5min': 3, 'hold': 15, 'bcums': 4, 'angry': 18, 'wid': 16, 'dnt': 13, 'coz': 19, 'childish': 5, 'true': 23, 'showing': 7, 'deep': 10, 'affection': 4, 'care': 63, 'luv': 32, 'kettoda': 4, 'manda': 4, 'doinghow': 2, 'ups': 1, '3days': 1, 'shipping': 3, 'takes': 12, '2wks': 1, 'usps': 1, 'lag': 2, 'bribe': 1, 'nipost': 1, 'lem': 8, 'necessarily': 2, 'expect': 4, 'headin': 2, 'mmm': 4, 'jolt': 2, 'suzy': 1, 'lover': 7, 'parked': 3, 'mini': 2, 'shopping': 23, 'disturb': 9, 'luton': 1, '0125698789': 1, 'ring': 15, 'h': 4, 'dint': 6, 'wana': 11, 'plan': 32, 'trip': 17, 'sometme': 1, 'evo': 1, 'flash': 3, 'jealous': 3, 'sorting': 3, 'narcotics': 1, 'ended': 6, 'sunny': 6, 'rays': 5, 'leaves': 10, 'worries': 9, 'blue': 12, 'bay': 4, 'might': 34, 'objection': 1, 'bf': 5, 'rob': 1, 'mack': 1, 'gf': 2, 'theater': 1, 'handed': 3, 'celebrations': 1, 'full': 21, 'swing': 12, 'tool': 2, 'definitely': 6, 'keepintouch': 1, 'gdeve': 1, 'far': 16, 'okie': 19, 'usual': 7, 'passed': 4, 'last': 65, 'ahold': 1, 'anybody': 5, 'throw': 4, 'lets': 17, 'baby': 28, 'cruisin': 1, 'hour': 30, 'fone': 9, 'jenny': 2, 'ge': 7, 'dearshall': 1, 'tonitebusy': 1, 'streetshall': 1, 'update': 5, 'tonitethings': 1, 'okvarunnathu': 1, 'edukkukayee': 1, 'raksha': 1, 'ollubut': 1, 'sense': 7, 'gautham': 3, 'stupid': 10, 'cam': 2, 'buzy': 3, 'accidentally': 4, 'message': 51, 'resend': 2, 'unless': 9, 'gurl': 1, 'appropriate': 1, 'hurt': 23, 'tease': 3, 'cry': 5, 'die': 12, 'plz': 25, 'rose': 8, 'grave': 2, 'bslvyl': 13, 'phone': 80, 'tomocant': 2, 'somebody': 9, 'high': 4, 'diesel': 1, 'shit': 34, 'shocking': 2, 'scary': 3, 'imagine': 7, 'def': 4, 'somewhere': 10, 'crash': 2, 'taxi': 2, 'fridge': 1, 'meal': 3, 'womdarfull': 1, 'actor': 2, 'remb': 1, 'book': 17, 'jos': 1, 'friendship': 21, 'hanging': 4, 'thread': 2, 'garage': 3, 'keys': 3, 'arent': 7, 'bookshelf': 1, 'accept': 9, 'dayu': 3, 'sister': 17, 'dear1': 3, 'best1': 3, 'clos1': 3, 'lvblefrnd': 3, 'jstfrnd': 3, 'cutefrnd': 3, 'lifpartnr': 3, 'belovd': 4, 'swtheart': 3, 'bstfrnd': 3, 'enemy': 4, '2day': 4, 'normal': 8, 'waythis': 1, 'uniquei': 1, 'rest': 9, 'mylife': 1, 'wot': 23, 'lost': 11, 'made': 30, 'kkadvance': 1, 'pongal': 3, 'kb': 7, 'power': 8, 'yoga': 7, 'dunno': 31, 'tahan': 2, 'anot': 2, 'lo': 2, 'dude': 23, 'afraid': 3, 'cake': 3, 'merry': 9, 'christmas': 11, 'kisses': 4, 'cud': 4, 'ppl': 5, 'gona': 3, 'l8': 1, 'buses': 2, 'waitin': 4, 'pete': 9, 'guild': 1, 'bristol': 2, 'plans': 11, 'flight': 2, 'problem': 35, 'dahow': 2, 'todays': 8, 'sign': 6, 'track': 6, 'record': 3, 'reading': 13, 'women': 2, 'read': 14, 'light': 15, 'kkapo': 1, 'kgood': 1, 'movie': 18, 'return': 6, 'immediately': 5, 'chance': 12, 'evaporated': 1, 'violated': 2, 'privacy': 1, 'stealing': 1, 'number': 64, 'employers': 1, 'paperwork': 2, 'report': 6, 'supervisor': 3, 'tadaaaaa': 1, 'wined': 1, 'dined': 1, 'sleepingand': 3, 'surfing': 5, 'calling': 14, 'post': 14, '1000s': 1, 'texts': 9, 'wiv': 6, 'caroline': 2, 'favourite': 3, 'bless': 2, 'hiding': 1, 'stranger': 2, 'interested': 7, 'cleared': 3, 'two': 32, 'round': 7, 'gudnitetcpractice': 2, 'dis': 28, 'yijue': 6, 'huiming': 1, 'num': 6, 'small': 11, 'prestige': 1, 'jeremiah': 1, 'iphone': 1, 'apeshit': 1, 'ever': 32, 'misbehaved': 2, 'slap': 3, 'urself': 9, 'fault': 6, 'basically': 5, 'figure': 10, 'alcohol': 3, 'jay': 11, 'safely': 1, 'weed': 10, 'ish': 6, 'minutes': 27, '5': 34, 'ago': 12, 'wtf': 4, 'callingforgot': 1, 'onam': 1, 'sirjii': 1, 'remembered': 3, 'met': 9, 'insurance': 7, 'personmeet': 1, 'insha': 1, 'allahrakhesh': 1, 'ex': 10, 'tata': 1, 'aig': 1, 'tisscotayseer': 1, 'unemployed': 2, 'moment': 10, 'st': 10, 'andrewsboy': 1, 'cold': 6, 'posted': 6, 'chikku': 12, 'chikkudb': 1, 'audreys': 1, 'status': 2, 'forward': 7, 'sunshine': 1, 'dawns': 1, 'refreshed': 1, 'alive': 2, 'breathe': 2, 'air': 6, 'z': 1, 'uniform': 1, 'geeee': 5, 'woke': 10, 'wish': 50, 'cuddling': 2, 'spoil': 1, 'min': 23, 'talking': 13, 'agree': 2, 'willing': 5, 'seen': 12, 'mei': 6, 'didt': 5, 'recognise': 2, 'happening': 7, 'lindsay': 1, 'years': 18, 'sighs': 5, 'bars': 1, 'ptbo': 3, 'heron': 1, 'payasam': 1, 'rinu': 1, 'brings': 8, 'taught': 1, 'becaus': 1, 'verifying': 1, 'project': 14, 'prabu': 1, 'mistake': 6, 'body': 6, 'repairs': 1, 'quite': 34, 'slow': 10, 'tests': 3, 'guide': 5, 'ovulation': 2, 'relax': 6, 'reason': 14, 'followin': 1, 'couple': 12, 'wallet': 1, 'leave': 53, '945': 1, 'owl': 1, 'licks': 2, 'customer': 9, 'mm': 10, 'fun': 22, 'huh': 20, 'sat': 26, 'intro': 5, 'pilates': 6, 'kickboxing': 1, 'office': 24, 'lap': 1, 'days': 27, 'shut': 3, 'bout': 14, '730ish': 1, 'performance': 1, 'award': 1, 'calculated': 1, 'monthnot': 1, 'current': 3, 'period': 3, 'actually': 32, 'rock': 10, 'putting': 6, 'business': 3, 'put': 28, 'pictures': 5, 'ass': 13, 'facebook': 8, 'picture': 2, 'al': 7, 'salam': 1, 'wahleykkumsharing': 1, 'newsby': 1, 'grace': 2, 'god': 32, 'tayseertissco': 1, 'joinedhope': 1, 'fineinshah': 1, 'allahmeet': 1, 'sometimerakheshvisitor': 1, 'india': 10, 'hmmmkbut': 1, 'change': 22, 'field': 2, 'quickly': 3, 'dai': 6, 'administrator': 2, 'chechi': 3, 'cream': 4, 'shipped': 2, 'none': 8, 'yep': 10, 'loxahatchee': 2, 'tree': 4, 'burning': 2, 'starts': 5, 'stoners': 1, 'slightly': 2, 'disastrous': 1, 'pm': 11, 'fav': 1, 'darlings': 2, 'wld': 2, 'stay': 20, 'drink': 17, 'busetop': 1, 'messagesome': 2, 'sendername': 2, 'sentdate': 2, 'via': 9, 'fullonsmscom': 6, 'iron': 1, 'thing': 60, 'okies': 1, 'yan': 5, 'jiu': 5, 'skip': 2, 'den': 32, 'blah': 3, 'bring': 26, 'wendy': 1, 'whatsup': 2, 'goal': 1, 'head': 18, 'yesfrom': 1, 'siva': 1, 'hostel': 5, 'aha': 8, 'receive': 5, 'voice': 10, 'speaking': 2, 'expression': 2, '1childish': 1, '2naughty': 1, '3sentiment': 1, '4rowdy': 1, '5ful': 1, 'attitude': 1, '6romantic': 1, '7shy': 1, '8attractive': 1, '9funny': 1, 'irritating': 3, 'shell': 6, 'aathiwhere': 3, 'urination': 1, '7': 26, 'esplanade': 4, 'mind': 39, 'giving': 7, 'lift': 7, 'wnt': 6, 'bmw': 3, 'urgentlyits': 3, 'vry': 6, 'urgentbut': 3, 'hv': 5, 'shortage': 3, 'lacsthere': 3, 'source': 3, 'arng': 3, 'amt': 5, 'lacsthats': 3, 'fifteen': 4, 'fucking': 15, 'respond': 4, 'booked': 10, 'ticket': 6, 'hillsborough': 1, 'th': 12, 'askin': 6, 'dollars': 5, 'shoul': 1, 'g': 22, 'iouri': 3, 'ten': 13, 'applebees': 2, 'txtjourney': 1, 'gdnow': 1, '50': 4, 'mins': 12, 'arrange': 4, 'yeshe': 3, 'greatbhaji': 2, 'cricketer': 2, 'sachin': 2, 'worldvery': 2, 'tough': 7, 'supposed': 12, 'oic': 3, 'tot': 21, 'din': 8, 'group': 6, 'werethe': 1, 'monkeespeople': 1, 'monkeyaround': 1, 'howdy': 1, 'gorgeous': 4, 'howu': 1, 'doin': 11, 'foundurself': 1, 'jobyet': 1, 'sausagelove': 1, 'jen': 4, 'blimey': 1, 'exercise': 1, 'kinda': 8, 'hmm': 11, 'concentration': 1, '10': 10, 'hanks': 1, 'lotsly': 1, 'kkwhat': 1, 'detail': 1, 'transferacc': 1, 'optimistic': 1, 'improve': 2, 'si': 5, 'oreo': 2, 'truffles': 2, 'amy': 1, 'ure': 10, 'beautiful': 20, 'intelligent': 4, 'woman': 4, 'don\\x92t': 5, 'result': 4, 'consistently': 1, 'kind': 16, 'start': 30, 'asking': 11, 'practicum': 1, 'links': 1, 'ears': 1, 'ttyl': 6, '120': 1, 'bad': 30, 'thru': 7, 'different': 10, 'feelingwavering': 1, 'decisions': 2, 'coping': 2, 'individualtime': 1, 'heal': 1, 'gives': 6, 'reasons': 4, 'bye': 4, 'railway': 3, 'princess': 32, 'receiving': 2, 'oral': 1, 'doggy': 3, 'style': 8, 'fave': 3, 'position': 2, 'enjoy': 29, 'roads': 2, 'slippery': 1, 'bike': 1, 'many': 56, 'language': 2, 'screamed': 2, 'enters': 1, 'remove': 6, 'flat': 5, 'rate': 2, 'transfered': 3, 'removed': 1, 'banks': 3, 'differ': 1, 'charges': 3, 'differbe': 1, '9ja': 3, 'details': 18, 'line': 7, 'broken': 2, 'heart': 40, 'cum': 9, 'infront': 2, 'wise': 3, '9t': 3, 'aathilove': 3, 'tension': 2, 'ahwhat': 1, 'machiany': 1, '8th': 6, 'whenre': 1, 'thinking': 19, 'mcr': 1, 'sec': 5, 'taste': 2, 'fb': 6, 'jaykwon': 1, 'thuglyfe': 1, 'falconerf': 1, 'win': 12, 'depends': 7, 'quality': 5, 'boye': 3, 'faded': 1, 'glory': 1, '6': 26, 'ralphs': 1, 'fixed': 6, 'accounts': 3, 'dry': 4, 'trade': 2, 'credit': 5, 'card': 13, 'sorryin': 2, 'reunion': 1, 'nowcan': 1, 'meh': 9, 'nope': 15, 'monday': 10, 'replied': 5, 'accenture': 1, 'confirm': 10, 'jackson': 1, 'rec': 1, 'center': 2, '7ish': 2, 'reache': 1, 'fighting': 5, 'either': 12, 'lose': 20, 'bt': 21, 'fightng': 3, 'some1': 5, 'dificult': 3, 'nuerologist': 1, 'lolnice': 1, 'fish': 3, 'water': 10, 'bored': 20, 'outside': 15, 'westshore': 1, 'hyde': 2, 'park': 11, 'village': 3, 'near': 10, 'anthony': 2, 'bringing': 3, 'fees': 3, 'rent': 9, 'significance': 1, 'opinion': 8, 'jada': 4, 'kusruthi': 4, 'silent': 9, 'spl': 4, 'character': 6, 'matured': 4, '8': 15, 'stylish': 5, 'simple': 17, 'latest': 3, 'gs': 1, 'scrounge': 2, 'ammo': 1, 'ak': 1, 'prabhaim': 3, 'sorydarealyfrm': 3, 'sory': 3, 'forgiven': 2, 'nojst': 1, 'tat': 6, 'sno': 1, 'competition': 3, 'transport': 2, 'less': 10, 'problematic': 1, 'join': 11, 'definite': 2, 'nos': 2, 'booking': 2, 'fri': 13, 'unconscious': 1, 'children': 3, 'adults': 1, 'behave': 3, 'abnormally': 1, 'ebay': 2, 'elsewhere': 3, 'shall': 29, 'pickle': 2, 'tacos': 2, 'rude': 1, 'campus': 6, 'pretty': 15, 'lady': 6, 'single': 7, 'doublefaggot': 1, 'todaysundaysunday': 3, 'holidayso': 3, 'hoping': 10, 'l8r': 6, 'malaria': 7, 'bani': 1, 'leads': 1, 'passionate': 4, 'kiss': 31, 'across': 10, 'sea': 15, 'probably': 33, 'lt': 3, 'fat': 7, 'fingers': 8, 'buttons': 1, 'ummmmmaah': 3, 'returns': 5, 'tirupur': 3, 'famous': 1, 'quote': 4, 'develop': 2, 'ability': 2, 'listen': 12, 'unconditionally': 1, 'losing': 4, 'temper': 1, 'self': 7, 'confidence': 6, 'married': 5, 'oclock': 1, 'mine': 16, 'bash': 1, 'recovery': 2, 'rather': 7, 'pass': 6, 'cooped': 1, 'hotel': 5, 'invitation': 1, 'cali': 1, 'english': 5, 'blokes': 2, 'weddin': 1, 'omw': 7, 'btw': 4, 'alibi': 1, 'cutting': 2, 'sink': 1, 'paces': 1, 'cage': 1, 'cock': 2, 'surrounded': 1, 'reminding': 2, 'owns': 2, 'cuck': 1, 'hurry': 6, 'weeddeficient': 1, 'three': 4, 'acknowledgement': 1, 'astoundingly': 1, 'tactless': 1, 'generally': 3, 'faggy': 2, 'demand': 2, 'blood': 3, 'oath': 1, 'fo': 2, 'warm': 8, 'milk': 3, 'youll': 13, 'magic': 1, 'loose': 2, 'weight': 7, 'pan': 2, 'cheap': 6, 'perhaps': 2, 'silly': 1, 'likely': 3, 'uv': 1, 'causes': 1, 'mutations': 1, 'sunscreen': 1, 'essential': 4, 'thesedays': 1, 'lunchyou': 1, 'onlinewhy': 1, 'pics': 7, 'aiyo': 6, 'fast': 14, 'workin': 8, 'bao': 1, 'sugardad': 1, 'ahgee': 1, 'meim': 1, 'brownie': 1, 'geeeee': 2, 'barely': 6, 'fuck': 28, '2mrw': 5, 'ninish': 1, 'icky': 1, 'american': 3, 'freek': 1, 'callin': 3, 'oooh': 2, 'ridden': 1, 'ey': 2, 'gym': 12, 'whatever': 17, 'smiles': 5, 'daddy': 8, 'scream': 6, 'dick': 2, 'missy': 1, 'yar': 13, 'mum': 15, 'sch': 22, 'clean': 7, 'lab': 4, 'goggles': 1, 'door': 7, 'arguing': 1, 'arngd': 1, 'marriage': 6, 'walkin': 1, 'unfortuntly': 1, 'snake': 3, 'bites': 1, 'dancing': 2, 'frnt': 1, 'sayin': 1, 'bite': 3, 'izzit': 7, 'exwife': 1, 'kids': 10, 'scotland': 2, 'jjc': 1, 'tendencies': 1, 'headache': 3, 'quit': 4, 'jazz': 5, 'yogasana': 5, 'em': 9, 'meive': 1, 'hardly': 2, 'gotany': 1, 'srsly': 1, 'yi': 1, 'grand': 4, 'prix': 1, 'choose': 7, 'stands': 1, 'ends': 8, 'nitz': 1, 'exhausted': 3, 'train': 9, 'pie': 4, 'mums': 4, 'present': 7, 'ar': 7, 'blastin': 1, 'tsunamis': 2, 'occur': 1, 'rajnikant': 1, 'stopped': 5, 'swimming': 3, 'indian': 5, 'oceand': 1, 'noon': 11, 'bridgwater': 1, 'banter': 1, 'neva': 18, 'imma': 7, 'somethin': 5, 'valentine': 8, 'game': 12, 'answers': 4, 'ques': 2, 'colour': 4, 'suits': 2, 'bestrply': 1, 'dependents': 1, 'thanx4': 1, 'cer': 1, 'often': 4, 'soonc': 1, 'himthen': 1, 'future': 4, 'valentines': 7, 'hundreds': 1, 'handsomes': 1, 'beauties': 1, 'aunties': 1, 'uncles': 4, '1st': 12, 'shock': 1, 'shuhui': 7, 'leona': 3, 'reaction': 2, 'family': 21, 'happiness': 13, 'snow': 14, 'weather': 6, 'together': 21, 'friendships': 1, 'grow': 1, 'dismay': 1, 'alex': 7, 'concerned': 1, 'pub': 15, 'bud': 4, 'drinks': 3, 'useful': 2, 'hear': 29, 'officially': 2, 'paid': 6, 'market': 3, 'tootsie': 1, 'pop': 3, 'longer': 8, 'darren': 12, 'forwarded': 5, 'seventeen': 1, 'pounds': 2, 'seven': 3, 'hundred': 1, 'ml': 1, '–': 9, 'funny': 7, 'sweetheart': 2, 'biola': 1, 'login': 2, 'dad': 28, 'fetching': 1, 'hours': 16, 'restock': 1, 'thanksgiving': 3, 'sound': 10, 'effects': 2, 'brighten': 1, 'wee': 2, 'thursday': 5, 'allo': 1, 'braved': 1, 'taken': 2, 'trains': 2, 'triumphed': 1, 'ham': 2, 'jolly': 2, 'cartoon': 5, 'listening': 4, 'music': 3, 'eve': 14, 'temple': 4, 'church': 4, 'uncomfortable': 1, 'email': 17, 'gentle': 5, 'sonetimes': 1, 'rough': 1, 'starting': 5, 'panic': 2, 'tuesday': 8, 'wesleys': 1, 'town': 24, 'bet': 4, 'hella': 5, 'drugs': 10, 'drug': 5, 'dealers': 1, 'impatient': 2, 'sun': 16, 'earth': 5, 'cloud': 1, 'river': 2, 'evng': 6, 'wikipediacom': 1, 'lays': 2, 'envelope': 4, 'paper': 11, 'repent': 1, 'fetch': 6, 'de': 24, 'prepare': 4, 'study': 9, 'positions': 1, 'kama': 1, 'sutra': 1, 'en': 2, 'nange': 1, 'bakra': 1, 'kalstiyathen': 1, 'teacoffee': 1, 'carlosll': 1, 'lakhs': 1, 'ho': 9, 'belly': 5, 'laugh': 9, 'ditto': 1, 'saying': 20, 'peace': 3, 'knw': 17, 'wetherspoons': 1, 'piggy': 1, 'awake': 7, 'freaky': 1, 'yelling': 2, 'scrappy': 1, 'lonely': 3, 'hex': 2, 'explain': 4, 'sdryb8i': 1, 'xy': 9, 'king': 6, 'crying': 1, 'building': 3, 'map': 3, 'imprtant': 1, 'tomorw': 1, 'dearme': 1, 'cherthalain': 1, 'cochin': 2, 'bfore': 1, 'starti': 1, 'accordinglyor': 1, 'comingtmorow': 1, 'engaged': 1, 'ans': 6, 'holiday': 12, 'torch': 7, 'bold': 7, 'farm': 2, '4d': 2, '1405': 1, '1680': 1, '1843': 1, 'law': 5, 'purchase': 1, 'box': 5, 'poop': 2, 'looks': 7, 'gpu': 2, 'entrepreneurs': 1, 'alexs': 1, 'corporation': 1, 'gap': 6, '…': 14, 'ku': 1, 'prevent': 1, 'dehydration': 1, 'fluids': 1, 'weird': 4, 'idea': 7, 'deari': 2, 'soso': 1, 'smsd': 1, 'away': 21, 'trek': 1, 'harri': 1, 'drivin': 4, 'height': 4, 'aeronautics': 2, 'professors': 2, 'wer': 6, 'calld': 2, 'sit': 7, 'aeroplane': 2, 'aftr': 6, 'ws': 3, 'students': 4, 'dey': 5, 'hurried': 2, 'saidif': 2, 'studentsthis': 2, 'datz': 2, 'seems': 9, 'timing': 5, 'shitstorm': 1, 'attributed': 1, 'stress': 3, 'dorm': 2, 'menu': 6, 'sell': 10, 'sth': 1, 'specs': 1, 'membership': 1, 'px3748': 1, 'macha': 1, 'upseti': 1, 'assume': 4, 'mindsetbelieve': 1, 'uslet': 1, 'againcall': 1, 'anytime': 4, 'sfine': 1, 'wondar': 1, 'flim': 1, 'cookies': 2, 'jelly': 1, 'running': 5, 'stillmaybe': 1, 'feeling': 19, 'sameso': 1, 'itor': 1, 'admiti': 1, 'madthen': 1, 'correctionor': 1, 'lifeand': 1, 'worldmay': 1, 'runninglets': 1, 'scrumptious': 1, 'wants': 20, 'ba': 2, 'dao': 1, 'order': 7, 'half8th': 2, 'exactly': 6, 'jide': 1, 'visiting': 1, 'spring': 2, 'yay': 6, 'steak': 1, 'convincingjust': 1, 'twice': 5, 'neglect': 1, 'msgs': 7, 'itjust': 1, 'tonite': 8, 'opportunityall': 1, 'fastpls': 1, 'add': 8, 'prayers': 1, 'dearrakhesh': 1, 'mayb': 13, 'rite': 19, 'gd': 16, 'faster': 3, 'gals': 4, 'attached': 2, 'glad': 9, 'hadnt': 1, 'clocks': 1, 'shouted': 3, 'realised': 1, 'wahay': 1, 'shorter': 3, 'ladies': 3, 'gaze': 1, 'eyes': 9, '930': 2, 'weve': 4, 'spoken': 4, 'gist': 2, 'gim': 3, 'lip': 2, 'caveboy': 1, 'library': 8, 'realy': 5, 'sorryi': 1, 'confused': 2, 'holla': 7, 'anyone': 17, 'spare': 2, 'top': 6, 'faith': 1, 'makes': 23, 'possiblehope': 1, 'worklove': 1, 'beautifulmay': 1, 'christmasmerry': 1, 'youcarlos': 1, 'isare': 1, 'phones': 2, 'vibrate': 1, 'acting': 2, 'grandmas': 1, 'hungover': 1, 'gua': 1, 'mt': 3, 'faber': 1, 'yest': 7, 'wishing': 10, 'mas': 3, 'advance': 6, 'nt': 14, 'goin': 21, 'meetin': 4, 'wonder': 11, 'tis': 5, 'theyre': 7, 'dramatic': 1, 'schools': 2, 'closed': 2, 'apparently': 4, 'drive': 20, 'inch': 2, 'anywhere': 3, 'damn': 7, 'hunting': 1, 'drunkard': 1, 'wats': 13, 'idc': 1, 'weaseling': 1, 'row': 3, 'space': 5, 'picking': 12, 'trash': 1, 'smokes': 4, 'begging': 2, 'lovely': 15, 'sing': 3, 'guy': 24, 'slave': 8, 'punish': 1, 'beerage': 1, 'randomlly': 1, 'within': 6, 'opening': 2, 'couldnt': 5, 'shes': 29, 'fixes': 1, 'spelling': 1, 'diff': 3, 'word': 12, 'enjoyed': 2, 'fondly': 1, 'bein': 3, 'thot': 2, 'ywhere': 1, 'dogbreath': 1, 'sounding': 1, 'jan': 3, 'omg': 8, 'weighed': 1, 'woohoo': 1, 'uncountable': 1, 'dictionary': 4, 'pieces': 3, 'petey': 1, 'whereare': 1, 'friendsare': 1, 'thekingshead': 1, 'canlove': 1, 'nic': 2, 'b4': 8, 'appt': 4, 'lttimegt': 7, 'dled': 1, '3d': 3, 'imp': 2, 'aint': 9, 'smokin': 1, 'boooo': 1, 'bec': 2, 'ugh': 12, 'ssnervous': 1, 'costumes': 1, 'gift': 7, 'yowifes': 1, 'hint': 3, 'borrow': 2, 'bag': 5, 'model': 6, 'youi': 1, 'galileo': 2, 'dobby': 1, 'responding': 2, 'boo': 6, 'enjoyin': 2, 'yourjob': 1, 'gettin': 8, 'hunnyhope': 1, 'oktake': 2, 'i\\x92llspeak': 1, '2u': 5, 'soonlots': 1, 'loveme': 2, 'xxxx': 3, 'starshine': 1, 'ache': 4, 'sips': 1, 'cappuccino': 2, 'teasing': 6, 'bits': 1, 'hahahause': 3, 'brain': 3, 'turned': 1, 'green': 4, 'burial': 1, 'mojibiola': 2, 'mate': 14, 'rv': 1, 'hol': 1, 'haven\\x92t': 2, 'ages': 3, 'roadsrvx': 1, 'skyped': 2, 'kz': 2, 'sura': 4, 'given': 3, 'ultimatum': 2, 'countin': 2, 'aburo': 2, 'surely': 6, 'successful': 3, 'charge': 10, 'inconsiderate': 2, 'nag': 2, 'recession': 2, 'hence': 2, 'soo': 2, 'understand': 10, '2morrow': 3, 'comprehensive': 1, 'prashanthettans': 1, 'mother': 5, 'kkwhen': 2, 'meanwhile': 4, 'suite': 2, 'xavier': 3, 'seconds': 3, 'warning': 2, 'samantha': 1, 'playing': 5, 'jays': 3, 'guitar': 1, 'impress': 1, 'doug': 1, 'realizes': 1, 'stomach': 3, 'trauma': 1, 'swear': 1, 'officewhats': 1, 'mattermsg': 1, 'nowi': 2, 'shoes': 2, 'inner': 1, 'tigress': 1, 'activate': 1, 'version': 6, 'poor': 10, 'babyhope': 1, 'urfeeling': 1, 'bettersn': 1, 'probthat': 1, 'overdose': 1, 'careful': 2, 'spk': 3, 'sn': 4, 'lovejen': 2, 'returned': 3, 'hai': 7, 'ana': 1, 'sathy': 1, 'rto': 1, 'spoons': 1, 'named': 2, 'tampa': 9, 'genius': 2, 'whenever': 11, 'connections': 2, 'sort': 10, 'lotta': 2, 'corvettes': 1, 'lately': 2, 'consider': 2, 'walls': 3, 'bunkers': 1, 'peaceful': 2, 'matter': 5, 'philosophical': 1, 'hole': 1, 'saved': 4, 'goodno': 1, 'problembut': 1, 'drop': 16, 'cuddle': 3, 'nap': 3, 'atleast': 1, 'otherwise': 10, 'shakespeare': 1, 'shesil': 3, 'castor': 2, 'knew': 13, 'woul': 1, 'lead': 5, 'wanting': 3, 'curfew': 1, 'gibe': 1, 'midnight': 6, 'getsleep': 1, 'studdying': 1, 'ear': 2, 'training': 8, 'massages': 1, 'oil': 2, 'sup': 6, 'yoyyooo': 1, 'permissions': 1, 'mac': 2, 'usb': 2, 'gibbs': 2, 'unsoldmike': 1, 'hussey': 1, 'failed': 2, 'sad': 21, 'unbelievable': 2, 'faglord': 1, 'wifehow': 3, 'murder': 6, 'nutter': 1, 'cutter': 1, 'ctter': 1, 'cttergg': 1, 'cttargg': 1, 'ctargg': 1, 'ctagg': 1, 'ie': 2, 'thus': 1, 'superb': 1, 'grateful': 1, 'opportunity': 3, 'happier': 1, 'agents': 1, 'experiment': 1, 'due': 4, 'several': 2, 'outstanding': 3, 'invoices': 1, 'possible': 8, 'teach': 6, 'smell': 1, 'tobacco': 1, 'derek': 4, 'taylor': 2, 'assumed': 1, 'worst': 2, 'charles': 2, 'plus': 18, 'grinule': 1, 'greet': 3, 'white': 5, 'fudge': 1, 'oreos': 1, 'stores': 2, 'zahers': 1, 'ym': 5, 'nauseous': 1, 'pissed': 5, 'sweets': 2, 'pig': 4, 'dieting': 1, 'chip': 2, 'reminder': 1, 'iam': 6, 'addicted': 4, 'msging': 3, 'wrong': 14, 'photo': 4, 'registered': 4, 'yck': 2, 'ashleys': 1, 'avalarr': 1, 'hollalater': 1, 'attend': 4, 'rounds': 1, 'todaybut': 1, 'websitenow': 1, 'blogging': 1, 'magicalsongsblogspotcom': 1, 'chikkuil': 1, 'diet': 4, 'ate': 6, 'slices': 1, 'kvb': 1, 'acc': 4, 'fridayhope': 1, 'alternativehope': 1, 'yr': 3, 'terms': 3, 'congratulations': 1, 'ore': 1, 'mo': 8, 'owo': 1, 'moments': 3, 'fro': 1, 'wherever': 6, 'samus': 1, 'shoulders': 1, 'wear': 5, 'jeans': 2, 'fever': 4, 'vomitin': 1, 'kkare': 1, 'stuffed': 1, 'bleh': 2, 'least': 13, 'writhing': 1, 'tons': 1, 'paypal': 1, 'voila': 1, 'pockets': 1, 'places': 5, 'medical': 8, 'sorta': 1, 'blown': 1, 'recently': 5, 'scores': 1, 'sophas': 1, 'secondary': 1, 'application': 2, 'applying': 1, 'ogunrinde': 1, 'expensive': 6, 'photos': 5, 'lodging': 1, 'chk': 1, 'ms': 1, 'dict': 1, 'shb': 1, 'truth': 11, 'gravity': 4, 'carefully': 4, 'feels': 11, 'heavy': 7, 'dobbys': 1, 'bowl': 4, 'ull': 6, 'brand': 2, 'decision': 4, 'simpler': 2, 'magical': 3, 'welp': 3, 'retired': 1, 'code': 1, 'natwest': 1, 'chad': 1, 'gymnastics': 1, 'site': 5, 'christians': 1, 'backa': 1, 'necklace': 2, 'token': 1, 'youthats': 1, 'wife': 20, 'likingbe': 1, 'seeno': 1, 'thatdont': 1, 'aptitude': 1, '215': 1, 'horse': 1, 'racing': 2, 'earlier': 13, 'chicken': 3, 'rice': 2, 'closes': 2, 'wrongly': 1, 'ad': 5, 'crap': 2, 'borin': 1, 'boggy': 1, 'boring': 5, 'biatch': 1, 'nxt': 6, 'il': 8, 'hesitate': 1, 'weakness': 1, 'notebook': 1, 'salary': 4, 'chocolate': 2, 'dayshe': 2, 'potential': 2, 'talent': 3, 'reckon': 2, 'eightish': 1, 'carpark': 1, 'fuckin': 3, 'dropped': 5, 'loving': 15, 'yun': 5, 'ahthe': 1, 'ubi': 2, 'tomorrowcall': 1, '67441233': 1, 'ireneere': 1, 'bus822656166382': 1, 'cresubi': 1, 'tech': 2, 'park6ph': 1, '5wkg': 1, 'daysèn': 1, 'sd': 2, 'butt': 3, 'sore': 4, '26th': 1, 'july': 1, 'relaxing': 1, '7am': 1, 'party': 14, '5ish': 1, 'stripes': 1, 'skirt': 1, 'miracle': 8, 'jesus': 5, 'blessed': 2, 'escalator': 1, 'yetunde': 3, 'quiet': 2, 'beth': 1, 'aunts': 2, 'charlie': 1, 'helen': 1, 'nobut': 1, 'heard': 8, 'syllabus': 1, '730pm': 1, 'poyyarikaturkolathupalayamunjalur': 1, 'posterode': 1, 'heroi': 1, 'apt': 1, 'opportunitypls': 1, 'ltemailgt': 1, 'kerala': 5, 'fit': 2, 'terrible': 3, 'fan': 2, 'meat': 1, 'lovers': 2, 'supreme': 1, 'toldshe': 1, 'dearregret': 1, 'cudnt': 1, 'calldrove': 1, 'frm': 11, 'ctla': 1, 'homeleft': 1, 'mobile': 15, 'carente': 1, 'ishtamayoohappy': 1, 'bakrid': 1, 'exe': 3, 'knowwait': 1, 'glorious': 1, 'anniversary': 2, 'j': 7, 'finds': 1, 'content': 1, 'prey': 3, 'coaxing': 1, 'images': 1, 'fond': 1, 'souveniers': 1, 'cougarpen': 1, 'pattern': 2, 'weekends': 3, 'throat': 4, 'scratches': 1, 'plm': 2, 'asleep': 6, 'foreign': 3, 'stamps': 3, 'country': 3, 'lecture': 4, 'no1': 1, 'sheffield': 2, 'nanny': 1, 'raise': 4, 'zoe': 1, 'shitin': 1, 'defo': 1, 'hardest': 1, '2morow': 2, 'millions': 1, 'lekdog': 1, 'setting': 2, 'filling': 2, 'loverboy': 6, 'blankets': 1, 'sufficient': 1, 'thx': 2, 'flirt': 3, 'nyt': 12, 'edison': 2, 'rightly': 2, 'fool': 4, 'questions': 6, 'speechless': 3, 'viva': 2, 'gmgngegnt': 2, 'atten': 1, 'roast': 3, 'i\\x92d': 2, 'concentrate': 3, 'educational': 2, 'career': 3, 'walked': 3, 'doesn\\x92t': 1, 'serious': 6, 'soiree': 1, 'june': 3, '3rd': 5, 'sells': 2, 'data': 1, 'analysis': 1, 'thesis': 2, 'belligerent': 1, 'hiya': 9, 'april': 5, 'les': 1, 'rudi': 1, 'yrs': 5, 'snoringthey': 1, 'drunk': 3, 'sends': 2, 'ink': 1, '515': 1, 'female': 2, 'howre': 1, 'throwing': 1, 'deciding': 2, 'technical': 3, 'support': 9, 'processnetworking': 1, 'daysso': 1, 'prepared': 2, 'finalise': 1, 'travel': 3, 'visitneed': 1, 'urgent': 2, 'works': 6, 'bitch': 4, 'dentist': 1, 'bathing': 4, 'lul': 1, 'juicy': 3, 'gossip': 2, 'nurses': 1, 'thinks': 4, 'obese': 1, 'oyea': 1, 'oi': 2, 'ami': 1, 'parchi': 1, 'kicchu': 1, 'kaaj': 1, 'korte': 1, 'iccha': 1, 'korche': 1, 'tul': 1, 'movies': 8, 'dvd': 1, 'copies': 1, 'sculpture': 1, 'convey': 9, 'regards': 6, 'surya': 1, 'vijay': 4, 'pokkiri': 1, 'pic': 5, 'dearer': 3, 'dem': 4, 'attractioni': 1, 'meshe': 1, 'thoughtsi': 1, 'hershe': 1, 'dreamlove': 1, 'breath': 1, 'namemy': 1, 'hermy': 1, 'heri': 2, 'herwill': 1, 'sorrowsi': 1, 'fight': 6, 'craziest': 2, 'herlove': 2, 'proove': 1, 'planeti': 1, 'singing': 2, 'praises': 1, 'curry': 2, 'makiing': 1, 'sambarlife': 1, 'thenwill': 1, 'lotwill': 2, 'frndship': 5, 'needle': 1, 'clock': 4, 'evn': 3, 'meetitz': 1, '4few': 1, 'alwys': 3, 'conected': 1, 'spatula': 1, 'hands': 5, 'goto': 2, 'doctor': 9, 'calis': 1, 'complexities': 1, 'freely': 1, 'taxes': 1, 'outrageous': 1, 'tomorro': 2, 'ryder': 1, 'unsoldnow': 1, 'fret': 2, 'strips': 1, 'postal': 1, 'addressull': 1, 'alrightokay': 1, 'gifts': 1, 'cliff': 1, 'ne': 3, 'interesting': 5, 'wrking': 1, 'uni': 5, 'depressed': 2, 'sittin': 1, 'wind': 2, 'drops': 1, 'black': 5, 'aiyah': 6, 'hen': 1, 'online': 22, 'italian': 5, 'grins': 12, 'smoked': 1, 'weeks': 6, 'math': 2, 'sfirst': 1, 'timedhoni': 1, 'rocks': 2, 'teju': 1, 'hourish': 1, 'nothis': 1, 'groundamla': 1, 'durban': 2, 'convenience': 1, 'evaluation': 1, 'cancel': 3, 'cheyyamoand': 1, 'okok': 3, 'okthenwhats': 3, 'aiyar': 4, 'catching': 3, 'throws': 1, 'gal': 10, 'falls': 3, 'brothers': 1, 'whos': 10, 'gayd': 1, 'errors': 1, 'difficulties': 2, 'correction': 1, 'howz': 6, 'painhope': 1, 'tau': 1, 'sar': 2, 'piah': 1, 'wearing': 4, 'ohas': 1, 'film': 8, 'shades': 1, 'copied': 1, 'raining': 6, 'station': 5, 'tank': 2, 'sitter': 1, 'kaitlyn': 1, 'adult': 1, 'danger': 1, 'peeps': 1, 'comment': 1, 'veggie': 1, '2000': 1, 'neighbors': 1, 'computerless': 1, 'hot': 7, 'balloon': 1, 'passthey': 1, 'silently': 2, 'ntswt': 1, 'drms': 1, 'roommate': 3, 'melody': 1, 'horrible': 5, 'macs': 1, 'toot': 2, 'fantastic': 3, 'bigger': 3, 'q': 2, 'nw': 5, 'hme': 1, 'islands': 1, 'chennai': 13, 'velachery': 1, 'flippin': 1, 'breaking': 1, 'cstore': 1, 'annoying': 2, 'hangin': 1, 'makin': 2, 'alivebetter': 1, 'lodge': 1, 'worrying': 1, 'shame': 4, 'quizzes': 1, 'popcorn': 1, 'moan': 5, 'thin': 1, 'faultal': 1, 'arguments': 1, 'faultfed': 1, 'himso': 1, '2go': 2, 'thanxxx': 1, 'neft': 2, 'reference': 4, 'credited': 3, 'beneficiary': 2, 'natuition': 3, 'understanding': 4, 'appreciated': 2, 'semi': 1, 'apart': 2, 'p': 6, 'strong': 4, 'arms': 4, 'maaaan': 1, 'guessin': 1, 'walmart': 3, 'ilol': 1, 'personally': 1, 'wuldnt': 1, 'mite': 5, 'creepy': 2, 'lunchtime': 1, 'organise': 1, 'kkim': 3, 'finewhen': 2, 'complete': 7, 'passable': 1, 'score': 3, 'apply': 2, 'phd': 1, '5years': 1, 'easier': 4, 'prakesh': 1, 'apps': 3, 'rofl': 3, 'betta': 1, 'invest': 2, 'anti': 3, 'aging': 1, 'products': 1, '1hr': 2, 'delay': 2, 'submitting': 1, '1s': 2, 'snatch': 1, 'purse': 2, 'hellodrivby0quit': 1, 'edrunk': 1, 'iff': 1, 'pthis': 1, 'senrddnot': 1, 'dancce': 1, 'drum': 1, 'basqihave': 1, '2nhite': 1, 'ros': 1, 'xxxxxxx': 1, 'morn': 3, 'relieved': 1, 'westonzoyland': 1, 'greatness': 1, 'europe': 1, 'nobody': 9, 'chinese': 5, 'docs': 3, 'songs': 4, 'havin': 2, 'goin2bed': 1, 'only1more': 1, 'mc': 1, 'hun': 3, '2nitetell': 1, 'every1': 1, 'ava': 1, 'goodtimeoli': 1, 'rang': 3, 'melnite': 1, 'ifink': 1, 'sortedbut': 1, 'everythin': 1, 'monl8rsx': 1, 'flip': 2, 'shun': 1, 'bian': 1, 'glass': 1, 'exhibition': 1, 'el': 1, 'nino': 1, 'chikkugoing': 1, 'cbe': 5, 'honey': 7, 'jd': 2, 'service': 4, 'executive': 3, 'parents': 16, 'news': 7, 'picked': 4, 'downstem': 1, 'wahala': 1, 'inperialmusic': 1, 'listening2the': 1, 'weirdest': 2, 'by\\x94leafcutter': 1, 'john\\x94sounds': 1, 'insects': 1, 'molestedsomeone': 1, 'plumbingremixed': 1, 'evil': 1, 'acid': 1, 'didntgive': 1, 'bellearlier': 1, 'hunnyjust': 1, 'bedbut': 1, 'thepub': 1, 'l8tr': 2, 'uwana': 1, 'uploads': 1, 'jenxxx': 1, 'exact': 4, 'tee': 2, 'cheery': 1, 'cell': 7, 'thts': 4, 'collected': 1, 'dough': 2, 'control': 2, 'weirdo': 1, 'mode': 9, 'stalk': 1, 'profiles': 1, 'jerry': 2, 'irritates': 2, 'fails': 2, 'express': 3, 'drinkin': 2, 'wondering': 9, 'others': 9, 'dog': 7, 'heygreat': 1, 'dealfarm': 1, 'tour': 3, '9am': 1, '5pm': 2, '95pax': 1, 'deposit': 1, '16': 1, 'jap': 1, 'disappeared': 1, 'birthdate': 2, 'certificate': 1, 'publish': 1, 'secret': 5, 'dreams': 18, 'nydc': 2, 'wheellock': 1, 'destination': 1, 'fifty': 1, 'daily': 2, 'favour': 4, 'settling': 1, 'happenin': 1, 'ola': 2, 'cocksuckers': 1, 'ipads': 1, 'worthless': 1, 'garbage': 2, 'novelty': 1, 'items': 1, 'tshirt': 1, 'fran': 3, 'broke': 5, 'knackered': 3, 'janx': 1, 'ps': 3, 'dads': 2, 'designation': 1, 'software': 3, 'developer': 1, 'jokin': 2, 'spirit': 1, 'bb': 8, 'shattered': 1, 'alrite': 6, 'idiot': 3, 'girlie': 1, 'colours': 1, 'darker': 1, 'styling': 1, 'whenevr': 3, 'gray': 1, 'remembr': 1, 'listn': 1, 'watevr': 1, 'whileamp': 1, 'shd': 7, 'minus': 1, 'paragraphs': 1, 'coveragd': 1, 'area': 5, 'vasai': 1, '4o': 1, 'retard': 1, 'bathroom': 1, 'february': 4, 'rush': 4, 'icic': 1, 'syria': 1, 'canada': 2, 'extra': 5, 'heartsnot': 1, 'cares': 3, 'goodnoon': 2, '4u': 4, 'gauge': 1, 'pattys': 1, 'interest': 2, 'mondaynxt': 1, 'vl': 7, 'completing': 1, 'ax': 1, 'chill': 3, '6hrs': 4, 'surgical': 1, 'emergency': 1, 'unfolds': 1, 'frens': 9, 'korean': 1, 'leonas': 1, 'fredericksburg': 1, 'que': 1, 'pases': 1, 'un': 1, 'buen': 1, 'tiempo': 1, 'chillin': 3, 'super': 3, 'tmrw': 2, 'compass': 1, 'soul': 2, 'worldgnun': 1, 'way2smscom': 1, 'baaaaabe': 1, 'misss': 1, 'youuuuu': 1, 'ned': 2, 'convince': 1, 'tht': 9, 'witot': 1, 'hurting': 2, 'main': 2, 'luck': 6, 'sweetie': 2, 'blackberry': 4, 'buyer': 1, 'melike': 1, '4a': 2, 'pple': 4, 'marry': 6, 'becz': 1, 'undrstndng': 1, 'avoids': 1, 'problems': 6, 'chain': 3, 'suffer': 1, 'whn': 2, 'arrested': 5, 'suntec': 3, 'steamboat': 1, 'dance': 2, 'moji': 4, 'seem': 3, 'forgive': 1, 'yahoo': 6, 'messenger': 3, 'reaching': 9, 'tp': 1, 'bbq': 1, '6ish': 1, 'welcome': 4, 'everyso': 1, 'panicks': 1, 'outhave': 1, 'fill': 4, 'bar': 2, 'write': 10, '3cover': 3, 'screen': 3, '4press': 3, '5gently': 3, 'auntie': 1, 'huai': 1, 'juan': 2, 'tlk': 2, 'ideal': 2, 'path': 1, 'appear': 1, 'front': 2, 'paths': 1, 'walking': 7, 'arm': 2, 'shot': 2, 'reserve': 1, 'thirunelvali': 1, 'tirunelvali': 2, 'evei': 1, 'netno': 1, 'availablei': 1, 'tackle': 1, 'storming': 3, 'phne': 3, 'wt': 3, 'meaning': 6, 'margaret': 3, 'girlfrnd': 6, 'f': 3, 'grahmbell': 3, 'invnted': 3, 'telphone': 3, 'moralone': 3, '4get': 4, 'popped': 3, 'tonght': 1, 'ploughing': 1, 'pile': 1, 'ironing': 1, 'chinky': 1, 'wi': 1, 'nz': 1, 'players': 7, 'unsold': 3, 'effect': 2, 'geelater': 1, 'aust': 1, 'bk': 2, 'cafe': 5, 'recharged': 1, 'kidding': 2, 'papa': 1, 'shld': 3, 'stretch': 2, 'detailed': 1, 'sinco': 2, 'payee': 2, 'icicibankcom': 2, 'enter': 3, 'urn': 4, 'beware': 2, 'frauds': 2, 'share': 7, 'disclose': 2, 'vote': 4, 'caring': 3, 'losers': 1, 'kaiez': 2, 'tuition': 4, 'gee': 5, 'option': 3, 'beta': 1, 'practicing': 2, 'babies': 2, 'kkany': 1, 'noncomittal': 1, 'beneath': 2, 'pale': 2, 'moon': 5, 'goodnite': 3, 'snickering': 1, 'tells': 3, 'totally': 4, 'chords': 1, 'nofew': 1, 'beforewent': 1, 'rem': 5, 'silver': 2, 'lmao': 6, 'silence': 2, 'currently': 3, 'exams': 5, 'revision': 2, 'boyf': 1, 'interviw': 1, 'exeter': 2, 'worriedx': 1, 'spreadsheet': 1, 'whose': 1, 'determine': 1, 'entire': 1, 'coat': 2, 'painful': 3, 'everybody': 3, 'recognises': 1, 'alone': 14, 'wisheds': 1, 'intrepid': 1, 'duo': 1, 'sen': 3, 'missin': 3, 'guilty': 3, 'aiya': 4, 'cardiff': 3, 'fact': 9, 'addie': 3, 'tues': 2, 'breeze': 1, 'bright': 4, 'fresh': 1, 'flower': 4, 'twittering': 1, 'birds': 4, 'yagoing': 1, 'restaurant': 2, 'ducking': 1, 'chinchillas': 1, 'function': 1, 'headstart': 1, '230ish': 1, 'desperate': 2, 'earlierwe': 1, 'rummer': 1, 'flying': 1, 'monkeys': 2, 'certainly': 3, 'thanks2': 1, 'rajini': 1, 'practical': 2, 'stupidits': 3, 'spys': 1, 'replying': 2, 'mails': 2, 'yalru': 1, 'lyfu': 2, 'astne': 1, 'innu': 1, 'mundhe': 1, 'lyf': 2, 'ali': 1, 'halla': 1, 'ke': 2, 'bilo': 1, 'marriageprogram': 1, 'edhae': 1, 'ovr': 1, 'chikkuali': 1, 'vargu': 1, 'meow': 1, 'meowd': 1, 'twelve': 3, 'aah': 3, 'fall': 5, 'prone': 1, 'permission': 1, 'wonders': 4, '7th': 4, '6th': 4, '5th': 4, '4th': 6, 'personality': 4, 'nature': 6, 'dose': 1, 'tablet': 1, 'incomm': 1, 'blakes': 3, 'waitshould': 1, 'lotr': 1, 'w': 13, 'keeping': 6, 'google': 5, 'maps': 1, 'tiring': 1, 'modules': 2, 'concentrating': 1, 'browsin': 1, 'compulsory': 1, 'purity': 4, 'messageits': 4, 'musthu': 2, 'investigate': 1, 'vomit': 5, 'moneyas': 1, 'youmoney': 1, 'thinghow': 1, 'sha': 4, 'vitamin': 1, 'centre': 5, 'crucial': 1, 'someones': 1, 'hostbased': 1, 'idps': 1, 'linux': 1, 'systems': 1, 'dawhats': 2, 'total': 3, 'video': 2, 'converter': 1, 'testing': 2, 'sayy': 1, 'loved': 11, 'except': 6, 'nit': 2, 'peteis': 1, 'leannewhat': 1, 'eight': 3, 'file': 4, 'format': 1, 'disc': 1, 'internet': 6, 'champ': 1, 'glasgow': 1, 'kall': 1, 'bestcongrats': 1, 'lovin': 1, 'corect': 1, 'speling': 1, 'sarcasm': 2, 'forum': 2, 'ron': 3, 'hicts': 1, 'employee': 1, 'aunt': 2, 'nike': 1, 'sooo': 1, 'screaming': 6, 'shouting': 1, 'receipt': 2, 'dang': 1, 'unfortunately': 2, 'airport': 4, 'difficult': 12, 'earliest': 1, 'nordstrom': 1, 'konw': 2, 'waht': 2, 'rael': 2, 'gving': 2, 'yuo': 4, 'exmpel': 2, 'jsut': 2, 'ese': 3, 'tihs': 4, 'evrey': 2, 'splleing': 2, 'wrnog': 2, 'sitll': 2, 'raed': 2, 'wihtuot': 2, 'ayn': 2, 'mitsake': 2, 'sleepsweet': 2, 'conference': 1, 'degree': 1, 'joining': 2, 'finance': 2, 'prospects': 3, 'bleak': 1, 'filled': 2, 'shant': 1, 'jia': 2, 'bishan': 4, 'nearer': 1, 'sux': 2, 'raiden': 1, 'buff': 3, 'south': 8, 'preferably': 4, 'kegger': 2, 'totes': 1, 'pierre': 1, 'cardin': 1, 'costs': 2, '20': 4, 'sale': 4, 'rhythm': 2, 'establish': 1, 'truro': 1, 'ext': 1, 'gas': 13, 'gang': 3, 'adventure': 2, 'worryuse': 1, 'ice': 7, 'cloth': 1, 'packalso': 1, 'tablets': 3, 'sunroof': 1, 'excellent': 7, 'sub': 2, 'finishing': 3, 'doors': 3, 'wifi': 2, '3g': 2, 'blanked': 1, 'image': 1, 'noi': 2, 'rumour': 2, 'kalainar': 1, 'officethenampet': 1, 'nosy': 1, 'idk': 4, 'reacting': 1, 'freaked': 1, 'satanic': 1, 'imposter': 1, 'meneed': 1, 'priceso': 1, 'itmay': 1, 'destiny': 1, 'companion': 1, 'chef': 1, 'listener': 1, 'organizer': 1, 'boyfriend': 2, 'sympathetic': 1, 'athletic': 1, 'courageous': 1, 'determined': 1, 'dependable': 1, 'psychologist': 1, 'pest': 1, 'exterminator': 1, 'psychiatrist': 1, 'healer': 1, 'stylist': 1, 'driver': 2, 'aaniye': 1, 'pudunga': 1, 'venaam': 1, 'brothas': 3, 'chasing': 2, 'chez': 1, 'jules': 1, 'hhahhaahahah': 1, 'nig': 1, 'leonardo': 1, 'dereks': 1, 'lt3': 3, 'kicks': 2, 'john': 12, '2years': 1, 'strain': 1, 'dime': 2, 'transfer': 2, 'withdraw': 1, 'anyhow': 1, 'falling': 2, 'force': 3, 'smeone': 2, 'millers': 1, 'fire': 2, 'spark': 1, 'flame': 2, 'rawring': 1, 'xoxo': 1, 'somewhr': 1, 'perfect': 3, 'crushes': 1, 'honeymoon': 1, 'outfit': 1, 'propose': 2, 'blame': 3, 'gods': 9, 'blessings': 3, 'collect': 5, 'cheque': 1, 'leo': 1, 'kthen': 2, 'patty': 1, 'donewant': 1, 'haul': 1, 'wildlife': 1, 'want2come': 1, 'that2worzels': 1, 'wizzle': 1, 'dippeditinadew': 2, 'lovingly': 2, 'itwhichturnedinto': 2, 'gifted': 2, 'tomeandsaidthis': 2, 'shanghai': 1, '21st': 1, 'instead': 7, 'cya': 1, 'freezing': 3, '645': 1, 'thnx': 1, '2nite': 5, 'sef': 1, 'darling': 3, 'anjie': 1, 'batch': 2, 'fring': 1, 'app': 2, 'oz': 3, 'flaky': 2, 'sooooo': 2, 'living': 4, 'laughing': 4, 'winning': 3, 'tooo': 2, 'nte': 1, 'confuses': 2, 'wating': 2, 'talents': 1, '6pm': 3, 'animal': 1, 'buzz': 7, 'adoring': 2, 'brought': 2, 'shiny': 1, 'warming': 1, 'constant': 2, 'cared': 2, 'wasnt': 13, 'surprised': 4, 'french': 1, 'fooled': 1, 'comedycant': 1, 'keen': 1, 'switch': 2, 'dammit': 1, 'wright': 1, 'fly': 1, 'somewhat': 1, 'event': 2, 'laden': 1, 'wrecked': 1, 'six': 1, 'spontaneously': 1, 'goodevening': 1, 'bagi': 2, 'lei': 23, 'waking': 5, 'sif': 1, 'partnership': 2, 'mostly': 2, 'inside': 8, 'spageddies': 1, 'phasing': 1, 'fourth': 1, 'dimension': 1, 'yesbut': 1, 'meaningful': 1, 'lines': 1, 'compromised': 2, 'mornin': 2, 'lmaonice': 1, 'dub': 1, 'je': 1, 'toughest': 2, 'unspoken': 1, '£6': 2, 'ideas': 4, 'sight': 7, 'remain': 4, 'maintain': 3, 'shjas': 2, 'squatting': 1, 'cramps': 3, 'nan': 3, 'sonathaya': 1, 'soladha': 1, 'cd': 1, 'raping': 1, 'dudes': 1, 'poker': 2, 'weightloss': 1, 'congrats': 8, 'mushy': 1, 'embarrassed': 1, 'stash': 1, 'ran': 5, 'priya': 1, 'father': 12, 'messy': 2, 'kilos': 1, 'accidant': 1, 'tookplace': 1, 'ghodbandar': 1, 'rd': 5, 'traffic': 2, 'moves': 2, 'slovely': 1, 'slip': 2, 'ahnow': 1, 'wkg': 2, 'wherebtw': 1, 'nus': 1, 'sc': 1, 'specialise': 1, 'wad': 1, 'likes': 3, 'dislikes': 3, 'keeps': 2, 'queen': 4, 'desparately': 1, 'fren': 4, 'promises': 3, 'gotten': 2, 'stereo': 1, 'mi': 1, 'unknown': 2, 'album': 2, 'classmates': 1, 'firesare': 1, 'missionary': 1, 'hook': 5, 'standing': 3, 'entertaining': 1, 'hugh': 1, 'laurie': 1, 'stick': 2, 'indeed': 2, 'praps': 1, 'jon': 1, 'bin': 4, 'spain': 1, 'dinero': 1, '\\x91rents': 1, '12000pes': 1, '£48': 1, 'tb': 3, 'james': 2, 'hunnywot': 1, 'bedroomlove': 1, 'maangalyam': 2, 'alaipayuthe': 2, 'complaining': 1, 'finns': 1, 'di': 3, 'bedroom': 6, 'calm': 2, 'downon': 1, 'theacusations': 1, 'itxt': 1, 'iwana': 1, 'wotu': 1, 'thewend': 1, 'haventcn': 1, 'agesring': 1, 'up4': 2, 'nething': 1, 'satlove': 1, 'dine': 1, 'i\\x92m': 3, 'vtired': 1, 'social': 5, 'services': 1, 'inspection': 1, 'nursery': 1, 'detailsi': 1, 'youmy': 1, 'slowly': 11, 'becomes': 2, 'habit': 2, 'follow': 1, 'itmail': 1, 'panren': 1, 'paru': 1, 'chuckin': 1, 'red': 4, 'trainners': 1, 'carryin': 1, 'bac': 1, 'schedule': 2, 'gooddhanush': 1, 'needing': 1, 'stuck': 3, 'chikkusimple': 1, 'habbahw': 1, 'dileepthank': 1, 'muchand': 1, 'supportvery': 1, 'contacts': 2, 'hereremember': 1, 'venugopal': 1, 'mentionedtomorrow': 1, 'latei': 1, 'theregoodnight': 1, 'remembrs': 1, 'forgets': 2, 'everytime': 1, 'joys': 9, 'mandan': 2, 'regarding': 3, '3230': 1, 'textbook': 1, 'algorithms': 1, 'edition': 1, 'selling': 4, 'sexy': 12, 'buns': 5, 'adore': 3, 'atlanta': 4, 'messages': 9, 'recharge': 1, 'created': 5, 'fills': 4, 'gaps': 4, 'holding': 7, 'yessura': 1, 'tvlol': 1, 'arun': 3, 'transfr': 2, 'takin': 4, 'philosophy': 3, '4ui': 1, 'didn\\x92t': 2, 'intend': 1, 'iwasmarinethat\\x92s': 1, 'itried2tell': 1, 'urmomi': 1, 'careabout': 1, 'desparate': 2, 'learned': 1, 'fake': 1, 'answering': 4, 'iraq': 1, 'afghanistan': 1, 'stable': 1, 'honest': 1, 'traveling': 1, 'blessget': 1, 'pai': 1, 'seh': 1, 'lookin': 5, 'beer': 4, 'combine': 2, 'parts': 1, 'walsall': 1, 'tue': 1, 'terry': 1, 'chatting': 1, 'jess': 4, 'sian': 2, 'ccna': 1, 'shrek': 1, '3db': 1, 'dirty': 3, 'fellow': 1, 'somethings': 1, 'dying': 1, 'lifting': 1, 'teresa': 1, 'received': 2, 'package': 3, 'dec': 1, 'yould': 1, 'bam': 1, 'aid': 1, 'usmle': 1, 'squishy': 1, 'mwahs': 1, 'prominent': 1, 'cheek': 1, 'september': 1, 'husband': 3, 'norm': 1, '415': 1, 'access': 2, 'list': 7, 'joanna': 2, 'comingdown': 1, 'dagood': 1, 'replacement': 2, 'murali': 1, 'playerwhy': 1, 'sts': 1, 'five': 3, 'engalnd': 1, 'telly': 2, 'mia': 1, 'elliot': 1, 'kissing': 1, 'wiproyou': 1, 'matric': 1, '850': 1, 'toa': 3, 'payoh': 3, '650': 1, 'payments': 1, 'fedex': 1, 'team': 3, 'kyou': 1, 'reception': 1, 'godi': 4, 'youclean': 4, 'bloodsend': 4, 'itplspls': 4, 'hate': 5, 'consensus': 1, 'entertain': 1, 'delete': 2, 'tag': 1, 'wednesday': 8, 'skype': 4, 'laundry': 2, 'underwear': 2, 'bras': 1, 'strewn': 1, 'pillows': 1, 'connect': 2, 'waheed': 2, 'fathima': 3, 'mmmm': 3, 'weaknesses': 1, 'pushes': 2, 'knees': 2, 'exposes': 1, 'pulls': 1, 'wicked': 1, 'sh': 1, 'readyall': 1, 'supports': 1, 'srt': 1, 'thnk': 7, 'ps3': 1, 'jontin': 1, 'pen': 1, 'beyond': 3, 'biro': 1, 'masters': 4, 'nichols': 2, 'unconsciously': 1, 'avoiding': 2, 'unhappy': 1, 'excuse': 7, 'jog': 1, 'season': 4, 'lark': 1, 'stations': 1, 'uh': 2, 'heads': 2, 'sim': 6, 'lim': 1, 'mp3': 2, 'player': 2, 'vday': 2, 'parachute': 1, 'placed': 1, 'unlimited': 4, 'therere': 2, 'table': 2, 'lambda': 1, 'build': 2, 'snowman': 2, 'angels': 1, 'snowball': 1, 'fights': 2, 'ello': 1, 'ikea': 3, 'ofice': 1, 'cn': 3, 'oficegot': 1, 'duffer': 1, 'grr': 1, 'prescription': 2, 'pharmacy': 1, 'cook': 1, 'electricity': 2, 'mid': 5, 'fffff': 1, 'kadeem': 3, 'fujitsu': 2, 'lifebook': 1, 'scold': 2, 'zhong': 1, 'se': 3, 'qing': 1, 'act': 1, '46': 1, 'accordingly': 1, 'hypertension': 1, 'mineall': 1, 'wud': 2, 'annoyin': 1, 'carry': 3, 'disturbing': 2, 'avatar': 3, 'nigro': 1, 'scratching': 1, 'anyplaces': 1, 'stops': 3, 'cleaning': 4, 'upset': 2, 'priority': 1, 'constantly': 3, 'ecstasy': 1, 'flies': 2, 'tried': 5, 'hittng': 1, 'reflex': 1, 'kkwhy': 2, 'lousy': 3, 'cat': 4, '1010': 1, 'woken': 2, 'hip': 4, 'adewale': 1, 'aka': 2, 'egbon': 1, 'minstand': 1, 'ic': 3, 'mary': 1, 'jane': 2, 'deduct': 1, 'wrks': 1, 'monkey': 1, 'asshole': 1, 'grab': 1, 'sliding': 1, 'payback': 1, 'honeybee': 3, 'sweetest': 3, 'laughed': 3, 'waitu': 3, 'havnt': 4, 'moral': 5, 'crack': 3, 'gmgngegn': 3, 'tescos': 1, 'feathery': 1, 'bowa': 1, 'infra': 1, 'nvm': 5, 'gep': 1, 'delhi': 2, 'thinkin': 9, 'boat': 3, 'naked': 6, 'shhhhh': 1, 'related': 1, 'arul': 1, 'amk': 1, 'length': 1, 'fringe': 2, 'distract': 2, 'santha': 1, 'corrct': 1, 'dane': 1, 'baskets': 1, 'proof': 3, 'rupaul': 1, 'practising': 1, 'curtsey': 1, 'yeh': 2, 'satjust': 1, 'payed2day': 1, 'havbeen': 1, 'a£50': 1, 'rise': 1, '4my': 1, 'havebeen': 1, 'preschoolcoordinator': 1, '2i': 1, 'feelingood': 1, 'memory': 1, 'mon': 8, 'converted': 1, 'ssindia': 1, 'african': 1, 'soil': 1, 'major': 3, 'roles': 1, 'community': 1, 'outreach': 1, 'mel': 2, 'birth': 3, '8lb': 1, '7oz': 1, 'brilliantly': 1, 'forwarding': 1, 'intention': 1, 'visitors': 1, 'choice': 2, 'rules': 1, 'responsibility': 2, 'bend': 1, 'rule': 3, 'thia': 1, 'inlude': 1, 'previews': 1, 'ambrithmaduraimet': 1, 'dha': 1, 'marrgeremembr': 1, 'kitty': 1, 'shaved': 1, 'natural': 4, 'onwards': 3, 'anybodys': 1, 'tactful': 1, 'theatre': 6, 'obviously': 5, 'eggspert': 1, 'potato': 1, 'head…': 1, 'crammed': 1, 'satsgettin': 1, '447per': 1, 'lie': 4, 'apologize': 1, 'admit': 1, 'pei': 1, 'kid': 2, 'boost': 5, 'energy': 7, 'subtoitles': 1, 'simply': 3, 'sitting': 9, 'jot': 1, 'pack': 3, 'storelike': 1, 'cereals': 1, 'gari': 1, 'infernal': 4, 'affair': 2, 'including': 3, 'bold2': 1, 'calicut': 3, 'thkin': 1, 'nd': 2, 'parco': 2, 'nb': 2, 'resubbing': 1, 'shadow': 1, 'breadstick': 1, 'ahmad': 6, 'saeed': 1, 'hallaq': 2, 'redim': 1, 'blueu': 1, 'purpleu': 1, 'pinku': 1, 'orangei': 1, 'lyk': 1, 'greeni': 1, 'yelowi': 1, 'bck': 2, 'blackim': 1, 'browni': 1, 'giv': 2, 'color': 2, 'arranging': 1, 'eldest': 1, 'drugdealer': 1, 'sleepwellamptake': 2, 'wondarfull': 1, 'normally': 3, 'hunonbus': 1, 'donyt': 1, 'homebut': 1, 'latelyxxx': 1, 'mca': 2, 'rich': 3, 'justthought': 1, 'sayhey': 1, 'doinnearly': 1, 'endof': 1, 'offdam': 1, 'nevamindwe': 1, '2hook': 1, 'uwant': 1, 'm8': 1, 'yor': 3, 'ownyouve': 1, 'stressed': 1, 'skallis': 1, 'jason': 3, 'soooo': 1, 'provider': 1, 'tming': 2, 'cutest': 1, 'dice': 1, 'art': 3, 'howda': 1, 'mathe': 1, 'samachara': 1, 'audrie': 1, 'autocorrect': 1, 'simulate': 1, 'readiness': 1, 'armand': 5, 'andor': 1, 'vomiting': 2, 'rub': 2, 'feet': 4, 'lara': 1, 'loan': 5, 'supplies': 1, 'clever': 2, 'guesses': 1, 'attach': 1, 'washob': 1, 'nobbing': 1, 'nickey': 1, 'platt': 1, 'ryan': 1, 'vikky': 6, 'mad': 4, 'argh': 3, 'spotty': 1, 'province': 1, 'sterling': 1, 'problemfree': 1, 'looked': 5, 'xam': 2, 'hall': 1, 'term': 1, 'manage': 2, 'hesitation': 1, 'intha': 1, 'ponnungale': 1, 'ipaditan': 1, 'rejected': 1, 'shitload': 2, 'diamonds': 2, 'tessypls': 3, 'favor': 3, 'nimyapls': 3, 'shijas': 3, 'aunty': 2, 'china': 3, 'noisy': 1, 'needa': 1, 'mcat': 2, 'sfrom': 1, 'manual': 1, 'processits': 1, 'password': 4, 'reset': 1, 'troubleshooting': 1, 'strongly': 1, 'sacrifice': 2, 'beg': 1, 'expecting': 5, 'creativity': 1, 'stifled': 1, 'morphine': 3, 'requirements': 1, 'stayin': 2, 'strangersaw': 1, 'dave': 1, 'he\\x92s': 1, 'sorted': 2, 'nowstill': 1, 'bloke': 1, 'mrur': 1, '2getha': 1, '8830': 1, 'cld': 2, 'prefer': 3, 'nosh': 1, 'waaaat': 1, 'lololo': 1, 'tables': 1, 'occupied': 1, 'comei': 1, 'kindly': 2, 'documents': 1, 'submitted': 1, 'stapati': 1, 'miles': 3, 'cutie': 1, 'wales': 2, 'hills': 1, 'killed': 2, 'colleagues': 9, 'sed': 5, 'mood': 8, 'minuts': 5, 'latr': 5, 'caken': 5, 'kidz': 4, 'surprise': 7, 'sofa': 8, 'honesty': 1, 'specialisation': 1, 'labor': 1, 'shakara': 1, 'beggar': 1, 'london': 2, 'smashed': 1, 'dent': 1, 'everybodys': 2, 'speed': 2, 'crickiting': 1, 'imin': 1, 'towndontmatter': 1, 'urgoin': 1, 'outl8rjust': 1, 'reallyneed': 1, '2docdplease': 1, 'dontplease': 1, 'dontignore': 1, 'mycallsu': 1, 'thecd': 1, 'isvimportant': 1, 'tome': 1, '2moro': 3, 'yavnt': 1, 'played': 2, 'original': 1, 'popping': 1, 'ibuprofens': 1, 'sip': 1, 'grown': 1, 'chinatown': 1, 'porridge': 1, 'claypot': 1, 'yam': 1, 'fishhead': 1, 'beehoon': 1, 'tok': 2, 'specific': 2, 'jaklin': 1, 'nearby': 1, 'cliffs': 1, 'pages': 4, 'figures': 2, 'ooh': 1, '4got': 1, 'moseley': 1, 'weds': 1, '630': 4, 'thankyou': 1, 'pendingi': 1, 'dayswill': 1, 'thrurespect': 1, 'homecheck': 1, 'affectionate': 2, 'loveable': 1, 'eternal': 1, 'noble': 1, 'truthful': 1, 'intimate': 1, 'enamous': 1, 'textin': 1, 'cousin': 2, 'excuses': 2, 'rajipls': 3, 'nimya': 3, 'legs': 3, 'neck': 2, 'amigos': 1, 'burn': 1, 'progress': 1, 'continue': 2, 'holy': 2, 'werent': 1, 'arty': 1, 'collages': 1, 'tryin': 1, 'billion': 2, 'classes': 2, '2hrs': 1, 'waliking': 1, 'cartons': 1, 'pleased': 3, 'shelves': 1, 'pix': 4, 'distance': 3, 'notice': 4, 'mirror': 1, 'turning': 2, 'freak': 4, 'jod': 1, 'keris': 1, 'smidgin': 1, 'collegexx': 1, 'belive': 2, 'intentions': 1, 'empty': 10, 'slots': 2, 'accordin': 1, 'discussed': 2, 'knocking': 1, 'sicomo': 1, 'nolistened2the': 1, 'plaid': 1, 'albumquite': 1, 'gdthe': 1, 'air1': 1, 'hilariousalso': 1, 'bought\\x94braindance\\x94a': 1, 'compofstuff': 1, 'aphex\\x92s': 1, 'abelu': 1, 'hav2hear': 1, 'itc': 1, 'nelson': 1, 'bbs': 1, 'temp': 3, 'unmits': 1, 'display': 3, 'newspapers': 1, 'soup': 3, 'yummmm': 1, 'management': 3, 'puzzeles': 1, 'include': 1, 'spoiled': 2, 'threats': 1, 'sales': 1, 'shifad': 1, 'raised': 1, 'complaint': 2, 'official': 1, 'doctors': 1, 'reminds': 1, '2godid': 1, 'lounge': 2, 'lk': 2, 'role': 6, 'lov': 2, 'mindi': 1, 'toleratbcs': 1, 'comfort': 2, 'checked': 6, 'dust': 1, 'watchin': 1, 'lifetime': 1, 'meaningless': 1, 'alls': 1, 'brdget': 1, 'jones': 1, 'inever': 1, 'exciting': 2, 'hmmbad': 1, 'newshype': 1, '700': 1, 'studio': 1, 'takenonly': 1, 'bedrm900': 1, 'unable': 3, 'waited': 2, 'velly': 1, 'wkend': 3, 'journey': 3, 'huge': 2, 'marking': 1, 'letters': 4, 'mids': 2, 'annie': 2, 'remind': 5, 'vai': 1, 'hrishi': 2, 'nothin': 2, 'hanger': 1, 'poem': 2, 'cheer': 3, 'tear': 7, 'thatll': 2, 'bags': 3, 'blanket': 1, 'regular': 2, 'significant': 1, 'waqt': 1, 'pehle': 1, 'naseeb': 1, 'zyada': 1, 'kisi': 1, 'ko': 1, 'kuch': 1, 'nahi': 2, 'miltazindgi': 1, 'wo': 2, 'jo': 2, 'hum': 1, 'sochte': 1, 'zindgi': 1, 'jeetey': 1, 'worse': 7, 'stalking': 1, 'dan': 2, 'reminded': 1, 'varaya': 1, 'elaya': 1, 'anand': 1, 'store': 2, 'offers': 1, 'beach': 1, 'expected': 1, 'aww': 2, 'nearly': 2, 'deadwell': 1, 'jez': 1, 'iscoming': 1, 'todo': 1, 'workand': 1, 'whilltake': 1, 'zogtorius': 1, 'i\\x92ve': 1, 'staring': 2, 'age': 5, 'whether': 5, 'financial': 1, 'problemi': 1, 'alian': 1, 'posible': 1, 'century': 1, 'cm': 1, 'frwd': 1, 'unnecessarily': 2, 'sorts': 1, 'owned': 1, 'possessive': 1, 'nohe': 1, 'clarification': 1, 'issue': 3, 'weigh': 2, 'regret': 2, 'coimbatore': 1, 'tom': 2, 'opinions': 1, 'categories': 1, 'measure': 3, 'ethnicity': 1, 'census': 1, 'transcribing': 1, 'propsd': 2, 'gv': 2, 'lv': 2, 'lttrs': 2, 'threw': 2, 'thm': 3, 'aproach': 2, 'dt': 2, 'truck': 2, 'speeding': 2, 'wn': 3, 'girld': 2, 'hw': 7, 'instantly': 2, 'thy': 2, 'lived': 2, 'happily': 2, '2gthr': 2, 'drinking': 3, 'evrydy': 2, 'msgsd': 2, 'paragon': 2, 'cakes': 1, 'bluff': 2, 'impossible': 3, 'goodmate': 1, 'sary': 2, 'asusual1': 1, 'cheered': 1, 'franyxxxxx': 1, 'batt': 1, 'added': 4, 'wwwfullonsmscom': 2, 'visit': 8, 'realize': 2, 'gn': 2, 'pussy': 6, 'messageno': 3, 'responcewhat': 3, 'happend': 4, 'piece': 2, 'wiskey': 2, 'brandy': 2, 'rum': 2, 'gin': 2, 'vodka': 3, 'scotch': 2, 'shampain': 2, 'kudiyarasu': 2, 'dhina': 2, 'vaazhthukkal': 2, 'gained': 1, 'kg': 2, 'sugar': 4, 'pressure': 1, 'limits': 1, 'dumb': 2, 'thangam': 3, 'okey': 3, 'doke': 1, 'dressed': 2, 'laying': 1, 'kills': 2, 'neshanthtel': 1, 'byatch': 1, 'whassup': 1, 'kay': 2, 'roger': 4, 'cl': 1, 'wasted': 2, 'chiong': 1, 'christ': 2, 'dialogue': 1, 'cute': 7, 'reltnship': 1, 'wipe': 1, 'tears': 2, 'timegud': 1, 'solve': 4, 'murdered': 7, '1his': 3, 'police': 7, '2police': 3, 'questioned': 3, '3wife': 3, 'siri': 3, '4cook': 3, 'cooking': 4, '5gardener': 3, 'vegetables': 3, '6housemaid': 3, '7children': 3, '8neighbour': 3, 'murderer': 7, 'brilliant': 4, 'pose': 1, 'comb': 1, 'dryer': 1, 'fps': 1, 'computational': 1, 'science': 2, 'push': 2, 'answered': 2, 'madamregret': 1, 'disturbancemight': 1, 'dlf': 1, 'premaricakindly': 1, 'informedrgdsrakheshkerala': 1, 'settle': 3, 'err': 1, '8pm': 1, 'bloo': 3, 'kbut': 1, 'hitteranyway': 1, 'offline': 1, 'anjolas': 1, 'txting': 1, 'indians': 4, 'swiss': 2, 'directors': 1, 'lac': 1, 'crore': 2, 'deposited': 1, 'taxless': 1, 'budget': 6, 'jobs': 2, 'lane': 2, 'suply': 1, 'projects': 1, 'citizen': 3, 'monthly': 2, 'imf': 1, 'blocked': 1, 'politicians': 2, 'rights': 2, 'corrupt': 1, 'itna': 1, 'karo': 1, 'pura': 1, 'padhegm': 1, 'torrents': 1, 'particularly': 1, 'slowing': 1, 'commit': 1, 'random': 5, 'rightio': 1, '1148': 1, 'brum': 1, 'donno': 2, 'scorable': 1, 'stars': 2, 'paranoid': 1, 'brin': 1, 'properly': 2, 'sheet': 1, 'kgive': 1, 'complain': 1, 'onlybettr': 1, 'bsnl': 1, 'offc': 1, 'payed': 1, 'suganya': 1, 'dessert': 1, 'abeg': 1, 'profit': 1, 'sponsors': 1, 'onum': 1, 'candont': 1, 'poet': 1, 'imaginationmy': 1, 'carso': 1, 'rr': 1, 'famamus': 1, 'pongaldo': 2, 'sry': 2, 'furniture': 2, 'lock': 2, 'locks': 1, 'key': 3, 'jenne': 1, 'easiest': 1, 'barcelona': 1, 'ru': 5, 'kdo': 1, 'daurgent': 1, 'pansy': 1, 'jungle': 1, 'kanji': 1, 'drinkpa': 1, 'srs': 1, 'drizzling': 1, 'appointments': 1, 'shoving': 2, 'papers': 2, 'greetings': 3, 'excused': 1, 'drama': 1, 'plsi': 1, 'struggling': 1, 'strange': 2, 'placeno': 1, 'ego': 1, 'necessity': 1, 'gowait': 1, 'reppurcussions': 1, 'released': 3, 'cosign': 1, 'hcl': 1, 'requires': 1, 'freshers': 1, 'processexcellent': 1, 'neededsalary': 1, 'upto': 2, 'mssuman': 1, 'telephonic': 1, 'indyarockscom': 2, 'resume': 2, 'datoday': 2, 'direct': 2, 'link': 4, 'cars': 5, 'bids': 1, 'restuwud': 1, 'reliant': 1, 'fwiw': 1, 'afford': 1, 'happens': 7, 'kanowhr': 1, 'maga': 3, 'sq825': 1, 'arrival': 1, 'yunny': 2, 'citylink': 1, 'er': 5, 'props': 1, 'pleasant': 1, 'statements': 1, 'bognor': 1, 'splendid': 1, 'yesim': 1, 'ktv': 1, 'misplaced': 1, 'computers': 1, 'mmmmm': 2, 'medicine': 3, 'begun': 1, 'registration': 1, 'permanent': 1, 'residency': 1, 'plenty': 6, 'claire': 1, 'relatives': 2, 'deliver': 5, 'risks': 1, 'benefits': 1, 'amount': 5, '6months': 1, 'hmmmhow': 1, 'predicting': 1, 'accumulation': 1, 'programs': 1, 'belongs': 1, 'herwho': 1, 'fated': 1, 'shoranur': 1, 'incident': 3, 'fuelled': 1, 'concern': 1, 'prior': 1, 'grief': 1, 'violence': 3, 'goodenvironment': 2, 'terrific': 2, 'honestly': 1, 'promptly': 1, 'burnt': 1, 'advice': 5, 'someplace': 1, 'goods': 1, 'pressies': 1, 'dr': 2, 'superior': 2, 'ultimately': 1, 'tor': 1, 'motive': 1, 'tui': 1, 'achieve': 1, 'korli': 1, 'dock': 1, 'rolled': 1, 'newscaster': 1, 'dabbles': 1, 'flute': 1, 'behind': 6, 'wheel': 1, 'ruin': 2, 'erm': 3, 'contract': 2, 'the4th': 1, 'october': 1, 'elaborating': 1, 'safety': 1, 'aspects': 1, 'issues': 3, 'department': 2, 'oursso': 1, 'youany': 1, 'hr': 5, 'conform': 2, 'member': 2, 'flow': 1, 'developed': 1, 'ovarian': 1, 'cysts': 1, 'bc': 2, 'shrink': 1, 'onit': 1, 'upping': 1, 'grams': 1, 'timin': 1, 'apes': 1, 'death': 3, 'ibm': 1, 'hp': 1, 'toshiba': 2, 'gosh': 1, 'spose': 1, 'usualiam': 3, 'rimac': 1, 'arestaurant': 1, 'squid': 1, '1030': 3, 'dosomething': 1, 'ucall': 1, 'wrki': 1, 'dabooks': 1, 'hrs': 5, 'nite2': 1, 'wrk': 2, 'sam': 2, 'eachother': 1, 'luckily': 1, 'starring': 1, 'madam': 2, 'restocked': 1, 'innocent': 2, 'mental': 2, 'smoothly': 1, 'hoped': 2, 'bills': 2, 'challenging': 1, '2marrow': 2, 'hon': 3, 'pple700': 1, '900': 2, 'nightsexcellent': 1, 'breakfast': 1, 'hamper': 1, 'reality': 1, 'daal': 1, 'unni': 1, 'rechargerakhesh': 1, 'lacking': 1, 'particular': 1, 'dramastorms': 1, 'forfeit': 1, 'treated': 2, 'digi': 1, '9pm': 2, 'fab': 2, 'coupla': 1, 'wks': 1, 'sundayish': 1, 'held': 1, 'prasad': 1, 'tiwary': 2, 'rcbbattle': 1, 'bang': 2, 'kochi': 1, 'cancer': 6, 'checkup': 1, 'pap': 2, 'smear': 1, 'gobi': 1, 'arts': 2, 'pandy': 1, '4w': 1, 'technologies': 1, 'todayhe': 1, 'olowoyey': 1, 'uscedu': 1, 'argentina': 1, 'secretary': 2, 'taxt': 1, 'massagetiepos': 1, 'lool': 1, 'dollar': 2, 'pull': 2, 'spending': 4, 'taylors': 1, 'shaking': 1, 'booty': 3, 'timeslil': 1, 'busyi': 1, 'scarcasim': 1, 'naal': 1, 'eruku': 1, 'chikkuwat': 1, 'remains': 3, 'bro': 3, 'amongst': 2, 'bros': 3, 'impressively': 1, 'sensible': 1, 'whens': 4, 'alsoor': 1, 'danalla': 1, 'obedient': 1, 'ft': 1, 'combination': 1, 'needy': 1, 'pouts': 3, 'stomps': 3, 'northampton': 2, 'abj': 2, 'serving': 2, 'playng': 1, 'landline': 2, 'anna': 2, 'nagar': 2, 'yupz': 1, 'modelsony': 1, 'ericson': 1, 'der': 1, 'luks': 1, 'modl': 1, 'cheesy': 1, 'frosty': 1, 'witin': 1, 'shirts': 3, 'nudist': 1, 'themed': 1, 'pump': 1, 'petrol': 2, 'feb': 5, 'valued': 2, 'ignore': 4, 'evr': 2, 'signal': 1, 'neither': 2, 'unusual': 1, 'hugs': 2, 'snogs': 2, 'west': 2, 'palm': 1, 'printing': 1, 'handing': 1, 'chase': 2, 'stated': 1, 'perpetual': 1, 'dd': 1, 'steam': 2, 'reg': 2, 'pract': 1, 'flung': 1, 'housemaid': 4, 'january': 6, 'public': 4, 'govtinstituitions': 4, 'closedincluding': 4, 'officeunderstand': 3, 'process': 3, 'justbeen': 1, 'overa': 1, 'brains': 1, 'mush': 1, 'tunde': 1, 'missions': 1, 'sleepy': 2, 'dare': 4, 'ben': 2, 'mag': 2, 'avo': 1, 'middle': 3, 'crashed': 1, 'cuddled': 1, 'chachi': 1, 'pl': 1, 'tiz': 1, 'kanagu': 1, 'prices': 1, 'ringing': 1, 'houseful': 1, 'brats': 1, 'pulling': 1, 'diwali': 2, 'tick': 6, 'nowonion': 1, 'derp': 1, 'abusers': 1, 'lipo': 1, 'easter': 1, 'netflix': 1, 'thgt': 2, 'clash': 1, 'arr': 1, 'oscar': 1, 'rebtel': 1, 'firefox': 1, 'user': 1, 'numbers': 4, 'lower': 2, 'pin': 5, 'various': 2, 'impressed': 1, 'funs': 1, 'teluguthts': 1, 'gudk': 2, 'exhaust': 2, 'replacing': 1, 'ordered': 1, 'mittelschmertz': 1, 'paracetamol': 1, 'salespee': 1, 'arrived': 1, 'cthen': 1, 'enuff': 3, 'conclusion': 1, 'contents': 3, 'pg': 3, 'references': 1, 'cover': 5, 'atyour': 1, 'success': 2, 'rugby': 1, 'affidavit': 1, 'twiggs': 1, 'division': 2, 'courtroom': 1, 'creep': 2, 'lil': 2, 'showers': 1, 'possessiveness': 1, 'poured': 1, 'lies': 2, 'golden': 1, 'lasting': 1, 'wtc': 1, 'weiyi': 1, 'private': 1, 'property': 2, 'godtaken': 1, 'teethis': 1, 'paining': 1, 'maggi': 1, 'mee': 1, 'nasty': 1, 'cough': 1, 'com': 1, 'bbdpooja': 1, 'pimpleseven': 1, 'blackand': 1, 'sweatter': 1, 'nicenicehow': 2, 'ambitious': 1, 'miiiiiiissssssssss': 1, 'tunji': 1, 'iz': 4, 'yellow': 2, 'misscall': 1, 'frndz': 1, '6missed': 1, 'wipro': 1, 'tall': 1, 'doubt': 2, 'handle': 4, 'note': 4, 'robs': 1, 'avenge': 1, 'japanese': 2, 'proverb': 2, 'itu': 2, 'itleave': 2, 'strike': 3, 'choices': 1, 'toss': 1, 'coin': 2, 'gudni8': 1, 'dancin': 1, 'cinema': 5, 'explicitly': 1, 'nora': 1, 'smith': 1, 'gayle': 1, 'crucify': 1, 'moved': 3, 'butting': 1, 'freedom': 2, 'vs': 1, 'cedar': 1, 'twenty': 2, 'durham': 1, 'reserved': 1, 'seat': 3, 'painting': 2, 'wall': 1, 'printer': 1, 'groovy': 1, 'groovying': 1, 'harishs': 1, 'transfred': 1, 'acnt': 1, 'nowadayslot': 1, 'showroomscity': 1, 'shaping': 1, 'attending': 1, 'talks': 2, 'probs': 2, 'doinat': 1, 'callon': 1, 'low': 2, 'bought': 4, 'rons': 1, 'swatch': 2, 'kkyesterday': 1, 'ganesh': 2, 'dress': 3, 'collecting': 3, 'configure': 1, 'settings': 1, 'trips': 2, '’': 2, 'orange': 3, 'anal': 1, 'sex': 2, 'pears': 1, 'helloooo': 2, 'welcomes': 2, 'summer': 1, 'celebrate': 4, 'worlds': 2, 'oooooh': 1, 'thatnow': 1, 'we\\x92ve': 1, '2geva': 2, 'mint': 1, 'uxxxx': 1, 'humans': 1, 'studyn': 1, 'wuld': 2, 'everyboy': 1, 'xxxxxxxx': 1, 'solved': 2, '532': 1, '924': 1, '863': 1, '725': 1, 'brilliant1thingi': 1, 'answr': 1, 'liquor': 1, 'flaked': 3, 'loko': 1, '730': 4, 'lined': 1, 'tm': 4, 'laughs': 1, 'fireplace': 1, 'icon': 1, 'fifth': 1, 'woozles': 1, 'weasels': 1, 'gary': 3, 'cheaper': 3, 'machines': 1, 'fucks': 2, 'sake': 2, 'ignorant': 1, 'mys': 1, 'bruce': 2, 'downs': 1, 'fletcher': 1, 'teaching': 1, 'bowls': 1, 'cozy': 1, 'nightnobody': 1, 'buzzzz': 1, 'chest': 2, 'vibrator': 1, 'shake': 1, 'covers': 2, 'trends': 1, 'pros': 1, 'cons': 1, 'brief': 2, 'description': 1, 'nuclear': 1, 'fusion': 1, 'history': 3, 'iter': 1, 'jet': 1, 'nonenowhere': 1, 'ikno': 1, 'doesdiscountshitinnit': 1, 'jabo': 1, 'abi': 4, 'hadya': 1, 'sapna': 1, 'manege': 1, 'yday': 1, 'hogidhechinnu': 1, 'swalpa': 1, 'agidhane': 1, 'sports': 1, 'typelyk': 1, 'footblcrckt': 1, 'swell': 1, 'tim': 1, 'bollox': 1, 'tol': 1, 'hang': 2, 'ingredients': 1, 'pocy': 1, 'bell': 3, 'non': 1, 'senor': 1, 'giggle': 1, 'possibly': 1, 'person2die': 1, 'nvq': 1, 'reboot': 2, 'grinder': 1, 'youkwhere': 1, 'buyers': 1, 'figuring': 1, 'entirely': 1, 'understood': 3, 'bottom': 3, 'knowhe': 1, 'phoned': 2, 'disconnected': 1, 'onluy': 1, 'matters': 1, 'offcampus': 1, 'rileys': 1, 'ew': 1, 'wesley': 1, 'howve': 1, 'lingo': 1, 'medont': 1, 'lm': 1, 'hm': 3, 'salon': 2, 'approaching': 1, 'sankranti': 1, 'republic': 1, 'shivratri': 1, 'ugadi': 1, 'fools': 1, 'independence': 1, 'friendshipmotherfatherteacherschildrens': 1, 'festival': 1, 'dasara': 1, 'mornings': 1, 'afternoons': 1, 'evenings': 2, 'rememberi': 1, 'theseyours': 1, 'raj': 2, 'lifeis': 1, 'daywith': 1, 'thoughts': 1, 'somewheresomeone': 1, 'tosend': 1, 'greeting': 1, 'selflessness': 1, 'initiate': 1, 'tallent': 1, 'wasting': 1, 'usc': 2, 'payment': 2, 'portal': 1, 'dont4get2text': 1, 'lennon': 1, 'bothering': 1, 'crab': 3, 'shorethe': 1, 'waves': 2, 'footprints': 3, 'clearing': 2, 'fox': 1, 'following': 2, 'frndsship': 1, 'dwn': 1, 'slaaaaave': 1, 'summon': 1, '£3365': 1, 'changes': 3, 'appendix': 1, 'range': 2, 'slob': 1, 'click': 2, 'smiled': 2, 'gudnite': 1, 'topicsorry': 1, 'webpage': 1, 'yeesh': 1, 'gopalettan': 1, 'participate': 1, 'admin': 2, 'kkfrom': 1, 'ay': 1, 'satü': 1, 'andros': 2, 'steal': 1, 'isaiahd': 1, 'meets': 2, 'foot': 2, 'penis': 2, 'expert': 1, 'sigh': 2, 'ssi': 1, 'thinl': 1, 'sachinjust': 1, 'importantly': 1, 'tightly': 1, 'wnevr': 1, 'fal': 1, 'vth': 2, 'books': 3, 'fals': 1, 'yen': 1, 'madodu': 1, 'nav': 1, 'pretsorginta': 1, 'nammanna': 1, 'pretsovru': 1, 'alwa': 1, 'eveb': 2, 'window': 2, 'homelove': 1, 'staffsciencenusedusgphyhcmkteachingpc1323': 1, 'emigrated': 1, 'hopeful': 1, 'olol': 1, 'stagwood': 1, 'winterstone': 1, 'victors': 1, 'hill': 4, 'jp': 1, 'mofo': 1, 'pathaya': 1, 'enketa': 1, 'maraikara': 1, 'priest': 1, 'reserves': 1, 'intrude': 1, 'dates': 2, 'walkabout': 1, 'cashed': 1, 'announced': 1, 'blog': 1, 'prove': 3, 'footie': 1, 'blow': 1, 'phil': 1, 'neville': 1, 'abbey': 1, 'returning': 1, 'knowing': 3, 'auctionpunj': 1, 'thurs': 3, 'pre': 1, 'cancelled': 2, 'sacked': 1, 'barred': 1, 'lifethis': 1, 'twat': 1, 'dungerees': 1, 'decking': 1, 'punch': 1, 'mentionned': 1, 'planned': 7, 'onlydon': 1, 'grl': 4, 'hogolo': 1, 'gold': 1, 'kodstini': 1, 'agalla': 2, 'madstini': 1, 'hogli': 1, 'mutai': 1, 'eerulli': 1, 'kodthini': 1, 'kano': 3, 'thasa': 1, 'messed': 1, 'upyeh': 1, 'shudvetold': 1, 'urgran': 1, 'knowneway': 1, 'illspeak': 1, 'u2moro': 1, 'tex': 1, 'mecause': 1, 'werebored': 1, 'okden': 1, 'hunny': 3, 'uin': 1, 'satsound\\x92s': 1, 'likeyour': 1, 'gr8fun': 1, 'updat': 1, 'countinlots': 1, 'xxxxx': 1, 'l': 1, 'tagged': 1, 'count': 2, 'arrive': 1, 'challenge': 2, 'hdd': 1, 'casing': 1, 'mystery': 1, 'opened': 1, 'describe': 1, 'asus': 1, 'randomly': 1, 'reformat': 1, 'otside': 2, 'leu': 1, 'plumbers': 1, 'tape': 3, 'wrench': 1, 'bcum': 1, 'films': 1, 'appeal': 1, 'thriller': 1, 'director': 1, '830': 2, 'size': 2, 'elephant': 1, 'shove': 1, 'um': 1, 'cr': 1, 'pookie': 1, 'wouldnt': 5, 'youdearwith': 1, 'loverakhesh': 1, 'nri': 1, 'x2': 1, 'it\\x92s': 2, 'unique': 1, 'deserve': 1, 'tight': 2, 'lick': 3, 'diddy': 1, 'neighbor': 1, 'toothpaste': 1, 'av': 2, 'oneta': 1, 'poking': 1, 'everyday': 2, 'deam': 1, 'curious': 2, 'conditions': 1, 'coccooning': 1, 'auto': 3, 'mus': 1, 'asap': 4, 'yeahand': 1, 'newquaysend': 1, 'postcard': 2, 'goneu': 1, '1im': 1, 'talkin': 1, 'boutxx': 1, 'divorce': 1, 'bread': 2, 'windy': 1, 'mahal': 2, 'knowthis': 1, 'tirunelvai': 1, 'dusk': 1, 'puzzles': 1, 'stairs': 1, 'phews': 1, 'thangamits': 1, 'redred': 2, 'bloodblood': 2, 'heartheart': 2, '1u': 3, 'relation': 5, '3u': 3, '4some1': 2, 'luvs': 2, 'praying': 2, 'recycling': 1, 'earning': 1, 'toledo': 1, 'ding': 2, 'tai': 1, 'feng': 1, 'reservations': 1, 'swimsuit': 1, 'allowed': 2, 'necessary': 2, 'watever': 2, 'shared': 2, 'squeeeeeze': 1, 'hug': 4, 'lik': 5, 'frndshp': 1, 'luvd': 1, 'asks': 5, 'themp': 1, 'volcanoes': 1, 'erupt': 1, 'arise': 1, 'hurricanes': 1, 'sway': 1, 'aroundn': 1, 'disasters': 1, 'lighters': 1, '7pm': 1, 'kkits': 1, 'goodwhen': 1, 'lasagna': 1, 'chickened': 1, 'messaged': 2, 'woould': 1, 'city': 1, 'drove': 1, 'shore': 1, 'deus': 2, 'tap': 2, 'spile': 2, 'broad': 2, 'canal': 2, 'engin': 2, 'onedge': 1, 'raviyog': 1, 'peripherals': 1, 'bhayandar': 1, 'east': 2, 'sunoco': 1, 'howard': 2, 'musical': 1, 'plate': 1, 'leftovers': 1, 'caller': 1, 'starving': 1, 'cooked': 2, 'cheat': 2, 'fatty': 1, 'badrith': 1, 'chennaii': 1, 'usno': 1, 'owe': 1, 'checkin': 1, 'numberso': 1, 'ittb': 1, 'block': 1, 'armenia': 1, 'swann': 1, '330': 1, '1120': 1, '1205': 1, 'smoking': 3, 'wylie': 4, 'justify': 1, 'ruining': 2, 'meds': 6, 'hunt': 1, 'in2': 2, 'everyones': 1, 'babysitting': 1, 'itll': 1, 'gonnamissu': 1, 'muchi': 2, 'buttheres': 1, 'aboutas': 1, 'merememberin': 1, 'asthere': 1, 'ofsi': 1, 'breakin': 1, 'yaxx': 1, 'ee': 2, 'poortiyagi': 1, 'odalebeku': 1, 'hanumanji': 1, '1hanuman': 1, '2bajarangabali': 1, '3maruti': 1, '4pavanaputra': 1, '5sankatmochan': 1, '6ramaduth': 1, '7mahaveer': 1, 'janarige': 1, 'ivatte': 1, 'kalisidare': 1, 'olage': 1, 'ondu': 1, 'keluviri': 1, 'maretare': 1, 'inde': 1, 'dodda': 1, 'problum': 1, 'nalli': 1, 'siguviri': 1, 'idu': 1, 'matra': 1, 'neglet': 1, 'easily': 2, 'ijust': 1, 'talked': 1, 'opps': 1, 'tts': 1, 'gei': 1, 'tron': 1, 'dl': 1, 'selfish': 1, 'spiffing': 1, 'workage': 1, 'craving': 1, 'fml': 2, 'supose': 1, 'babysit': 1, 'therexx': 1, 'spaces': 1, 'embassy': 1, 'lightly': 1, 'custom': 2, 'checkboxes': 1, 'hardcore': 1, 'sac': 2, 'hundredhe': 1, 'batsman': 1, 'yettys': 1, 'approx': 1, '21': 1, 'jiayin': 2, 'forgotten': 2, 'reverse': 2, 'cheating': 2, 'mathematics': 2, '2waxsto': 2, 'basic': 4, 'emailed': 1, 'yifeng': 1, 'theyll': 1, 'slurp': 1, 'minimum': 2, '3miles': 1, 'ing': 1, 'brainless': 1, 'dolld': 1, 'vehicle': 1, 'sariyag': 1, 'madoke': 1, 'barolla': 1, 'postponed': 1, 'stocked': 1, 'elaine': 2, 'tiime': 1, 'etc': 6, 'afternon': 1, 'interviews': 1, 'resizing': 1, 'opposed': 1, 'drunken': 2, 'somerset': 1, 'overtime': 1, 'nigpun': 1, 'dismissial': 1, 'screwd': 1, 'bull': 1, 'floating': 1, 'mess': 2, 'heehee': 1, 'arithmetic': 1, 'percentages': 1, 'amazing': 3, 'chillaxin': 1, 'das': 1, 'iknow': 1, 'wellda': 1, 'peril': 1, 'studentfinancial': 1, 'crisisspk': 1, 'monster': 1, 'ths': 3, 'ias': 2, 'obey': 1, 'uhhhhrmm': 1, 'mb': 2, 'youphone': 1, 'athome': 1, 'youwanna': 1, 'jack': 1, 'sayask': 1, 'helpful': 1, 'pretend': 1, 'response': 3, 'hypotheticalhuagauahahuagahyuhagga': 1, 'brainy': 1, 'info': 2, 'occasion': 1, 'celebrated': 1, 'reflection': 1, 'values': 1, 'desires': 2, 'affectionsamp': 1, 'traditions': 1, 'cantdo': 1, 'anythingtomorrow': 1, 'myparents': 1, 'aretaking': 1, 'outfor': 1, 'katexxx': 1, 'level': 1, 'gate': 1, 'board': 1, 'overheating': 1, 'reslove': 1, 'inst': 1, 'pending': 2, '8o': 1, 'western': 1, 'outta': 4, 'nowadays': 1, 'notixiquating': 1, 'laxinorficated': 1, 'bambling': 1, 'entropication': 1, 'oblisingately': 1, 'opted': 1, 'masteriastering': 1, 'amplikater': 1, 'fidalfication': 1, 'champlaxigating': 1, 'atrocious': 1, 'wotz': 1, 'junna': 1, 'accident': 1, 'a30': 1, 'divert': 1, 'wadebridgei': 1, 'vill': 1, 'orc': 1, 'seeking': 1, 'priscillas': 2, 'dayexcept': 1, 'wisdom': 3, 'inform': 4, 'wherres': 1, 'resolution': 1, 'replybe': 1, 'frankgood': 1, 'logoff': 1, 'parkin': 1, 'kent': 2, 'vale': 2, 'cannt': 3, 'asa': 1, 'prince': 1, 'charming': 1, 'mention': 1, 'served': 1, 'arnt': 1, 'xxxxxxxxxxxxxx': 1, 'alle': 1, 'moneeppolum': 1, 'pole': 1, 'allalo': 1, 'fundamentals': 1, 'carewhoever': 1, 'camera': 3, '101mega': 1, 'pixels': 1, '3optical': 1, '5digital': 1, 'dooms': 1, 'peteynoi\\x92m': 1, 'timehope': 1, 'alritehave': 1, 'js': 1, 'amx': 1, 'burgundy': 1, 'captaining': 1, 'base': 2, 'placement': 2, 'amrita': 1, 'profile': 1, 'bpo': 1, 'nighters': 1, 'persevered': 1, 'regretted': 1, 'wasn\\x92t': 1, 'spouse': 1, 'pmt': 1, 'sumthin': 1, '4give': 1, 'shldxxxx': 1, 'thatd': 1, 'scenario': 1, 'spunout': 1, 'wrld': 1, 'nytho': 1, 'tx': 1, 'fonin': 1, '2mwen': 1, 'frmcloud': 1, 'pounded': 1, 'lion': 2, 'devouring': 2, 'airtel': 2, 'broadband': 1, 'processed': 1, 'installation': 1, 'tensed': 1, 'coughing': 1, '25': 2, 'survey': 1, 'warned': 1, 'sprint': 1, 'prolly': 3, 'gower': 1, '\\x91morrow': 1, '\\x96': 3, '420': 1, 'alreadysabarish': 1, 'jaya': 2, 'inpersonation': 1, 'flea': 1, 'forums': 2, 'itlet': 2, 'nys': 1, 'taj': 1, 'symbol': 1, 'lesser': 1, 'known': 1, 'facts': 1, 'mumtaz': 2, 'shahjahans': 1, 'wifes': 1, 'shahjahan': 1, 'mumtazs': 2, 'delivery': 1, 'arises': 1, 'hari': 1, 'okcome': 1, 'webadres': 1, 'geting': 1, 'ship': 2, 'maturity': 2, 'confirmed': 3, 'passport': 1, 'multiply': 1, 'independently': 1, 'decimal': 2, 'showed': 1, 'twins': 1, 'equally': 1, 'uneventful': 1, 'pesky': 1, 'cyclists': 1, 'wereare': 1, 'nalla': 1, 'adi': 1, 'entey': 1, 'nattil': 1, 'kittum': 1, 'kavalan': 2, 'hire': 1, 'hitman': 1, 'cps': 1, 'causing': 2, 'outages': 1, 'conserve': 1, 'jordan': 1, 'voted': 1, 'epi': 1, 'bare': 1, 'bhaskar': 1, 'dubsack': 3, 'individual': 1, 'gong': 1, 'kaypoh': 1, 'football': 2, 'basketball': 1, 'outdoors': 1, 'macho': 3, 'interfued': 1, 'blank': 4, 'listed': 1, 'apology': 1, 'hustle': 1, 'forth': 1, 'audition': 3, 'harlem': 1, 'workout': 1, 'fats': 1, 'zac': 1, 'hui': 1, 'xin': 1, 'lib': 2, 'difference': 2, 'versus': 1, 'edge': 1, 'underdtand': 1, 'itboth': 1, 'upnot': 1, 'muchxxlove': 1, 'locaxx': 1, 'skateboarding': 1, 'despite': 2, 'thrown': 1, 'winds': 1, 'bandages': 1, 'sky': 1, 'dark': 2, 'hectic': 1, 'fell': 3, 'swoop': 2, 'langport': 2, 'virtual': 1, 'senthil': 2, 'apnt': 1, 'pants': 1, 'waiti': 1, 'go2sri': 1, 'lanka': 1, 'wordnot': 1, 'merely': 1, 'relationshipits': 1, 'wherevr': 1, 'forevr': 3, 'gudnyt': 1, 'mistakes': 2, 'plum': 1, 'smacks': 1, '50s': 1, 'alot': 1, 'formatting': 1, 'attracts': 1, 'vegas': 2, 'lou': 2, 'lancaster': 1, 'neway': 1, 'couldn\\x92t': 1, 'b\\x92day': 2, 'soc': 1, 'bsn': 1, 'advising': 1, 'lobby': 1, 'texted': 4, 'showered': 1, 'erything': 1, 'vewy': 2, 'lubly': 1, 'rs5': 1, 'sbut': 1, 'luck2': 1, 'catches': 1, 'specify': 1, 'domain': 1, 'nusstu': 1, 'ohi': 1, 'hahatake': 1, 'bari': 1, 'hudgi': 1, 'yorge': 1, 'pataistha': 1, 'ertini': 1, 'hasbroin': 1, 'august': 1, 'jump': 1, 'hoops': 1, 'lateso': 1, 'morningtake': 1, 'dreamsu': 1, 'meummifyingbye': 1, 'networking': 2, 'associate': 1, 'rip': 1, 'uterus': 1, 'pool': 2, 'jacuzzi': 1, 'splwat': 1, 'whr': 1, 'aldrine': 1, 'rakhesh': 1, 'rtm': 1, 'herepls': 1, 'callurgent': 1, 'sources': 1, 'unhappiness': 1, 'necesity': 1, 'witout': 1, 'hwd': 1, 'colleg': 1, 'watll': 1, 'wth': 1, 'functions': 1, 'events': 1, 'espell': 1, 'irritated': 1, '4wrd': 1, 'dearloving': 1, 'wthout': 1, 'jst': 3, 'takecare': 1, 'univ': 1, 'rajas': 1, 'burrito': 1, 'co': 2, 'disconnect': 2, 'callcoz': 2, 'attempt': 2, 'terrorist': 2, 'itz': 2, 'confirmd': 2, 'nokia': 3, 'motorola': 2, 'verified': 2, 'cnn': 2, 'ibn': 2, 'stitch': 1, 'trouser': 1, 'cheetos': 1, 'names': 1, 'synced': 1, 'shangela': 1, 'hppnss': 2, 'sorrow': 2, 'goodfriend': 2, 'againloving': 1, 'poo': 1, 'gloucesterroad': 1, 'uup': 1, 'ouch': 1, 'stayed': 2, 'forgiveness': 1, 'fruit': 1, 'stone': 2, 'glo': 1, 'yesmum': 1, 'wlcome': 1, 'eaten': 3, 'timi': 1, 'fishrman': 1, 'sack': 1, 'ful': 2, 'stones': 2, 'strtd': 1, 'throwin': 1, 'atlast': 2, '1stone': 1, 'moraldont': 1, 'physics': 1, 'information': 4, 'arpraveesh': 1, 'delicious': 1, 'salad': 1, 'desert': 2, 'beers': 1, 'whore': 1, 'flood': 1, 'beads': 1, 'wishlist': 1, 'section': 1, 'nitro': 1, 'luxury': 1, 'sold': 1, 'onionrs': 1, 'petrolrs': 1, 'beerrs': 1, 'armands': 1, 'creative': 1, 'review': 2, 'fakemy': 1, 'reffering': 1, 'uif': 1, 'getiing': 1, 'rsi': 1, 'weirdy': 1, 'brownies': 1, 'restrict': 1, 'funeral': 2, 'audrey': 1, 'godnot': 1, 'chikkuk': 1, 'vivek': 1, 'brah': 2, 'possession': 3, 'outif': 1, 'greece': 1, 'protect': 2, 'ethreats': 2, 'sib': 2, 'sensitive': 2, 'passwordsatmsms': 2, 'recorded': 1, 'someday': 1, 'goodmorningmy': 1, 'grandfather': 1, 'expiredso': 1, 'yuou': 1, 'pc': 2, 'spot': 1, 'ipad': 2, 'bunch': 1, 'lotto': 1, 'auction': 1, 'bird': 2, 'purchases': 1, 'authorise': 1, '645pm': 1, 'honeydid': 1, 'gimmi': 1, 'gossx': 1, 'painit': 1, 'todaydo': 1, 'ystrdayice': 1, 'chile': 1, 'subletting': 1, 'febapril': 1, 'ammaelife': 1, 'steering': 1, 'anythings': 1, 'sleeps': 1, 'rounderso': 1, 'required': 1, 'truekdo': 1, 'lambu': 1, 'ji': 1, 'cometil': 1, 'batchlor': 1, 'zoom': 1, 'cheese': 2, 'pink': 1, 'pure': 1, 'hearted': 1, 'hisher': 1, 'enemies': 1, 'smiley': 1, 'gail': 1, 'wrongtake': 1, 'worryc': 1, 'hunlove': 1, 'yaxxx': 1, 'theoretically': 1, 'hooked': 1, 'formallypls': 1, 'prayingwill': 1, 'multimedia': 1, 'senthilhsbc': 1, 'vague': 1, 'accounting': 1, 'delayed': 1, 'housing': 1, 'agency': 1, 'renting': 1, 'presents': 1, 'nicky': 1, 'gumbys': 1, 'sized': 1, 'tarpon': 1, 'springs': 1, 'cab': 1, 'availablethey': 1, 'steps': 1, 'careumma': 1, 'limited': 1, 'practice': 2, 'deartake': 1, 'radiator': 1, 'proper': 1, 'tongued': 1, 'shorts': 1, 'qi': 1, 'suddenly': 1, 'flurries': 1, 'melt': 2, 'ground': 2, 'eek': 2, 'born': 3, 'perform': 1, 'cards': 1, 'rebooting': 1, 'nigh': 1, 'nooooooo': 1, 'cable': 1, 'outage': 1, 'sos': 1, 'playin': 1, 'guoyang': 1, 'rahul': 1, 'dengra': 1, 'antelope': 1, 'toplay': 1, 'fieldof': 1, 'selfindependence': 1, 'contention': 1, 'growrandom': 1, 'borderline': 1, '545': 1, 'nightnight': 1, 'possibility': 1, 'grooved': 1, 'pound': 2, 'affairs': 3, 'along': 3, 'mising': 1, 'lanre': 1, 'fakeyes': 1, 'eckankar': 1, 'ph': 1, 'heater': 2, 'degrees': 1, 'dodgey': 1, 'seing': 1, 'funky': 1, 'faceasssssholeeee': 1, 'ceri': 1, 'rebel': 1, 'dreamz': 1, 'buddy': 1, 'nationwide': 1, 'newport': 1, 'shortly': 1, 'juliana': 1, 'nachos': 1, 'eta': 2, 'dizzamn': 1, 'suitemates': 1, 'nimbomsons': 1, 'continent': 1, 'emerging': 1, 'fiendmake': 1, 'muchimpede': 1, 'hesitant': 1, 'ow': 1, 'deyi': 1, '60400thousadi': 1, 'babes': 4, 'sumthinxx': 1, 'nose': 1, 'essay': 1, 'tram': 1, 'vic': 1, 'coherently': 1, 'gran': 1, 'onlyfound': 1, 'afew': 1, 'agocusoon': 1, 'honi': 1, 'university': 3, 'southern': 1, 'california': 3, 'rayan': 1, 'macleran': 1, 'balls': 1, 'olave': 1, 'mandara': 1, 'trishul': 1, 'woo': 1, 'hoo': 1, 'panties': 1, 'thout': 1, 'flatter': 1, 'pints': 1, 'carlin': 1, 'literally': 2, 'ciao': 1, 'starve': 1, 'impression': 1, 'motivate': 1, 'darkness': 1, 'timeyou': 1, 'wknd': 1, 'yalrigu': 1, 'heltiniiyo': 1, 'kothi': 2, 'meso': 1, 'uttered': 1, 'trusting': 1, 'meok': 1, 'chikkub': 1, 'noice': 1, 'esaplanade': 1, 'occurs': 1, 'prof': 2, 'sem': 2, 'student': 2, 'enna': 1, 'kalaachutaarama': 1, 'coco': 1, 'sporadically': 1, 'you\\x92re': 1, 'burden': 1, 'actual': 2, 'harder': 1, 'nbme': 1, 'sickness': 1, 'sathya': 2, 'gam': 1, 'smash': 1, 'religiously': 1, 'smart': 2, 'await': 1, 'dealing': 2, 'muhommad': 1, 'penny': 1, 'doc': 4, 'hubby': 1, 'fiting': 1, 'load': 1, 'hwkeep': 1, 'mj': 1, 'unconvinced': 1, 'elaborate': 1, 'willpower': 1, 'value': 2, 'absence': 1, 'answerin': 1, 'reasonable': 2, '»': 1, 'evey': 1, 'mnth': 1, 'prin': 1, '…thanks': 1, 'ashwini': 1, 'tomorrowtoday': 1, 'jokethet': 1, 'skinny': 1, 'lineyou': 1, 'casting': 1, 'hockey': 1, 'elections': 1, '116': 1, 'hlday': 1, 'camp': 1, 'amrca': 1, 'serena': 1, 'prescribed': 1, 'med': 1, 'kappa': 2, 'meatballs': 1, 'approve': 1, 'panalambut': 1, 'posts': 1, 'fortune': 1, 'allday': 1, 'piss': 2, 'boys': 4, 'perf': 1, 'outsider': 1, 'receipts—well': 1, '98321561': 1, 'familiar': 1, 'depression': 1, 'infact': 1, 'can\\x92t': 1, 'cornwall': 1, 'isn\\x92t': 1, 'shite': 1, 'kip': 1, 'hont': 1, 'nannys': 1, 'puts': 1, 'perspective': 1, 'sonot': 1, 'conveying': 1, 'karaoke': 2, 'debating': 1, 'guessing': 2, 'jb': 1, 'youso': 1, 'florida': 1, 'teeth': 2, 'hidden': 1, 'royal': 2, 'wedding': 2, 'tog': 3, 'teams': 1, 'swhrt': 1, 'deyhope': 1, '2daylove': 1, 'misstake': 1, 'eye': 1, 'general': 1, 'ifwhenhow': 1, 'dayhas': 1, 'valuemorning': 1, 'hopeafternoon': 1, 'faithevening': 1, 'luvnight': 1, 'restwish': 1, 'todaygood': 1, 'jetton': 1, 'friendofafriend': 1, 'dealer': 1, 'lunsford': 1, 'enjoying': 1, 'kfc': 1, 'meals': 1, 'gravy': 1, 'dahe': 1, 'daalways': 1, 'thisdon': 1, 'messagepandy': 1, 'attended': 1, 'mw': 1, 'tuth': 1, 'mines': 1, 'eviction': 1, 'spiral': 1, 'michael': 1, 'riddance': 1, 'suffers': 1, 'raglan': 1, 'edward': 1, 'cricket': 1, 'closeby': 1, 'daplease': 1, 'skye': 1, 'bookedthe': 1, 'hut': 1, 'drastic': 1, 'garments': 1, 'sez': 1, 'arab': 1, 'evry1': 1, 'eshxxxxxxxxxxx': 1, 'lay': 1, 'bimbo': 1, 'ugos': 1, 'detroit': 1, 'portege': 1, 'm100': 1, 'semiobscure': 1, 'loosu': 1, 'careless': 1, 'freaking': 1, 'myspace': 1, 'logged': 1, 'partners': 1, 'method': 1, 'calculation': 2, 'blur': 2, 'clothes': 2, 'jewelry': 1, 'lush': 2, 'fumbling': 1, 'taunton': 4, 'weekdays': 1, 'haiz': 3, 'nails': 1, 'nobodys': 1, 'common': 5, 'asia': 1, 'greatest': 2, 'courage': 2, 'bear': 2, 'defeat': 2, 'heartgn': 2, 'tc': 2, 'stil': 1, 'fucked': 2, 'tobed': 1, '430': 2, 'beauty': 2, 'pimples': 1, 'asthma': 1, 'attack': 1, 'ball': 1, 'moving': 2, 'spin': 1, 'haiyoh': 1, 'million': 1, 'auntys': 1, 'prsn': 1, 'somtimes': 1, 'saves': 1, 'sunlight': 2, 'bcozi': 1, 'loss': 4, 'audiitions': 1, 'relocate': 1, 'pocked': 1, 'motivating': 1, 'sharing': 1, 'brison': 1, 'spelled': 1, 'caps': 1, 'among': 1, 'bullshit': 1, 'gwr': 1, 'motherfucker': 1, 'woodland': 1, 'avenue': 1, 'parish': 1, 'magazine': 1, 'telephone': 1, 'billy': 1, 'mates': 2, 'jogging': 2, 'concert': 2, 'awww': 1, 'useless': 1, 'loo': 1, 'helloed': 1, 'shelf': 2, 'swollen': 1, 'glands': 1, 'previous': 2, 'captain': 3, 'bcaz': 1, 'stu': 1, '2im': 1, 'truble': 1, 'evone': 1, 'hates': 1, 'mokka': 2, 'view': 1, 'gays': 1, 'games': 1, 'dual': 1, 'hostile': 1, 'haircut': 1, 'breezy': 1, '1appledayno': 1, '1tulsi': 1, 'leafdayno': 1, '1lemondayno': 1, '1cup': 1, 'milkdayno': 1, 'bone': 2, 'problms': 1, 'litres': 1, 'watrdayno': 1, 'diseases': 1, 'snd': 1, 'lavender': 1, 'manky': 1, 'scouse': 1, 'stevelike': 1, 'travelling': 1, 'homewot': 1, 'inmind': 1, 'recreation': 1, 'epsilon': 2, 'mesages': 2, 'judgementali': 1, 'fridays': 1, 'hidid': 1, 'waheeda': 1, 'allow': 1, 'bot': 1, 'notes': 1, 'deary': 1, 'eventually': 1, 'tolerance': 1, 'hits': 1, 'hellogorgeous': 1, 'lst': 2, 'nitw': 1, 'texd': 1, 'hopeu': 1, '4ward': 1, 'cin': 1, 'jaz': 1, 'exorcism': 1, 'emily': 1, 'evry': 1, 'emotion': 1, 'dsnt': 3, 'wordsevry': 1, 'prayrs': 1, 'uothrwise': 1, 'uso': 1, 'ujhhhhhhh': 1, 'sandiago': 1, 'parantella': 1, 'hugging': 1, 'sweater': 1, 'mango': 1, 'massive': 2, 'involved': 1, 'fineabsolutly': 2, 'consent': 1, 'forms': 1, 'mathews': 1, 'tait': 1, 'edwards': 1, 'anderson': 1, 'haunt': 1, 'promoting': 1, 'crowd': 1, 'snowboarding': 1, 'goa': 1, 'christmassy': 1, 'baaaaaaaabe': 1, 'ignoring': 1, 'shola': 1, 'academic': 2, 'sagamu': 1, 'lautech': 1, 'vital': 1, 'completes': 1, 'education': 1, 'rates': 1, 'zealand': 1, 'qet': 1, 'dial': 1, 'browser': 1, 'surf': 1, 'wellyou': 1, 'lifeyou': 1, 'convinced': 2, 'thati': 1, 'conversations': 1, 'usget': 1, 'timeyour': 1, 'sensesrespect': 1, 'overemphasiseor': 1, 'internal': 1, 'subs': 1, 'extract': 1, 'godyou': 1, 'immed': 1, 'skint': 1, 'fancied': 1, 'bevieswaz': 1, 'othrs': 1, 'spoon': 1, 'watchng': 1, 'planet': 1, 'earthsofa': 1, 'comfey': 1, 'quitting': 1, 'least5times': 1, 'wudnt': 1, 'coast': 2, 'ima': 1, 'frequently': 1, 'messageit': 1, 'cupboard': 1, 'route': 1, '2mro': 1, 'uk': 1, 'risk': 1, 'grasp': 1, 'flavour': 1, 'laready': 1, 'denying': 1, 'dom': 1, 'ffffuuuuuuu': 1, 'julianaland': 1, 'oblivious': 1, 'upsetits': 1, 'dehydrated': 1, 'mapquest': 1, 'dogwood': 1, 'tiny': 1, 'parking': 3, 'suppose': 2, 'archive': 1, 'lengths': 1, 'behalf': 1, 'stunning': 1, 'visa': 1, 'gucci': 1, 'shits': 1, 'babesozi': 1, 'culdnt': 1, 'talkbut': 1, 'wannatell': 1, 'wenwecan': 1, 'smsing': 1, 'efficient': 1, '515pm': 1, 'erutupalam': 1, 'thandiyachu': 1, 'invention': 1, 'flyim': 1, 'noits': 1, 'lyrics': 1, 'nevr': 1, 'unrecognized': 1, 'somone': 1, 'valuing': 1, 'definitly': 1, 'undrstnd': 1, 'ger': 1, 'toking': 1, 'syd': 1, 'lehhaha': 1, 'khelate': 1, 'kintu': 1, 'opponenter': 1, 'dhorte': 1, 'lage': 1, 'fried': 1, 'spares': 1, 'looovvve': 1, 'warwick': 1, 'tmw': 1, 'canceled': 1, 'sometime': 3, 'tops': 1, 'grandma': 1, 'parade': 1, 'posting': 1, 'chennaibecause': 1, 'grumble': 1, 'linear': 1, 'algebra': 1, 'decorating': 1, 'roomate': 1, 'graduated': 1, 'adjustable': 1, 'cooperative': 1, 'allows': 1, 'nottingham': 1, '63miles': 1, '40mph': 1, 'clearly': 2, 'thanku': 1, '2morro': 1, 'guessed': 1, 'gain': 2, 'itxx': 1, 'beside': 1, 'brisk': 1, 'walks': 1, 'steve': 1, 'tellmiss': 1, 'partys': 1, 'contribute': 1, 'greatly': 1, 'urgh': 1, 'coach': 1, 'smells': 1, 'duvet': 1, 'predictive': 1, 'url': 1, '24th': 1, 'sept': 1, 'cha': 2, 'beverage': 1, 'vpist': 1, 'surrender': 1, 'symptoms': 1, 'rdy': 1, 'comp': 1, 'realise': 2, 'itnow': 1, 'backwards': 1, 'abstract': 1, 'vikkyim': 1, 'africa': 1, 'avin': 1, 'quiteamuzing': 1, 'that\\x92scool': 1, 'babeprobpop': 1, 'cu': 1, 'satthen': 1, '4brekkie': 1, 'psxtra': 1, 'lrg': 1, 'portions': 1, 'rows': 1, 'engagement': 1, 'fixd': 1, 'bthmm': 1, 'njan': 1, 'vilikkamt': 1, 'sudn': 1, 'maths': 1, 'chapter': 1, 'chop': 1, 'noooooooo': 1, 'firsg': 1, 'split': 1, 'heat': 1, 'applyed': 1, 'laid': 1, 'voucher': 1, 'virgin': 1, 'sumfing': 1, 'hopeso': 1, 'amnow': 1, 'feelin': 2, 'ithink': 1, 'tonsolitusaswell': 1, 'layin': 1, 'bedreal': 1, 'lotsof': 1, 'hiphop': 1, 'managed': 2, 'oxygen': 1, 'resort': 1, 'roller': 1, 'sport': 1, 'showr': 1, 'acted': 2, 'upon': 1, 'ceiling': 1, 'presnts': 1, 'bcz': 1, 'mis': 2, 'jeevithathile': 1, 'irulinae': 1, 'neekunna': 1, 'prakasamanu': 1, 'sneham': 1, 'prakasam': 1, 'ennal': 1, 'prabha': 2, 'mns': 1, 'islove': 1, 'blowing': 1, 'gay': 1, 'firmware': 1, 'vijaykanth': 1, 'comedy': 3, 'tvhe': 1, 'hide': 1, 'anythiing': 1, 'keypad': 1, 'btwn': 1, 'decades': 1, 'goverment': 1, 'expects': 1, 'spice': 1, 'prasanth': 1, 'ettans': 1, 'appy': 1, 'fizz': 1, 'contains': 1, 'genus': 1, 'robinson': 1, 'nottel': 1, 'print': 2, 'outs': 1, 'soz': 1, 'imat': 1, 'freinds': 1, 'msgsometext': 1, 'wewa': 1, '130': 1, 'iriver': 1, '255': 1, '128': 1, 'bw': 1, 'dajst': 1, 'hmmmbut': 1, 'surly': 1, 'ending': 1, 'capital': 1, 'dokey': 2, 'mmmmmmm': 1, 'snuggles': 1, 'contented': 1, 'whispers': 1, 'error': 1, 'healthy': 1, '2bold': 1, 'givits': 1, 'kanoanyway': 1, 'sticky': 1, 'scraped': 1, 'barrel': 1, 'misfits': 1, 's8': 1, 'sleepin': 2, 'sections': 1, 'clearer': 1, 'peach': 1, 'tasts': 1, 'therell': 1, 'minor': 2, 'shindig': 1, 'phonebook': 1, 'keng': 1, 'rocking': 1, 'ashes': 1, 'xins': 1, 'shijutta': 1, 'kafter': 1, 'offense': 1, 'bbdthts': 1, 'dvg': 1, 'coldheard': 1, 'vinobanagar': 1, 'conditionand': 1, 'ovulatewhen': 1, '3wks': 1, 'woah': 1, 'realising': 1, 'orh': 1, 'hides': 1, 'thousands': 1, 'secrets': 1, 'n8': 1, 'darlinim': 1, 'soonxxx': 1, 'canteen': 1, 'stressfull': 1, 'adds': 1, 'ni8swt': 2, 'é': 3, '140': 1, 'ardé': 1, '180': 1, 'leastwhich': 1, 'bedrm': 1, 'pleasured': 1, 'hitechnical': 1, 'supportproviding': 1, 'assistance': 1, 'built': 1, 'lonlines': 1, 'lotz': 1, 'memories': 1, 'gailxx': 1, 'hii': 1, 'repeat': 1, 'instructions': 1, 'complacent': 1, 'denis': 2, 'mina': 1, 'miwa': 1, 'hsbc': 1, 'statement': 1, 'woulda': 2, 'mth': 1, 'mths': 1, 'opposite': 1, 'heavily': 1, 'dolls': 1, 'patrick': 1, 'swayze': 1, 'miserable': 2, 'quarter': 1, 'flirting': 1, 'nervous': 1, 'fired': 1, 'limping': 1, 'followed': 1, 'aa': 1, 'oga': 1, 'poorly': 1, 'punishment': 1, 'brb': 1, 'kill': 1, 'predicte': 1, 'situations': 1, 'loosing': 1, 'smaller': 1, 'capacity': 1, 'defer': 1, 'admission': 1, 'checkmate': 1, 'chess': 1, 'persian': 1, 'phrase': 1, 'shah': 1, 'maat': 1, 'rats': 1, 'themes': 1, 'pee': 1, 'burns': 1, 'photoshop': 1, 'manageable': 1, 'shoppin': 2, 'toopray': 2, 'inshah': 1, 'allah': 3, 'ashley': 1, 'sthis': 1, 'increase': 1, 'wifedont': 1, 'iti': 1, 'toolets': 1, 'north': 1, 'carolina': 1, 'texas': 1, 'gre': 1, 'results': 2, 'bomb': 1, 'breathing': 1, 'powerful': 1, 'weapon': 1, 'nightswt': 1, 'dreamstake': 1, 'lovly': 1, 'playi': 1, 'clas': 1, 'lit': 1, 'loooooool': 1, 'couch': 1, 'celebration': 2, 'rents': 1, 'swashbuckling': 1, '5terror': 1, '6cruel': 1, '7romantic': 1, '8lovable': 1, '9decent': 1, 'joker': 1, 'dips': 1, 'gek1510': 1, 'cruise': 1, 'nuther': 2, 'happiest': 1, 'characters': 1, 'differences': 1, 'lists': 1, 'tylers': 1, 'crisis': 1, 'whenwhere': 1, 'antibiotic': 1, 'abdomen': 1, 'gynae': 1, 'infections': 2, '6times': 1, 'exposed': 1, 'chastity': 1, 'device': 1, 'beatings': 1, 'uses': 1, 'gut': 1, 'wrenching': 1, 'tallahassee': 1, 'taka': 1, 'wrote': 1, 'ritten': 1, 'fold': 1, 'solihull': 1, 'nhs': 1, 'mistakeu': 1, 'bornplease': 1, 'local': 1, '2b': 1, 'terminatedwe': 1, 'inconvenience': 1, 'dentists': 1, 'parent': 1, 'itsnot': 1, 'childs': 1, 'parentnot': 1, 'unintentional': 1, 'nonetheless': 1, 'hooch': 1, 'toaday': 1, 'splat': 1, 'grazed': 1, 'confirmdeny': 1, 'hearin': 1, 'yah': 1, 'torture': 1, 'england': 1, 'hopeing': 1, 'sisters': 1, 'lips': 1, 'startedindia': 1, 'kkcongratulation': 1, 'court': 1, 'chapel': 1, 'frontierville': 1, 'mountain': 1, 'deer': 1, 'maili': 1, 'mailed': 1, 'varma': 1, 'membershiptake': 1, 'careinsha': 1, 'secure': 1, 'farting': 1, 'ortxt': 1, 'woot': 2, 'stuffing': 1, 'ahhhhjust': 1, 'uphad': 1, 'thoso': 1, 'viveki': 1, '96': 1, 'dado': 1, 'kaila': 1, 'cme': 2, 'hos': 1, 'collapsed': 1, 'cumming': 1, 'jade': 1, 'paul': 1, 'barmed': 1, 'thinkthis': 1, 'dangerous': 1, 'rushing': 1, 'channel': 1, 'coulda': 1, '1230': 1, 'okday': 1, 'buz': 1, 'wedlunch': 1, 'outsomewhere': 1, 'adrink': 1, 'towncud': 1, '2watershd': 1, 'fromwrk': 1, 'bthere': 1, 'petexxx': 1, 'hmph': 1, 'baller': 1, 'punto': 1, 'ayo': 1, 'travelled': 1, 'toyota': 1, 'camry': 1, 'olayiwolas': 1, 'mileage': 1, 'kits': 1, 'landing': 1, 'clover': 1, 'numberpls': 1, 'idconvey': 1, 'achanammarakheshqatar': 1, 'rencontre': 1, 'mountains': 1, 'galsu': 1, 'nìte': 1, 'puppy': 1, 'noise': 1, 'sarasota': 2, 'crossing': 1, 'inconvenient': 1, 'vldo': 1, 'adsense': 1, 'approved': 1, 'dudette': 1, 'perumbavoor': 1, 'stage': 1, 'cherish': 2, 'clarify': 1, 'preponed': 1, 'younger': 1, 'liver': 1, 'hmmmstill': 1, 'opener': 1, 'guides': 1, 'watched': 1, 'loneliness': 1, 'skyving': 1, 'club': 1, 'onwords': 1, 'mtnl': 1, 'mumbai': 1, 'rajitha': 1, 'ranju': 1, 'styles': 1, 'dearslp': 2, 'welltake': 2, 'careswt': 2, 'dreamsmuah': 2, 'disagreeable': 1, 'afterwards': 1, 'battle': 1, 'vivekanand': 1, 'uawakefeellikw': 1, 'shitjustfound': 1, 'aletter': 1, 'thatmum': 1, 'gotmarried': 1, '4thnovbehind': 1, 'ourbacks': 1, 'fuckinniceselfishdeviousbitchanywayi\\x92l': 1, 'rearrange': 1, 'dormitory': 1, 'astronomer': 1, 'starer': 1, 'election': 1, 'recount': 1, 'motherinlaw': 1, 'hitler': 1, 'eleven': 1, 'worms': 1, 'suffering': 1, 'dysentry': 1, 'andre': 1, 'virgils': 1, 'lorgoin': 1, 'gokila': 1, 'shanilrakhesh': 1, 'herethanksi': 1, 'exchanged': 1, 'uncut': 1, 'diamond': 1, 'stuffleaving': 1, 'dino': 1, 'prem': 1, 'kkthis': 1, 'kotees': 1, 'hassling': 1, 'andres': 1, 'haughaighgtujhyguj': 1, 'fassyole': 1, 'blacko': 1, 'londn': 1, '4eva': 2, 'responsibilities': 1, 'humanities': 1, 'reassurance': 1, 'aslamalaikkuminsha': 1, 'tohar': 1, 'beeen': 1, 'muht': 1, 'albi': 1, 'mufti': 1, 'mahfuuzmeaning': 1, 'enufcredeit': 1, 'tocallshall': 1, 'ileave': 1, 'treats': 1, 'okors': 1, 'ibored': 1, 'adding': 1, 'zeros': 1, 'savings': 1, 'goigng': 1, 'perfume': 1, 'sday': 1, 'joinedso': 1, 'grocers': 1, 'pubs': 1, 'frankie': 1, 'bennys': 1, 'warner': 1, 'changing': 1, 'diapers': 1, 'owed': 1, 'unlike': 1, 'patients': 1, 'turkeys': 1, 'helens': 1, 'princes': 1, 'dawhere': 1, 'unintentionally': 1, 'wenever': 1, 'familymay': 1, 'stability': 1, 'tranquility': 1, 'vibrant': 1, 'colourful': 1, 'renewal': 1, 'bawling': 1, 'failure': 1, 'failing': 1, 'velusamy': 1, 'sirs': 1, 'facilities': 1, 'karnan': 1, 'bluray': 1, 'salt': 1, 'wounds': 1, 'logging': 1, 'geoenvironmental': 1, 'implications': 1, 'gently': 1, 'fuuuuck': 1, 'salmon': 1, 'uploaded': 1, 'wrkin': 1, 'awkward': 1, 'splash': 1, 'leg': 1, 'musta': 1, 'overdid': 1, 'discount': 2, 'hiwhat': 1, 'gastroenteritis': 2, 'replace': 2, 'reduce': 2, 'limiting': 2, 'illness': 2, 'downloaded': 1, 'foned': 1, 'chuck': 1, 'nightswe': 1, 'port': 1, 'step': 4, 'liaotoo': 1, 'stuffs': 1, 'juswoke': 1, 'boatin': 1, 'docks': 1, 'spinout': 1, 'remet': 1, 'uworld': 1, 'qbank': 1, 'assessment': 1, 'tke': 1, 'temales': 1, 'vidnot': 1, 'finishd': 1, 'dull': 1, 'studies': 1, 'anyones': 1, 'treadmill': 1, 'craigslist': 1, 'absolutely': 1, 'drmstake': 1, 'swan': 1, 'moyep': 1, 'sall': 1, 'hehe': 1, 'shexy': 1, 'teethif': 1, 'asapok': 1, 'hellohow': 1, 'doingwhat': 1, '2when': 1, 'lamp': 1, 'latebut': 1, 'kwish': 1, 'foward': 1, 'misundrstud': 1, '2u2': 1, 'genes': 1, 'resuming': 1, 'reapply': 1, 'treatin': 1, 'treacle': 1, 'mumhas': 1, 'beendropping': 1, 'theplace': 1, 'adress': 1, 'moneyi': 1, 'favorite': 2, 'oyster': 1, 'sashimi': 1, 'rumbling': 1, 'marandratha': 1, 'topic': 1, 'correctly': 1, 'sirsalam': 1, 'alaikkumpride': 1, 'shopwe': 1, 'qatarrakhesh': 1, 'indianpls': 1, 'numberrespectful': 1, 'galcan': 1, 'boyy': 1, 'galno': 1, 'heaven': 1, 'princegn': 1, 'pisces': 1, 'aquarius': 1, '2yrs': 1, 'steyn': 1, 'wicket': 1, 'sterm': 1, 'resolved': 1, 'eggs': 2, 'jam': 1, 'hannaford': 1, 'wheat': 1, 'chex': 1, 'pride': 1, 'grownup': 1, 'stuffwhy': 1, 'costume': 1, 'jerk': 1, 'stink': 1, 'openings': 1, 'upcharge': 1, '8hr': 1, 'guai': 1, 'bottle': 3, 'amused': 2, 'select': 1, 'astrology': 1, 'ryans': 1, 'program': 1, 'slacking': 1, 'officestill': 1, 'formsdon': 1, 'mentor': 1, '100': 1, 'percent': 1, 'sane': 1, 'helping': 1, 'spacebucks': 1, 'weathers': 1, 'squeezed': 1, 'meremove': 1, 'maintaining': 1, '5i\\x92m': 1, 'dreading': 1, 'thou': 1, 'suggestion': 1, 'lands': 1, 'helps': 1, 'forgt': 1, 'ajith': 1, 'ooooooh': 1, 'yoville': 1, 'mega': 1, 'asda': 1, 'counts': 1, 'officer': 1, 'respectful': 1, 'bffs': 1, 'carly': 1, 'someonethat': 1, 'seperated鈥┾〨ud': 1, 'brolly': 1, 'franxx': 1, 'welli': 1, 'prometazine': 1, 'syrup': 1, '5mls': 1, 'feed': 1, 'shu': 2, 'singapore': 1, 'victoria': 1, 'island': 2, 'pocay': 1, 'wocay': 1, '2morrowxxxx': 1, 'broth': 1, 'ramen': 1, 'fowler': 1, 'ksry': 1, 'sivatats': 1, 'flew': 1, '1526': 1, 'pubcafe': 1, 'attention': 1, 'tix': 1, 'biolas': 1, 'fne': 1, 'youdoing': 1, 'worc': 1, 'foregate': 1, 'shrub': 1, 'get4an18th': 1, 'shopthe': 1, 'receipts': 1, 'pendent': 1, 'hu': 1, 'navigate': 1, 'choosing': 1, 'require': 1, 'guidance': 1, 'chick': 1, 'boobs': 1, 'revealing': 1, 'gyno': 1, 'belong': 1, 'treasure': 1, 'slide': 1, 'mummys': 1, 'positive': 1, 'negative': 1, 'hmmmm': 1, 'dhoni': 1, 'titleso': 1, 'command': 1, 'stressful': 1, 'holby': 1, 'li': 1, 'lecturer': 1, 'repeating': 1, 'yeovil': 1, 'motor': 1, 'max': 1, 'rhode': 1, 'bong': 1, 'ofcourse': 1, 'upload': 1, 'loti': 1, 'tamilnaduthen': 1, 'tip': 1, 'apo': 1, 'identification': 1, 'limit': 1, 'boundaries': 1, 'endless': 1, 'reassuring': 1, 'lorwe': 1, 'young': 1, 'referin': 1, 'meis': 1, 'liaoso': 1, 'saibaba': 1, 'colany': 1, 'chic': 1, 'declare': 1, 'disappointment': 1, 'irritation': 1, 'tantrums': 1, 'compliments': 1, 'adventuring': 1, 'chief': 1, 'mouse': 1, 'desk': 1, 'childporn': 1, 'jumpers': 1, 'hat': 1, 'belt': 1, 'cribbs': 1, 'spiritual': 1, 'barring': 1, 'sudden': 1, 'influx': 1, 'kane': 1, 'shud': 1, 'pshewmissing': 1, 'units': 1, 'accent': 1, '4years': 1, 'dental': 1, 'nmde': 1, 'dump': 1, 'heap': 1, 'lowes': 1, 'sony': 1, 'salesman': 1, 'pity': 1, 'soany': 1, 'suggestions': 1, 'bitching': 1}\n",
      "{'free': 216, 'entry': 26, '2': 173, 'wkly': 14, 'comp': 10, 'win': 60, 'fa': 4, 'cup': 5, 'final': 16, 'tkts': 4, '21st': 2, 'may': 7, '2005': 3, 'text': 120, '87121': 4, 'receive': 33, 'questionstd': 2, 'txt': 150, 'ratetcs': 2, 'apply': 29, '08452810075over18s': 2, 'freemsg': 12, 'hey': 5, 'darling': 2, '3': 22, 'weeks': 13, 'word': 22, 'back': 23, 'id': 3, 'like': 13, 'fun': 9, 'still': 7, 'tb': 1, 'ok': 5, 'xxx': 11, 'std': 9, 'chgs': 1, 'send': 68, '£150': 27, 'rcv': 2, 'winner': 16, 'valued': 11, 'network': 25, 'customer': 49, 'selected': 25, 'receivea': 2, '£900': 7, 'prize': 92, 'reward': 10, 'claim': 113, 'call': 347, '09061701461': 2, 'code': 29, 'kl341': 2, 'valid': 23, '12': 10, 'hours': 5, 'mobile': 123, '11': 5, 'months': 4, 'u': 148, 'r': 22, 'entitled': 8, 'update': 19, 'latest': 36, 'colour': 17, 'mobiles': 12, 'camera': 33, 'co': 5, '08002986030': 2, 'six': 3, 'chances': 2, 'cash': 62, '100': 15, '20000': 2, 'pounds': 17, 'csh11': 2, '87575': 4, 'cost': 23, '150pday': 2, '6days': 2, '16': 51, 'tsandcs': 2, 'reply': 101, 'hl': 6, '4': 119, 'info': 8, 'urgent': 63, '1': 33, 'week': 49, 'membership': 2, '£100000': 2, 'jackpot': 2, '81010': 2, 'tc': 21, 'wwwdbuknet': 2, 'lccltd': 2, 'pobox': 16, '4403ldnw1a7rw18': 2, 'xxxmobilemovieclub': 1, 'use': 8, 'credit': 9, 'click': 5, 'wap': 10, 'link': 6, 'next': 16, 'message': 32, 'httpwap': 1, 'xxxmobilemovieclubcomnqjkgighjjgcbl': 1, 'england': 9, 'v': 5, 'macedonia': 1, 'dont': 22, 'miss': 7, 'goalsteam': 1, 'news': 10, 'ur': 144, 'national': 12, 'team': 3, '87077': 8, 'eg': 12, 'trywales': 1, 'scotland': 1, '4txtú120': 1, 'poboxox36504w45wq': 1, 'thanks': 14, 'subscription': 4, 'ringtone': 26, 'uk': 15, 'charged': 11, '£5month': 1, 'please': 52, 'confirm': 1, 'replying': 6, 'yes': 15, '07732584351': 1, 'rodger': 1, 'burns': 1, 'msg': 27, 'tried': 17, 'sms': 24, 'nokia': 65, 'camcorder': 15, '08000930705': 16, 'delivery': 21, 'tomorrow': 10, 'ac': 4, 'sptv': 2, 'new': 69, 'jersey': 1, 'devils': 1, 'detroit': 1, 'red': 1, 'wings': 1, 'play': 18, 'ice': 1, 'hockey': 1, 'correct': 4, 'incorrect': 1, 'end': 13, 'congrats': 10, 'year': 6, 'special': 11, 'cinema': 3, 'pass': 5, '09061209465': 3, 'c': 19, 'suprman': 3, 'matrix3': 3, 'starwars3': 3, 'etc': 7, 'bx420ip45we': 3, '150pm': 6, 'pleased': 3, 'advise': 3, 'following': 5, 'recent': 3, 'review': 4, 'mob': 24, 'awarded': 38, '£1500': 4, 'bonus': 21, '09066364589': 2, 'complimentary': 12, 'trip': 4, 'eurodisinc': 2, 'trav': 2, 'acoentry41': 2, '£1000': 35, 'dis': 2, '186£150morefrmmob': 2, 'shracomorsglsuplt10': 2, 'ls1': 2, '3aj': 2, 'hear': 3, 'divorce': 1, 'barbie': 1, 'comes': 3, 'kens': 1, 'stuff': 1, 'service': 55, 'representative': 10, '0800': 13, '169': 2, '6031': 2, '10am9pm': 2, 'guaranteed': 50, '£5000': 20, 'waiting': 17, 'collected': 2, 'simply': 3, 'password': 3, 'mix': 3, '85069': 2, 'verify': 3, 'get': 83, 'usher': 2, 'britney': 2, 'fml': 2, 'po': 32, 'box': 33, '5249': 2, 'mk17': 2, '92h': 2, '450ppw': 2, 'gent': 2, 'trying': 15, 'contact': 56, 'last': 13, 'weekends': 7, 'draw': 38, 'shows': 31, '09064012160': 2, 'k52': 3, '12hrs': 17, '150ppm': 34, 'specially': 9, 'holiday': 32, 'flights': 6, 'inc': 8, 'speak': 10, 'live': 29, 'operator': 15, '0871277810910pmin': 1, '18': 43, 'private': 18, '2004': 8, 'account': 19, 'statement': 16, '07742676969': 2, '786': 4, 'unredeemed': 16, 'points': 16, '08719180248': 2, 'identifier': 16, '45239': 3, 'expires': 17, '£2000': 31, 'caller': 12, '5903': 1, 'try': 6, 'landline': 32, '09064019788': 1, 'box42wr29c': 1, 'todays': 20, 'voda': 5, 'numbers': 9, 'ending': 8, '7548': 1, '350': 2, 'award': 28, 'match': 6, '08712300220': 6, 'quoting': 5, '4041': 1, 'standard': 6, 'rates': 9, 'app': 4, 'sunshine': 8, 'quiz': 13, 'q': 4, 'top': 16, 'sony': 8, 'dvd': 7, 'player': 12, 'know': 25, 'country': 4, 'algarve': 2, 'ansr': 4, '82277': 5, 'sptyrone': 4, 'want': 29, 'laid': 3, 'tonight': 2, 'real': 12, 'dogging': 11, 'locations': 5, 'sent': 10, 'direct': 10, 'join': 16, 'uks': 10, 'largest': 4, 'bt': 5, 'txting': 10, 'gravel': 1, '69888': 2, 'nt': 1, 'ec2a': 4, '31pmsg150p': 2, 'youll': 1, 'msgs': 6, 'chat': 42, 'svc': 1, 'hardcore': 2, 'services': 17, 'go': 31, '69988': 1, 'nothing': 4, 'must': 5, 'age': 8, 'yr': 11, 'havent': 1, 'replied': 1, 'im': 13, 'randy': 2, 'sexy': 15, 'female': 1, 'local': 5, 'luv': 5, 'netcollex': 4, 'ltd': 15, '08700621170150p': 2, 'per': 46, 'stop': 115, 'annoncement': 1, 'years': 7, '07046744435': 1, 'arrange': 2, '0871277810810': 2, 'pls': 11, 'bootydelious': 1, '32f': 1, 'inviting': 6, 'friend': 11, 'yes434': 1, 'no434': 1, 'see': 19, 'wwwsmsacubootydelious': 1, 'frnd': 6, '62468': 7, 'bangbabes': 1, 'order': 14, 'way': 1, 'download': 3, 'content': 14, 'goto': 6, 'bangb': 1, 'tv': 6, 'internetservice': 1, 'menu': 1, '09061701939': 1, 's89': 1, 'freephone': 8, '0808': 4, '145': 4, '4742': 4, '9am11pm': 4, 'unique': 2, 'enough': 2, 'find': 23, '30th': 1, 'august': 2, 'wwwareyouuniquecouk': 1, '500': 25, '89545': 3, 'collect': 22, 'todayfrom': 2, '£1': 3, 'www4tcbiz': 3, '2optout': 4, '08718726270150gbpmtmsg18': 3, 'meet': 6, 'dream': 3, 'partner': 5, 'soon': 3, 'career': 1, 'flyng': 1, 'start': 5, 'horo': 2, 'followed': 3, 'star': 2, 'sign': 2, 'e': 6, 'g': 6, 'aries': 1, 'someone': 14, 'today': 16, 'date': 9, 'even': 6, 'flirt': 4, '10p': 14, 'name': 13, 'sam': 3, '25': 3, 'recdthirtyeight': 1, 'pence': 3, '447801259231': 2, 'secret': 10, 'admirer': 10, 'looking': 9, 'make': 13, 'ufind': 8, 'rreveal': 8, 'thinks': 10, 'specialcall': 8, '09058094597': 2, 'congratulations': 14, 'cd': 8, 'vouchers': 20, '125gift': 3, 'music': 20, '87066': 13, 'tncs': 6, 'wwwldewcom1win150ppmx3age16': 4, 'offer': 24, 'video': 29, 'handset': 6, '750': 18, 'anytime': 12, 'networks': 2, 'mins': 34, 'unlimited': 10, 'really': 1, 'horny': 7, 'naked': 1, 'hot': 15, '69698': 2, 'unsubscribe': 18, 'changed': 1, 'credits': 9, 'club4mobilescom': 1, 'choose': 10, 'club': 19, '87070': 1, '150pwk': 2, 'club4': 1, 'box1146': 1, 'mk45': 2, '2wt': 2, 'singles': 5, 'chart': 2, 'quality': 2, 'charge': 10, 'hmv': 10, 'genuine': 3, 'answer': 8, 'easy': 13, 'questions': 6, '86688': 19, 'infowww100percentrealcom': 3, 'tmobile': 3, 'phone': 45, 'upgrade': 3, 'pay': 1, 'sim': 5, 'card': 4, 'loyalty': 7, '0845': 3, '021': 2, '3680offer': 1, 'ends': 4, '28thfebtcs': 1, 'blind': 2, '4u': 4, 'rodds1': 1, '21m': 1, 'aberdeen': 1, 'united': 1, 'kingdom': 1, 'check': 4, 'httpimg': 1, 'acwicmb3cktz8r74': 1, 'dates': 2, 'hide': 1, 'themob': 3, 'newest': 3, 'selection': 5, 'games': 16, 'tones': 25, 'gossip': 1, 'babes': 2, 'sport': 5, 'keep': 6, 'fit': 1, 'funky': 1, '82468': 2, 'think': 4, 'smart': 1, '£200': 9, 'weekly': 24, '85222': 1, 'nowtcs': 1, 'winnersclub': 1, '84': 1, 'm26': 3, '3uz': 3, 'gbp150week': 1, 'december': 5, '11mths': 9, '08002986906': 4, 'germany': 3, 'minute': 7, 'fixed': 2, 'line': 35, 'via': 3, 'access': 7, 'number': 30, '0844': 2, '861': 2, '85': 4, 'prepayment': 2, 'valentines': 3, 'day': 15, 'take': 14, 'lifetime': 2, '83600': 4, '150pmsg': 15, 'rcvd': 7, 'custcare08718720201': 2, 'fancy': 9, 'shag': 1, 'dointerested': 1, 'sextextukcom': 1, 'xxuk': 1, 'suzy': 1, '69876': 1, 'txts': 13, '150': 12, 'website': 1, 'x': 10, 'cashbalance': 7, 'currently': 10, 'maximize': 7, 'cashin': 7, 'cc': 6, '08708800282': 1, 'hgsuite3422lands': 8, 'roww1j6hl': 4, 'updatenow': 2, 'xmas': 15, 'motorola': 11, 'sonyericsson': 5, 'bluetooth': 9, 'double': 17, '1000': 6, 'orange': 26, 'mobileupd8': 16, '08000839402': 15, 'call2optoutf4q': 1, 'discount': 9, 'rp176781': 1, 'messages': 11, 'wwwregalportfoliocouk': 1, '08717205546': 1, 'reference': 4, 't91': 1, 'gbp': 1, 'calling': 6, '09057039994': 1, '6months': 2, 'available': 3, 'phones': 12, 'call2optoutn9dx': 2, '4mths': 3, 'half': 13, 'price': 17, 'rental': 12, 'mobilesdirect': 3, '08000938767': 3, 'or2stoptxt': 3, 'first': 6, '87131': 4, 'poly': 17, 'true': 3, 'tone': 48, 'help': 19, '2814032': 1, '1st': 26, '3x£150pw': 1, 'e£nd': 1, 'dating': 16, '09064012103': 1, 'box334sk38ch': 2, '£250': 16, 'competition': 3, '80086': 2, 'wwwtxttowincouk': 2, 'logo': 4, 'lover': 2, 'names': 2, 'joined': 2, 'heart': 3, 'love': 10, 'name1': 2, 'name2': 2, 'mobno': 2, 'adam': 2, 'eve': 5, '07123456789': 2, 'yahoo': 2, 'pobox36504w45wq': 5, 'txtno': 2, 'ads': 2, '150p': 23, 'contacted': 5, 'entered': 6, '09111032124': 1, 'pobox12n146tf150p': 1, '09058094455': 1, 'land': 18, '3030': 8, '3650': 2, '09066382422': 2, 'calls': 12, 'ave': 3, '3mins': 4, 'vary': 6, 'close': 4, '300603': 2, 'post': 4, 'bcm4284': 2, 'ldn': 10, 'wc1n3xx': 4, 'loan': 4, 'purpose': 4, '£500': 19, '£75000': 3, 'homeowners': 3, 'tenants': 4, 'welcome': 10, 'previously': 3, 'refused': 4, '1956669': 3, 'upgrdcentre': 1, '0207': 2, '153': 2, '9153': 1, '26th': 1, 'july': 2, 'tcs': 29, 'optout': 9, 'okmail': 1, 'dear': 16, 'dave': 2, 'notice': 3, 'tenerife': 7, '5000': 4, '09061743806': 2, 'sae': 21, 'box326': 2, 'cw25wx': 4, 'moan': 1, '69888nyt': 1, 'activate': 5, 'terms': 8, 'conditions': 4, 'visit': 7, 'www07781482378com': 2, '123': 3, '£1450': 3, '09050002311': 2, 'b4280703': 2, 'tcsstop': 3, '08718727868': 2, '40gb': 6, 'ipod': 12, 'mp3': 5, '83355': 4, 'ibhltd': 3, 'ldnw15h': 3, '150pmtmsgrcvd18': 3, 'boltblue': 1, 'mono': 3, 'poly3': 1, 'cha': 2, 'slide': 1, 'yeah': 1, 'slow': 1, 'jamz': 1, '6': 6, 'toxic': 1, '8': 1, 'come': 2, 'topped': 1, 'httpwwwbubbletextcom': 1, 'renewal': 1, 'pin': 1, 'tgxxrz': 1, '020903': 2, '2nd': 20, 'attempt': 22, '08718729755': 1, 'box95qu': 3, 'worth': 13, '85023': 7, 'savamob': 13, 'member': 5, 'offers': 13, 'cs': 14, '08717898035': 3, '£300': 7, 'sub': 7, 'unsub': 5, 'recieve': 1, 'within': 7, '24hrs': 2, 'channel': 1, 'teletext': 1, 'pg': 1, '2003': 13, '07815296484': 1, '800': 13, '08718738001': 2, '41782': 1, '181104': 1, 'wwwapplausestorecom': 1, 'monthlysubscription50pmsg': 1, 'max6month': 1, 'tcsc': 1, 'web': 2, 'age16': 5, '2stop': 1, '2000': 3, 'call09050000327': 2, 'us': 8, 'ring': 4, 'claims': 2, '09050005321': 1, 'textand': 1, '08002988890': 1, 'chance': 27, 'shopping': 8, 'spree': 7, 'shop': 7, '80878': 3, 'tscs': 18, 'wwwtxt2shopcom': 2, 'custcare': 7, '08715705022': 4, '1x150pwk': 5, 'pound': 6, '08712402050': 2, 'lines': 2, '10ppm': 2, 'ag': 2, 'promo': 2, '07753741225': 1, '08715203677': 1, '42478': 1, '241004': 1, 'important': 12, 'announcement': 6, '542': 4, '0825': 2, 'xclusiveclubsaisai': 1, '2morow': 1, '285': 1, 'soiree': 1, 'speciale': 1, 'zouk': 1, 'nichols': 1, 'parisfree': 1, 'roses': 1, 'ladies': 2, '0794674629107880867867': 1, '22': 2, 'days': 12, 'kick': 3, 'euro2004': 5, 'kept': 3, 'results': 3, 'daily': 4, 'removed': 1, '83222': 3, 'textbuddy': 2, 'guys': 6, 'area': 8, '25p': 8, 'search': 2, 'postcode': 3, 'gaytextbuddycom': 2, 'one': 8, '89693': 2, 'vodafone': 6, '4882': 2, '£350': 13, 'matches': 8, '09064019014': 2, 'voucher': 16, 'holder': 6, 'pc': 6, 'httpwwwetlpcoukexpressoffer': 2, 'apply2': 1, 'texts': 17, '80062': 5, '08715203694': 1, '40533': 2, '311004': 2, 'rstm': 2, 'sw7': 2, '3ss': 2, '88800': 1, '89034': 1, 'premium': 2, '08718711108': 1, 'sun0819': 1, 'posts': 1, 'helloyou': 1, 'seem': 1, 'cool': 1, 'wanted': 1, 'say': 1, 'hi': 16, 'gr8': 7, '20': 3, 'every': 33, 'wk': 16, 'opt': 13, '08452810071': 1, 'sue': 2, 'old': 2, 'work': 3, 'lapdancer': 1, 'sex': 11, 'bedroom': 1, '89555': 3, 'textoperator': 3, 'g2': 1, '1da': 1, '150ppmsg': 1, 'forwarded': 4, '448712404000please': 1, '08712404000': 1, 'immediately': 5, 'fantastic': 7, 'ngage': 1, 'game': 9, 'deck': 1, 'wwwcnupdatescomnewsletter': 1, 'alerts': 1, '08714712388': 1, '10am7pm': 4, '449071512431': 1, 'uu': 3, '£1250': 2, '09071512433': 2, 'b4': 6, '050703': 2, 'tcsbcm4235wc1n3xx': 2, 'callcost': 2, 'mobilesvary': 2, 'max£7': 3, '50': 4, '08714712394': 1, 'email': 2, 'alertfrom': 1, 'jeri': 1, 'stewartsize': 1, '2kbsubject': 1, 'lowcost': 1, 'prescripiton': 1, 'drvgsto': 1, 'listen': 2, 'offerthe': 2, 'nokia6650': 2, '£10': 5, 'txtauction': 4, '81151': 2, '4tctxt': 2, '150pmtmsg': 2, 'subscribed': 3, 'best': 9, '£3': 4, '10': 6, '82324': 1, 'helpline': 2, '08706091795': 2, 'realize': 1, '40': 2, 'well': 7, 'thousands': 1, 'running': 1, 'around': 2, 'tattoos': 1, 'premier': 2, 'romantic': 1, 'paris': 3, 'nights': 1, '£79': 1, 'book': 5, '08704439680tscs': 1, 'unclaimed': 1, '09066368327': 1, 'closingdate040902': 1, 'claimcode': 1, 'm39m51': 1, '£150pmmorefrommobile2bremovedmobypobox734ls27yf': 1, 'city': 3, 'break': 4, 'could': 7, 'summer': 8, 'store': 8, '88039': 3, 'skilgme': 3, 'tscs087147403231winawkage16': 2, '£150perwksub': 2, '0578': 2, 'ever': 3, 'thought': 1, 'living': 1, 'good': 12, 'life': 3, 'perfect': 1, 'community': 2, '100psms': 1, '5': 9, 'polyphonic': 5, '087018728737': 1, 'rate': 20, 'toppoly': 1, 'tune': 1, 'subpoly': 3, '81618': 1, 'pole': 1, '08718727870': 2, '9996': 1, '14thmarch': 1, 'availa': 1, 'pobox84': 6, 'm263uz': 4, 'no1': 8, '8077': 2, 'tell': 16, 'mates': 13, 'wwwgetzedcouk': 9, '36504': 7, 'w45wq': 6, 'norm150ptone': 6, 'cashto': 2, '08000407165': 2, 'getstop': 2, '88222': 2, 'php': 2, 'rg21': 1, '4jx': 1, 'either': 10, 'gift': 18, '£100': 22, 'outbid': 1, 'simonwatson5120': 1, 'shinco': 1, 'plyr': 1, 'bid': 7, 'acsmsrewards': 1, 'notifications': 1, 'smsservices': 1, 'yourinclusive': 1, 'wwwcomuknet': 5, 'login': 5, '3qxj9': 4, 'extra': 7, '08702840625comuk': 3, '220cm2': 3, '9ae': 4, 'alfie': 3, 'moons': 3, 'children': 3, 'need': 10, 'song': 3, 'm8s': 3, 'charity': 9, '8007': 21, 'nokias': 3, 'polys': 8, 'zed': 6, '08701417012': 3, 'profit': 3, 'reveal': 4, '09065174042': 2, 'recd': 3, 'cust': 4, 'care': 5, '07821230901': 2, 'five': 3, '08002888812': 2, 'wed': 1, 'voucherstext': 1, 'nowsavamobmember': 1, 'remove': 4, '09066350750': 2, 'ibiza': 4, '10000': 2, 'await': 19, 'collection': 26, '434': 3, 'sk3': 3, '8wp': 3, 'ppm': 4, 'talk': 5, 'friends': 5, 'fall': 1, 'worlds': 1, 'discreet': 2, 'vip': 4, '83110': 1, 'yrs': 3, 'supply': 3, 'cds': 5, 'virgin': 1, 'records': 5, 'mystery': 1, '09061104283': 1, 'wwwsmsconet': 2, '£150pm': 1, 'approx': 1, '07808': 1, 'xxxxxx': 1, '08719899217': 1, '41685': 2, '071104': 2, 'hello': 3, 'posh': 1, 'birds': 1, 'chaps': 1, 'user': 8, 'trial': 1, 'prods': 1, 'champneys': 1, 'put': 1, 'address': 4, 'dob': 1, 'asap': 6, 'ta': 1, '0721072': 1, 'till': 3, 'drop': 2, '10k': 3, '5k': 2, 'travel': 2, '09064011000': 2, 'ntt': 10, 'cr01327bt': 2, 'fixedline': 2, 'liverpool': 3, 'played': 2, 'mid': 2, '09058094565': 2, '09065171142stopsms08': 1, 'reminder': 2, 'downloaded': 1, 'already': 1, 'paid': 1, 'httpdoit': 1, 'mymoby': 1, 'lastest': 1, 'stereophonics': 1, 'marley': 1, 'dizzee': 1, 'racal': 1, 'libertines': 1, 'strokes': 1, 'nookii': 1, 'bookmark': 1, 'january': 1, 'male': 3, 'sale': 4, 'gay': 6, 'cheaper': 2, '08709222922': 2, '15pmin': 2, 'cheap': 4, '78pmin': 2, 'peak': 2, '08712460324': 7, '10pmin': 10, 'money': 4, 'lucky': 8, '88600': 3, '£1million': 1, 'give': 8, 'away': 4, 'ppt150x3normal': 1, 'box403': 1, 'w1t1jy': 1, 'matthew': 1, '09063440451': 1, '4lux': 1, 'ppm150': 1, 'box334': 1, 'sk38xh': 7, '09061749602': 1, '£10000': 5, '528': 1, 'hp20': 1, '1yf': 1, 'getting': 4, 'touch': 1, 'folks': 1, 'company': 2, 'enjoy': 10, '150psms': 1, '08718720201': 5, '11414': 3, 'tcrw1': 3, 'filthy': 2, 'stories': 1, 'girls': 5, '£800': 9, '09050001808': 2, 'm95': 2, 'valid12hrs': 3, '3g': 5, 'videophones': 5, '09063458130': 3, 'videochat': 5, 'wid': 5, 'java': 5, 'dload': 5, 'polyph': 3, 'noline': 5, 'rentl': 5, 'panasonic': 1, 'bluetoothhdset': 1, 'doublemins': 1, 'doubletxt': 1, 'contract': 4, 'guess': 7, 'somebody': 2, 'secretly': 2, 'fancies': 3, 'wan': 12, 'na': 10, '09065394514': 1, 'datebox1282essexcm61xn': 2, '150pmin': 4, '09058097218': 1, 'ls15hb': 2, '1000s': 5, 'flirting': 1, 'girl': 5, 'bloke': 1, 'zoe': 1, 'chatting': 2, 'kickoff': 2, 'informed': 2, 'euro': 3, 'eastenders': 2, 'flower': 2, 'dot': 2, 'compare': 2, 'violet': 2, 'tulip': 2, 'f': 6, 'lily': 2, '84025': 3, 'wkent150p16': 2, 'lots': 2, 'people': 3, 'registered': 4, 'wwwflirtpartyus': 1, 'replys150': 1, 'asked': 6, 'cant': 5, '09058091854': 2, 'revealed': 5, 'box385': 2, 'm6': 2, '6wu': 2, '09050003091': 2, 'c52': 2, 'uve': 6, 'invited': 5, 'xchat': 5, 'sipix': 6, 'digital': 8, '09061221061': 2, '28days': 2, 'box177': 2, 'm221bp': 2, '2yr': 2, 'warranty': 2, 'p': 3, 'p£399': 2, '09061790121': 3, 'subscriber': 4, 'b': 12, 'receipt': 3, 'ans': 6, 'elvis': 1, 'presleys': 1, 'birthday': 1, 'information': 8, 'o2': 5, 'log': 7, 'onto': 7, 'httpwwwurawinnercom': 6, 'surprise': 5, 'awaiting': 8, '449050000301': 1, '09050000301': 1, 'bored': 4, 'speed': 1, 'speedchat': 2, '80155': 1, 'em': 1, 'swap': 1, 'chatter': 1, 'chat80155': 1, 'rcd': 1, '08000776320': 2, 'taking': 1, 'part': 10, 'survey': 1, 'yesterday': 3, 'however': 1, 'wish': 2, '80160': 1, 'wwwtxt43com': 1, 'hmv1': 1, 'forget': 2, 'place': 5, 'many': 3, 'requests': 1, '1stchoicecouk': 1, '08707808226': 1, 'lets': 5, 'hgsuite3422landsroww1j6hl': 3, 'thank': 1, 'notified': 1, 'luck': 6, 'future': 4, 'marketing': 1, '84122': 1, '08450542832': 1, 'virgins': 1, 'ready': 6, '4fil': 2, 'sexual': 1, 'cute': 1, '69911£150p': 1, 'got': 7, 'takes': 4, 'wrc': 2, 'rally': 4, 'oz': 2, 'lucozade': 2, 'energy': 3, 'le': 2, '61200': 2, 'packs': 2, 'lucozadecoukwrc': 2, 'itcould': 2, 'pic': 9, 'jordan': 2, 'babe': 8, 'celeb': 1, 'pocketbabecouk': 3, 'pics': 12, '£3wk': 4, '087016248': 1, 'voicemail': 3, '08719181503': 1, 'choice': 3, 'enter': 10, 'wwwldewcomsubs161win150ppmx3': 2, 'delivered': 4, 'door': 1, 'exp': 1, '30apr': 1, '08719181513': 2, 'nok': 2, '87021': 3, 'txtin': 4, '150ptone': 5, '4info': 4, 'completely': 1, 'accommodation': 1, 'various': 1, 'global': 1, 'wwwphb1com': 1, 'ph08700435505150p': 1, '84128': 2, 'wwwtextcompcom': 2, '08712405020': 4, '08712402779': 1, 'hungry': 2, 'feeling': 2, '08718730555': 1, 'set': 1, '09096102316': 1, 'cum': 5, '2moro': 1, 'jane': 1, 'xx': 4, 'calls£1minmoremobsemspobox45po139wa': 2, '80488biz': 1, 'jamster': 2, 'videosound': 1, 'gold': 1, 'videosounds2': 1, 'logosmusicnews': 1, 'jamstercouk': 1, '16only': 2, '09701213186': 1, 'lions': 2, 'lionm': 2, 'lionp': 2, 'wwwringtonescouk': 4, 'original': 4, 'n': 9, '3gbp': 4, '“': 2, 'harry': 3, 'potter': 2, 'phoenix': 2, 'among': 2, 'readers': 2, 'balance': 2, 'question': 4, 'sang': 1, 'uptown': 1, '80s': 1, 'free2day': 2, 'st': 2, 'georges': 2, 'jordantxt': 2, '89080': 2, 'saucy': 3, 'celeb4': 2, '0870241182716': 2, 'fantasies': 6, '08707509020': 6, '20p': 7, 'min': 16, '1327': 7, 'croydon': 7, 'cr9': 7, '5wb': 7, '0870k': 2, 'bears': 2, 'nick': 1, 'tom': 1, 'pete': 1, 'dick': 1, 'fact': 1, 'types': 1, 'photo': 3, 'upload': 2, '08718730666': 2, 'linerental': 5, 'call2optoutlf56': 2, '150pmsgrcvdhgsuite3422landsroww1j6hl': 4, 'wwwldewcom': 2, 'win150ppmx3age16': 1, 'arsenal': 3, 'dartboard': 1, 'condition': 1, 'doubles': 1, 'trebles': 1, 'textpod': 2, 'pod': 4, 'wwwtextpodnet': 2, 'optin': 1, 'whats': 1, 'bbc': 1, 'charts': 1, 'summers': 1, 'finally': 1, 'matched': 1, 'help08714742804': 1, 'claire': 2, 'havin': 1, 'borin': 1, 'time': 19, 'alone': 3, '2nite': 4, '09099725823': 1, 'hope': 4, 'bought': 1, 'costing': 2, 'offering': 1, '09066362231': 3, '07xxxxxxxxx': 3, '020603': 4, 'reach': 5, '07801543489': 1, 'latests': 1, 'wordcollect': 1, 'no83355': 1, 'tcllc': 1, 'nyusa': 1, '150pmt': 1, 'msgrcvd18': 1, 'lucy': 2, 'hubby': 1, 'meetins': 1, 'fri': 2, 'hotel': 2, 'cumin': 1, 'leave': 2, '2day': 4, '09099726395': 1, 'calls£1minmobsmorelkpobox177hp51fl': 2, 'credited': 1, '80488': 3, 'www80488biz': 1, 'jsco': 2, 'high': 3, '2channel': 1, 'leadership': 1, 'skills': 1, 'strong': 1, 'psychic': 1, 'wquestion': 1, '0870': 6, 'vote': 1, 'sing': 2, 'along': 1, 'stars': 1, 'karaoke': 1, 'brand': 4, 'arrive': 6, 'shortly': 3, 'install': 1, 'browse': 1, 'artists': 1, '10803': 1, '08714719523': 1, '7250i': 4, 'auction': 16, '86021': 6, 'roww1jhl': 4, 'plus': 7, 'wwworangecoukow': 1, '7250': 2, '08719899230': 1, 'olympics': 1, 'rtking': 1, 'pro': 1, 'inforingtonekingcouk': 1, '08701237397': 1, 'redeemable': 1, 'wwwringtonekingcouk': 1, '09058094599': 2, 'stay': 3, '250': 5, 'british': 2, 'hotels': 2, 'london': 4, '02072069400': 1, 'bx': 1, '526': 1, 'sw73ss': 2, 'eerie': 5, 'rply': 5, 'title': 3, 'dracula': 2, 'titles': 3, 'ghost': 2, 'addamsfa': 2, 'munsters': 2, 'exorcist': 2, 'twilight': 2, '0anetworks': 1, 'allow': 1, 'companies': 1, 'bill': 3, 'responsible': 1, 'suppliers': 1, 'guarantee': 1, 'sell': 1, 'freemsgfeelin': 1, 'kinda': 1, 'lnly': 1, 'jst': 1, 'cam': 2, 'moby': 4, 'pictxt': 1, '82242': 3, 'msg150p': 2, '2rcv': 2, 'hlp': 2, '08712317606': 2, 'action': 4, '80608': 2, 'wwwmovietriviatv': 2, '08712405022': 2, 'rgent': 1, 'lookin': 1, 'daytime': 1, 'wiv': 2, 'busty': 1, 'married': 2, 'woman': 1, 'sort': 1, '09099726429': 1, 'janinexx': 1, '09050001295': 1, 'a21': 1, 'monthly': 1, 'mobsicom': 1, '391784': 1, '0089my': 1, 'four': 1, 'digits': 1, 'received': 2, '09063442151': 1, 'ringtoneget': 2, 'freesend': 2, '816183': 2, 'weekstop': 2, 'sms08718727870': 2, 'sorry': 3, 'ordered': 3, '81303': 3, 'sufficient': 1, 'hard': 3, '121': 3, '60pmin': 4, 'connect': 2, '09094646899': 2, 'biggest': 3, 'vu': 2, 'bcm1896wc1n3xx': 2, 'wow': 2, 'boys': 2, '2007': 2, 'tour': 3, 'tickets': 3, 'prebook': 1, 'trackmarque': 1, 'infovipclub4u': 1, 'mandy': 1, 'sullivan': 1, 'hotmix': 1, 'fmyou': 1, 'chosen': 3, '£500000': 1, 'easter': 1, 'drawplease': 1, 'telephone': 1, '09041940223': 1, '290305': 1, 'transferred': 1, 'else': 1, 'going': 4, 'bahamas': 4, 'callfreefone': 2, '08081560665': 2, 'cruise': 2, 'of£2000': 2, '18only': 3, '07786200117': 2, 'conacted': 1, 'youto': 1, '09111030116': 1, 'pobox12n146tf15': 1, '07734396839': 2, 'ibh': 2, 'nokia6600': 2, 'txtauctiontxt': 2, 'wordstart': 2, 'no81151': 2, 'now4t': 2, 'buy': 3, 'space': 2, 'invaders': 2, 'orig': 2, 'arcade': 6, 'console': 2, 'press': 3, '0': 3, 'o2coukgames': 2, 'settings': 3, 'purchase': 3, 'big': 2, 'brother': 1, 'alert': 4, 'computer': 5, '09064018838': 1, 'cro1327': 1, 'mr': 2, 'foley': 2, 'exciting': 4, 'prizes': 2, 'eye': 2, 'wwwwin82050couk': 2, '1225': 1, '£50award': 1, '3100': 2, 'hottest': 1, 'straight': 2, 'wet': 2, 'wanting': 1, 'costs': 3, 'g696ga': 2, 'hack': 1, 'backdoor': 1, 'rooms': 1, 'fraction': 1, 'neo69': 1, '09050280520': 1, 'subscribe': 1, 'pm': 2, 'dps': 1, 'bcm': 1, '8027': 1, 'upto': 2, '12mths': 2, '12price': 1, 'xnet': 1, 'mins100txtmth': 1, 'btooth': 2, '08001950382': 4, '2optoutd3wv': 1, '08718726970': 1, 'btnationalrate': 8, 'prizeto': 1, 'would': 4, 'nearly': 1, 'banned': 1, '09058094594': 1, '0776xxxxxxx': 2, '18yrs': 3, '09061743811': 1, 'abta': 3, '326': 2, '09090900040': 1, 'extreme': 1, 'dirty': 1, 'office': 1, 'right': 3, 'total': 1, 'privacy': 1, 'knows': 1, 'sic': 1, 'listening': 1, '60p': 1, '247mp': 1, '0870753331018': 1, 'videopic': 1, 'fones': 1, 'wild': 1, 'ill': 1, 'hurry': 1, '150prcvd': 1, 'stop2stop': 1, '80182': 3, '08452810073': 3, 'details': 8, '08715500022': 1, 'rpl': 1, 'cnl': 1, '08702490080': 1, 'tells': 2, '09066358152': 2, 'personal': 2, 'prompts': 2, 'careful': 2, 'vpod': 1, '09090204448': 1, 'minded': 1, 'theres': 4, 'evening': 1, 'a£150': 1, 'minapn': 1, 'ls278bb': 1, 'done': 4, 'costa': 7, 'del': 9, 'sol': 7, '09050090044': 6, 'toclaim': 6, 'pobox334': 6, 'stockport': 6, 'cost£150pm': 6, 'max10mins': 6, '09065394973': 1, '31': 1, '2006': 1, 'fifa': 1, 'world': 1, 'held': 1, '87239': 4, '09061743810': 1, 'enjoyed': 2, '61610': 2, 'help08712400602450p': 2, 'provided': 3, 'tones2youcouk': 2, 'themobyo': 1, 'yo': 1, 'yohere': 1, 'downloads': 3, 'members': 3, 'open': 1, 'fone': 5, 'great': 11, 'freefone': 4, '08006344447': 2, 'starting': 4, 'skillgame1winaweek': 1, 'age16150ppermesssubscription': 1, '09094100151': 1, 'cast': 1, 'aom': 2, 'gbp5month': 1, 'box61m60': 1, '1er': 1, 'ages': 1, '09066362220': 1, 'box97n7qp': 3, 'gender': 2, 'wither': 1, 'eg23f': 1, 'men': 2, 'eg23g': 1, 'messagestext': 1, 'nowuse': 1, 'web2mobile': 1, 'txt250com': 1, 'box139': 1, 'la32wu': 1, 'txtx': 1, '85233': 1, 'freeringtonereply': 1, 'official': 5, 'flag': 9, 'yer': 4, '84199': 4, 'eng': 4, 'box39822': 4, 'w111wx': 4, 'subs': 3, 'inclusive': 5, 'help08700469649': 1, 'box420': 1, 'ip4': 5, '5we': 5, '087123002209am7pm': 1, 'hols': 2, 'med': 3, 'stamped': 2, 'self': 2, 'envelope': 2, 'drinks': 2, '113': 2, 'bray': 2, 'wicklow': 2, 'eire': 2, 'starts': 4, 'saturday': 7, 'wwwidewcom': 2, 'skillgame': 2, '1winaweek': 2, '150ppermesssubscription': 2, 'b4u': 1, 'wc': 1, '2703': 1, 'marsms': 1, 'wwwb4utelecom': 1, '08717168528': 1, 'buffy': 1, 'satisfy': 2, 'home': 2, 'pix': 3, 'qlynnbv': 1, 'help08700621170150p': 1, '449month': 1, 'cross': 3, 'ntwk': 4, 'bundle': 1, 'deals': 1, 'also': 3, 'avble': 1, 'call2optoutj': 1, 'mf': 1, '08714712379': 1, 'ref': 2, 'k718': 1, '£450': 4, '09065069120': 1, 'ya': 1, '4goten': 1, 'bout': 1, 'scammers': 1, 'smartthough': 1, 'regular': 1, 'respond': 1, 'prem': 1, 'msgsubscription': 1, 'nos': 1, 'used': 1, 'beware': 1, '2morro': 1, 'term': 2, 'passion': 1, '09099726481': 1, 'dena': 1, '£1minmobsmorelkpobox177hp51fl': 1, 'r836': 1, '09065069154': 1, 'splashmobile': 1, 'subscrition': 1, '300p': 2, 'heard': 3, 'u4': 3, 'rude': 3, '01223585334': 2, '2c': 2, 'gettin': 2, 'shagged': 2, '8552': 4, '2end': 2, '88877free': 1, '88877': 1, '88066': 3, 'lost': 2, '3pound': 1, 'oranges': 2, 'weekend': 6, 'upd8': 2, '2stoptx': 1, '08718738034': 1, '21870000hi': 2, 'mailbox': 2, 'messaging': 2, '21': 1, '09056242159': 2, 'retrieve': 2, 'pub': 2, 'quizwin': 2, 'street': 2, 'duchess': 2, 'cornwall': 2, '82277unsub': 2, '008704050406': 2, 'sp': 3, 'arrow': 1, '08718726971': 1, 'tddnewsletteremc1couk': 1, 'thedailydraw': 1, 'helen': 1, 'dozens': 1, 'prizeswith': 1, '100603': 1, '09066368753': 1, '97n7qp': 1, 'freenokia': 1, 'or2optouthv9d': 1, 'ringtones': 5, 'restrictions': 1, 'buddys': 1, 'sir': 1, '80082': 3, '08712402902': 1, 'spook': 5, 'halloween': 3, '08701417012150p': 2, 'logopic': 3, 'fantasy': 5, 'football': 2, 'sky': 4, 'gamestar': 2, 'active': 2, '£250k': 2, 'scoring': 2, 'register': 2, 'nowsky': 2, '88088': 2, 'expired': 1, 'resub': 1, 'monoc': 1, 'monos': 1, 'polyc': 1, 'stream': 1, '0871212025016': 1, 'draws': 1, 'town': 3, 'adult': 4, 'becausethey': 1, '09058098002': 1, 'pobox1': 1, 'w14rg': 1, 'baby': 2, 'nasty': 1, 'thing': 1, 'filthyguys': 1, 'bitch': 1, 'slo': 1, 'slo4msgs': 1, 'gotto': 1, '08702840625': 1, 'comuk220cm2': 1, 'ithis': 1, 'created': 1, 'page': 1, 'wwwasjesuscom': 1, 'read': 1, 'wrote': 1, 'opinions': 1, '83370': 1, 'wwwmusictrivianet': 1, 'sppok': 1, '09066612661': 3, 'complementary': 1, 'wa14': 1, '2px': 1, 'sender': 1, 'hol': 1, 'hvae': 1, '09061701444': 1, '24': 2, 'acl03530150pm': 2, '6230': 1, '83383': 2, 'pobox11414tcrw1': 1, 'text82228': 1, 'logos': 1, 'wwwtxt82228com': 1, 'infotxt82228couk': 1, 'mini': 1, 'snap': 1, 'quizclub': 1, '80122300pwk': 1, 'sprwm': 1, 'ph08704050406': 1, 'brought': 2, 'gmw': 1, 'connected': 1, 'bx420': 4, 'amazing': 3, 'picsfree1': 2, 'vid': 1, 'keyword': 1, 'ten': 1, '83435': 1, 'tarot': 1, '85555': 1, 'horniest': 1, 'follow': 2, 'instructions': 2, 'nytec2a3lpmsg150p': 1, 'knock': 2, 'whose': 1, 'wwwtklscom': 1, 'stoptxtstop£150week': 1, 'cc100pmin': 1, '0870737910216yrs': 1, '£150wk': 1, '077xxx': 1, '09066362206': 1, 'look': 3, 'w4': 1, '5wq': 1, 'norm': 2, 'park': 1, '69696': 2, 'nyt': 1, '3lp': 2, '£150msg': 2, 'response': 1, 'hit': 3, 'include': 2, '1mcflyall': 1, 'ab': 1, 'sara': 1, 'jorgeshock': 1, 'smithswitch': 1, 'sports': 2, 'fans': 1, 'str': 1, '0870141701216': 1, '4txt120p': 1, 'europe': 1, '10th': 1, 'sept': 3, '09050000555': 1, 'ba128nnfwfly150ppm': 1, '£12': 1, 'fastest': 2, 'growing': 2, '83021': 1, 'tariffs': 6, '2stoptxt': 3, 'luxury': 2, 'canary': 2, 'islands': 2, '20m12aq': 1, 'lux': 1, 'james': 1, '28': 5, 'eh74rr': 1, 'women': 1, 'instantly': 1, '69969': 1, 'bcmsfwc1n3xx': 1, 'burger': 2, 'king': 3, 'footy': 1, 'stadium': 1, 'large': 1, 'super': 3, 'cocacola': 1, 'walk': 1, 'little': 3, 'child': 1, 'afraid': 1, 'dark': 1, 'become': 1, 'teenager': 1, 'wants': 1, 'night': 6, '’': 1, 'bin': 1, '£50': 1, 'instant': 1, '08715203028': 1, '9th': 1, 'wins': 1, '£50£500': 1, 'freemsgfav': 1, 'tonesreply': 1, 'mobs': 1, '2u': 1, 'breathe1': 1, 'crazyin': 1, 'sleepingwith': 1, 'finest': 1, 'ymca': 1, 'getzedcouk': 1, 'pobox365o4w45wq': 1, 'interflora': 2, '\\x93its': 1, 'late': 1, 'flowers': 1, 'christmas': 1, '505060': 1, 'midnight': 1, 'romcapspam': 1, 'everyone': 2, 'responding': 1, 'presence': 1, 'since': 2, 'warm': 2, 'outgoing': 1, 'bringing': 1, 'breath': 1, '08712103738': 1, 'youve': 4, '09058099801': 2, 'b4190604': 2, '7876150ppm': 2, 'freemessage': 1, 'jamsterget': 1, 'crazy': 5, 'frog': 1, 'sound': 1, 'mad1': 1, 'mad2': 1, '88888': 2, 'sounds': 1, 'gbpweek': 1, 'reality': 2, 'show': 4, 'porn': 4, '69855': 1, '50p': 3, 'stopbcm': 1, 'sf': 1, 'pdatenow': 1, 'call2optoutyhl': 1, '09058094454': 1, 'yet': 2, 'package': 1, '54': 1, 'resubmit': 1, 'request': 1, 'expiry': 1, '08712400200': 1, '08718723815': 1, '27603': 1, '08714714011': 1, 'youre': 2, 'driving': 2, 'anyone': 1, 'slower': 1, 'idiot': 1, 'faster': 1, 'maniac': 1, 'call2optout4qf2': 1, 'professional': 1, 'tiger': 1, 'woods': 1, 'pt2': 2, 'improved': 2, 'msgs150p': 2, '400minscall': 1, 'call2optoutj5q': 1, '69200': 1, 'hrs': 1, 'chrgd50p': 1, '2exit': 1, 'unsubscribed': 1, 'tons': 1, 'hunks': 1, 'httpgotbabescouk': 1, 'subscriptions': 1, 'abroad': 1, 'lonely': 1, 'xxsp': 1, 'visionsmscom': 2, 'stopcost': 1, '08712400603': 1, 'agent': 1, 'loads': 1, 'goodies': 1, 'mat': 1, 'lord': 1, 'ringsreturn': 1, 'nowreply': 1, 'lotr': 2, 'june': 1, 'soundtrack': 1, 'stdtxtrate': 1, '28th': 1, 'feb': 1, '06': 1, 'removal': 2, '08708034412': 2, 'str8': 1, 'classic': 1, 'nokia150p': 1, 'poly200p': 1, 'lookatme': 2, 'clip': 1, '35p': 1, 'better': 1, 'mmsto': 1, '32323': 1, 'vat': 1, 'cancel': 5, '09053750005': 1, '310303': 1, '08718725756': 1, '140ppm': 1, 'httpwwwetlpcoukreward': 1, '08712101358': 2, '88039skilgmetscs087147403231winawkage16£150perwksub': 1, '09066358361': 1, 'y87': 1, 'x29': 1, '450': 3, '09065989180': 1, '08718726978': 1, '44': 1, '7732584351': 1, '3510i': 5, 'deliveredtomorrow': 3, '300': 5, 'minutes': 5, '09058097189': 1, '09061221066': 4, 'fromm': 4, '5226': 1, 'hava': 1, '1131': 1, 'rct': 1, 'thnq': 1, 'adrian': 1, 'rgds': 1, 'vatian': 1, '09050000928': 1, 'pobox45w2tg150p': 2, 'missed': 2, '07090201529': 1, 'needs': 1, '09066364349': 1, 'lose': 1, 'box434sk38wp150ppm18': 1, 'msgwe': 1, 'billed': 3, 'mistake': 1, 'shortcode': 1, '83332please': 1, '08081263000': 1, 'charges': 2, 'refundedthis': 1, '08712402972': 1, '09058095201': 1, 'never': 1, 'much': 1, 'came': 1, 'made': 1, 'truly': 3, 'wont': 3, 'gbpsms': 1, '600': 1, '400': 1, 'deltomorrow': 1, '09066368470': 1, 'begin': 1, '24m': 1, '1month': 1, 'smartcall': 1, '68866': 1, 'subscriptn3gbpwk': 1, '08448714184': 1, 'stoptxt': 1, 'landlineonly': 1, 'mths': 4, 'cameravideo': 2, 'save': 3, '£s': 1, 'textsweekend': 1, 'callback': 3, 'orno': 1, 'fink': 1, 'met': 1, '09099726553': 1, 'promised': 1, 'carlie': 1, 'calls£1minmobsmore': 1, 'lkpobox177hp51fl': 1, 'movie': 2, '89105': 1, 'films': 2, 'ts': 3, 'wedding': 1, 'lingerie': 1, 'wwwbridalpetticoatdreamscouk': 1, 'superb': 1, 'weddingfriend': 1, 'knickers': 1, 'beg': 1, '01223585236': 1, 'nikiyu4net': 1, 'bloomberg': 2, 'center': 2, '447797706009': 2, 'wait': 2, 'httpcareers': 2, 'bloombergcom': 2, 'phone750': 1, '09050000878': 1, 'wan2': 2, 'meetgreet': 2, 'westlife': 2, 'm8': 2, '1unbreakable': 2, '2untamed': 2, '3unkempt': 2, '83049': 2, 'dorothykiefercom': 1, 'bank': 2, 'granite': 2, 'issues': 2, 'strongbuy': 2, 'explosive': 2, 'pick': 2, 'nasdaq': 2, 'symbol': 2, 'cdgt': 2, '09071517866': 1, '150ppmpobox10183bhamb64xe': 1, '10am': 1, '8pm': 1, 'thurs': 2, 'sat': 2, 'theyre': 1, 'selling': 1, 'fast': 1, 'rock': 1, 'chik': 1, '100s': 1, 'filth': 1, '69669': 2, 'saristar': 1, 'e14': 1, '9yt': 1, '08701752560': 1, '450p': 1, 'stop2': 1, 'month': 2, '9061100010': 1, 'wire3net': 1, '1st4terms': 1, 'mobcudb': 1, '09050000460': 1, 'j89': 1, 'box245c2150pm': 1, 'banneduk': 1, 'round': 1, 'highest': 1, '£54': 1, 'maximum': 1, '£71': 1, 'bids': 1, 'flight': 1, '69101': 1, 'wwwrtfsphostingcom': 1, 'believe': 2, 'incredible': 2, 'learn': 2, 'things': 2, 'blow': 2, 'mind': 2, 'o2fwd': 2, '18ptxt': 2, 'willing': 1, 'strt': 1, 'ltdhelpdesk': 1, '02085076972': 1, '200': 3, '09066660100': 1, '2309': 1, 'tonights': 2, 'recently': 2, 'unable': 2, '07090298926': 1, 'reschedule': 2, 'ref9307622': 1, 'mytonecomenjoy': 1, 'html': 1, 'gbp450week': 1, 'mfl': 1, '1146': 1, '23': 1, 'wamma': 1, 'laidwant': 1, 'doggin': 1, 'dogs': 1, 'nownyt': 1, 'promotion': 1, '8714714': 1, '087147123779am7pm': 1, 'x49': 1, '09065989182': 2, 'colourredtextcolourtxtstar': 1, '2nights': 1, 'wildest': 1, '146tf150p': 1, 'class': 2, 'airport': 1, 'lounge': 1, 'passes': 1, 'using': 2, '08704439680': 1, 'booking': 1, 'quote': 1, '09058095107': 1, '7': 2, 's3xy': 1, 'mila': 2, 'age23': 2, 'blonde': 2, 'mtalk': 2, '6986618': 2, '30pptxt': 2, '5free': 2, 'increments': 2, 'help08718728876': 2, '08717895698': 1, 'mobstorequiz10ppm': 1, 'funk': 2, 'tones2u': 2, 'twinks': 1, 'scallies': 1, 'skins': 1, 'jocks': 1, '08712466669': 1, '08712460324nat': 1, '09061701851': 1, 'k61': 1, '12hours': 1, '74355': 1, 'iscoming': 2, 'tnc': 2, 'row': 1, 'blu': 2, 'concert': 1, 'november': 1, '09061104276': 1, 'cost£375max': 1, 'single': 1, 'nowsend': 1, '62220cncl': 1, 'stopcs': 1, '08717890890£150': 1, '\\x93harry': 1, 'ringtonefrom': 1, 'httptms': 2, 'widelivecomindex': 2, 'wmlid1b6a5ecef91ff937819firsttrue180430jul05': 1, 'oh': 1, 'god': 1, 'ive': 1, 'found': 1, 'glad': 1, 'xafter': 1, 'cst': 1, 'chg': 1, 'picture': 1, 'httpalto18coukwavewaveaspo44345': 1, 'call2optouthf8': 1, '09061702893': 2, '08719181259': 1, 'xxxxx': 1, '260305': 1, 'freeringtone': 1, 'real1': 1, 'pushbutton': 1, 'dontcha': 1, 'babygoodbye': 1, 'golddigger': 1, 'webeburnin': 1, 'gnarls': 1, 'barkleys': 1, 'totally': 1, 'secured': 1, 'unsecured': 1, '195': 1, '6669': 1, '3000': 1, 'picked': 4, '09061743386': 2, 'call2optout674': 2, 'ringtoneking': 1, '84484': 1, 'housewives': 2, '08717507711': 2, 'btnational': 2, 'landlines': 2, '£400': 6, '087104711148': 1, 'receiving': 2, 'triple': 1, 'echo': 1, 'dial': 1, 'bx526': 1, '09066364311': 2, 'x49your': 1, 'accessible': 1, '08709501522': 1, '139': 1, 'la3': 1, '2wu': 1, '£150week': 1, '09064017305': 1, 'pobox75ldns7': 1, 'tbspersolvo': 1, 'chasing': 1, 'for£38': 1, 'definitely': 1, 'paying': 1, 'ignore': 1, 'kath': 1, 'manchester': 1, 'loans': 1, 'bad': 1, 'noworriesloanscom': 1, '08717111821': 1, 'season': 1, '2wks': 1, 'goals': 1, 'villa': 1, 'brings': 1, 'heroes': 1, 'tips': 1, '07973788240': 1, '08715203649': 1, 'gsoh': 1, 'spam': 1, 'ladiesu': 1, 'gigolo': 1, 'mens': 1, 'oncall': 1, 'mjzgroup': 1, '087143423992stop': 1, 'msg£150rcvd': 1, '08707500020': 1, 'ukp2000': 1, '09061790125': 1, 'spjanuary': 1, 'simpsons': 1, 'released': 1, 'band': 1, 'died': 1, 'film': 2, 'agreen': 1, 'bblue': 1, 'cred': 1, 'amanda': 1, 'regard': 1, 'renewing': 1, 'upgrading': 1, 'current': 2, 'tel': 1, '3680': 1, 'subject': 1, 'httpwwwwtlpcouktext': 1, '0906346330': 1, 'spanish': 2, '47': 1, 'po19': 1, '2ez': 1, 'cmon': 1, 'turn': 1, 'sticky': 1, 'replies': 1, '0796xxxxxx': 1, 'day2': 1, 'prizeawaiting': 1, 'called': 1, 'left': 1, '07008009200': 1, 'indicate': 2, '3750': 1, 'accident': 2, 'colours': 1, '241': 1, '3lions': 1, 'normal': 1, 'gprs': 1, 'accordingly': 1, 'repeat': 1, 'block': 1, 'breaker': 1, 'deluxe': 1, 'format': 1, 'features': 1, 'graphics': 1, '£5': 1, 'bbdeluxe': 1, 'challenge': 1, 'day2find': 2, 'natalja': 2, '25f': 2, 'yes440': 2, 'no440': 2, 'wwwsmsacunat27081980': 2, '02': 1, 'kit': 1, 'strip': 1, '1013': 1, 'ig11': 1, 'oja': 1, '08712402578': 1, 'thesmszonecom': 1, 'anonymous': 1, 'masked': 1, 'messagesim': 1, 'sending': 2, 'theredo': 1, 'potential': 1, 'abuse': 1, '09061744553': 2, 'polyh': 2, '0789xxxxxxx': 1, 'shy': 1, '09058091870': 1, '£600': 1, 'complete': 1, 'landmark': 1, 'bob': 1, 'barry': 1, 'ben': 1, '83738': 1, 'tonexs': 1, 'renewed': 1, 'wwwclubzedcouk': 1, 'billing': 1, 'another': 2, 'wwwtcbiz': 2, 'polo': 2, 'suite': 2, '373': 2, 'w1j': 2, '6hl': 2, 'busy': 2, '8000930705': 1, 'recpt': 1, '13': 1, 'processed': 1, 'subscribers': 1, 'gb': 1, 'headset': 1, 'adp': 1, 'floppy': 1, 'snappy': 1, 'happy': 1, 'ukmobiledate': 1, 'giving': 1, '08719839835': 1, 'mgs': 1, '89123': 1, 'explicit': 2, '30': 2, 'secs': 2, '02073162414': 2, '20pmin': 2, 'proze': 1, 'norcorp': 1, 'ltd£150mtmsgrcvd18': 1, 'items': 1, '7cfca1a': 1, 'wining': 1, '946': 1, 'wot': 1, 'cock': 1, 'hubbys': 1, 'man': 1, 'wife': 1, '89938': 1, 'strings': 1, 'rec': 1, '£150ea': 1, 'otbox': 1, '731': 1, 'la1': 1, '7ws': 1, 'sexiest': 1, 'dirtiest': 1, '89070': 2, 'chatim': 1, 'w8in': 1, '4utxt': 1, 'laugh': 1, 'chitchat': 1, 'logon': 1, '8883': 1, 'cm': 1, '4217': 1, 'w1a': 1, '6zf': 1, '118pmsg': 1, '£1000call': 1, '09071512432': 1, '300603tcsbcm4235wc1n3xxcallcost150ppmmobilesvary': 1, 'mnths': 2, '09065171142stopsms08718727870150ppm': 1, '86888': 2, 'subscribe6gbpmnth': 2, '3hrs': 2, 'stoptxtstop': 2, 'recorder': 1, 'canname': 1, 'capital': 1, 'australia': 1, 'mquiz': 1, '7634': 1, '7684': 1, 'ripped': 1, 'wwwclubmobycom': 1, '08717509990': 1, 'polytruepixringtonesgames': 1, 'randomly': 2, 'loyal': 2, 'customers': 2, '09066380611': 2, '08718738002': 1, '48922': 1, '211104': 1, '07099833605': 1, 'ref9280114': 1, 'chloe': 1, 'smashed': 1, 'missing': 1, '150ptext': 1, '07808726822': 1, '08718729758': 1, 'rayman': 1, 'golf': 1, 'activ8': 1, 'key': 1, 'termsapply': 1, 'minstexts': 1, 'coolmob': 1, 'frogaxel': 1, 'akonlonely': 1, 'black': 1, 'eyeddont': 1, 'cashbincouk': 1, 'wwwcashbincouk': 1, 'continued': 1, 'support': 2, 'in2': 1, 'president': 1, '1172': 1, '09066649731from': 1, 'santa': 4, 'ones': 2, '09077818151': 1, 'calls150ppm': 1, '30s': 1, 'wwwsantacallingcom': 1, '0784987': 1, '08719180219': 1, '060505': 1, 'videos': 1, 'smsshsexnetun': 1, 'fgkslpopw': 1, 'fgkslpo': 1, '0871277810710pmin': 1, '08715203652': 1, '42810': 1, '29100': 1, 'messagethanks': 1, '150pmsgrcvd': 1, 'skip': 1, 'customercare': 1, '08718726270': 2, 'lyricalladie21f': 1, 'yes910': 1, 'no910': 1, 'wwwsmsacuhmmross': 1, 'ou': 1, 'sn': 1, 'pobox202': 1, 'nr31': 1, '7zs': 1, '450pw': 1, 'warner': 2, 'village': 2, '83118': 1, 'colin': 1, 'farrell': 1, 'swat': 1, 'wkend': 1, 'popcornjust': 1, 'msgticketkioskvalid': 1, '4712': 1, 'kiosk': 1, 'mre': 1, 'goal': 2, 'henry': 2, 'scores': 1, 'simple': 1, 'shot': 1, 'yards': 1, 'bergkamp': 1, 'margin': 1, '78': 1, 'sexychat': 1, 'amy': 1, 'couple': 1, 'parties': 1, 'select': 1, 'added': 2, 'benefits': 1, 'trained': 1, 'advisors': 1, 'dialling': 1, '402': 1, 'meal': 1, 'dining': 1, 'experiencehttpwwwvouch4mecometlpdiningasp': 1, '09058094507': 1, 'donate': 2, 'unicefs': 1, 'asian': 1, 'tsunami': 1, 'disaster': 1, 'fund': 1, 'texting': 1, '864233': 1, 'goldviking': 1, '29m': 1, 'yes762': 1, 'no762': 1, 'wwwsmsacugoldviking': 1, 'phony': 1, 'xxxx': 1, '£125': 1, 'freeentry': 1, 'xt': 1, '08714712412': 1, '150pmeg': 1, '08715203685': 1, 'code4xx26': 1, '131004': 1, 'deepest': 1, 'darkest': 1, '09094646631': 1, 'nat': 2, 'natalie': 1, '20f': 1, 'yes165': 1, 'no165': 1, 'wwwsmsacunatalie2k9': 1, 'wallpaper': 2, '08701213186': 1, '83039': 1, '62735£450': 1, 'accommodationvouchers': 1, 'mustprovide': 1, '15541': 1, '5p': 1, 'tscs08714740323': 1, '1winawk': 1, '£150perweeksub': 1, '09066361921': 1, 'themobhit': 1, 'pink': 1, 'panther': 1, 'sugababes': 1, 'zebra': 1, 'animation': 1, 'badass': 1, 'hoody': 1, 'wallpaperall': 1, 'resent': 1, 'previous': 1, 'failed': 1, 'due': 2, 'error': 1, 'queries': 1, 'customersqueriesnetvisionukcom': 1, '08715205273': 1, 'vco': 1, '078': 1, 'garden': 2, 'bulbs': 2, 'seeds': 2, '£3350': 2, 'scotsman': 2, 'go2': 2, 'notxtcouk': 2, 'ree': 1, 'maybe': 2, 'compensation': 1, 'wwwtelediscountcouk': 1, '08715203656': 1, '42049': 1, '261004': 1, 'someonone': 1, '09064015307': 1, '09061213237': 2, '177': 2, 'm227xy': 2, '09061790126': 1, 'wwwldewcom1win150ppmx3age16subscription': 1, 'textcomp': 1, 'wks': 2, 'follows': 1, 'subsequent': 1, 'charged150pmsg2': 1, '84128custcare': 1, '09095350301': 1, 'erotic': 1, 'ecstacy': 1, 'dept': 1, '13404': 1, '08717507382': 1, 'datingi': 1, 'two': 1, 'started': 1, 'radio': 1, 'connection': 1, 'coincidence': 1, 'leading': 1, '151': 1, 'pause': 1, 'gr8prizes': 1, '8800': 1, 'psp': 1, 'wktxt': 1, 'httpwwwgr8prizescom': 1, '02070836089': 1, '09058094583': 1, '32000': 1, 'legitimat': 1, 'efreefone': 1, 'wat': 1, 'police': 1, 'station': 1, 'toilet': 1, 'stolen': 1, 'cops': 1, 'sparkling': 1, 'breaks': 1, '45': 1, 'person': 1, '0121': 1, '2025050': 1, 'wwwshortbreaksorguk': 1, 'wwwgambtv': 1, 'wmlid820554ad0a1705572711firsttrue¡c': 1, 'ringtone¡': 1, '09050000332': 1, '09064017295': 1, '2p': 2, '08448350055': 1, 'planettalkinstantcom': 1, 'marvel': 1, 'ultimate': 1, 'spiderman': 1, 'spider': 1, '83338': 1, '8ball': 1, '07808247860': 1, '08719899229': 1, '40411': 1, '061104': 1, '49557': 1, '261104': 1, 'gsex': 1, '2667': 1, 'wc1n': 1, '3xx': 1, '3mobile': 1, 'chatlines': 1, 'inclu': 1, 'india': 1, 'servs': 1, 'sed': 1, 'l8er': 1, 'mega': 1, 'giv': 1, 'shit': 1, 'bailiff': 1, 'house': 1, '£750': 1, '087187272008': 1, 'now1': 1}\n"
     ]
    }
   ],
   "source": [
    "spam_words = {}\n",
    "ham_words = {}\n",
    "\n",
    "for txt in df[\"msg_sw_removed\"][df[\"label\"] == \"spam\"]:\n",
    "\n",
    "  for word in txt:\n",
    "    if word not in spam_words:\n",
    "      spam_words[word] = 1\n",
    "    else:\n",
    "      spam_words[word] += 1\n",
    "\n",
    "for txt in df[\"msg_sw_removed\"][df['label'] == \"ham\"]:\n",
    "\n",
    "  for word in txt:\n",
    "    if word in ham_words:\n",
    "      ham_words[word] +=1\n",
    "    else:\n",
    "      ham_words[word] = 1\n",
    "\n",
    "\n",
    "print(ham_words)\n",
    "print(spam_words)"
   ]
  },
  {
   "cell_type": "markdown",
   "metadata": {
    "id": "J6-89ijWvTkQ"
   },
   "source": [
    "## Optional - Sorting the highest occurences of the words in Dictionary"
   ]
  },
  {
   "cell_type": "code",
   "execution_count": null,
   "metadata": {
    "colab": {
     "base_uri": "https://localhost:8080/"
    },
    "executionInfo": {
     "elapsed": 13850,
     "status": "ok",
     "timestamp": 1611589734845,
     "user": {
      "displayName": "Kiam Boon",
      "photoUrl": "https://lh3.googleusercontent.com/a-/AOh14GguWKTGJvP2a1VVYH3mkgQmM58WyxV6eg7JKfcn-yE=s64",
      "userId": "10343331633657001480"
     },
     "user_tz": -480
    },
    "id": "RHzVaTuZhIjD",
    "outputId": "1bacfc38-94fd-4b25-b2c0-ed3c328a5656"
   },
   "outputs": [
    {
     "name": "stdout",
     "output_type": "stream",
     "text": [
      "Ham\n",
      "[('u', 985), ('im', 451), ('2', 309), ('get', 303), ('ltgt', 276)]\n",
      "[('call', 347), ('free', 216), ('2', 173), ('txt', 150), ('u', 148)]\n",
      "\n",
      "Spam\n",
      "[('call', 347), ('free', 216), ('2', 173), ('txt', 150), ('u', 148)]\n",
      "[('u', 985), ('im', 451), ('2', 309), ('get', 303), ('ltgt', 276)]\n"
     ]
    }
   ],
   "source": [
    "sorted_ham_words = dict(sorted(ham_words.items(), key = lambda kv: kv[1], reverse = True)) # 0 = k, 1 = v\n",
    "sorted_spam_words = dict(sorted(spam_words.items(), key = lambda kv: kv[1], reverse = True))\n",
    "\n",
    "print(\"Ham\")\n",
    "print(list(sorted_ham_words.items())[:5])   # Show first 5 items\n",
    "# del sorted_ham_words[\"\"]                    # Remove the '' which is an empty space\n",
    "print(list(sorted_spam_words.items())[:5])  # Show first 5 items again\n",
    "\n",
    "print(\"\\nSpam\")\n",
    "print(list(sorted_spam_words.items())[:5])  # Show first 5 items\n",
    "# del sorted_spam_words[\"\"]                   # Remove the '' which is an empty space\n",
    "print(list(sorted_ham_words.items())[:5])   # Show first 5 items again"
   ]
  },
  {
   "cell_type": "markdown",
   "metadata": {
    "id": "d_UQdLC15c-k"
   },
   "source": [
    "## Visualizing the most occurences words\n",
    "* Convert to a DataFrame easier for the plotting"
   ]
  },
  {
   "cell_type": "code",
   "execution_count": null,
   "metadata": {
    "colab": {
     "base_uri": "https://localhost:8080/",
     "height": 538
    },
    "executionInfo": {
     "elapsed": 14297,
     "status": "ok",
     "timestamp": 1611589735311,
     "user": {
      "displayName": "Kiam Boon",
      "photoUrl": "https://lh3.googleusercontent.com/a-/AOh14GguWKTGJvP2a1VVYH3mkgQmM58WyxV6eg7JKfcn-yE=s64",
      "userId": "10343331633657001480"
     },
     "user_tz": -480
    },
    "id": "fokIfptDM8jG",
    "outputId": "7719f61b-e367-4eda-863f-4170f9c14b7a"
   },
   "outputs": [
    {
     "data": {
      "image/png": "[encoded data removed]",
      "text/plain": [
       "<Figure size 1080x288 with 1 Axes>"
      ]
     },
     "metadata": {
      "tags": []
     },
     "output_type": "display_data"
    },
    {
     "data": {
      "image/png": "[encoded data removed]",
      "text/plain": [
       "<Figure size 1080x288 with 1 Axes>"
      ]
     },
     "metadata": {
      "tags": []
     },
     "output_type": "display_data"
    }
   ],
   "source": [
    "ham_df = pd.DataFrame.from_dict(ham_words, orient = \"index\", columns = [\"freq\"])\n",
    "spam_df = pd.DataFrame.from_dict(spam_words, orient = \"index\", columns = [\"freq\"])\n",
    "\n",
    "\n",
    "plt.figure(figsize = (15, 4))\n",
    "ham_df[\"freq\"].nlargest(20).plot(kind = \"bar\")\n",
    "plt.xticks(rotation = 0)\n",
    "plt.title(\"Top 20 Most Frequent Words in Ham\", size = 20)\n",
    "\n",
    "plt.figure(figsize = (15, 4))\n",
    "spam_df[\"freq\"].nlargest(20).plot(kind = \"bar\", color = \"tab:orange\")\n",
    "plt.xticks(rotation = 0)\n",
    "plt.title(\"Top 20 Most Frequent Words in Spam\", size = 20)\n",
    "\n",
    "plt.show()"
   ]
  },
  {
   "cell_type": "markdown",
   "metadata": {
    "id": "ob5ePJO4wrKO"
   },
   "source": [
    "## Lemmatization\n",
    "* Refers to a vocaburaly and convert words to their base form."
   ]
  },
  {
   "cell_type": "code",
   "execution_count": null,
   "metadata": {
    "colab": {
     "base_uri": "https://localhost:8080/"
    },
    "executionInfo": {
     "elapsed": 14284,
     "status": "ok",
     "timestamp": 1611589735317,
     "user": {
      "displayName": "Kiam Boon",
      "photoUrl": "https://lh3.googleusercontent.com/a-/AOh14GguWKTGJvP2a1VVYH3mkgQmM58WyxV6eg7JKfcn-yE=s64",
      "userId": "10343331633657001480"
     },
     "user_tz": -480
    },
    "id": "9iXDxXAKMVfM",
    "outputId": "7077a1ec-373b-4e4e-9d89-3c0297828ba2"
   },
   "outputs": [
    {
     "name": "stdout",
     "output_type": "stream",
     "text": [
      "[nltk_data] Downloading package wordnet to /root/nltk_data...\n",
      "[nltk_data]   Package wordnet is already up-to-date!\n",
      "mice    > mouse\n",
      "indices > index\n",
      "leaves  > leaf\n",
      "cacti   > cactus\n"
     ]
    }
   ],
   "source": [
    "nltk.download('wordnet')\n",
    "from nltk.stem import WordNetLemmatizer\n",
    "\n",
    "print(\"mice    >\", WordNetLemmatizer().lemmatize(\"mice\"))\n",
    "print(\"indices >\", WordNetLemmatizer().lemmatize(\"indices\"))\n",
    "print(\"leaves  >\", WordNetLemmatizer().lemmatize(\"leaves\"))\n",
    "print(\"cacti   >\", WordNetLemmatizer().lemmatize(\"cacti\"))"
   ]
  },
  {
   "cell_type": "code",
   "execution_count": null,
   "metadata": {
    "colab": {
     "base_uri": "https://localhost:8080/",
     "height": 458
    },
    "executionInfo": {
     "elapsed": 14257,
     "status": "ok",
     "timestamp": 1611589735320,
     "user": {
      "displayName": "Kiam Boon",
      "photoUrl": "https://lh3.googleusercontent.com/a-/AOh14GguWKTGJvP2a1VVYH3mkgQmM58WyxV6eg7JKfcn-yE=s64",
      "userId": "10343331633657001480"
     },
     "user_tz": -480
    },
    "id": "Pe5q6YZuwtnF",
    "outputId": "6b3bd0d9-e331-4a55-83ad-dafd61d1526f"
   },
   "outputs": [
    {
     "data": {
      "text/html": [
       "<div>\n",
       "<style scoped>\n",
       "    .dataframe tbody tr th:only-of-type {\n",
       "        vertical-align: middle;\n",
       "    }\n",
       "\n",
       "    .dataframe tbody tr th {\n",
       "        vertical-align: top;\n",
       "    }\n",
       "\n",
       "    .dataframe thead th {\n",
       "        text-align: right;\n",
       "    }\n",
       "</style>\n",
       "<table border=\"1\" class=\"dataframe\">\n",
       "  <thead>\n",
       "    <tr style=\"text-align: right;\">\n",
       "      <th></th>\n",
       "      <th>label</th>\n",
       "      <th>msg</th>\n",
       "      <th>length</th>\n",
       "      <th>punc_pct</th>\n",
       "      <th>positive</th>\n",
       "      <th>negative</th>\n",
       "      <th>scores</th>\n",
       "      <th>compound</th>\n",
       "      <th>comp_score</th>\n",
       "      <th>msg_tokenized</th>\n",
       "      <th>msg_sw_removed</th>\n",
       "      <th>msg_lemmatized</th>\n",
       "    </tr>\n",
       "  </thead>\n",
       "  <tbody>\n",
       "    <tr>\n",
       "      <th>0</th>\n",
       "      <td>ham</td>\n",
       "      <td>Go until jurong point, crazy.. Available only ...</td>\n",
       "      <td>92</td>\n",
       "      <td>9.8</td>\n",
       "      <td>0.194</td>\n",
       "      <td>0.0</td>\n",
       "      <td>{'neg': 0.0, 'neu': 0.806, 'pos': 0.194, 'comp...</td>\n",
       "      <td>0.6249</td>\n",
       "      <td>pos</td>\n",
       "      <td>[go, until, jurong, point, crazy, available, o...</td>\n",
       "      <td>[go, jurong, point, crazy, available, bugis, n...</td>\n",
       "      <td>go jurong point crazy available bugis n great ...</td>\n",
       "    </tr>\n",
       "    <tr>\n",
       "      <th>1</th>\n",
       "      <td>ham</td>\n",
       "      <td>Ok lar... Joking wif u oni...</td>\n",
       "      <td>24</td>\n",
       "      <td>25.0</td>\n",
       "      <td>0.577</td>\n",
       "      <td>0.0</td>\n",
       "      <td>{'neg': 0.0, 'neu': 0.423, 'pos': 0.577, 'comp...</td>\n",
       "      <td>0.4767</td>\n",
       "      <td>pos</td>\n",
       "      <td>[ok, lar, joking, wif, u, oni]</td>\n",
       "      <td>[ok, lar, joking, wif, u, oni]</td>\n",
       "      <td>ok lar joking wif u oni</td>\n",
       "    </tr>\n",
       "    <tr>\n",
       "      <th>2</th>\n",
       "      <td>spam</td>\n",
       "      <td>Free entry in 2 a wkly comp to win FA Cup fina...</td>\n",
       "      <td>128</td>\n",
       "      <td>4.7</td>\n",
       "      <td>0.228</td>\n",
       "      <td>0.0</td>\n",
       "      <td>{'neg': 0.0, 'neu': 0.772, 'pos': 0.228, 'comp...</td>\n",
       "      <td>0.7964</td>\n",
       "      <td>pos</td>\n",
       "      <td>[free, entry, in, 2, a, wkly, comp, to, win, f...</td>\n",
       "      <td>[free, entry, 2, wkly, comp, win, fa, cup, fin...</td>\n",
       "      <td>free entry 2 wkly comp win fa cup final tkts 2...</td>\n",
       "    </tr>\n",
       "  </tbody>\n",
       "</table>\n",
       "</div>"
      ],
      "text/plain": [
       "  label  ...                                     msg_lemmatized\n",
       "0   ham  ...  go jurong point crazy available bugis n great ...\n",
       "1   ham  ...                            ok lar joking wif u oni\n",
       "2  spam  ...  free entry 2 wkly comp win fa cup final tkts 2...\n",
       "\n",
       "[3 rows x 12 columns]"
      ]
     },
     "execution_count": 207,
     "metadata": {
      "tags": []
     },
     "output_type": "execute_result"
    }
   ],
   "source": [
    "lemma = WordNetLemmatizer()\n",
    "\n",
    "def lemmatizer(txt):\n",
    "  return \" \".join([lemma.lemmatize(w) for w in txt])\n",
    "\n",
    "df[\"msg_lemmatized\"] = df[\"msg_sw_removed\"].apply(lemmatizer)\n",
    "df.head(3)"
   ]
  },
  {
   "cell_type": "markdown",
   "metadata": {
    "id": "9ZlqI-6Lf0C1"
   },
   "source": [
    "## Stemming\n",
    "* Works slightly different way compares to lemmatization. Stemming cutting out the end of words like the suffix in -ly, -ing, -ed, es, -ment etc."
   ]
  },
  {
   "cell_type": "code",
   "execution_count": null,
   "metadata": {
    "colab": {
     "base_uri": "https://localhost:8080/"
    },
    "executionInfo": {
     "elapsed": 14248,
     "status": "ok",
     "timestamp": 1611589735324,
     "user": {
      "displayName": "Kiam Boon",
      "photoUrl": "https://lh3.googleusercontent.com/a-/AOh14GguWKTGJvP2a1VVYH3mkgQmM58WyxV6eg7JKfcn-yE=s64",
      "userId": "10343331633657001480"
     },
     "user_tz": -480
    },
    "id": "AtwUlC73RsW2",
    "outputId": "9f660f30-433c-4ebc-c654-bf1b71da0103"
   },
   "outputs": [
    {
     "name": "stdout",
     "output_type": "stream",
     "text": [
      "continuous  > continu\n",
      "purify      > purifi\n",
      "profile     > profil\n",
      "people      > peopl\n",
      "complicated > complic\n"
     ]
    }
   ],
   "source": [
    "from nltk.stem.porter import PorterStemmer\n",
    "\n",
    "print(\"continuous  >\", PorterStemmer().stem(\"continuous\"))\n",
    "print(\"purify      >\", PorterStemmer().stem(\"purify\"))\n",
    "print(\"profile     >\", PorterStemmer().stem(\"profile\"))\n",
    "print(\"people      >\", PorterStemmer().stem(\"people\"))\n",
    "print(\"complicated >\", PorterStemmer().stem(\"complicated\"))"
   ]
  },
  {
   "cell_type": "code",
   "execution_count": null,
   "metadata": {
    "colab": {
     "base_uri": "https://localhost:8080/",
     "height": 458
    },
    "executionInfo": {
     "elapsed": 15165,
     "status": "ok",
     "timestamp": 1611589736271,
     "user": {
      "displayName": "Kiam Boon",
      "photoUrl": "https://lh3.googleusercontent.com/a-/AOh14GguWKTGJvP2a1VVYH3mkgQmM58WyxV6eg7JKfcn-yE=s64",
      "userId": "10343331633657001480"
     },
     "user_tz": -480
    },
    "id": "HnxaDt49fzqr",
    "outputId": "52080278-5f98-46a2-ebef-6fa8e0fdbe52"
   },
   "outputs": [
    {
     "data": {
      "text/html": [
       "<div>\n",
       "<style scoped>\n",
       "    .dataframe tbody tr th:only-of-type {\n",
       "        vertical-align: middle;\n",
       "    }\n",
       "\n",
       "    .dataframe tbody tr th {\n",
       "        vertical-align: top;\n",
       "    }\n",
       "\n",
       "    .dataframe thead th {\n",
       "        text-align: right;\n",
       "    }\n",
       "</style>\n",
       "<table border=\"1\" class=\"dataframe\">\n",
       "  <thead>\n",
       "    <tr style=\"text-align: right;\">\n",
       "      <th></th>\n",
       "      <th>label</th>\n",
       "      <th>msg</th>\n",
       "      <th>length</th>\n",
       "      <th>punc_pct</th>\n",
       "      <th>positive</th>\n",
       "      <th>negative</th>\n",
       "      <th>scores</th>\n",
       "      <th>compound</th>\n",
       "      <th>comp_score</th>\n",
       "      <th>msg_tokenized</th>\n",
       "      <th>msg_sw_removed</th>\n",
       "      <th>msg_lemmatized</th>\n",
       "      <th>msg_stemmed</th>\n",
       "    </tr>\n",
       "  </thead>\n",
       "  <tbody>\n",
       "    <tr>\n",
       "      <th>0</th>\n",
       "      <td>ham</td>\n",
       "      <td>Go until jurong point, crazy.. Available only ...</td>\n",
       "      <td>92</td>\n",
       "      <td>9.8</td>\n",
       "      <td>0.194</td>\n",
       "      <td>0.0</td>\n",
       "      <td>{'neg': 0.0, 'neu': 0.806, 'pos': 0.194, 'comp...</td>\n",
       "      <td>0.6249</td>\n",
       "      <td>pos</td>\n",
       "      <td>[go, until, jurong, point, crazy, available, o...</td>\n",
       "      <td>[go, jurong, point, crazy, available, bugis, n...</td>\n",
       "      <td>go jurong point crazy available bugis n great ...</td>\n",
       "      <td>go jurong point crazi avail bugi n great world...</td>\n",
       "    </tr>\n",
       "    <tr>\n",
       "      <th>1</th>\n",
       "      <td>ham</td>\n",
       "      <td>Ok lar... Joking wif u oni...</td>\n",
       "      <td>24</td>\n",
       "      <td>25.0</td>\n",
       "      <td>0.577</td>\n",
       "      <td>0.0</td>\n",
       "      <td>{'neg': 0.0, 'neu': 0.423, 'pos': 0.577, 'comp...</td>\n",
       "      <td>0.4767</td>\n",
       "      <td>pos</td>\n",
       "      <td>[ok, lar, joking, wif, u, oni]</td>\n",
       "      <td>[ok, lar, joking, wif, u, oni]</td>\n",
       "      <td>ok lar joking wif u oni</td>\n",
       "      <td>ok lar joke wif u oni</td>\n",
       "    </tr>\n",
       "    <tr>\n",
       "      <th>2</th>\n",
       "      <td>spam</td>\n",
       "      <td>Free entry in 2 a wkly comp to win FA Cup fina...</td>\n",
       "      <td>128</td>\n",
       "      <td>4.7</td>\n",
       "      <td>0.228</td>\n",
       "      <td>0.0</td>\n",
       "      <td>{'neg': 0.0, 'neu': 0.772, 'pos': 0.228, 'comp...</td>\n",
       "      <td>0.7964</td>\n",
       "      <td>pos</td>\n",
       "      <td>[free, entry, in, 2, a, wkly, comp, to, win, f...</td>\n",
       "      <td>[free, entry, 2, wkly, comp, win, fa, cup, fin...</td>\n",
       "      <td>free entry 2 wkly comp win fa cup final tkts 2...</td>\n",
       "      <td>free entri 2 wkli comp win fa cup final tkt 21...</td>\n",
       "    </tr>\n",
       "  </tbody>\n",
       "</table>\n",
       "</div>"
      ],
      "text/plain": [
       "  label  ...                                        msg_stemmed\n",
       "0   ham  ...  go jurong point crazi avail bugi n great world...\n",
       "1   ham  ...                              ok lar joke wif u oni\n",
       "2  spam  ...  free entri 2 wkli comp win fa cup final tkt 21...\n",
       "\n",
       "[3 rows x 13 columns]"
      ]
     },
     "execution_count": 209,
     "metadata": {
      "tags": []
     },
     "output_type": "execute_result"
    }
   ],
   "source": [
    "from nltk.stem.porter import PorterStemmer\n",
    "\n",
    "stem = PorterStemmer()\n",
    "\n",
    "def stemmer(txt):\n",
    "  return \" \".join([stem.stem(w) for w in txt])\n",
    "\n",
    "\n",
    "df[\"msg_stemmed\"] = df[\"msg_sw_removed\"].apply(stemmer)\n",
    "df.head(3)"
   ]
  },
  {
   "cell_type": "code",
   "execution_count": null,
   "metadata": {
    "id": "PiX_LDEsM8by"
   },
   "outputs": [],
   "source": []
  },
  {
   "cell_type": "code",
   "execution_count": null,
   "metadata": {
    "id": "V-BDINOgM8VC"
   },
   "outputs": [],
   "source": []
  },
  {
   "cell_type": "markdown",
   "metadata": {
    "id": "RpM5wb70xVzX"
   },
   "source": [
    "## Bag of Words - CountVectorizer"
   ]
  },
  {
   "cell_type": "code",
   "execution_count": null,
   "metadata": {
    "id": "82kpSNFDWet9"
   },
   "outputs": [],
   "source": [
    "from sklearn.feature_extraction.text import CountVectorizer\n",
    "\n",
    "lemma_bow_transformer = CountVectorizer().fit(df[\"msg_lemmatized\"])\n",
    "stem_bow_transformer = CountVectorizer().fit(df[\"msg_stemmed\"])"
   ]
  },
  {
   "cell_type": "code",
   "execution_count": null,
   "metadata": {
    "colab": {
     "base_uri": "https://localhost:8080/"
    },
    "executionInfo": {
     "elapsed": 15141,
     "status": "ok",
     "timestamp": 1611589736275,
     "user": {
      "displayName": "Kiam Boon",
      "photoUrl": "https://lh3.googleusercontent.com/a-/AOh14GguWKTGJvP2a1VVYH3mkgQmM58WyxV6eg7JKfcn-yE=s64",
      "userId": "10343331633657001480"
     },
     "user_tz": -480
    },
    "id": "fCVDbzEFWvNS",
    "outputId": "dfe524b4-00b5-4948-e7d4-26a6d7b2075f"
   },
   "outputs": [
    {
     "name": "stdout",
     "output_type": "stream",
     "text": [
      "8901\n",
      "8092\n"
     ]
    }
   ],
   "source": [
    "print(len(lemma_bow_transformer.vocabulary_))\n",
    "print(len(stem_bow_transformer.vocabulary_))"
   ]
  },
  {
   "cell_type": "code",
   "execution_count": null,
   "metadata": {
    "id": "W0oIGcdoWeq6"
   },
   "outputs": [],
   "source": [
    "############"
   ]
  },
  {
   "cell_type": "code",
   "execution_count": null,
   "metadata": {
    "colab": {
     "base_uri": "https://localhost:8080/"
    },
    "executionInfo": {
     "elapsed": 15125,
     "status": "ok",
     "timestamp": 1611589736277,
     "user": {
      "displayName": "Kiam Boon",
      "photoUrl": "https://lh3.googleusercontent.com/a-/AOh14GguWKTGJvP2a1VVYH3mkgQmM58WyxV6eg7JKfcn-yE=s64",
      "userId": "10343331633657001480"
     },
     "user_tz": -480
    },
    "id": "Y48Mji_iZxWl",
    "outputId": "e684af19-8e68-42a1-a0f4-0fb55215f5c3"
   },
   "outputs": [
    {
     "name": "stdout",
     "output_type": "stream",
     "text": [
      "  (0, 3632)\t1\n",
      "  (0, 3771)\t2\n",
      "  (0, 4436)\t1\n",
      "  (0, 5267)\t1\n",
      "  (0, 8053)\t1 \n",
      "\n",
      "  (0, 3314)\t1\n",
      "  (0, 3463)\t2\n",
      "  (0, 4060)\t1\n",
      "  (0, 4822)\t1\n",
      "  (0, 7286)\t1\n"
     ]
    }
   ],
   "source": [
    "lemma_bow_test = lemma_bow_transformer.transform([df[\"msg_lemmatized\"][21]])  # must be in a list\n",
    "print(lemma_bow_test, \"\\n\")\n",
    "\n",
    "stem_bow_test = stem_bow_transformer.transform([df[\"msg_stemmed\"][21]])  # must be in a list\n",
    "print(stem_bow_test)"
   ]
  },
  {
   "cell_type": "code",
   "execution_count": null,
   "metadata": {
    "colab": {
     "base_uri": "https://localhost:8080/"
    },
    "executionInfo": {
     "elapsed": 15106,
     "status": "ok",
     "timestamp": 1611589736277,
     "user": {
      "displayName": "Kiam Boon",
      "photoUrl": "https://lh3.googleusercontent.com/a-/AOh14GguWKTGJvP2a1VVYH3mkgQmM58WyxV6eg7JKfcn-yE=s64",
      "userId": "10343331633657001480"
     },
     "user_tz": -480
    },
    "id": "g410m_huWeoS",
    "outputId": "229b4dd4-42d9-4fd2-ad15-015ae05ea29e"
   },
   "outputs": [
    {
     "name": "stdout",
     "output_type": "stream",
     "text": [
      "funk\n",
      "fujitsu\n"
     ]
    }
   ],
   "source": [
    "print(lemma_bow_transformer.get_feature_names()[3492])\n",
    "print(stem_bow_transformer.get_feature_names()[3186])"
   ]
  },
  {
   "cell_type": "code",
   "execution_count": null,
   "metadata": {
    "colab": {
     "base_uri": "https://localhost:8080/"
    },
    "executionInfo": {
     "elapsed": 15092,
     "status": "ok",
     "timestamp": 1611589736278,
     "user": {
      "displayName": "Kiam Boon",
      "photoUrl": "https://lh3.googleusercontent.com/a-/AOh14GguWKTGJvP2a1VVYH3mkgQmM58WyxV6eg7JKfcn-yE=s64",
      "userId": "10343331633657001480"
     },
     "user_tz": -480
    },
    "id": "Wxsk6-fQWelt",
    "outputId": "d538e4b1-52fd-439a-832e-bb46ad4e6492"
   },
   "outputs": [
    {
     "name": "stdout",
     "output_type": "stream",
     "text": [
      "‘ going try 2 month ha ha joking\n",
      "‘ go tri 2 month ha ha joke\n"
     ]
    }
   ],
   "source": [
    "print(df[\"msg_lemmatized\"][21])\n",
    "print(df[\"msg_stemmed\"][21])"
   ]
  },
  {
   "cell_type": "code",
   "execution_count": null,
   "metadata": {
    "id": "JimHlNiNHLqD"
   },
   "outputs": [],
   "source": [
    "##################"
   ]
  },
  {
   "cell_type": "code",
   "execution_count": null,
   "metadata": {
    "id": "WPP2cqtPWeix"
   },
   "outputs": [],
   "source": [
    "lemma_bow = lemma_bow_transformer.transform(df[\"msg_lemmatized\"])\n",
    "stem_bow = stem_bow_transformer.transform(df[\"msg_stemmed\"])"
   ]
  },
  {
   "cell_type": "code",
   "execution_count": null,
   "metadata": {
    "colab": {
     "base_uri": "https://localhost:8080/"
    },
    "executionInfo": {
     "elapsed": 15488,
     "status": "ok",
     "timestamp": 1611589736704,
     "user": {
      "displayName": "Kiam Boon",
      "photoUrl": "https://lh3.googleusercontent.com/a-/AOh14GguWKTGJvP2a1VVYH3mkgQmM58WyxV6eg7JKfcn-yE=s64",
      "userId": "10343331633657001480"
     },
     "user_tz": -480
    },
    "id": "W2BomSRgweDA",
    "outputId": "cbb870ac-8038-421b-bbdd-03a1fca73907"
   },
   "outputs": [
    {
     "name": "stdout",
     "output_type": "stream",
     "text": [
      "Shape of Sparse Matrix - Lemma: (5574, 8901)\n",
      "Shape of Sparse Matrix - Stem : (5574, 8092)\n"
     ]
    }
   ],
   "source": [
    "print(\"Shape of Sparse Matrix - Lemma:\", lemma_bow.shape)\n",
    "print(\"Shape of Sparse Matrix - Stem :\", stem_bow.shape)"
   ]
  },
  {
   "cell_type": "code",
   "execution_count": null,
   "metadata": {
    "colab": {
     "base_uri": "https://localhost:8080/"
    },
    "executionInfo": {
     "elapsed": 15468,
     "status": "ok",
     "timestamp": 1611589736704,
     "user": {
      "displayName": "Kiam Boon",
      "photoUrl": "https://lh3.googleusercontent.com/a-/AOh14GguWKTGJvP2a1VVYH3mkgQmM58WyxV6eg7JKfcn-yE=s64",
      "userId": "10343331633657001480"
     },
     "user_tz": -480
    },
    "id": "CTthrKsep5Kj",
    "outputId": "71aebec1-891a-47e9-b7b2-ee6f1a72f37d"
   },
   "outputs": [
    {
     "name": "stdout",
     "output_type": "stream",
     "text": [
      "Number of Non-Zero Occurences - Lemma: 47331\n",
      "Number of Non-Zero Occurences - Stem : 47281\n"
     ]
    }
   ],
   "source": [
    "print(\"Number of Non-Zero Occurences - Lemma:\", lemma_bow.nnz)\n",
    "print(\"Number of Non-Zero Occurences - Stem :\", stem_bow.nnz)"
   ]
  },
  {
   "cell_type": "code",
   "execution_count": null,
   "metadata": {
    "id": "xFblYcobweFY"
   },
   "outputs": [],
   "source": [
    "lemma_sparsity = (lemma_bow.nnz / (lemma_bow.shape[0] * lemma_bow.shape[1]) * 100)\n",
    "stem_sparsity = (stem_bow.nnz / (stem_bow.shape[0] * stem_bow.shape[1]) * 100)"
   ]
  },
  {
   "cell_type": "code",
   "execution_count": null,
   "metadata": {
    "colab": {
     "base_uri": "https://localhost:8080/"
    },
    "executionInfo": {
     "elapsed": 15454,
     "status": "ok",
     "timestamp": 1611589736706,
     "user": {
      "displayName": "Kiam Boon",
      "photoUrl": "https://lh3.googleusercontent.com/a-/AOh14GguWKTGJvP2a1VVYH3mkgQmM58WyxV6eg7JKfcn-yE=s64",
      "userId": "10343331633657001480"
     },
     "user_tz": -480
    },
    "id": "UabgVxxOweH6",
    "outputId": "e8483a55-66c9-404f-bcb6-478303e248d8"
   },
   "outputs": [
    {
     "name": "stdout",
     "output_type": "stream",
     "text": [
      "0.0954\n",
      "0.1048\n"
     ]
    }
   ],
   "source": [
    "print(\"{:.4f}\".format(lemma_sparsity))\n",
    "print(\"{:.4f}\".format(stem_sparsity))"
   ]
  },
  {
   "cell_type": "markdown",
   "metadata": {
    "id": "WV_7dklACfwt"
   },
   "source": [
    "## Normalizing"
   ]
  },
  {
   "cell_type": "code",
   "execution_count": null,
   "metadata": {
    "id": "5mRU9AUfweKV"
   },
   "outputs": [],
   "source": [
    "from sklearn.feature_extraction.text import TfidfTransformer\n",
    "\n",
    "lemma_tfidf_fit = TfidfTransformer().fit(lemma_bow)\n",
    "stem_tfidf_fit = TfidfTransformer().fit(stem_bow)"
   ]
  },
  {
   "cell_type": "code",
   "execution_count": null,
   "metadata": {
    "colab": {
     "base_uri": "https://localhost:8080/"
    },
    "executionInfo": {
     "elapsed": 15438,
     "status": "ok",
     "timestamp": 1611589736707,
     "user": {
      "displayName": "Kiam Boon",
      "photoUrl": "https://lh3.googleusercontent.com/a-/AOh14GguWKTGJvP2a1VVYH3mkgQmM58WyxV6eg7JKfcn-yE=s64",
      "userId": "10343331633657001480"
     },
     "user_tz": -480
    },
    "id": "HaNXtx1EeCn_",
    "outputId": "8ca62dce-6955-4c82-d054-05c94388144d"
   },
   "outputs": [
    {
     "name": "stdout",
     "output_type": "stream",
     "text": [
      "(5574, 8901)\n",
      "(5574, 8092)\n"
     ]
    }
   ],
   "source": [
    "lemma_tfidf_transform = lemma_tfidf_fit.transform(lemma_bow)\n",
    "stem_tfidf_transform = stem_tfidf_fit.transform(stem_bow)\n",
    "\n",
    "\n",
    "print(lemma_tfidf_transform.shape)\n",
    "print(stem_tfidf_transform.shape)"
   ]
  },
  {
   "cell_type": "markdown",
   "metadata": {
    "id": "4GHdszbrcsIG"
   },
   "source": [
    "# Naïve Bayes Model"
   ]
  },
  {
   "cell_type": "markdown",
   "metadata": {
    "id": "kYeXNIGRbytE"
   },
   "source": [
    "## Predicting without splitting into train set and test set"
   ]
  },
  {
   "cell_type": "code",
   "execution_count": null,
   "metadata": {
    "id": "6TGVzjZxpg_r"
   },
   "outputs": [],
   "source": [
    "from sklearn.naive_bayes import MultinomialNB\n",
    "\n",
    "lemma_nb = MultinomialNB().fit(lemma_tfidf_transform, df[\"label\"])\n",
    "stem_nb = MultinomialNB().fit(stem_tfidf_transform, df[\"label\"])"
   ]
  },
  {
   "cell_type": "code",
   "execution_count": null,
   "metadata": {
    "id": "gF5CexfcweRQ"
   },
   "outputs": [],
   "source": [
    "lemma_pred = lemma_nb.predict(lemma_tfidf_transform)\n",
    "stem_pred = stem_nb.predict(stem_tfidf_transform)"
   ]
  },
  {
   "cell_type": "code",
   "execution_count": null,
   "metadata": {
    "colab": {
     "base_uri": "https://localhost:8080/"
    },
    "executionInfo": {
     "elapsed": 15838,
     "status": "ok",
     "timestamp": 1611589737127,
     "user": {
      "displayName": "Kiam Boon",
      "photoUrl": "https://lh3.googleusercontent.com/a-/AOh14GguWKTGJvP2a1VVYH3mkgQmM58WyxV6eg7JKfcn-yE=s64",
      "userId": "10343331633657001480"
     },
     "user_tz": -480
    },
    "id": "tkuqmbO7-oT1",
    "outputId": "aaa1456e-a9d6-4f31-e37f-c1edaffa59ba"
   },
   "outputs": [
    {
     "name": "stdout",
     "output_type": "stream",
     "text": [
      "[[4827  116]\n",
      " [   0  631]]\n",
      "              precision    recall  f1-score   support\n",
      "\n",
      "         ham       1.00      0.98      0.99      4943\n",
      "        spam       0.84      1.00      0.92       631\n",
      "\n",
      "    accuracy                           0.98      5574\n",
      "   macro avg       0.92      0.99      0.95      5574\n",
      "weighted avg       0.98      0.98      0.98      5574\n",
      "\n",
      "[[4827  115]\n",
      " [   0  632]]\n",
      "              precision    recall  f1-score   support\n",
      "\n",
      "         ham       1.00      0.98      0.99      4942\n",
      "        spam       0.85      1.00      0.92       632\n",
      "\n",
      "    accuracy                           0.98      5574\n",
      "   macro avg       0.92      0.99      0.95      5574\n",
      "weighted avg       0.98      0.98      0.98      5574\n",
      "\n"
     ]
    }
   ],
   "source": [
    "from sklearn.metrics import classification_report, confusion_matrix\n",
    "\n",
    "print(confusion_matrix(lemma_pred, df[\"label\"]))\n",
    "print(classification_report(lemma_pred, df[\"label\"]))\n",
    "print(confusion_matrix(stem_pred, df[\"label\"]))\n",
    "print(classification_report(stem_pred, df[\"label\"]))"
   ]
  },
  {
   "cell_type": "markdown",
   "metadata": {
    "id": "_n6F8e0Fb-dK"
   },
   "source": [
    "## Predicting with splitting into train set and test set as well as building a pipeline"
   ]
  },
  {
   "cell_type": "code",
   "execution_count": null,
   "metadata": {
    "id": "rAKVeeL-TpIX"
   },
   "outputs": [],
   "source": [
    "from sklearn.model_selection import train_test_split\n",
    "\n",
    "# Lemma\n",
    "X_train_l, X_test_l, y_train_l, y_test_l = train_test_split(df[\"msg_lemmatized\"], df[\"label\"], test_size = 0.3,\n",
    "                                                    random_state = 88)\n",
    "# Stem\n",
    "X_train_s, X_test_s, y_train_s, y_test_s = train_test_split(df[\"msg_stemmed\"], df[\"label\"], test_size = 0.3,\n",
    "                                                    random_state = 88)\n",
    "# Original\n",
    "X_train_o, X_test_o, y_train_o, y_test_o = train_test_split(df[\"msg\"], df[\"label\"], test_size = 0.3,\n",
    "                                                    random_state = 88)"
   ]
  },
  {
   "cell_type": "code",
   "execution_count": null,
   "metadata": {
    "id": "DxMvpx95RZYW"
   },
   "outputs": [],
   "source": [
    "from sklearn.pipeline import Pipeline\n",
    "# Creating Pipelines\n",
    "\n",
    "# Lemma\n",
    "pipe_nb_l = Pipeline([\n",
    "                    (\"bow\", CountVectorizer()),\n",
    "                    (\"tfidf\", TfidfTransformer()),\n",
    "                    (\"clf_nb\", MultinomialNB())\n",
    "                    ])\n",
    "# Stem\n",
    "pipe_nb_s = Pipeline([\n",
    "                    (\"bow\", CountVectorizer()),\n",
    "                    (\"tfidf\", TfidfTransformer()),\n",
    "                    (\"clf_nb\", MultinomialNB())\n",
    "                    ])\n",
    "# Original\n",
    "pipe_nb_o = Pipeline([\n",
    "                    (\"bow\", CountVectorizer()),\n",
    "                    (\"tfidf\", TfidfTransformer()),\n",
    "                    (\"clf_nb\", MultinomialNB())\n",
    "                    ])"
   ]
  },
  {
   "cell_type": "code",
   "execution_count": null,
   "metadata": {
    "colab": {
     "base_uri": "https://localhost:8080/"
    },
    "executionInfo": {
     "elapsed": 16420,
     "status": "ok",
     "timestamp": 1611589737728,
     "user": {
      "displayName": "Kiam Boon",
      "photoUrl": "https://lh3.googleusercontent.com/a-/AOh14GguWKTGJvP2a1VVYH3mkgQmM58WyxV6eg7JKfcn-yE=s64",
      "userId": "10343331633657001480"
     },
     "user_tz": -480
    },
    "id": "MYb__4IdRZL0",
    "outputId": "71de3d36-037f-45dc-98e6-b1b74bd65e1d"
   },
   "outputs": [
    {
     "name": "stdout",
     "output_type": "stream",
     "text": [
      "Results: \n",
      "\n",
      " ************** Lemma ***************\n",
      "Prediction Score : 0.958756724447101\n",
      "Accuracy Score   : 0.958756724447101\n",
      "\n",
      " *************** Stem ***************\n",
      "Prediction Score : 0.9563658099222953\n",
      "Accuracy Score   : 0.9563658099222953\n",
      "\n",
      " ************ Original ************\n",
      "Prediction Score : 0.9503885236102809\n",
      "Accuracy Score   : 0.9503885236102809\n"
     ]
    }
   ],
   "source": [
    "from sklearn.metrics import accuracy_score\n",
    "\n",
    "# Lemma\n",
    "print(\"Results:\", \"\\n\" * 2, \"*\" * 14, \"Lemma\", \"*\" * 15)\n",
    "pipe_nb_l.fit(X_train_l, y_train_l)\n",
    "pred_nb_l = pipe_nb_l.predict(X_test_l)\n",
    "acc_nb_l = accuracy_score(y_test_l, pred_nb_l)\n",
    "\n",
    "print(\"Prediction Score :\", acc_nb_l)\n",
    "print(\"Accuracy Score   :\", pipe_nb_l.score(X_test_l, y_test_l))\n",
    "\n",
    "\n",
    "# Stem\n",
    "print(\"\\n\", \"*\" * 15, \"Stem\", \"*\" * 15)\n",
    "pipe_nb_s.fit(X_train_s, y_train_s)\n",
    "pred_nb_s = pipe_nb_s.predict(X_test_s)\n",
    "acc_nb_s = accuracy_score(y_test_s, pred_nb_s)\n",
    "\n",
    "print(\"Prediction Score :\", acc_nb_s)\n",
    "print(\"Accuracy Score   :\", pipe_nb_s.score(X_test_s, y_test_s))\n",
    "\n",
    "\n",
    "# Original Message\n",
    "print(\"\\n\", \"*\" * 12, \"Original\", \"*\" * 12)\n",
    "pipe_nb_o.fit(X_train_o, y_train_o)\n",
    "pred_nb_o = pipe_nb_o.predict(X_test_o)\n",
    "acc_nb_o = accuracy_score(y_test_o, pred_nb_o)\n",
    "\n",
    "print(\"Prediction Score :\", acc_nb_o)\n",
    "print(\"Accuracy Score   :\", pipe_nb_o.score(X_test_o, y_test_o))"
   ]
  },
  {
   "cell_type": "markdown",
   "metadata": {
    "id": "VJklZ01bemHi"
   },
   "source": [
    "# TensorFlow"
   ]
  },
  {
   "cell_type": "code",
   "execution_count": null,
   "metadata": {
    "id": "eKblzPdre1P1"
   },
   "outputs": [],
   "source": [
    "# Map the labels as 0 and 1\n",
    "\n",
    "df[\"label_encoded\"] = df['label'].map({'ham': 0, 'spam': 1})"
   ]
  },
  {
   "cell_type": "code",
   "execution_count": null,
   "metadata": {
    "id": "XMwbyWxg3aPx"
   },
   "outputs": [],
   "source": [
    "from sklearn.model_selection import train_test_split\n",
    "\n",
    "# Lemma\n",
    "X_train_l, X_test_l, y_train_l, y_test_l = train_test_split(df[\"msg_lemmatized\"],\n",
    "                                                            df[\"label_encoded\"].values,\n",
    "                                                            test_size = 0.2, random_state = 88)\n",
    "# Stem\n",
    "X_train_s, X_test_s, y_train_s, y_test_s = train_test_split(df[\"msg_stemmed\"],\n",
    "                                                            df[\"label_encoded\"].values,\n",
    "                                                            test_size = 0.2, random_state = 88)\n",
    "# Original\n",
    "X_train_o, X_test_o, y_train_o, y_test_o = train_test_split(df[\"msg\"], df[\"label_encoded\"].values,\n",
    "                                                            test_size = 0.2, random_state = 88)"
   ]
  },
  {
   "cell_type": "markdown",
   "metadata": {
    "id": "plE5ZSECf5TI"
   },
   "source": [
    "## Defining the parameters\n",
    "* This allows us to quickly adjust the parameters here without changing in cells by cells."
   ]
  },
  {
   "cell_type": "code",
   "execution_count": null,
   "metadata": {
    "id": "phR7gDB2_gpj"
   },
   "outputs": [],
   "source": [
    "max_length = 50\n",
    "trunc_type = \"post\"\n",
    "pad_type = \"post\"\n",
    "oov_token = \"<OOV>\"\n",
    "vocab_size = 500"
   ]
  },
  {
   "cell_type": "code",
   "execution_count": null,
   "metadata": {
    "id": "wMJo9Xat5pDJ"
   },
   "outputs": [],
   "source": [
    "from tensorflow.keras.preprocessing.text import Tokenizer\n",
    "\n",
    "tokenizer_l = Tokenizer(num_words = vocab_size, char_level = False, oov_token = oov_token)\n",
    "tokenizer_s = Tokenizer(num_words = vocab_size, char_level = False, oov_token = oov_token)\n",
    "tokenizer_o = Tokenizer(num_words = vocab_size, char_level = False, oov_token = oov_token)\n",
    "\n",
    "tokenizer_l.fit_on_texts(X_train_l)\n",
    "tokenizer_s.fit_on_texts(X_train_s)\n",
    "tokenizer_o.fit_on_texts(X_train_o)"
   ]
  },
  {
   "cell_type": "code",
   "execution_count": null,
   "metadata": {
    "id": "WJ-3_WuQ6B6j"
   },
   "outputs": [],
   "source": [
    "##"
   ]
  },
  {
   "cell_type": "code",
   "execution_count": null,
   "metadata": {
    "colab": {
     "base_uri": "https://localhost:8080/"
    },
    "executionInfo": {
     "elapsed": 16830,
     "status": "ok",
     "timestamp": 1611589738165,
     "user": {
      "displayName": "Kiam Boon",
      "photoUrl": "https://lh3.googleusercontent.com/a-/AOh14GguWKTGJvP2a1VVYH3mkgQmM58WyxV6eg7JKfcn-yE=s64",
      "userId": "10343331633657001480"
     },
     "user_tz": -480
    },
    "id": "Ah9kEsdE5o_q",
    "outputId": "0f6870c2-4fbf-43a5-d60c-c21183aa2661"
   },
   "outputs": [
    {
     "name": "stdout",
     "output_type": "stream",
     "text": [
      "[Lemma] 7875 unique tokens:-\n",
      "{'<OOV>': 1, 'u': 2, 'call': 3, '2': 4, 'im': 5, 'get': 6, 'ur': 7, 'go': 8, '4': 9, 'free': 10} \n",
      "\n",
      "[Stem] 7188 unique tokens:-\n",
      "{'<OOV>': 1, 'u': 2, 'call': 3, '2': 4, 'go': 5, 'im': 6, 'get': 7, 'ur': 8, 'come': 9, '4': 10} \n",
      "\n",
      "[Original] 7952 unique tokens:-\n",
      "{'<OOV>': 1, 'i': 2, 'to': 3, 'you': 4, 'a': 5, 'the': 6, 'u': 7, 'and': 8, 'in': 9, 'is': 10}\n"
     ]
    }
   ],
   "source": [
    "word_index_l = tokenizer_l.word_index\n",
    "word_index_s = tokenizer_s.word_index\n",
    "word_index_o = tokenizer_o.word_index\n",
    "\n",
    "# Lemma\n",
    "print(\"[Lemma]\", len(word_index_l), \"unique tokens:-\")\n",
    "print({p: word_index_l[p] for p in list(word_index_l)[:10]}, \"\\n\")\n",
    "\n",
    "# Stem\n",
    "print(\"[Stem]\", len(word_index_s), \"unique tokens:-\")\n",
    "print({p: word_index_s[p] for p in list(word_index_s)[:10]}, \"\\n\")\n",
    "\n",
    "# Original\n",
    "print(\"[Original]\", len(word_index_o), \"unique tokens:-\")\n",
    "print({p: word_index_o[p] for p in list(word_index_o)[:10]})"
   ]
  },
  {
   "cell_type": "markdown",
   "metadata": {
    "id": "cirm3P7r41Ns"
   },
   "source": [
    "## Sequencing and Padding"
   ]
  },
  {
   "cell_type": "code",
   "execution_count": null,
   "metadata": {
    "id": "k-5_5s243aLg"
   },
   "outputs": [],
   "source": [
    "from tensorflow.keras.preprocessing.sequence import pad_sequences\n",
    "\n",
    "# Lemma\n",
    "training_sequences_l = tokenizer_l.texts_to_sequences(X_train_l)\n",
    "training_padded_l = pad_sequences(training_sequences_l, maxlen = max_length, padding = pad_type, truncating = trunc_type)\n",
    "\n",
    "testing_sequences_l = tokenizer_l.texts_to_sequences(X_test_l)\n",
    "testing_padded_l = pad_sequences(testing_sequences_l, maxlen = max_length, padding = pad_type, truncating = trunc_type)\n",
    "\n",
    "\n",
    "# Stem\n",
    "training_sequences_s = tokenizer_s.texts_to_sequences(X_train_s)\n",
    "training_padded_s = pad_sequences(training_sequences_s, maxlen = max_length, padding = pad_type, truncating = trunc_type)\n",
    "\n",
    "testing_sequences_s = tokenizer_s.texts_to_sequences(X_test_s)\n",
    "testing_padded_s = pad_sequences(testing_sequences_s, maxlen = max_length, padding = pad_type, truncating = trunc_type)\n",
    "\n",
    "\n",
    "# Original\n",
    "training_sequences_o = tokenizer_o.texts_to_sequences(X_train_o)\n",
    "training_padded_o = pad_sequences(training_sequences_l, maxlen = max_length, padding = pad_type, truncating = trunc_type)\n",
    "\n",
    "testing_sequences_o = tokenizer_o.texts_to_sequences(X_test_o)\n",
    "testing_padded_o = pad_sequences(testing_sequences_o, maxlen = max_length, padding = pad_type, truncating = trunc_type)\n"
   ]
  },
  {
   "cell_type": "code",
   "execution_count": null,
   "metadata": {
    "colab": {
     "base_uri": "https://localhost:8080/"
    },
    "executionInfo": {
     "elapsed": 17231,
     "status": "ok",
     "timestamp": 1611589738582,
     "user": {
      "displayName": "Kiam Boon",
      "photoUrl": "https://lh3.googleusercontent.com/a-/AOh14GguWKTGJvP2a1VVYH3mkgQmM58WyxV6eg7JKfcn-yE=s64",
      "userId": "10343331633657001480"
     },
     "user_tz": -480
    },
    "id": "KtaYbKNf3aIh",
    "outputId": "621bf955-dd96-40bc-eca4-b19f95b69218"
   },
   "outputs": [
    {
     "name": "stdout",
     "output_type": "stream",
     "text": [
      "Shape of training tensor: (4459, 50)\n",
      "Shape of testing tensor: (1115, 50) \n",
      "\n",
      "Shape of training tensor: (4459, 50)\n",
      "Shape of testing tensor: (1115, 50) \n",
      "\n",
      "Shape of training tensor: (4459, 50)\n",
      "Shape of testing tensor: (1115, 50)\n"
     ]
    }
   ],
   "source": [
    "# Lemma\n",
    "print(\"Shape of training tensor:\", training_padded_l.shape)\n",
    "print(\"Shape of testing tensor:\", testing_padded_l.shape, \"\\n\")\n",
    "\n",
    "# Stem\n",
    "print(\"Shape of training tensor:\", training_padded_s.shape)\n",
    "print(\"Shape of testing tensor:\", testing_padded_s.shape, \"\\n\")\n",
    "\n",
    "# Original\n",
    "print(\"Shape of training tensor:\", training_padded_o.shape)\n",
    "print(\"Shape of testing tensor:\", testing_padded_o.shape)"
   ]
  },
  {
   "cell_type": "code",
   "execution_count": null,
   "metadata": {
    "colab": {
     "base_uri": "https://localhost:8080/"
    },
    "executionInfo": {
     "elapsed": 17218,
     "status": "ok",
     "timestamp": 1611589738583,
     "user": {
      "displayName": "Kiam Boon",
      "photoUrl": "https://lh3.googleusercontent.com/a-/AOh14GguWKTGJvP2a1VVYH3mkgQmM58WyxV6eg7JKfcn-yE=s64",
      "userId": "10343331633657001480"
     },
     "user_tz": -480
    },
    "id": "wNWNsTxb3aFS",
    "outputId": "88027a00-4c55-4100-d1c8-b3bb59ba5fe1"
   },
   "outputs": [
    {
     "name": "stdout",
     "output_type": "stream",
     "text": [
      "17 20\n",
      "50 50 \n",
      "\n",
      "17 20\n",
      "50 50 \n",
      "\n",
      "28 24\n",
      "50 50\n"
     ]
    }
   ],
   "source": [
    "# Lemma\n",
    "# Before padding\n",
    "print(len(training_sequences_l[0]), len(training_sequences_l[1]))\n",
    "\n",
    "# After padding\n",
    "print(len(training_padded_l[0]), len(training_padded_l[1]), \"\\n\")\n",
    "\n",
    "# Stem\n",
    "# Before padding\n",
    "print(len(training_sequences_s[0]), len(training_sequences_s[1]))\n",
    "\n",
    "# After padding\n",
    "print(len(training_padded_s[0]), len(training_padded_s[1]), \"\\n\")\n",
    "\n",
    "# Original\n",
    "# Before padding\n",
    "print(len(training_sequences_o[0]), len(training_sequences_o[1]))\n",
    "\n",
    "# After padding\n",
    "print(len(training_padded_o[0]), len(training_padded_o[1]))"
   ]
  },
  {
   "cell_type": "code",
   "execution_count": null,
   "metadata": {
    "colab": {
     "base_uri": "https://localhost:8080/"
    },
    "executionInfo": {
     "elapsed": 17206,
     "status": "ok",
     "timestamp": 1611589738584,
     "user": {
      "displayName": "Kiam Boon",
      "photoUrl": "https://lh3.googleusercontent.com/a-/AOh14GguWKTGJvP2a1VVYH3mkgQmM58WyxV6eg7JKfcn-yE=s64",
      "userId": "10343331633657001480"
     },
     "user_tz": -480
    },
    "id": "UJtrKIYL9IRI",
    "outputId": "3a4bb6bf-1989-4e05-ee38-b7ae42372ca4"
   },
   "outputs": [
    {
     "name": "stdout",
     "output_type": "stream",
     "text": [
      "[  1   1  46   1 205   2   1  74  62   3   1   1   1 223   1 198 244   0\n",
      "   0   0   0   0   0   0   0   0   0   0   0   0   0   0   0   0   0   0\n",
      "   0   0   0   0   0   0   0   0   0   0   0   0   0   0] \n",
      "\n",
      "[  1   1  46   1 205   2   1  74  62   3   1   1   1 223   1 198 244   0\n",
      "   0   0   0   0   0   0   0   0   0   0   0   0   0   0   0   0   0   0\n",
      "   0   0   0   0   0   0   0   0   0   0   0   0   0   0] \n",
      "\n",
      "[  1   1  48   1 213   2   1  79  70   3   1   1   1 235   1 209 261   0\n",
      "   0   0   0   0   0   0   0   0   0   0   0   0   0   0   0   0   0   0\n",
      "   0   0   0   0   0   0   0   0   0   0   0   0   0   0]\n"
     ]
    }
   ],
   "source": [
    "# Lemma\n",
    "print(training_padded_l[0], \"\\n\")\n",
    "\n",
    "# Stem\n",
    "print(training_padded_o[0], \"\\n\")\n",
    "\n",
    "# Original\n",
    "print(training_padded_s[0])"
   ]
  },
  {
   "cell_type": "markdown",
   "metadata": {
    "id": "YgAF9TewlP3d"
   },
   "source": [
    "## Defining additional parameters"
   ]
  },
  {
   "cell_type": "code",
   "execution_count": null,
   "metadata": {
    "id": "724tmkIN_r69"
   },
   "outputs": [],
   "source": [
    "embeding_dim = 16\n",
    "drop_val = 0.2\n",
    "n_dense = 24"
   ]
  },
  {
   "cell_type": "markdown",
   "metadata": {
    "id": "YeOnxeaDUdFj"
   },
   "source": [
    "## Building dense model and adding dropout"
   ]
  },
  {
   "cell_type": "code",
   "execution_count": null,
   "metadata": {
    "colab": {
     "base_uri": "https://localhost:8080/"
    },
    "executionInfo": {
     "elapsed": 17192,
     "status": "ok",
     "timestamp": 1611589738587,
     "user": {
      "displayName": "Kiam Boon",
      "photoUrl": "https://lh3.googleusercontent.com/a-/AOh14GguWKTGJvP2a1VVYH3mkgQmM58WyxV6eg7JKfcn-yE=s64",
      "userId": "10343331633657001480"
     },
     "user_tz": -480
    },
    "id": "s_QtVGN99ybu",
    "outputId": "078df575-699b-4a2b-fe40-f6955df37c2e"
   },
   "outputs": [
    {
     "name": "stdout",
     "output_type": "stream",
     "text": [
      "Model: \"sequential_3\"\n",
      "_________________________________________________________________\n",
      "Layer (type)                 Output Shape              Param #   \n",
      "=================================================================\n",
      "embedding_3 (Embedding)      (None, 50, 16)            8000      \n",
      "_________________________________________________________________\n",
      "global_average_pooling1d_3 ( (None, 16)                0         \n",
      "_________________________________________________________________\n",
      "dense_6 (Dense)              (None, 24)                408       \n",
      "_________________________________________________________________\n",
      "dropout_3 (Dropout)          (None, 24)                0         \n",
      "_________________________________________________________________\n",
      "dense_7 (Dense)              (None, 1)                 25        \n",
      "=================================================================\n",
      "Total params: 8,433\n",
      "Trainable params: 8,433\n",
      "Non-trainable params: 0\n",
      "_________________________________________________________________\n",
      "None\n",
      "Model: \"sequential_4\"\n",
      "_________________________________________________________________\n",
      "Layer (type)                 Output Shape              Param #   \n",
      "=================================================================\n",
      "embedding_4 (Embedding)      (None, 50, 16)            8000      \n",
      "_________________________________________________________________\n",
      "global_average_pooling1d_4 ( (None, 16)                0         \n",
      "_________________________________________________________________\n",
      "dense_8 (Dense)              (None, 24)                408       \n",
      "_________________________________________________________________\n",
      "dropout_4 (Dropout)          (None, 24)                0         \n",
      "_________________________________________________________________\n",
      "dense_9 (Dense)              (None, 1)                 25        \n",
      "=================================================================\n",
      "Total params: 8,433\n",
      "Trainable params: 8,433\n",
      "Non-trainable params: 0\n",
      "_________________________________________________________________\n",
      "None\n",
      "Model: \"sequential_5\"\n",
      "_________________________________________________________________\n",
      "Layer (type)                 Output Shape              Param #   \n",
      "=================================================================\n",
      "embedding_5 (Embedding)      (None, 50, 16)            8000      \n",
      "_________________________________________________________________\n",
      "global_average_pooling1d_5 ( (None, 16)                0         \n",
      "_________________________________________________________________\n",
      "dense_10 (Dense)             (None, 24)                408       \n",
      "_________________________________________________________________\n",
      "dropout_5 (Dropout)          (None, 24)                0         \n",
      "_________________________________________________________________\n",
      "dense_11 (Dense)             (None, 1)                 25        \n",
      "=================================================================\n",
      "Total params: 8,433\n",
      "Trainable params: 8,433\n",
      "Non-trainable params: 0\n",
      "_________________________________________________________________\n",
      "None\n"
     ]
    }
   ],
   "source": [
    "# Dense model architecture\n",
    "\n",
    "from tensorflow.keras.models import Sequential\n",
    "from tensorflow.keras.layers import Embedding, GlobalAveragePooling1D, Dense, Dropout, LSTM, Bidirectional\n",
    "\n",
    "# Lemma\n",
    "model_l = Sequential()\n",
    "model_l.add(Embedding(vocab_size, embeding_dim, input_length = max_length))\n",
    "model_l.add(GlobalAveragePooling1D())\n",
    "model_l.add(Dense(n_dense, activation = \"relu\"))\n",
    "model_l.add(Dropout(drop_val))\n",
    "model_l.add(Dense(1, activation = \"sigmoid\"))\n",
    "\n",
    "print(model_l.summary())\n",
    "\n",
    "# Stem\n",
    "model_s = Sequential()\n",
    "model_s.add(Embedding(vocab_size, embeding_dim, input_length = max_length))\n",
    "model_s.add(GlobalAveragePooling1D())\n",
    "model_s.add(Dense(n_dense, activation = \"relu\"))\n",
    "model_s.add(Dropout(drop_val))\n",
    "model_s.add(Dense(1, activation = \"sigmoid\"))\n",
    "\n",
    "print(model_s.summary())\n",
    "\n",
    "# Original\n",
    "model_o = Sequential()\n",
    "model_o.add(Embedding(vocab_size, embeding_dim, input_length = max_length))\n",
    "model_o.add(GlobalAveragePooling1D())\n",
    "model_o.add(Dense(n_dense, activation = \"relu\"))\n",
    "model_o.add(Dropout(drop_val))\n",
    "model_o.add(Dense(1, activation = \"sigmoid\"))\n",
    "\n",
    "print(model_o.summary())"
   ]
  },
  {
   "cell_type": "markdown",
   "metadata": {
    "id": "GCme82KGUkAv"
   },
   "source": [
    "## Compiling the Model"
   ]
  },
  {
   "cell_type": "code",
   "execution_count": null,
   "metadata": {
    "id": "Qg95WPpb9yXq"
   },
   "outputs": [],
   "source": [
    "model_l.compile(loss = \"binary_crossentropy\", optimizer = \"adam\", metrics = [\"accuracy\"])\n",
    "model_s.compile(loss = \"binary_crossentropy\", optimizer = \"adam\", metrics = [\"accuracy\"])\n",
    "model_o.compile(loss = \"binary_crossentropy\", optimizer = \"adam\", metrics = [\"accuracy\"])"
   ]
  },
  {
   "cell_type": "markdown",
   "metadata": {
    "id": "MMhq12_CUpqB"
   },
   "source": [
    "## Fitting a dense spam detector model"
   ]
  },
  {
   "cell_type": "code",
   "execution_count": null,
   "metadata": {
    "id": "ZcXxJyzU9yUD"
   },
   "outputs": [],
   "source": [
    "\n",
    "from tensorflow.keras.callbacks import EarlyStopping\n",
    "\n",
    "num_epochs = 30\n",
    "early_stop = EarlyStopping(monitor = \"val_loss\", patience = 3)"
   ]
  },
  {
   "cell_type": "markdown",
   "metadata": {
    "id": "jGIdvaSHUs73"
   },
   "source": [
    "# Training the model - For \"msg_lemmatized\""
   ]
  },
  {
   "cell_type": "code",
   "execution_count": null,
   "metadata": {
    "colab": {
     "base_uri": "https://localhost:8080/"
    },
    "executionInfo": {
     "elapsed": 22766,
     "status": "ok",
     "timestamp": 1611589744179,
     "user": {
      "displayName": "Kiam Boon",
      "photoUrl": "https://lh3.googleusercontent.com/a-/AOh14GguWKTGJvP2a1VVYH3mkgQmM58WyxV6eg7JKfcn-yE=s64",
      "userId": "10343331633657001480"
     },
     "user_tz": -480
    },
    "id": "kZWVPj8EpQZn",
    "outputId": "78c5a30e-c561-400c-a0d2-e9e99ae8ac6f"
   },
   "outputs": [
    {
     "name": "stdout",
     "output_type": "stream",
     "text": [
      "Epoch 1/30\n",
      "140/140 - 1s - loss: 0.5190 - accuracy: 0.8515 - val_loss: 0.3753 - val_accuracy: 0.8592\n",
      "Epoch 2/30\n",
      "140/140 - 1s - loss: 0.3394 - accuracy: 0.8677 - val_loss: 0.3254 - val_accuracy: 0.8592\n",
      "Epoch 3/30\n",
      "140/140 - 0s - loss: 0.2813 - accuracy: 0.8690 - val_loss: 0.2602 - val_accuracy: 0.8673\n",
      "Epoch 4/30\n",
      "140/140 - 0s - loss: 0.2131 - accuracy: 0.8993 - val_loss: 0.2101 - val_accuracy: 0.9184\n",
      "Epoch 5/30\n",
      "140/140 - 0s - loss: 0.1754 - accuracy: 0.9316 - val_loss: 0.1770 - val_accuracy: 0.9372\n",
      "Epoch 6/30\n",
      "140/140 - 0s - loss: 0.1486 - accuracy: 0.9489 - val_loss: 0.1475 - val_accuracy: 0.9516\n",
      "Epoch 7/30\n",
      "140/140 - 0s - loss: 0.1208 - accuracy: 0.9596 - val_loss: 0.1208 - val_accuracy: 0.9587\n",
      "Epoch 8/30\n",
      "140/140 - 0s - loss: 0.1021 - accuracy: 0.9666 - val_loss: 0.1055 - val_accuracy: 0.9668\n",
      "Epoch 9/30\n",
      "140/140 - 0s - loss: 0.0840 - accuracy: 0.9708 - val_loss: 0.0908 - val_accuracy: 0.9722\n",
      "Epoch 10/30\n",
      "140/140 - 0s - loss: 0.0751 - accuracy: 0.9762 - val_loss: 0.0840 - val_accuracy: 0.9731\n",
      "Epoch 11/30\n",
      "140/140 - 0s - loss: 0.0673 - accuracy: 0.9794 - val_loss: 0.0933 - val_accuracy: 0.9659\n",
      "Epoch 12/30\n",
      "140/140 - 0s - loss: 0.0635 - accuracy: 0.9796 - val_loss: 0.0858 - val_accuracy: 0.9695\n",
      "Epoch 13/30\n",
      "140/140 - 0s - loss: 0.0583 - accuracy: 0.9823 - val_loss: 0.0770 - val_accuracy: 0.9731\n",
      "Epoch 14/30\n",
      "140/140 - 0s - loss: 0.0536 - accuracy: 0.9847 - val_loss: 0.0779 - val_accuracy: 0.9740\n",
      "Epoch 15/30\n",
      "140/140 - 0s - loss: 0.0519 - accuracy: 0.9841 - val_loss: 0.0724 - val_accuracy: 0.9785\n",
      "Epoch 16/30\n",
      "140/140 - 0s - loss: 0.0507 - accuracy: 0.9834 - val_loss: 0.0710 - val_accuracy: 0.9776\n",
      "Epoch 17/30\n",
      "140/140 - 0s - loss: 0.0468 - accuracy: 0.9856 - val_loss: 0.0907 - val_accuracy: 0.9704\n",
      "Epoch 18/30\n",
      "140/140 - 0s - loss: 0.0462 - accuracy: 0.9854 - val_loss: 0.0738 - val_accuracy: 0.9776\n",
      "Epoch 19/30\n",
      "140/140 - 0s - loss: 0.0421 - accuracy: 0.9868 - val_loss: 0.0744 - val_accuracy: 0.9776\n"
     ]
    }
   ],
   "source": [
    "history_l = model_l.fit(training_padded_l, y_train_l, epochs = num_epochs,\n",
    "            validation_data = (testing_padded_l, y_test_l), callbacks = [early_stop], verbose = 2)"
   ]
  },
  {
   "cell_type": "markdown",
   "metadata": {
    "id": "dfyGQRvbVNzI"
   },
   "source": [
    "## Creating a DataFrame for the losses and accuracies"
   ]
  },
  {
   "cell_type": "code",
   "execution_count": null,
   "metadata": {
    "colab": {
     "base_uri": "https://localhost:8080/",
     "height": 195
    },
    "executionInfo": {
     "elapsed": 22756,
     "status": "ok",
     "timestamp": 1611589744186,
     "user": {
      "displayName": "Kiam Boon",
      "photoUrl": "https://lh3.googleusercontent.com/a-/AOh14GguWKTGJvP2a1VVYH3mkgQmM58WyxV6eg7JKfcn-yE=s64",
      "userId": "10343331633657001480"
     },
     "user_tz": -480
    },
    "id": "9ns3IOrsSESc",
    "outputId": "7b4339d3-a87a-48ed-f625-a4d7883dec87"
   },
   "outputs": [
    {
     "data": {
      "text/html": [
       "<div>\n",
       "<style scoped>\n",
       "    .dataframe tbody tr th:only-of-type {\n",
       "        vertical-align: middle;\n",
       "    }\n",
       "\n",
       "    .dataframe tbody tr th {\n",
       "        vertical-align: top;\n",
       "    }\n",
       "\n",
       "    .dataframe thead th {\n",
       "        text-align: right;\n",
       "    }\n",
       "</style>\n",
       "<table border=\"1\" class=\"dataframe\">\n",
       "  <thead>\n",
       "    <tr style=\"text-align: right;\">\n",
       "      <th></th>\n",
       "      <th>loss</th>\n",
       "      <th>accuracy</th>\n",
       "      <th>val_loss</th>\n",
       "      <th>val_accuracy</th>\n",
       "    </tr>\n",
       "  </thead>\n",
       "  <tbody>\n",
       "    <tr>\n",
       "      <th>0</th>\n",
       "      <td>0.518975</td>\n",
       "      <td>0.851536</td>\n",
       "      <td>0.375343</td>\n",
       "      <td>0.859193</td>\n",
       "    </tr>\n",
       "    <tr>\n",
       "      <th>1</th>\n",
       "      <td>0.339444</td>\n",
       "      <td>0.867683</td>\n",
       "      <td>0.325442</td>\n",
       "      <td>0.859193</td>\n",
       "    </tr>\n",
       "    <tr>\n",
       "      <th>2</th>\n",
       "      <td>0.281283</td>\n",
       "      <td>0.869029</td>\n",
       "      <td>0.260185</td>\n",
       "      <td>0.867265</td>\n",
       "    </tr>\n",
       "    <tr>\n",
       "      <th>3</th>\n",
       "      <td>0.213101</td>\n",
       "      <td>0.899305</td>\n",
       "      <td>0.210142</td>\n",
       "      <td>0.918386</td>\n",
       "    </tr>\n",
       "    <tr>\n",
       "      <th>4</th>\n",
       "      <td>0.175362</td>\n",
       "      <td>0.931599</td>\n",
       "      <td>0.176975</td>\n",
       "      <td>0.937220</td>\n",
       "    </tr>\n",
       "  </tbody>\n",
       "</table>\n",
       "</div>"
      ],
      "text/plain": [
       "       loss  accuracy  val_loss  val_accuracy\n",
       "0  0.518975  0.851536  0.375343      0.859193\n",
       "1  0.339444  0.867683  0.325442      0.859193\n",
       "2  0.281283  0.869029  0.260185      0.867265\n",
       "3  0.213101  0.899305  0.210142      0.918386\n",
       "4  0.175362  0.931599  0.176975      0.937220"
      ]
     },
     "execution_count": 245,
     "metadata": {
      "tags": []
     },
     "output_type": "execute_result"
    }
   ],
   "source": [
    "loss_df_l = pd.DataFrame(model_l.history.history)\n",
    "loss_df_l.head()"
   ]
  },
  {
   "cell_type": "markdown",
   "metadata": {
    "id": "hK0vjyqcVaQs"
   },
   "source": [
    "## Visualizing between two Losses"
   ]
  },
  {
   "cell_type": "code",
   "execution_count": null,
   "metadata": {
    "colab": {
     "base_uri": "https://localhost:8080/",
     "height": 295
    },
    "executionInfo": {
     "elapsed": 23205,
     "status": "ok",
     "timestamp": 1611589744652,
     "user": {
      "displayName": "Kiam Boon",
      "photoUrl": "https://lh3.googleusercontent.com/a-/AOh14GguWKTGJvP2a1VVYH3mkgQmM58WyxV6eg7JKfcn-yE=s64",
      "userId": "10343331633657001480"
     },
     "user_tz": -480
    },
    "id": "jrg0EApgSRG3",
    "outputId": "d9e52b7c-ea15-46cd-e9fb-bc3cbb9477e6"
   },
   "outputs": [
    {
     "data": {
      "image/png": "[encoded data removed]",
      "text/plain": [
       "<Figure size 432x288 with 1 Axes>"
      ]
     },
     "metadata": {
      "tags": []
     },
     "output_type": "display_data"
    }
   ],
   "source": [
    "loss_df_l[[\"loss\", \"val_loss\"]].plot()\n",
    "plt.title(\"Training Loss per Epoch\")\n",
    "plt.xlabel(\"Number of Epochs\")\n",
    "plt.ylabel (\"Training Loss\")\n",
    "plt.show()"
   ]
  },
  {
   "cell_type": "markdown",
   "metadata": {
    "id": "0af9cOk6VhRk"
   },
   "source": [
    "## Visualizing the accuracy"
   ]
  },
  {
   "cell_type": "code",
   "execution_count": null,
   "metadata": {
    "colab": {
     "base_uri": "https://localhost:8080/",
     "height": 295
    },
    "executionInfo": {
     "elapsed": 24221,
     "status": "ok",
     "timestamp": 1611589745687,
     "user": {
      "displayName": "Kiam Boon",
      "photoUrl": "https://lh3.googleusercontent.com/a-/AOh14GguWKTGJvP2a1VVYH3mkgQmM58WyxV6eg7JKfcn-yE=s64",
      "userId": "10343331633657001480"
     },
     "user_tz": -480
    },
    "id": "a058uInJSRtU",
    "outputId": "ad9ef6d3-c7d6-43a2-c5b2-4c6a1879a42b"
   },
   "outputs": [
    {
     "data": {
      "image/png": "[encoded data removed]",
      "text/plain": [
       "<Figure size 432x288 with 1 Axes>"
      ]
     },
     "metadata": {
      "tags": []
     },
     "output_type": "display_data"
    }
   ],
   "source": [
    "loss_df_l[[\"accuracy\", \"val_accuracy\"]].plot()\n",
    "plt.title(\"Training Accuracy per Epoch\")\n",
    "plt.xlabel(\"Number of Epochs\")\n",
    "plt.ylabel (\"Training Accuracy\")\n",
    "plt.show()"
   ]
  },
  {
   "cell_type": "markdown",
   "metadata": {
    "id": "HVO1oEAHVky8"
   },
   "source": [
    "## Training the model - For \"msg_stemmed\""
   ]
  },
  {
   "cell_type": "code",
   "execution_count": null,
   "metadata": {
    "colab": {
     "base_uri": "https://localhost:8080/"
    },
    "executionInfo": {
     "elapsed": 28598,
     "status": "ok",
     "timestamp": 1611589750076,
     "user": {
      "displayName": "Kiam Boon",
      "photoUrl": "https://lh3.googleusercontent.com/a-/AOh14GguWKTGJvP2a1VVYH3mkgQmM58WyxV6eg7JKfcn-yE=s64",
      "userId": "10343331633657001480"
     },
     "user_tz": -480
    },
    "id": "GwM3oa1ApQTo",
    "outputId": "0b507fd7-9e97-440d-ce22-30ae48c4dfce"
   },
   "outputs": [
    {
     "name": "stdout",
     "output_type": "stream",
     "text": [
      "Epoch 1/30\n",
      "140/140 - 1s - loss: 0.5258 - accuracy: 0.8571 - val_loss: 0.3803 - val_accuracy: 0.8592\n",
      "Epoch 2/30\n",
      "140/140 - 0s - loss: 0.3390 - accuracy: 0.8677 - val_loss: 0.3270 - val_accuracy: 0.8592\n",
      "Epoch 3/30\n",
      "140/140 - 0s - loss: 0.2842 - accuracy: 0.8699 - val_loss: 0.2565 - val_accuracy: 0.8753\n",
      "Epoch 4/30\n",
      "140/140 - 0s - loss: 0.2119 - accuracy: 0.9096 - val_loss: 0.1933 - val_accuracy: 0.9309\n",
      "Epoch 5/30\n",
      "140/140 - 0s - loss: 0.1603 - accuracy: 0.9473 - val_loss: 0.1588 - val_accuracy: 0.9417\n",
      "Epoch 6/30\n",
      "140/140 - 0s - loss: 0.1317 - accuracy: 0.9540 - val_loss: 0.1328 - val_accuracy: 0.9525\n",
      "Epoch 7/30\n",
      "140/140 - 0s - loss: 0.1068 - accuracy: 0.9617 - val_loss: 0.1079 - val_accuracy: 0.9650\n",
      "Epoch 8/30\n",
      "140/140 - 0s - loss: 0.0890 - accuracy: 0.9704 - val_loss: 0.0984 - val_accuracy: 0.9632\n",
      "Epoch 9/30\n",
      "140/140 - 0s - loss: 0.0772 - accuracy: 0.9751 - val_loss: 0.0886 - val_accuracy: 0.9668\n",
      "Epoch 10/30\n",
      "140/140 - 0s - loss: 0.0717 - accuracy: 0.9769 - val_loss: 0.0825 - val_accuracy: 0.9686\n",
      "Epoch 11/30\n",
      "140/140 - 0s - loss: 0.0653 - accuracy: 0.9789 - val_loss: 0.0890 - val_accuracy: 0.9677\n",
      "Epoch 12/30\n",
      "140/140 - 0s - loss: 0.0609 - accuracy: 0.9825 - val_loss: 0.0912 - val_accuracy: 0.9677\n",
      "Epoch 13/30\n",
      "140/140 - 0s - loss: 0.0574 - accuracy: 0.9825 - val_loss: 0.0726 - val_accuracy: 0.9740\n",
      "Epoch 14/30\n",
      "140/140 - 0s - loss: 0.0542 - accuracy: 0.9843 - val_loss: 0.0713 - val_accuracy: 0.9740\n",
      "Epoch 15/30\n",
      "140/140 - 0s - loss: 0.0498 - accuracy: 0.9847 - val_loss: 0.0723 - val_accuracy: 0.9740\n",
      "Epoch 16/30\n",
      "140/140 - 0s - loss: 0.0453 - accuracy: 0.9861 - val_loss: 0.0745 - val_accuracy: 0.9740\n",
      "Epoch 17/30\n",
      "140/140 - 0s - loss: 0.0437 - accuracy: 0.9870 - val_loss: 0.0741 - val_accuracy: 0.9758\n"
     ]
    }
   ],
   "source": [
    "history_s = model_s.fit(training_padded_s, y_train_s, epochs = num_epochs,\n",
    "            validation_data = (testing_padded_s, y_test_s), callbacks = [early_stop], verbose = 2)"
   ]
  },
  {
   "cell_type": "code",
   "execution_count": null,
   "metadata": {
    "colab": {
     "base_uri": "https://localhost:8080/",
     "height": 195
    },
    "executionInfo": {
     "elapsed": 28586,
     "status": "ok",
     "timestamp": 1611589750080,
     "user": {
      "displayName": "Kiam Boon",
      "photoUrl": "https://lh3.googleusercontent.com/a-/AOh14GguWKTGJvP2a1VVYH3mkgQmM58WyxV6eg7JKfcn-yE=s64",
      "userId": "10343331633657001480"
     },
     "user_tz": -480
    },
    "id": "JXGUaEFaSXL-",
    "outputId": "00be98f0-cc9c-4152-ff42-b05cb23cd8e5"
   },
   "outputs": [
    {
     "data": {
      "text/html": [
       "<div>\n",
       "<style scoped>\n",
       "    .dataframe tbody tr th:only-of-type {\n",
       "        vertical-align: middle;\n",
       "    }\n",
       "\n",
       "    .dataframe tbody tr th {\n",
       "        vertical-align: top;\n",
       "    }\n",
       "\n",
       "    .dataframe thead th {\n",
       "        text-align: right;\n",
       "    }\n",
       "</style>\n",
       "<table border=\"1\" class=\"dataframe\">\n",
       "  <thead>\n",
       "    <tr style=\"text-align: right;\">\n",
       "      <th></th>\n",
       "      <th>loss</th>\n",
       "      <th>accuracy</th>\n",
       "      <th>val_loss</th>\n",
       "      <th>val_accuracy</th>\n",
       "    </tr>\n",
       "  </thead>\n",
       "  <tbody>\n",
       "    <tr>\n",
       "      <th>0</th>\n",
       "      <td>0.525829</td>\n",
       "      <td>0.857143</td>\n",
       "      <td>0.380337</td>\n",
       "      <td>0.859193</td>\n",
       "    </tr>\n",
       "    <tr>\n",
       "      <th>1</th>\n",
       "      <td>0.338961</td>\n",
       "      <td>0.867683</td>\n",
       "      <td>0.327009</td>\n",
       "      <td>0.859193</td>\n",
       "    </tr>\n",
       "    <tr>\n",
       "      <th>2</th>\n",
       "      <td>0.284204</td>\n",
       "      <td>0.869926</td>\n",
       "      <td>0.256533</td>\n",
       "      <td>0.875336</td>\n",
       "    </tr>\n",
       "    <tr>\n",
       "      <th>3</th>\n",
       "      <td>0.211913</td>\n",
       "      <td>0.909621</td>\n",
       "      <td>0.193251</td>\n",
       "      <td>0.930942</td>\n",
       "    </tr>\n",
       "    <tr>\n",
       "      <th>4</th>\n",
       "      <td>0.160339</td>\n",
       "      <td>0.947298</td>\n",
       "      <td>0.158843</td>\n",
       "      <td>0.941704</td>\n",
       "    </tr>\n",
       "  </tbody>\n",
       "</table>\n",
       "</div>"
      ],
      "text/plain": [
       "       loss  accuracy  val_loss  val_accuracy\n",
       "0  0.525829  0.857143  0.380337      0.859193\n",
       "1  0.338961  0.867683  0.327009      0.859193\n",
       "2  0.284204  0.869926  0.256533      0.875336\n",
       "3  0.211913  0.909621  0.193251      0.930942\n",
       "4  0.160339  0.947298  0.158843      0.941704"
      ]
     },
     "execution_count": 249,
     "metadata": {
      "tags": []
     },
     "output_type": "execute_result"
    }
   ],
   "source": [
    "loss_df_s = pd.DataFrame(model_s.history.history)\n",
    "loss_df_s.head()"
   ]
  },
  {
   "cell_type": "code",
   "execution_count": null,
   "metadata": {
    "colab": {
     "base_uri": "https://localhost:8080/",
     "height": 295
    },
    "executionInfo": {
     "elapsed": 28570,
     "status": "ok",
     "timestamp": 1611589750081,
     "user": {
      "displayName": "Kiam Boon",
      "photoUrl": "https://lh3.googleusercontent.com/a-/AOh14GguWKTGJvP2a1VVYH3mkgQmM58WyxV6eg7JKfcn-yE=s64",
      "userId": "10343331633657001480"
     },
     "user_tz": -480
    },
    "id": "Pxc0-aZmSXG0",
    "outputId": "00d7cf2a-840f-496e-b4d7-5b945788631c"
   },
   "outputs": [
    {
     "data": {
      "image/png": "[encoded data removed]",
      "text/plain": [
       "<Figure size 432x288 with 1 Axes>"
      ]
     },
     "metadata": {
      "tags": []
     },
     "output_type": "display_data"
    }
   ],
   "source": [
    "loss_df_s[[\"loss\", \"val_loss\"]].plot()\n",
    "plt.title(\"Training Loss per Epoch\")\n",
    "plt.xlabel(\"Number of Epochs\")\n",
    "plt.ylabel (\"Training Loss\")\n",
    "plt.show()"
   ]
  },
  {
   "cell_type": "code",
   "execution_count": null,
   "metadata": {
    "colab": {
     "base_uri": "https://localhost:8080/",
     "height": 295
    },
    "executionInfo": {
     "elapsed": 29063,
     "status": "ok",
     "timestamp": 1611589750591,
     "user": {
      "displayName": "Kiam Boon",
      "photoUrl": "https://lh3.googleusercontent.com/a-/AOh14GguWKTGJvP2a1VVYH3mkgQmM58WyxV6eg7JKfcn-yE=s64",
      "userId": "10343331633657001480"
     },
     "user_tz": -480
    },
    "id": "5p7FuOL3SXB4",
    "outputId": "64e2fb56-9550-4eb4-b0f5-36f726098b46"
   },
   "outputs": [
    {
     "data": {
      "image/png": "[encoded data removed]",
      "text/plain": [
       "<Figure size 432x288 with 1 Axes>"
      ]
     },
     "metadata": {
      "tags": []
     },
     "output_type": "display_data"
    }
   ],
   "source": [
    "loss_df_s[[\"accuracy\", \"val_accuracy\"]].plot()\n",
    "plt.title(\"Training Accuracy per Epoch\")\n",
    "plt.xlabel(\"Number of Epochs\")\n",
    "plt.ylabel (\"Training Accuracy\")\n",
    "plt.show()"
   ]
  },
  {
   "cell_type": "markdown",
   "metadata": {
    "id": "EJ0UT4KbVo9C"
   },
   "source": [
    "## Training the model - For \"msg\" (Original)\n",
    "* Without punctuation removal, lemmatized, stemmed and vectorized.\n",
    "* Although it has tokenized in sequencing and padding, but this Series had never done any modifications 'outside' of the TensorFlow."
   ]
  },
  {
   "cell_type": "code",
   "execution_count": null,
   "metadata": {
    "colab": {
     "base_uri": "https://localhost:8080/"
    },
    "executionInfo": {
     "elapsed": 31919,
     "status": "ok",
     "timestamp": 1611589753460,
     "user": {
      "displayName": "Kiam Boon",
      "photoUrl": "https://lh3.googleusercontent.com/a-/AOh14GguWKTGJvP2a1VVYH3mkgQmM58WyxV6eg7JKfcn-yE=s64",
      "userId": "10343331633657001480"
     },
     "user_tz": -480
    },
    "id": "xWqGh_S5pQMq",
    "outputId": "3cc7c4e2-ebfb-4e1f-98c3-4b3a32754053"
   },
   "outputs": [
    {
     "name": "stdout",
     "output_type": "stream",
     "text": [
      "Epoch 1/30\n",
      "140/140 - 1s - loss: 0.5074 - accuracy: 0.8634 - val_loss: 0.3846 - val_accuracy: 0.8592\n",
      "Epoch 2/30\n",
      "140/140 - 0s - loss: 0.3369 - accuracy: 0.8677 - val_loss: 0.3561 - val_accuracy: 0.8592\n",
      "Epoch 3/30\n",
      "140/140 - 0s - loss: 0.2782 - accuracy: 0.8693 - val_loss: 0.3332 - val_accuracy: 0.8565\n",
      "Epoch 4/30\n",
      "140/140 - 0s - loss: 0.2078 - accuracy: 0.9121 - val_loss: 0.3287 - val_accuracy: 0.8448\n",
      "Epoch 5/30\n",
      "140/140 - 0s - loss: 0.1662 - accuracy: 0.9406 - val_loss: 0.3480 - val_accuracy: 0.8395\n",
      "Epoch 6/30\n",
      "140/140 - 0s - loss: 0.1385 - accuracy: 0.9513 - val_loss: 0.3859 - val_accuracy: 0.8395\n",
      "Epoch 7/30\n",
      "140/140 - 0s - loss: 0.1212 - accuracy: 0.9558 - val_loss: 0.4223 - val_accuracy: 0.8323\n"
     ]
    }
   ],
   "source": [
    "history_o = model_o.fit(training_padded_o, y_train_o, epochs = num_epochs,\n",
    "            validation_data = (testing_padded_o, y_test_o), callbacks = [early_stop], verbose = 2)"
   ]
  },
  {
   "cell_type": "code",
   "execution_count": null,
   "metadata": {
    "colab": {
     "base_uri": "https://localhost:8080/",
     "height": 195
    },
    "executionInfo": {
     "elapsed": 31906,
     "status": "ok",
     "timestamp": 1611589753463,
     "user": {
      "displayName": "Kiam Boon",
      "photoUrl": "https://lh3.googleusercontent.com/a-/AOh14GguWKTGJvP2a1VVYH3mkgQmM58WyxV6eg7JKfcn-yE=s64",
      "userId": "10343331633657001480"
     },
     "user_tz": -480
    },
    "id": "dwg50ZIOSjhJ",
    "outputId": "2f03ba57-40b4-40d3-9e03-8e9ac006607a"
   },
   "outputs": [
    {
     "data": {
      "text/html": [
       "<div>\n",
       "<style scoped>\n",
       "    .dataframe tbody tr th:only-of-type {\n",
       "        vertical-align: middle;\n",
       "    }\n",
       "\n",
       "    .dataframe tbody tr th {\n",
       "        vertical-align: top;\n",
       "    }\n",
       "\n",
       "    .dataframe thead th {\n",
       "        text-align: right;\n",
       "    }\n",
       "</style>\n",
       "<table border=\"1\" class=\"dataframe\">\n",
       "  <thead>\n",
       "    <tr style=\"text-align: right;\">\n",
       "      <th></th>\n",
       "      <th>loss</th>\n",
       "      <th>accuracy</th>\n",
       "      <th>val_loss</th>\n",
       "      <th>val_accuracy</th>\n",
       "    </tr>\n",
       "  </thead>\n",
       "  <tbody>\n",
       "    <tr>\n",
       "      <th>0</th>\n",
       "      <td>0.507407</td>\n",
       "      <td>0.863422</td>\n",
       "      <td>0.384587</td>\n",
       "      <td>0.859193</td>\n",
       "    </tr>\n",
       "    <tr>\n",
       "      <th>1</th>\n",
       "      <td>0.336882</td>\n",
       "      <td>0.867683</td>\n",
       "      <td>0.356146</td>\n",
       "      <td>0.859193</td>\n",
       "    </tr>\n",
       "    <tr>\n",
       "      <th>2</th>\n",
       "      <td>0.278250</td>\n",
       "      <td>0.869253</td>\n",
       "      <td>0.333203</td>\n",
       "      <td>0.856502</td>\n",
       "    </tr>\n",
       "    <tr>\n",
       "      <th>3</th>\n",
       "      <td>0.207750</td>\n",
       "      <td>0.912088</td>\n",
       "      <td>0.328710</td>\n",
       "      <td>0.844843</td>\n",
       "    </tr>\n",
       "    <tr>\n",
       "      <th>4</th>\n",
       "      <td>0.166247</td>\n",
       "      <td>0.940570</td>\n",
       "      <td>0.348009</td>\n",
       "      <td>0.839462</td>\n",
       "    </tr>\n",
       "  </tbody>\n",
       "</table>\n",
       "</div>"
      ],
      "text/plain": [
       "       loss  accuracy  val_loss  val_accuracy\n",
       "0  0.507407  0.863422  0.384587      0.859193\n",
       "1  0.336882  0.867683  0.356146      0.859193\n",
       "2  0.278250  0.869253  0.333203      0.856502\n",
       "3  0.207750  0.912088  0.328710      0.844843\n",
       "4  0.166247  0.940570  0.348009      0.839462"
      ]
     },
     "execution_count": 253,
     "metadata": {
      "tags": []
     },
     "output_type": "execute_result"
    }
   ],
   "source": [
    "loss_df_o = pd.DataFrame(model_o.history.history)\n",
    "loss_df_o.head()"
   ]
  },
  {
   "cell_type": "markdown",
   "metadata": {
    "id": "Lp0Dk2jXYihE"
   },
   "source": [
    "## Visualizing between two lossses"
   ]
  },
  {
   "cell_type": "code",
   "execution_count": null,
   "metadata": {
    "colab": {
     "base_uri": "https://localhost:8080/",
     "height": 295
    },
    "executionInfo": {
     "elapsed": 31891,
     "status": "ok",
     "timestamp": 1611589753465,
     "user": {
      "displayName": "Kiam Boon",
      "photoUrl": "https://lh3.googleusercontent.com/a-/AOh14GguWKTGJvP2a1VVYH3mkgQmM58WyxV6eg7JKfcn-yE=s64",
      "userId": "10343331633657001480"
     },
     "user_tz": -480
    },
    "id": "l8lwltHGSjap",
    "outputId": "1675f612-3e4b-4745-f328-98e856c53380"
   },
   "outputs": [
    {
     "data": {
      "image/png": "[encoded data removed]",
      "text/plain": [
       "<Figure size 432x288 with 1 Axes>"
      ]
     },
     "metadata": {
      "tags": []
     },
     "output_type": "display_data"
    }
   ],
   "source": [
    "loss_df_o[[\"loss\", \"val_loss\"]].plot()\n",
    "plt.title(\"Training Loss per Epoch\")\n",
    "plt.xlabel(\"Number of Epochs\")\n",
    "plt.ylabel (\"Training Loss\")\n",
    "plt.show()"
   ]
  },
  {
   "cell_type": "markdown",
   "metadata": {
    "id": "2sn26btjYm0G"
   },
   "source": [
    "## Visualizing between two accuracy values"
   ]
  },
  {
   "cell_type": "code",
   "execution_count": null,
   "metadata": {
    "colab": {
     "base_uri": "https://localhost:8080/",
     "height": 295
    },
    "executionInfo": {
     "elapsed": 32501,
     "status": "ok",
     "timestamp": 1611589754093,
     "user": {
      "displayName": "Kiam Boon",
      "photoUrl": "https://lh3.googleusercontent.com/a-/AOh14GguWKTGJvP2a1VVYH3mkgQmM58WyxV6eg7JKfcn-yE=s64",
      "userId": "10343331633657001480"
     },
     "user_tz": -480
    },
    "id": "ssMrzbPISjXo",
    "outputId": "b2cd51d2-5203-4b34-a078-2ae5a6fba128"
   },
   "outputs": [
    {
     "data": {
      "image/png": "[encoded data removed]",
      "text/plain": [
       "<Figure size 432x288 with 1 Axes>"
      ]
     },
     "metadata": {
      "tags": []
     },
     "output_type": "display_data"
    }
   ],
   "source": [
    "loss_df_o[[\"accuracy\", \"val_accuracy\"]].plot()\n",
    "plt.title(\"Training Accuracy per Epoch\")\n",
    "plt.xlabel(\"Number of Epochs\")\n",
    "plt.ylabel (\"Training Accuracy\")\n",
    "plt.show()"
   ]
  },
  {
   "cell_type": "markdown",
   "metadata": {
    "id": "RBYXLu1aWxQd"
   },
   "source": [
    "## Checking 3 of the evaluation results\n",
    "* Model performance on test data - msg_lemmatized, msg_stemmed and msg."
   ]
  },
  {
   "cell_type": "code",
   "execution_count": null,
   "metadata": {
    "colab": {
     "base_uri": "https://localhost:8080/"
    },
    "executionInfo": {
     "elapsed": 32490,
     "status": "ok",
     "timestamp": 1611589754095,
     "user": {
      "displayName": "Kiam Boon",
      "photoUrl": "https://lh3.googleusercontent.com/a-/AOh14GguWKTGJvP2a1VVYH3mkgQmM58WyxV6eg7JKfcn-yE=s64",
      "userId": "10343331633657001480"
     },
     "user_tz": -480
    },
    "id": "QKFwuG3lHItO",
    "outputId": "6496211b-0fd2-4818-e09f-7421948b6faa"
   },
   "outputs": [
    {
     "name": "stdout",
     "output_type": "stream",
     "text": [
      "35/35 [==============================] - 0s 1ms/step - loss: 0.0744 - accuracy: 0.9776\n",
      "Lemma: [0.07440569251775742, 0.9775784611701965] \n",
      "\n",
      "35/35 [==============================] - 0s 1ms/step - loss: 0.0741 - accuracy: 0.9758\n",
      "Stem: [0.07411248236894608, 0.9757847785949707] \n",
      "\n",
      "35/35 [==============================] - 0s 1ms/step - loss: 0.4223 - accuracy: 0.8323\n",
      "Original: [0.42227470874786377, 0.8322870135307312]\n"
     ]
    }
   ],
   "source": [
    "# Lemma\n",
    "print(\"Lemma:\", model_l.evaluate(testing_padded_l, y_test_l), \"\\n\")\n",
    "\n",
    "# Stem\n",
    "print(\"Stem:\", model_s.evaluate(testing_padded_s, y_test_s), \"\\n\")\n",
    "\n",
    "# Original\n",
    "print(\"Original:\", model_o.evaluate(testing_padded_o, y_test_o))"
   ]
  },
  {
   "cell_type": "markdown",
   "metadata": {
    "id": "FiqetdgxRnJc"
   },
   "source": [
    "Lemmatized msg has the highest accuracy, follow by stemmed_msg, and original msg."
   ]
  },
  {
   "cell_type": "markdown",
   "metadata": {
    "id": "C4v9jIalREE2"
   },
   "source": [
    "\n",
    "\n",
    "---\n",
    "\n"
   ]
  },
  {
   "cell_type": "markdown",
   "metadata": {
    "id": "2IiVPf7kqYlO"
   },
   "source": [
    "# Additional - Spam Email Detector\n",
    "* Creating a spam email detector based on a dataset\n",
    "* Dataset can be downloaded [here](https://www.kaggle.com/balakishan77/spam-or-ham-email-classification?select=emails.csv)"
   ]
  },
  {
   "cell_type": "code",
   "execution_count": null,
   "metadata": {
    "colab": {
     "base_uri": "https://localhost:8080/",
     "height": 195
    },
    "executionInfo": {
     "elapsed": 32471,
     "status": "ok",
     "timestamp": 1611589754097,
     "user": {
      "displayName": "Kiam Boon",
      "photoUrl": "https://lh3.googleusercontent.com/a-/AOh14GguWKTGJvP2a1VVYH3mkgQmM58WyxV6eg7JKfcn-yE=s64",
      "userId": "10343331633657001480"
     },
     "user_tz": -480
    },
    "id": "e4mr_8E-_y7c",
    "outputId": "aef11adf-80c5-4209-e2cd-14dd85d5d3d3"
   },
   "outputs": [
    {
     "data": {
      "text/html": [
       "<div>\n",
       "<style scoped>\n",
       "    .dataframe tbody tr th:only-of-type {\n",
       "        vertical-align: middle;\n",
       "    }\n",
       "\n",
       "    .dataframe tbody tr th {\n",
       "        vertical-align: top;\n",
       "    }\n",
       "\n",
       "    .dataframe thead th {\n",
       "        text-align: right;\n",
       "    }\n",
       "</style>\n",
       "<table border=\"1\" class=\"dataframe\">\n",
       "  <thead>\n",
       "    <tr style=\"text-align: right;\">\n",
       "      <th></th>\n",
       "      <th>text</th>\n",
       "      <th>spam</th>\n",
       "    </tr>\n",
       "  </thead>\n",
       "  <tbody>\n",
       "    <tr>\n",
       "      <th>0</th>\n",
       "      <td>Subject: naturally irresistible your corporate...</td>\n",
       "      <td>1</td>\n",
       "    </tr>\n",
       "    <tr>\n",
       "      <th>1</th>\n",
       "      <td>Subject: the stock trading gunslinger  fanny i...</td>\n",
       "      <td>1</td>\n",
       "    </tr>\n",
       "    <tr>\n",
       "      <th>2</th>\n",
       "      <td>Subject: unbelievable new homes made easy  im ...</td>\n",
       "      <td>1</td>\n",
       "    </tr>\n",
       "    <tr>\n",
       "      <th>3</th>\n",
       "      <td>Subject: 4 color printing special  request add...</td>\n",
       "      <td>1</td>\n",
       "    </tr>\n",
       "    <tr>\n",
       "      <th>4</th>\n",
       "      <td>Subject: do not have money , get software cds ...</td>\n",
       "      <td>1</td>\n",
       "    </tr>\n",
       "  </tbody>\n",
       "</table>\n",
       "</div>"
      ],
      "text/plain": [
       "                                                text  spam\n",
       "0  Subject: naturally irresistible your corporate...     1\n",
       "1  Subject: the stock trading gunslinger  fanny i...     1\n",
       "2  Subject: unbelievable new homes made easy  im ...     1\n",
       "3  Subject: 4 color printing special  request add...     1\n",
       "4  Subject: do not have money , get software cds ...     1"
      ]
     },
     "execution_count": 257,
     "metadata": {
      "tags": []
     },
     "output_type": "execute_result"
    }
   ],
   "source": [
    "email = pd.read_csv(\"/content/drive/MyDrive/Colab_Data/emails.csv\")\n",
    "email.head()"
   ]
  },
  {
   "cell_type": "code",
   "execution_count": null,
   "metadata": {
    "id": "EhLMTCLYNi-b"
   },
   "outputs": [],
   "source": [
    "email[\"text\"] = email[\"text\"].str.replace(\"Subject: \", \"\")\n",
    "email[\"text\"] = email[\"text\"].str.replace(\"re : \", \"\")"
   ]
  },
  {
   "cell_type": "code",
   "execution_count": null,
   "metadata": {
    "colab": {
     "base_uri": "https://localhost:8080/",
     "height": 195
    },
    "executionInfo": {
     "elapsed": 32459,
     "status": "ok",
     "timestamp": 1611589754101,
     "user": {
      "displayName": "Kiam Boon",
      "photoUrl": "https://lh3.googleusercontent.com/a-/AOh14GguWKTGJvP2a1VVYH3mkgQmM58WyxV6eg7JKfcn-yE=s64",
      "userId": "10343331633657001480"
     },
     "user_tz": -480
    },
    "id": "EQyeCxD_N9U2",
    "outputId": "e57e9b5f-e7e2-4513-d23f-efb06a9e8a34"
   },
   "outputs": [
    {
     "data": {
      "text/html": [
       "<div>\n",
       "<style scoped>\n",
       "    .dataframe tbody tr th:only-of-type {\n",
       "        vertical-align: middle;\n",
       "    }\n",
       "\n",
       "    .dataframe tbody tr th {\n",
       "        vertical-align: top;\n",
       "    }\n",
       "\n",
       "    .dataframe thead th {\n",
       "        text-align: right;\n",
       "    }\n",
       "</style>\n",
       "<table border=\"1\" class=\"dataframe\">\n",
       "  <thead>\n",
       "    <tr style=\"text-align: right;\">\n",
       "      <th></th>\n",
       "      <th>text</th>\n",
       "      <th>spam</th>\n",
       "    </tr>\n",
       "  </thead>\n",
       "  <tbody>\n",
       "    <tr>\n",
       "      <th>0</th>\n",
       "      <td>naturally irresistible your corporate identity...</td>\n",
       "      <td>1</td>\n",
       "    </tr>\n",
       "    <tr>\n",
       "      <th>1</th>\n",
       "      <td>the stock trading gunslinger  fanny is merrill...</td>\n",
       "      <td>1</td>\n",
       "    </tr>\n",
       "    <tr>\n",
       "      <th>2</th>\n",
       "      <td>unbelievable new homes made easy  im wanting t...</td>\n",
       "      <td>1</td>\n",
       "    </tr>\n",
       "    <tr>\n",
       "      <th>3</th>\n",
       "      <td>4 color printing special  request additional i...</td>\n",
       "      <td>1</td>\n",
       "    </tr>\n",
       "    <tr>\n",
       "      <th>4</th>\n",
       "      <td>do not have money , get software cds from here...</td>\n",
       "      <td>1</td>\n",
       "    </tr>\n",
       "  </tbody>\n",
       "</table>\n",
       "</div>"
      ],
      "text/plain": [
       "                                                text  spam\n",
       "0  naturally irresistible your corporate identity...     1\n",
       "1  the stock trading gunslinger  fanny is merrill...     1\n",
       "2  unbelievable new homes made easy  im wanting t...     1\n",
       "3  4 color printing special  request additional i...     1\n",
       "4  do not have money , get software cds from here...     1"
      ]
     },
     "execution_count": 259,
     "metadata": {
      "tags": []
     },
     "output_type": "execute_result"
    }
   ],
   "source": [
    "email.head()"
   ]
  },
  {
   "cell_type": "code",
   "execution_count": null,
   "metadata": {
    "colab": {
     "base_uri": "https://localhost:8080/"
    },
    "executionInfo": {
     "elapsed": 32447,
     "status": "ok",
     "timestamp": 1611589754103,
     "user": {
      "displayName": "Kiam Boon",
      "photoUrl": "https://lh3.googleusercontent.com/a-/AOh14GguWKTGJvP2a1VVYH3mkgQmM58WyxV6eg7JKfcn-yE=s64",
      "userId": "10343331633657001480"
     },
     "user_tz": -480
    },
    "id": "gtJz1De9B_Xm",
    "outputId": "c36df0f4-42cf-46e2-b6c1-a7e4bf3387fa"
   },
   "outputs": [
    {
     "data": {
      "text/plain": [
       "0    4360\n",
       "1    1368\n",
       "Name: spam, dtype: int64"
      ]
     },
     "execution_count": 260,
     "metadata": {
      "tags": []
     },
     "output_type": "execute_result"
    }
   ],
   "source": [
    "email[\"spam\"].value_counts()"
   ]
  },
  {
   "cell_type": "code",
   "execution_count": null,
   "metadata": {
    "id": "2jW8cA1u9AxU"
   },
   "outputs": [],
   "source": []
  },
  {
   "cell_type": "code",
   "execution_count": null,
   "metadata": {
    "colab": {
     "base_uri": "https://localhost:8080/"
    },
    "executionInfo": {
     "elapsed": 43624,
     "status": "ok",
     "timestamp": 1611589765296,
     "user": {
      "displayName": "Kiam Boon",
      "photoUrl": "https://lh3.googleusercontent.com/a-/AOh14GguWKTGJvP2a1VVYH3mkgQmM58WyxV6eg7JKfcn-yE=s64",
      "userId": "10343331633657001480"
     },
     "user_tz": -480
    },
    "id": "hSx4A1Ix9AvI",
    "outputId": "654d344d-2340-4a88-bf98-6b382674445a"
   },
   "outputs": [
    {
     "name": "stdout",
     "output_type": "stream",
     "text": [
      "0    [naturally, irresistible, corporate, identity,...\n",
      "1    [stock, trading, gunslinger, fanny, merrill, m...\n",
      "2    [unbelievable, new, homes, made, easy, im, wan...\n",
      "3    [4, color, printing, special, request, additio...\n",
      "4    [money, get, software, cds, software, compatib...\n",
      "Name: processed, dtype: object\n"
     ]
    }
   ],
   "source": [
    "def processor(txt):  # Rebuild a def func, copied the body from tokenizer, stopwords_removal above\n",
    "   punc_removed = \"\".join([w.lower() for w in txt if w not in punctuation])\n",
    "   tokenized = nltk.tokenize.word_tokenize(punc_removed)\n",
    "   sw_removed = [w for w in tokenized if w not in stopwords]\n",
    "   return sw_removed\n",
    "\n",
    "\n",
    "email[\"processed\"] = email[\"text\"].apply(lambda x: processor(x))\n",
    "print(email[\"processed\"].head())"
   ]
  },
  {
   "cell_type": "code",
   "execution_count": null,
   "metadata": {
    "colab": {
     "base_uri": "https://localhost:8080/"
    },
    "executionInfo": {
     "elapsed": 43614,
     "status": "ok",
     "timestamp": 1611589765298,
     "user": {
      "displayName": "Kiam Boon",
      "photoUrl": "https://lh3.googleusercontent.com/a-/AOh14GguWKTGJvP2a1VVYH3mkgQmM58WyxV6eg7JKfcn-yE=s64",
      "userId": "10343331633657001480"
     },
     "user_tz": -480
    },
    "id": "VaM6Kh3J8VDp",
    "outputId": "c0e88007-ed5d-4f88-d842-4f67c1eddd6f"
   },
   "outputs": [
    {
     "name": "stdout",
     "output_type": "stream",
     "text": [
      "['naturally', 'irresistible', 'corporate', 'identity', 'lt', 'really', 'hard', 'recollect', 'company', 'market']\n",
      "['hello', 'guys', 'bugging', 'completed', 'questionnaire', 'one', 'page', 'bio', 'statement', 'thoughts']\n"
     ]
    }
   ],
   "source": [
    "def classify_words():\n",
    "  spam_words = []\n",
    "  n_spam_words = []\n",
    "\n",
    "  for txt in email[\"processed\"][email[\"spam\"] == 1]:\n",
    "    for word in txt:\n",
    "      spam_words.append(word)\n",
    "\n",
    "  for txt in email[\"processed\"][email[\"spam\"] == 0]:\n",
    "    for word in txt:\n",
    "      n_spam_words.append(word)\n",
    "\n",
    "  return spam_words, n_spam_words\n",
    "\n",
    "spam_words, n_spam_words = classify_words()\n",
    "\n",
    "\n",
    "print(spam_words[:10])\n",
    "print(n_spam_words[:10])"
   ]
  },
  {
   "cell_type": "code",
   "execution_count": null,
   "metadata": {
    "id": "4pkHmJQ9-7RM"
   },
   "outputs": [],
   "source": [
    "def predictor(sms):\n",
    "  spam_counter = 0\n",
    "  n_spam_counter = 0\n",
    "\n",
    "  for word in sms:\n",
    "    spam_counter += spam_words.count(word)\n",
    "    n_spam_counter += n_spam_words.count(word)\n",
    "    print(\"☆★☆ RESULTS ★☆★\")\n",
    "\n",
    "  if n_spam_counter > spam_counter:\n",
    "    accuracy = round((n_spam_counter / (n_spam_counter + spam_counter) * 100))\n",
    "    print(\"Email is not spam, with {}% certainty\".format(accuracy))\n",
    "\n",
    "  elif n_spam_counter == spam_counter:\n",
    "    print('Email could be spam')\n",
    "\n",
    "  else:\n",
    "    accuracy = round((spam_counter / (n_spam_counter + spam_counter) * 100))\n",
    "    print(\"Email is spam, with {}% certainty\".format(accuracy))"
   ]
  },
  {
   "cell_type": "code",
   "execution_count": null,
   "metadata": {
    "colab": {
     "base_uri": "https://localhost:8080/"
    },
    "executionInfo": {
     "elapsed": 39361,
     "status": "ok",
     "timestamp": 1611590041934,
     "user": {
      "displayName": "Kiam Boon",
      "photoUrl": "https://lh3.googleusercontent.com/a-/AOh14GguWKTGJvP2a1VVYH3mkgQmM58WyxV6eg7JKfcn-yE=s64",
      "userId": "10343331633657001480"
     },
     "user_tz": -480
    },
    "id": "BrkynMVD-7OR",
    "outputId": "1984eca3-f1d1-4662-f850-ae15ecc3abc7"
   },
   "outputs": [
    {
     "name": "stdout",
     "output_type": "stream",
     "text": [
      "Please copy and paste your email subject or its body message:\n",
      "\n",
      "Lucky Draw, win bungalow\n",
      "☆★☆ RESULTS ★☆★\n",
      "☆★☆ RESULTS ★☆★\n",
      "☆★☆ RESULTS ★☆★\n",
      "☆★☆ RESULTS ★☆★\n",
      "Email is spam, with 66% certainty\n"
     ]
    }
   ],
   "source": [
    "input_msg = processor(input(\"Please copy and paste your email subject or its body message:\\n\\n\"))\n",
    "predictor(input_msg)"
   ]
  }
 ],
 "metadata": {
  "colab": {
   "authorship_tag": "ABX9TyO+wsqS7szts2VNpBRhRHmf",
   "collapsed_sections": [],
   "mount_file_id": "12zl23p1iMC7U6HNZ6XllWS0qmWSfooud",
   "name": "Text Analysis for SMS Text Messages.ipynb",
   "provenance": []
  },
  "kernelspec": {
   "display_name": "Python 3",
   "language": "python",
   "name": "python3"
  },
  "language_info": {
   "codemirror_mode": {
    "name": "ipython",
    "version": 3
   },
   "file_extension": ".py",
   "mimetype": "text/x-python",
   "name": "python",
   "nbconvert_exporter": "python",
   "pygments_lexer": "ipython3",
   "version": "3.8.5"
  }
 },
 "nbformat": 4,
 "nbformat_minor": 1
}
